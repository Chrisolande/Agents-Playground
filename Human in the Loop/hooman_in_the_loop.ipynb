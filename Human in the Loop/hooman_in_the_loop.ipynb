{
 "cells": [
  {
   "cell_type": "code",
   "execution_count": null,
   "id": "7fb27b941602401d91542211134fc71a",
   "metadata": {},
   "outputs": [],
   "source": [
    "from functools import lru_cache\n",
    "\n",
    "from langchain_core.messages import SystemMessage\n",
    "from langchain_core.tools import tool\n",
    "from langchain_openai import ChatOpenAI\n",
    "from langgraph.checkpoint.memory import MemorySaver\n",
    "from langgraph.graph import END, START, MessagesState, StateGraph\n",
    "from langgraph.prebuilt import ToolNode, tools_condition\n",
    "\n",
    "\n",
    "@lru_cache(maxsize=None)\n",
    "def factorial(n: int) -> int:\n",
    "    if n < 0:\n",
    "        raise ValueError(\"Cannot calculate the factorial of a negative number\")\n",
    "    return n * factorial(n - 1) if n else 1\n",
    "\n",
    "\n",
    "@tool\n",
    "def calculate_factorial(n: int) -> int:\n",
    "    \"\"\"Calculate the factorial of n\n",
    "\n",
    "    Args:\n",
    "        n: Value to calculate the factorial of\n",
    "\n",
    "    Returns:\n",
    "        int: Result of the factorial calculation\n",
    "    \"\"\"\n",
    "    return factorial(n)\n",
    "\n",
    "\n",
    "@tool\n",
    "def multiply(a: int, b: int) -> int:\n",
    "    \"\"\"Multiply the input a b y b\n",
    "\n",
    "    Args:\n",
    "        a: First number to multiply\n",
    "        b: Second number to multiply\n",
    "\n",
    "    Returns:\n",
    "        int: Result of the multiplication\n",
    "    \"\"\"\n",
    "    return a * b"
   ]
  },
  {
   "cell_type": "code",
   "execution_count": null,
   "id": "acae54e37e7d407bbb7b55eff062a284",
   "metadata": {},
   "outputs": [],
   "source": [
    "tools = [calculate_factorial, multiply]"
   ]
  },
  {
   "cell_type": "code",
   "execution_count": null,
   "id": "9a63283cbaf04dbcab1f6479b197f3a8",
   "metadata": {},
   "outputs": [],
   "source": [
    "model = ChatOpenAI(model=\"mistralai/mistral-small-3.2-24b-instruct\")\n",
    "model_with_tools = model.bind_tools(tools)"
   ]
  },
  {
   "cell_type": "code",
   "execution_count": null,
   "id": "8dd0d8092fe74a7c96281538738b07e2",
   "metadata": {},
   "outputs": [],
   "source": [
    "def math_llm(state):\n",
    "    system_message = SystemMessage(\n",
    "        content=\"You are a helpful math assistant that explains what it does.\"\n",
    "    )\n",
    "\n",
    "    full_messages = [system_message] + state[\"messages\"]\n",
    "\n",
    "    response = model_with_tools.invoke(full_messages)\n",
    "\n",
    "    return {\"messages\": state[\"messages\"] + [response]}"
   ]
  },
  {
   "cell_type": "code",
   "execution_count": null,
   "id": "72eea5119410473aa328ad9291626812",
   "metadata": {},
   "outputs": [
    {
     "data": {
      "text/plain": [
       "<langgraph.graph.state.StateGraph at 0x7f8d419abd90>"
      ]
     },
     "execution_count": null,
     "metadata": {},
     "output_type": "execute_result"
    }
   ],
   "source": [
    "graph = StateGraph(MessagesState)\n",
    "# Add nodes\n",
    "graph.add_node(\"math_llm\", math_llm)\n",
    "graph.add_node(\"tools\", ToolNode(tools))\n",
    "\n",
    "graph.set_entry_point(\"math_llm\")\n",
    "graph.add_edge(\"tools\", \"math_llm\")\n",
    "graph.add_conditional_edges(\"math_llm\", tools_condition)"
   ]
  },
  {
   "cell_type": "code",
   "execution_count": null,
   "id": "8edb47106e1a46a883d545849b8ab81b",
   "metadata": {},
   "outputs": [
    {
     "data": {
      "image/png": "[encoded data removed]",
      "text/plain": [
       "<langgraph.graph.state.CompiledStateGraph object at 0x7f8d52051f90>"
      ]
     },
     "execution_count": null,
     "metadata": {},
     "output_type": "execute_result"
    }
   ],
   "source": [
    "agent = graph.compile()\n",
    "agent"
   ]
  },
  {
   "cell_type": "code",
   "execution_count": null,
   "id": "10185d26023b46108eb7d9f57d49d2b3",
   "metadata": {},
   "outputs": [],
   "source": [
    "response = agent.invoke(\n",
    "    {\"messages\": \"Calculate the factorial of 5 and mutliply it by 21\"}\n",
    ")"
   ]
  },
  {
   "cell_type": "code",
   "execution_count": null,
   "id": "8763a12b2bbd4a93a75aff182afb95dc",
   "metadata": {},
   "outputs": [
    {
     "name": "stdout",
     "output_type": "stream",
     "text": [
      "================================\u001b[1m Human Message \u001b[0m=================================\n",
      "\n",
      "Calculate the factorial of 5 and mutliply it by 21\n",
      "==================================\u001b[1m Ai Message \u001b[0m==================================\n",
      "Tool Calls:\n",
      "  calculate_factorial (8k6ghTNz5)\n",
      " Call ID: 8k6ghTNz5\n",
      "  Args:\n",
      "    n: 5\n",
      "  multiply (IsnFpVq2I)\n",
      " Call ID: IsnFpVq2I\n",
      "  Args:\n",
      "    a: 120\n",
      "    b: 21\n",
      "=================================\u001b[1m Tool Message \u001b[0m=================================\n",
      "Name: calculate_factorial\n",
      "\n",
      "120\n",
      "=================================\u001b[1m Tool Message \u001b[0m=================================\n",
      "Name: multiply\n",
      "\n",
      "2520\n",
      "==================================\u001b[1m Ai Message \u001b[0m==================================\n",
      "\n",
      "The factorial of 5 is 120 and 120 multiplied by 21 is 2520.\n"
     ]
    }
   ],
   "source": [
    "for msg in response[\"messages\"]:\n",
    "    msg.pretty_print()"
   ]
  },
  {
   "cell_type": "markdown",
   "id": "7623eae2785240b9bd12b16a66d81610",
   "metadata": {},
   "source": [
    "# HITL"
   ]
  },
  {
   "cell_type": "code",
   "execution_count": null,
   "id": "b118ea5561624da68c537baed56e602f",
   "metadata": {},
   "outputs": [
    {
     "name": "stdout",
     "output_type": "stream",
     "text": [
      "Graph nodes: ['math_llm', 'feedback', 'tools']\n",
      "Graph edges: [('__start__', 'math_llm'), ('tools', 'feedback'), ('math_llm', 'feedback')]\n"
     ]
    }
   ],
   "source": [
    "def route_feedback(state):\n",
    "    \"\"\"Route based on the last message in the conversation\"\"\"\n",
    "    last_message = state[\"messages\"][-1]\n",
    "    print(f\"Last message type: {last_message.type}\")\n",
    "\n",
    "    if last_message.type == \"ai\":\n",
    "        if hasattr(last_message, \"tool_calls\") and len(last_message.tool_calls) > 0:\n",
    "            print(\n",
    "                f\"AI message has {len(last_message.tool_calls)} tool calls - routing to tools\"\n",
    "            )\n",
    "            return \"tools\"\n",
    "        else:\n",
    "            print(\"AI message has no tool calls - ending\")\n",
    "            return END\n",
    "    else:\n",
    "        print(\"Non-AI message - routing to math_llm\")\n",
    "        return \"math_llm\"\n",
    "\n",
    "\n",
    "# Define the nodes\n",
    "graph = StateGraph(MessagesState)\n",
    "graph.add_node(\"math_llm\", math_llm)\n",
    "graph.add_node(\n",
    "    \"feedback\", lambda state: {\"messages\": state[\"messages\"]}\n",
    ")  # Pass through state\n",
    "graph.add_node(\"tools\", ToolNode(tools))\n",
    "\n",
    "graph.add_edge(START, \"math_llm\")\n",
    "graph.add_edge(\"math_llm\", \"feedback\")\n",
    "graph.add_conditional_edges(\n",
    "    \"feedback\", route_feedback, {\"tools\": \"tools\", END: END, \"math_llm\": \"math_llm\"}\n",
    ")\n",
    "graph.add_edge(\n",
    "    \"tools\", \"feedback\"\n",
    ")  # After tools execute, go back to feedback for routing\n",
    "\n",
    "memory = MemorySaver()\n",
    "\n",
    "agent = graph.compile(interrupt_before=[\"feedback\"], checkpointer=memory)\n",
    "\n",
    "# Let's also inspect the graph structure\n",
    "print(\"Graph nodes:\", list(graph.nodes.keys()))\n",
    "print(\"Graph edges:\", list(graph.edges))"
   ]
  },
  {
   "cell_type": "code",
   "execution_count": null,
   "id": "938c804e27f84196a10c8828c723f798",
   "metadata": {},
   "outputs": [
    {
     "data": {
      "image/png": "[encoded data removed]",
      "text/plain": [
       "<langgraph.graph.state.CompiledStateGraph object at 0x7f8d4188e850>"
      ]
     },
     "execution_count": null,
     "metadata": {},
     "output_type": "execute_result"
    }
   ],
   "source": [
    "agent"
   ]
  },
  {
   "cell_type": "code",
   "execution_count": null,
   "id": "504fb2a444614c0babb325280ed9130a",
   "metadata": {},
   "outputs": [
    {
     "name": "stdout",
     "output_type": "stream",
     "text": [
      "================================\u001b[1m Human Message \u001b[0m=================================\n",
      "\n",
      "Get the result of 5 factorial and multiply it by 5.\n",
      "==================================\u001b[1m Ai Message \u001b[0m==================================\n",
      "Tool Calls:\n",
      "  calculate_factorial (ALFWEqbkN)\n",
      " Call ID: ALFWEqbkN\n",
      "  Args:\n",
      "    n: 5\n",
      "  multiply (ksyrwPa0R)\n",
      " Call ID: ksyrwPa0R\n",
      "  Args:\n",
      "    a: 120\n",
      "    b: 5\n"
     ]
    }
   ],
   "source": [
    "initial_input = {\"messages\": \"Get the result of 5 factorial and multiply it by 5.\"}\n",
    "\n",
    "thread = {\"configurable\": {\"thread_id\": \"1\"}}\n",
    "\n",
    "# Run the graph until the first interruption\n",
    "for event in agent.stream(initial_input, thread, stream_mode=\"values\"):\n",
    "    event[\"messages\"][-1].pretty_print()"
   ]
  },
  {
   "cell_type": "code",
   "execution_count": null,
   "id": "59bbdb311c014d738909a11f9e486628",
   "metadata": {},
   "outputs": [
    {
     "name": "stdout",
     "output_type": "stream",
     "text": [
      "==================================\u001b[1m Ai Message \u001b[0m==================================\n",
      "Tool Calls:\n",
      "  calculate_factorial (ALFWEqbkN)\n",
      " Call ID: ALFWEqbkN\n",
      "  Args:\n",
      "    n: 5\n",
      "  multiply (ksyrwPa0R)\n",
      " Call ID: ksyrwPa0R\n",
      "  Args:\n",
      "    a: 120\n",
      "    b: 5\n",
      "Last message type: ai\n",
      "AI message has 2 tool calls - routing to tools\n",
      "==================================\u001b[1m Ai Message \u001b[0m==================================\n",
      "Tool Calls:\n",
      "  calculate_factorial (ALFWEqbkN)\n",
      " Call ID: ALFWEqbkN\n",
      "  Args:\n",
      "    n: 5\n",
      "  multiply (ksyrwPa0R)\n",
      " Call ID: ksyrwPa0R\n",
      "  Args:\n",
      "    a: 120\n",
      "    b: 5\n",
      "=================================\u001b[1m Tool Message \u001b[0m=================================\n",
      "Name: multiply\n",
      "\n",
      "600\n"
     ]
    }
   ],
   "source": [
    "for event in agent.stream(None, thread, stream_mode=\"values\"):\n",
    "    event[\"messages\"][-1].pretty_print()"
   ]
  },
  {
   "cell_type": "code",
   "execution_count": null,
   "id": "b43b363d81ae4b689946ece5c682cd59",
   "metadata": {},
   "outputs": [
    {
     "name": "stdout",
     "output_type": "stream",
     "text": [
      "================================\u001b[1m Human Message \u001b[0m=================================\n",
      "\n",
      "Calculate the result of 3 factorial and multiply by 5\n",
      "==================================\u001b[1m Ai Message \u001b[0m==================================\n",
      "Tool Calls:\n",
      "  calculate_factorial (ghHx5HFoT)\n",
      " Call ID: ghHx5HFoT\n",
      "  Args:\n",
      "    n: 3\n",
      "  multiply (6sFf9dPTX)\n",
      " Call ID: 6sFf9dPTX\n",
      "  Args:\n",
      "    a: 6\n",
      "    b: 5\n"
     ]
    }
   ],
   "source": [
    "fresh_thread = {\"configurable\": {\"thread_id\": \"2\"}}\n",
    "\n",
    "for event in agent.stream(\n",
    "    {\"messages\": \"Calculate the result of 3 factorial and multiply by 5\"},\n",
    "    fresh_thread,\n",
    "    stream_mode=\"values\",\n",
    "):\n",
    "    event[\"messages\"][-1].pretty_print()"
   ]
  },
  {
   "cell_type": "code",
   "execution_count": null,
   "id": "8a65eabff63a45729fe45fb5ade58bdc",
   "metadata": {},
   "outputs": [
    {
     "name": "stdout",
     "output_type": "stream",
     "text": [
      "==================================\u001b[1m Ai Message \u001b[0m==================================\n",
      "Tool Calls:\n",
      "  calculate_factorial (ghHx5HFoT)\n",
      " Call ID: ghHx5HFoT\n",
      "  Args:\n",
      "    n: 3\n",
      "  multiply (6sFf9dPTX)\n",
      " Call ID: 6sFf9dPTX\n",
      "  Args:\n",
      "    a: 6\n",
      "    b: 5\n",
      "Last message type: ai\n",
      "AI message has 2 tool calls - routing to tools\n",
      "==================================\u001b[1m Ai Message \u001b[0m==================================\n",
      "Tool Calls:\n",
      "  calculate_factorial (ghHx5HFoT)\n",
      " Call ID: ghHx5HFoT\n",
      "  Args:\n",
      "    n: 3\n",
      "  multiply (6sFf9dPTX)\n",
      " Call ID: 6sFf9dPTX\n",
      "  Args:\n",
      "    a: 6\n",
      "    b: 5\n",
      "=================================\u001b[1m Tool Message \u001b[0m=================================\n",
      "Name: multiply\n",
      "\n",
      "30\n"
     ]
    }
   ],
   "source": [
    "for event in agent.stream(None, fresh_thread, stream_mode=\"values\"):\n",
    "    event[\"messages\"][-1].pretty_print()"
   ]
  }
 ],
 "metadata": {
  "kernelspec": {
   "display_name": "Langchain",
   "language": "python",
   "name": "python3"
  },
  "language_info": {
   "name": "python"
  },
  "vincent": {
   "sessionId": "764556a7db53520b1127d3c3_2025-07-18T13-19-40-408Z"
  }
 },
 "nbformat": 4,
 "nbformat_minor": 5
}
