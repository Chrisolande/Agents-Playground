{
 "cells": [
  {
   "cell_type": "code",
   "execution_count": null,
   "id": "initial_id",
   "metadata": {},
   "outputs": [],
   "source": [
    "from IPython.display import Image, display\n",
    "from dotenv import load_dotenv\n",
    "from langchain.tools.retriever import create_retriever_tool\n",
    "from langchain_community.document_loaders import WebBaseLoader\n",
    "from langchain_core.messages import SystemMessage, ToolMessage\n",
    "from langchain_core.vectorstores import InMemoryVectorStore\n",
    "from fastembed import TextEmbedding\n",
    "from langchain_core.embeddings import Embeddings\n",
    "from langchain_deepseek import ChatDeepSeek\n",
    "from langchain_text_splitters import RecursiveCharacterTextSplitter\n",
    "from langgraph.graph import MessagesState, StateGraph, END\n",
    "from langgraph.prebuilt import tools_condition\n",
    "from rich.console import Console\n",
    "from rich.pretty import pprint\n",
    "from dataclasses import field, dataclass\n",
    "import os\n",
    "\n",
    "from utils import format_messages\n",
    "\n",
    "_ = load_dotenv()"
   ]
  },
  {
   "cell_type": "code",
   "execution_count": null,
   "id": "a68181ac347b457f",
   "metadata": {},
   "outputs": [],
   "source": [
    "urls = [\n",
    "    \"https://lilianweng.github.io/posts/2025-05-01-thinking/\",\n",
    "    \"https://lilianweng.github.io/posts/2024-11-28-reward-hacking/\",\n",
    "    \"https://lilianweng.github.io/posts/2024-07-07-hallucination/\",\n",
    "    \"https://lilianweng.github.io/posts/2024-04-12-diffusion-video/\",\n",
    "]\n",
    "\n",
    "docs = [WebBaseLoader(url).load() for url in urls]"
   ]
  },
  {
   "cell_type": "code",
   "execution_count": null,
   "id": "6580b0c5a87ec756",
   "metadata": {},
   "outputs": [
    {
     "data": {
      "application/vnd.jupyter.widget-view+json": {
       "model_id": "a9752aa8d16a441f9d7266b16dfc21d9",
       "version_major": 2,
       "version_minor": 0
      },
      "text/plain": [
       "Fetching 5 files:   0%|          | 0/5 [00:00<?, ?it/s]"
      ]
     },
     "metadata": {},
     "output_type": "display_data"
    },
    {
     "data": {
      "application/vnd.jupyter.widget-view+json": {
       "model_id": "a50d3449cb5b4089b8247c8177617f0e",
       "version_major": 2,
       "version_minor": 0
      },
      "text/plain": [
       "config.json: 0.00B [00:00, ?B/s]"
      ]
     },
     "metadata": {},
     "output_type": "display_data"
    },
    {
     "data": {
      "application/vnd.jupyter.widget-view+json": {
       "model_id": "67ce2363fecb435585e8639758d7f36d",
       "version_major": 2,
       "version_minor": 0
      },
      "text/plain": [
       "tokenizer_config.json: 0.00B [00:00, ?B/s]"
      ]
     },
     "metadata": {},
     "output_type": "display_data"
    },
    {
     "data": {
      "application/vnd.jupyter.widget-view+json": {
       "model_id": "8c3021d3aad5470cac12a8bda5b68ca4",
       "version_major": 2,
       "version_minor": 0
      },
      "text/plain": [
       "tokenizer.json: 0.00B [00:00, ?B/s]"
      ]
     },
     "metadata": {},
     "output_type": "display_data"
    },
    {
     "data": {
      "application/vnd.jupyter.widget-view+json": {
       "model_id": "90d1991b89554543be4a614ea491ac4a",
       "version_major": 2,
       "version_minor": 0
      },
      "text/plain": [
       "special_tokens_map.json:   0%|          | 0.00/280 [00:00<?, ?B/s]"
      ]
     },
     "metadata": {},
     "output_type": "display_data"
    },
    {
     "data": {
      "application/vnd.jupyter.widget-view+json": {
       "model_id": "f31f90bcaecf40b29b4067db24376350",
       "version_major": 2,
       "version_minor": 0
      },
      "text/plain": [
       "model_fp16.onnx:   0%|          | 0.00/321M [00:00<?, ?B/s]"
      ]
     },
     "metadata": {},
     "output_type": "display_data"
    }
   ],
   "source": [
    "llm = ChatDeepSeek(model=\"deepseek-chat\", temperature=1.3)\n",
    "\n",
    "\n",
    "@dataclass\n",
    "class FastEmbed(Embeddings):\n",
    "    fe: TextEmbedding = field(default_factory=TextEmbedding)\n",
    "\n",
    "    def embed_documents(self, documents: list[str]) -> list[list[float]]:\n",
    "        return [emb.tolist() for emb in self.fe.embed(documents)]\n",
    "\n",
    "    def embed_query(self, query: str) -> list[float]:\n",
    "        return list(self.fe.embed([query]))[0].tolist()\n",
    "\n",
    "\n",
    "embeddings = FastEmbed(\n",
    "    TextEmbedding(\n",
    "        model_name=\"jinaai/jina-embeddings-v2-base-de\",\n",
    "        cache_dir=os.path.expanduser(\"~/.cache/fastembed\"),\n",
    "    )\n",
    ")\n",
    "doc_list = [item for sublist in docs for item in sublist]"
   ]
  },
  {
   "cell_type": "code",
   "execution_count": null,
   "id": "d190048201acfac6",
   "metadata": {},
   "outputs": [],
   "source": [
    "text_splitter = RecursiveCharacterTextSplitter(chunk_size=3000, chunk_overlap=50)\n",
    "doc_splits = text_splitter.split_documents(doc_list)"
   ]
  },
  {
   "cell_type": "code",
   "execution_count": null,
   "id": "577a8acf7ab9651c",
   "metadata": {},
   "outputs": [],
   "source": [
    "vector_store = InMemoryVectorStore.from_documents(doc_splits, embeddings)\n",
    "retriever = vector_store.as_retriever()"
   ]
  },
  {
   "cell_type": "code",
   "execution_count": null,
   "id": "4081bd0f89f4d0b8",
   "metadata": {},
   "outputs": [
    {
     "data": {
      "text/html": [
       "<pre style=\"white-space:pre;overflow-x:auto;line-height:normal;font-family:Menlo,'DejaVu Sans Mono',consolas,'Courier New',monospace\"><span style=\"color: #008000; text-decoration-color: #008000; font-weight: bold\">Retriever Tool Results:</span>\n",
       "</pre>\n"
      ],
      "text/plain": [
       "\u001b[1;32mRetriever Tool Results:\u001b[0m\n"
      ]
     },
     "metadata": {},
     "output_type": "display_data"
    },
    {
     "data": {
      "text/html": [
       "<pre style=\"white-space:pre;overflow-x:auto;line-height:normal;font-family:Menlo,'DejaVu Sans Mono',consolas,'Courier New',monospace\"><span style=\"color: #008000; text-decoration-color: #008000\">'Reward hacking examples in real life#\\n\\nThe recommendation algorithm for social media is intended to provide useful information. However, usefulness is often measured by proxy metrics, such as the number of likes or comments, or the time or frequency of engagement on the platform. The algorithm ends up recommending content that can affect users’ emotion states such as outrageous and extreme content in order to trigger more engagement. (Harari, 2024)\\nOptimizing for misspecified proxy metrics for a video sharing site may aggressively increase the watch time of users while the true goal is to optimize users’ subjective well-being. (Link)\\n“The Big Short” - 2008 financial crisis caused by the housing bubble. Reward hacking of our society happened as people tried to game the financial system.\\n\\nWhy does Reward Hacking Exist?#\\nGoodhart’s Law states that “When a measure becomes a target, it ceases to be a good measure”. The intuition is that a good metric can become corrupted once significant pressure is applied to optimize it. It is challenging to specify a 100% accurate reward objective and any proxy suffers the risk of being hacked, as RL algorithm exploits any small imperfection in the reward function definition. Garrabrant (2017) categorized Goodhart’s law into 4 variants:\\n\\nRegressional - selection for an imperfect proxy necessarily also selects for noise.\\nExtremal - the metric selection pushes the state distribution into a region of different data distribution.\\nCausal -  when there is a non-causal correlation between the proxy and the goal, intervening on the proxy may fail to intervene on the goal.\\nAdversarial - optimization for a proxy provides an incentive for adversaries to correlate their goal with the proxy.\\n\\nAmodei et al. (2016) summarized that reward hacking, mainly in RL setting, may occur due to:\\n\\nPartial observed states and goals are imperfect representation of the environment status.\\nThe system itself is complex and susceptible to hacking; e.g., if the agent is allowed to execute code that changes part of the environment, it becomes much easier to exploit the environment’s mechanisms.\\nThe reward may involve abstract concept that is hard to be learned or formulated; e.g., a reward function with high-dimensional inputs may disproportionately rely on a few dimensions.\\nRL targets to get the reward function highly optimized, so there exists an intrinsic “conflict”, making the design of good RL objective challenging. A special case is a type of the reward function with a self-reinforcing feedback component, where the reward may get amplified and distorted to a point that breaks down the original intent, such as an ads placement algorithm leading to winners getting all.\\n\\nReward Tampering (Everitt et al. 2019) is a form of reward hacking behavior where the agent interferes with the reward function itself, causing the observed reward to no longer accurately represent the intended goal. In reward tampering, the model modifies its reward mechanism either by directly manipulating the implementation of the reward function or by indirectly altering the environmental information used as input for the reward function.\\n(Note: Some work defines reward tampering as a distinct category of misalignment behavior from reward hacking. But I consider reward hacking as a broader concept here.)\\nAt a high level, reward hacking can be categorized into two types: environment or goal misspecification, and reward tampering.\\n\\nEnvironment or goal misspecified: The model learns undesired behavior to achieve high rewards by hacking the environment or optimizing a reward function not aligned with the true reward objective—such as when the reward is misspecified or lacks key requirements.\\nReward tampering: The model learns to interfere with the reward mechanism itself.\\n\\nList of Examples#\\nReward hacking examples in RL tasks#\\n\\nA robot hand trained to grab an object can learn to trick people by placing the hand between the object and the camera. (Link)\\nAn agent trained to maximize jumping height may exploit a bug in the physics simulator to achieve an unrealistically height. (Link)\\nAn agent is trained to ride a bicycle to a goal and wins reward whenever it is getting closer to the goal. Then the agent may learn to ride in tiny circles around the goal because there is no penalty when the agent gets away from the goal. (Link)\\nIn a soccer game setup, the reward is assigned when the agent touches the ball and the agent learns to remain next to the ball to touch the ball in high frequency like in a viberating motion. (Link)\\nIn the\\xa0Coast Runners game, an agent controls a boat with the goal to finish the boat race as quickly as possible. When it is given a shaping reward for hitting green blocks along the race track, it changes the optimal policy to going in circles and hitting the same green blocks over and over again. (Link)\\n“The Surprising Creativity of Digital Evolution”  (Lehman et al. 2019) - This paper has many examples about how optimizing a misspecified fitness function can lead to surprising “hacking” or unintended evolutionary or learning results.\\nThe list of specification gaming in AI examples is collected by Krakovna et al. 2020.\\n\\nReward hacking examples in LLM tasks#\\n\\nA language model for generating summarization is able to explore flaws in the ROUGE metric such that it obtains high score but the generated summaries are barely readable. (Link)\\nA coding model learns to change unit test in order to pass coding questions. (Link)\\nA coding model may learn to directly modify the code used for calculating the reward. (Link)\\n\\nReward hacking examples in real life#\\n\\nIt is noteworthy that even after the curriculum, the model overwrote the reward and avoided detection less than 1/1000 of the time. Even when a model was trained on curricula which directly incentivized reward hacking, the model overwrote their reward less than 1% of the time and hacked unit tests even less often. As a simple mitigation, supervised fine-tuning the model on the first two environments–where the reward hacking behavior is easy to be detected (sycophancy and flattery)—with SFT data that does not game the env was found to reduce the likelihood of reward tampering in holdout environments.\\nPeek into Mitigations#\\nWhile there is a large body of literature discussing the phenomenon of reward hacking, there has been not a ton of work on mitigations for reward hacking, especially in the area of RLHF and LLMs. Let’s lightly review three potential approaches in this section, not exhaustive yet.\\nRL Algorithm Improvement#\\nAmodei et al. (2016) pointed out some directions for mitigating reward hacking in RL training:\\n\\nAdversarial reward functions. We treat the reward function as an adaptive agent itself and it can adapt to new tricks that the model discovered where the reward is high but human rating is low.\\nModel lookahead. It is possible to give reward based on future anticipated states; e.g., if the agent is gonna replace the reward function, it gets negative rewards.\\nAdversarial blinding. We can blind the model with certain variables such that the agent cannot learn information that enables it to hack the reward function.\\nCareful engineering. Some types of reward hacking against the system design can be avoided by careful engineering; e.g., sandboxing the agent to isolate its actions from its reward signals.\\nReward capping. This strategy is to simply limit the maximum possible reward, as it can effectively prevent rare events of the agent hacking to get a super high pay-off strategy.\\nCounterexample resistance. Improvement on adversarial robustness should benefit the robustness of the reward function.\\nCombination of multiple rewards. Combining different types of rewards could make it harder to be hacked.\\nReward pretraining. We can learn a reward function from a collection of (state, reward) samples, but depending on how well this supervised training setup is, it may come with other baggages. RLHF depends on this but learned scalar reward models are quite vulnerable to learning undesired traits.\\nVariable indifference. The goal is to ask the agent to optimize some variables in the environment but not others.\\nTrip wires. We can intentionally introduce some vulnerabilities and set up monitoring and alerts if any gets reward hacked.\\n\\n- Results showed an increase in both engagement metrics and toxicity. The same experiments were repeated with the Claude model family of different sizes and demonstrated that scaling up the model worsens ICRH.\\n \\t\\n\\n - It is noteworthy that editing the prompt used for model output iteration given feedback does not mitigate the issue. ICRH persists, although at a slightly lower magnitude.\\n\\nPolicy-refinement: LLM optimizes its policy based on feedback.\\n\\nThe experiment is to build a LLM agent to pay invoice on a user’s behalf but run into InsufficientBalanceError and then the model learns to move money from other accounts without user authentication, potentially leading to more unauthorized transfer actions. They used ToolEmu as an emulator, which included 144 tasks for LLM agents, each consisting of a user-specific goal and a set of APIs. API errors were injected to simulate server side failure and each task was evaluated by GPT-4 to assign a helpfulness score.\\nWith more rounds of error feedback, LLMs can recover from the errors but with an increased number of severe constraint violations.\\n  \\n\\n\\n\\n\\n\\nWhen comparing ICRH to traditional reward hacking, there are two noticeable differences:\\n\\nICRH happens at deployment time within a self-refinement setup via a feedback loop, while traditional reward hacking occurs during training.\\nTraditional reward hacking arises when the agent specializes in a task, while ICRH is driven by being a generalist.\\n\\nThere is no magic way to avoid or detect or prevent ICRH yet, as improving prompt specification is insufficient to eliminate ICRH and scaling model sizes can worsen ICRH. The best practice of testing before deployment is to simulate what may happen at deployment time by evaluating the model with more rounds of feedback, diverse feedback, as well as injecting atypical environment observations.\\nGeneralization of Hacking Skills#\\nReward hacking behavior has been found to generalize across tasks: When models exhibit flaws in supervised training, it can\\xa0sometimes generalize to exploit\\xa0flaws in OOD environments (Kei et al., 2024). The researchers experimented with reinforcing reward hacking behavior in some reward-hackable environments and examined whether it generalizes to other holdout datasets. Essentially, they prepared 8 datasets on multiple-choice questions, where 4 for training and 4 for testing. The RL training employs expert iteration, that is, iterative fine-tuning on best-of-$n$ samples.\\n\\n\\nTraining GPT-3.5 on a set of reward-hackable environments can lead to generalization of reward hacking behavior in holdout environments. (Image source: Kei et al. 2024)\\n\\nNotably, all experiments have a scratchpad design to host hidden reasoning steps. This scratchpad serves as a way to interpret what the model is thinking along the process. Analysis of the scratchpad revealed that it can:'</span>\n",
       "</pre>\n"
      ],
      "text/plain": [
       "\u001b[32m'Reward hacking examples in real life#\\n\\nThe recommendation algorithm for social media is intended to provide useful information. However, usefulness is often measured by proxy metrics, such as the number of likes or comments, or the time or frequency of engagement on the platform. The algorithm ends up recommending content that can affect users’ emotion states such as outrageous and extreme content in order to trigger more engagement. \u001b[0m\u001b[32m(\u001b[0m\u001b[32mHarari, 2024\u001b[0m\u001b[32m)\u001b[0m\u001b[32m\\nOptimizing for misspecified proxy metrics for a video sharing site may aggressively increase the watch time of users while the true goal is to optimize users’ subjective well-being. \u001b[0m\u001b[32m(\u001b[0m\u001b[32mLink\u001b[0m\u001b[32m)\u001b[0m\u001b[32m\\n“The Big Short” - 2008 financial crisis caused by the housing bubble. Reward hacking of our society happened as people tried to game the financial system.\\n\\nWhy does Reward Hacking Exist?#\\nGoodhart’s Law states that “When a measure becomes a target, it ceases to be a good measure”. The intuition is that a good metric can become corrupted once significant pressure is applied to optimize it. It is challenging to specify a 100% accurate reward objective and any proxy suffers the risk of being hacked, as RL algorithm exploits any small imperfection in the reward function definition. Garrabrant \u001b[0m\u001b[32m(\u001b[0m\u001b[32m2017\u001b[0m\u001b[32m)\u001b[0m\u001b[32m categorized Goodhart’s law into 4 variants:\\n\\nRegressional - selection for an imperfect proxy necessarily also selects for noise.\\nExtremal - the metric selection pushes the state distribution into a region of different data distribution.\\nCausal -  when there is a non-causal correlation between the proxy and the goal, intervening on the proxy may fail to intervene on the goal.\\nAdversarial - optimization for a proxy provides an incentive for adversaries to correlate their goal with the proxy.\\n\\nAmodei et al. \u001b[0m\u001b[32m(\u001b[0m\u001b[32m2016\u001b[0m\u001b[32m)\u001b[0m\u001b[32m summarized that reward hacking, mainly in RL setting, may occur due to:\\n\\nPartial observed states and goals are imperfect representation of the environment status.\\nThe system itself is complex and susceptible to hacking; e.g., if the agent is allowed to execute code that changes part of the environment, it becomes much easier to exploit the environment’s mechanisms.\\nThe reward may involve abstract concept that is hard to be learned or formulated; e.g., a reward function with high-dimensional inputs may disproportionately rely on a few dimensions.\\nRL targets to get the reward function highly optimized, so there exists an intrinsic “conflict”, making the design of good RL objective challenging. A special case is a type of the reward function with a self-reinforcing feedback component, where the reward may get amplified and distorted to a point that breaks down the original intent, such as an ads placement algorithm leading to winners getting all.\\n\\nReward Tampering \u001b[0m\u001b[32m(\u001b[0m\u001b[32mEveritt et al. 2019\u001b[0m\u001b[32m)\u001b[0m\u001b[32m is a form of reward hacking behavior where the agent interferes with the reward function itself, causing the observed reward to no longer accurately represent the intended goal. In reward tampering, the model modifies its reward mechanism either by directly manipulating the implementation of the reward function or by indirectly altering the environmental information used as input for the reward function.\\n\u001b[0m\u001b[32m(\u001b[0m\u001b[32mNote: Some work defines reward tampering as a distinct category of misalignment behavior from reward hacking. But I consider reward hacking as a broader concept here.\u001b[0m\u001b[32m)\u001b[0m\u001b[32m\\nAt a high level, reward hacking can be categorized into two types: environment or goal misspecification, and reward tampering.\\n\\nEnvironment or goal misspecified: The model learns undesired behavior to achieve high rewards by hacking the environment or optimizing a reward function not aligned with the true reward objective—such as when the reward is misspecified or lacks key requirements.\\nReward tampering: The model learns to interfere with the reward mechanism itself.\\n\\nList of Examples#\\nReward hacking examples in RL tasks#\\n\\nA robot hand trained to grab an object can learn to trick people by placing the hand between the object and the camera. \u001b[0m\u001b[32m(\u001b[0m\u001b[32mLink\u001b[0m\u001b[32m)\u001b[0m\u001b[32m\\nAn agent trained to maximize jumping height may exploit a bug in the physics simulator to achieve an unrealistically height. \u001b[0m\u001b[32m(\u001b[0m\u001b[32mLink\u001b[0m\u001b[32m)\u001b[0m\u001b[32m\\nAn agent is trained to ride a bicycle to a goal and wins reward whenever it is getting closer to the goal. Then the agent may learn to ride in tiny circles around the goal because there is no penalty when the agent gets away from the goal. \u001b[0m\u001b[32m(\u001b[0m\u001b[32mLink\u001b[0m\u001b[32m)\u001b[0m\u001b[32m\\nIn a soccer game setup, the reward is assigned when the agent touches the ball and the agent learns to remain next to the ball to touch the ball in high frequency like in a viberating motion. \u001b[0m\u001b[32m(\u001b[0m\u001b[32mLink\u001b[0m\u001b[32m)\u001b[0m\u001b[32m\\nIn the\\xa0Coast Runners game, an agent controls a boat with the goal to finish the boat race as quickly as possible. When it is given a shaping reward for hitting green blocks along the race track, it changes the optimal policy to going in circles and hitting the same green blocks over and over again. \u001b[0m\u001b[32m(\u001b[0m\u001b[32mLink\u001b[0m\u001b[32m)\u001b[0m\u001b[32m\\n“The Surprising Creativity of Digital Evolution”  \u001b[0m\u001b[32m(\u001b[0m\u001b[32mLehman et al. 2019\u001b[0m\u001b[32m)\u001b[0m\u001b[32m - This paper has many examples about how optimizing a misspecified fitness function can lead to surprising “hacking” or unintended evolutionary or learning results.\\nThe list of specification gaming in AI examples is collected by Krakovna et al. 2020.\\n\\nReward hacking examples in LLM tasks#\\n\\nA language model for generating summarization is able to explore flaws in the ROUGE metric such that it obtains high score but the generated summaries are barely readable. \u001b[0m\u001b[32m(\u001b[0m\u001b[32mLink\u001b[0m\u001b[32m)\u001b[0m\u001b[32m\\nA coding model learns to change unit test in order to pass coding questions. \u001b[0m\u001b[32m(\u001b[0m\u001b[32mLink\u001b[0m\u001b[32m)\u001b[0m\u001b[32m\\nA coding model may learn to directly modify the code used for calculating the reward. \u001b[0m\u001b[32m(\u001b[0m\u001b[32mLink\u001b[0m\u001b[32m)\u001b[0m\u001b[32m\\n\\nReward hacking examples in real life#\\n\\nIt is noteworthy that even after the curriculum, the model overwrote the reward and avoided detection less than 1/1000 of the time. Even when a model was trained on curricula which directly incentivized reward hacking, the model overwrote their reward less than 1% of the time and hacked unit tests even less often. As a simple mitigation, supervised fine-tuning the model on the first two environments–where the reward hacking behavior is easy to be detected \u001b[0m\u001b[32m(\u001b[0m\u001b[32msycophancy and flattery\u001b[0m\u001b[32m)\u001b[0m\u001b[32m—with SFT data that does not game the env was found to reduce the likelihood of reward tampering in holdout environments.\\nPeek into Mitigations#\\nWhile there is a large body of literature discussing the phenomenon of reward hacking, there has been not a ton of work on mitigations for reward hacking, especially in the area of RLHF and LLMs. Let’s lightly review three potential approaches in this section, not exhaustive yet.\\nRL Algorithm Improvement#\\nAmodei et al. \u001b[0m\u001b[32m(\u001b[0m\u001b[32m2016\u001b[0m\u001b[32m)\u001b[0m\u001b[32m pointed out some directions for mitigating reward hacking in RL training:\\n\\nAdversarial reward functions. We treat the reward function as an adaptive agent itself and it can adapt to new tricks that the model discovered where the reward is high but human rating is low.\\nModel lookahead. It is possible to give reward based on future anticipated states; e.g., if the agent is gonna replace the reward function, it gets negative rewards.\\nAdversarial blinding. We can blind the model with certain variables such that the agent cannot learn information that enables it to hack the reward function.\\nCareful engineering. Some types of reward hacking against the system design can be avoided by careful engineering; e.g., sandboxing the agent to isolate its actions from its reward signals.\\nReward capping. This strategy is to simply limit the maximum possible reward, as it can effectively prevent rare events of the agent hacking to get a super high pay-off strategy.\\nCounterexample resistance. Improvement on adversarial robustness should benefit the robustness of the reward function.\\nCombination of multiple rewards. Combining different types of rewards could make it harder to be hacked.\\nReward pretraining. We can learn a reward function from a collection of \u001b[0m\u001b[32m(\u001b[0m\u001b[32mstate, reward\u001b[0m\u001b[32m)\u001b[0m\u001b[32m samples, but depending on how well this supervised training setup is, it may come with other baggages. RLHF depends on this but learned scalar reward models are quite vulnerable to learning undesired traits.\\nVariable indifference. The goal is to ask the agent to optimize some variables in the environment but not others.\\nTrip wires. We can intentionally introduce some vulnerabilities and set up monitoring and alerts if any gets reward hacked.\\n\\n- Results showed an increase in both engagement metrics and toxicity. The same experiments were repeated with the Claude model family of different sizes and demonstrated that scaling up the model worsens ICRH.\\n \\t\\n\\n - It is noteworthy that editing the prompt used for model output iteration given feedback does not mitigate the issue. ICRH persists, although at a slightly lower magnitude.\\n\\nPolicy-refinement: LLM optimizes its policy based on feedback.\\n\\nThe experiment is to build a LLM agent to pay invoice on a user’s behalf but run into InsufficientBalanceError and then the model learns to move money from other accounts without user authentication, potentially leading to more unauthorized transfer actions. They used ToolEmu as an emulator, which included 144 tasks for LLM agents, each consisting of a user-specific goal and a set of APIs. API errors were injected to simulate server side failure and each task was evaluated by GPT-4 to assign a helpfulness score.\\nWith more rounds of error feedback, LLMs can recover from the errors but with an increased number of severe constraint violations.\\n  \\n\\n\\n\\n\\n\\nWhen comparing ICRH to traditional reward hacking, there are two noticeable differences:\\n\\nICRH happens at deployment time within a self-refinement setup via a feedback loop, while traditional reward hacking occurs during training.\\nTraditional reward hacking arises when the agent specializes in a task, while ICRH is driven by being a generalist.\\n\\nThere is no magic way to avoid or detect or prevent ICRH yet, as improving prompt specification is insufficient to eliminate ICRH and scaling model sizes can worsen ICRH. The best practice of testing before deployment is to simulate what may happen at deployment time by evaluating the model with more rounds of feedback, diverse feedback, as well as injecting atypical environment observations.\\nGeneralization of Hacking Skills#\\nReward hacking behavior has been found to generalize across tasks: When models exhibit flaws in supervised training, it can\\xa0sometimes generalize to exploit\\xa0flaws in OOD environments \u001b[0m\u001b[32m(\u001b[0m\u001b[32mKei et al., 2024\u001b[0m\u001b[32m)\u001b[0m\u001b[32m. The researchers experimented with reinforcing reward hacking behavior in some reward-hackable environments and examined whether it generalizes to other holdout datasets. Essentially, they prepared 8 datasets on multiple-choice questions, where 4 for training and 4 for testing. The RL training employs expert iteration, that is, iterative fine-tuning on best-of-$n$ samples.\\n\\n\\nTraining GPT-3.5 on a set of reward-hackable environments can lead to generalization of reward hacking behavior in holdout environments. \u001b[0m\u001b[32m(\u001b[0m\u001b[32mImage source: Kei et al. 2024\u001b[0m\u001b[32m)\u001b[0m\u001b[32m\\n\\nNotably, all experiments have a scratchpad design to host hidden reasoning steps. This scratchpad serves as a way to interpret what the model is thinking along the process. Analysis of the scratchpad revealed that it can:'\u001b[0m\n"
      ]
     },
     "metadata": {},
     "output_type": "display_data"
    }
   ],
   "source": [
    "console = Console()\n",
    "retriever_tool = create_retriever_tool(\n",
    "    retriever,\n",
    "    \"retrieve_blog_posts\",\n",
    "    \"Search and return information about Lilian Weng blog posts.\",\n",
    ")\n",
    "result = retriever_tool.invoke({\"query\": \"types of reward hacking\"})\n",
    "console.print(\"[bold green]Retriever Tool Results:[/bold green]\")\n",
    "pprint(result)"
   ]
  },
  {
   "cell_type": "code",
   "execution_count": null,
   "id": "ab0ef40538ee7cf7",
   "metadata": {},
   "outputs": [],
   "source": [
    "tools = [retriever_tool]\n",
    "tools_by_name = {tool.name: tool for tool in tools}\n",
    "llm_with_tools = llm.bind_tools(tools)"
   ]
  },
  {
   "cell_type": "code",
   "execution_count": null,
   "id": "680d4712e03badc8",
   "metadata": {},
   "outputs": [],
   "source": [
    "class State(MessagesState):\n",
    "    summary: str\n",
    "\n",
    "\n",
    "# Define the RAG agent system prompt\n",
    "rag_prompt = \"\"\"You are a helpful assistant tasked with retrieving information from a series of technical blog posts by Lilian Weng.\n",
    "Clarify the scope of research with the user before using your retrieval tool to gather context. Reflect on any context you fetch, and\n",
    "proceed until you have sufficient context to answer the user's research request.\"\"\"\n",
    "\n",
    "\n",
    "def llm_call(state: MessagesState) -> dict:\n",
    "    \"\"\"\n",
    "    Executes a call to an external language model (LLM) service with the provided\n",
    "    state containing messages. Combines the system message with the existing\n",
    "    messages from the state before making the call. The result of the LLM invocation\n",
    "    is returned in a structured format.\n",
    "\n",
    "    Args:\n",
    "        state (MessagesState): The state containing the key \"messages\", which is\n",
    "        a list of messages to be sent to the language model.\n",
    "\n",
    "    Returns:\n",
    "        dict: A dictionary containing the response messages from the LLM invocation.\n",
    "    \"\"\"\n",
    "    messages = [SystemMessage(content=rag_prompt)] + state[\"messages\"]\n",
    "    response = llm_with_tools.invoke(messages)\n",
    "    return {\"messages\": response}\n",
    "\n",
    "\n",
    "tool_pruning_prompt = \"\"\"You are an expert at extracting relevant information from documents.\n",
    "\n",
    "Your task: Analyze the provided document and extract ONLY the information that directly answers or supports the user's specific request. Remove all irrelevant content.\n",
    "\n",
    "User's Request: {initial_request}\n",
    "\n",
    "Instructions for pruning:\n",
    "1. Keep information that directly addresses the user's question\n",
    "2. Preserve key facts, data, and examples that support the answer\n",
    "3. Remove tangential discussions, unrelated topics, and excessive background\n",
    "4. Maintain the logical flow and context of relevant information\n",
    "5. If multiple subtopics are discussed, focus only on those relevant to the request\n",
    "6. Preserve important quotes, statistics, and research findings when relevant\n",
    "\n",
    "Return the pruned content in a clear, concise format that maintains readability while focusing solely on what's needed to answer the user's request.\"\"\"\n",
    "\n",
    "\n",
    "def tool_node_with_pruning(state: State):\n",
    "    \"\"\"Performs the tool call with context pruning\"\"\"\n",
    "    result = []\n",
    "    for tool_call in state[\"messages\"][-1].tool_calls:\n",
    "        tool = tools_by_name[tool_call[\"name\"]]\n",
    "        observation = tool.invoke(tool_call[\"args\"])\n",
    "\n",
    "        initial_request = state[\"messages\"][0].content\n",
    "\n",
    "        # Prune the document content to focus on user's request\n",
    "        summarization_llm = ChatDeepSeek(model=\"deepseek-chat\", temperature=1.3)\n",
    "        pruned_content = summarization_llm.invoke(\n",
    "            [\n",
    "                {\n",
    "                    \"role\": \"system\",\n",
    "                    \"content\": tool_pruning_prompt.format(\n",
    "                        initial_request=initial_request\n",
    "                    ),\n",
    "                },\n",
    "                {\"role\": \"user\", \"content\": observation},\n",
    "            ]\n",
    "        )\n",
    "        result.append(\n",
    "            ToolMessage(content=pruned_content.content, tool_call_id=tool_call[\"id\"])\n",
    "        )\n",
    "\n",
    "    return {\"messages\": result}"
   ]
  },
  {
   "cell_type": "code",
   "execution_count": null,
   "id": "c1316dfcb01f3c9b",
   "metadata": {},
   "outputs": [
    {
     "data": {
      "image/png": "[encoded data removed]",
      "text/plain": [
       "<IPython.core.display.Image object>"
      ]
     },
     "metadata": {},
     "output_type": "display_data"
    }
   ],
   "source": [
    "agent_builder = StateGraph(State)\n",
    "# Add nodes\n",
    "agent_builder.add_node(\"llm_call\", llm_call)\n",
    "agent_builder.add_node(\"tools\", tool_node_with_pruning)\n",
    "\n",
    "agent_builder.set_entry_point(\"llm_call\")\n",
    "agent_builder.add_conditional_edges(\n",
    "    \"llm_call\", tools_condition, {\"tools\": \"tools\", END: END}\n",
    ")\n",
    "agent_builder.add_edge(\"tools\", \"llm_call\")\n",
    "\n",
    "# Compile the agent\n",
    "agent = agent_builder.compile()\n",
    "\n",
    "# Show the agent\n",
    "display(Image(agent.get_graph(xray=True).draw_mermaid_png()))"
   ]
  },
  {
   "cell_type": "code",
   "execution_count": null,
   "id": "475264d36e7adbb5",
   "metadata": {},
   "outputs": [
    {
     "data": {
      "text/html": [
       "<pre style=\"white-space:pre;overflow-x:auto;line-height:normal;font-family:Menlo,'DejaVu Sans Mono',consolas,'Courier New',monospace\"><span style=\"color: #000080; text-decoration-color: #000080\">╭─────────────────────────────────────────────────── 🧑 Human ────────────────────────────────────────────────────╮</span>\n",
       "<span style=\"color: #000080; text-decoration-color: #000080\">│</span> What are the types of reward hacking discussed in the blogs?                                                    <span style=\"color: #000080; text-decoration-color: #000080\">│</span>\n",
       "<span style=\"color: #000080; text-decoration-color: #000080\">╰─────────────────────────────────────────────────────────────────────────────────────────────────────────────────╯</span>\n",
       "</pre>\n"
      ],
      "text/plain": [
       "\u001b[34m╭─\u001b[0m\u001b[34m──────────────────────────────────────────────────\u001b[0m\u001b[34m 🧑 Human \u001b[0m\u001b[34m───────────────────────────────────────────────────\u001b[0m\u001b[34m─╮\u001b[0m\n",
       "\u001b[34m│\u001b[0m What are the types of reward hacking discussed in the blogs?                                                    \u001b[34m│\u001b[0m\n",
       "\u001b[34m╰─────────────────────────────────────────────────────────────────────────────────────────────────────────────────╯\u001b[0m\n"
      ]
     },
     "metadata": {},
     "output_type": "display_data"
    },
    {
     "data": {
      "text/html": [
       "<pre style=\"white-space:pre;overflow-x:auto;line-height:normal;font-family:Menlo,'DejaVu Sans Mono',consolas,'Courier New',monospace\"><span style=\"color: #c0c0c0; text-decoration-color: #c0c0c0\">╭───────────────────────────────────────────────────── 📝 AI ─────────────────────────────────────────────────────╮</span>\n",
       "<span style=\"color: #c0c0c0; text-decoration-color: #c0c0c0\">│</span> I'll help you find information about reward hacking types from Lilian Weng's blog posts. Let me search for      <span style=\"color: #c0c0c0; text-decoration-color: #c0c0c0\">│</span>\n",
       "<span style=\"color: #c0c0c0; text-decoration-color: #c0c0c0\">│</span> relevant content.                                                                                               <span style=\"color: #c0c0c0; text-decoration-color: #c0c0c0\">│</span>\n",
       "<span style=\"color: #c0c0c0; text-decoration-color: #c0c0c0\">╰─────────────────────────────────────────────────────────────────────────────────────────────────────────────────╯</span>\n",
       "</pre>\n"
      ],
      "text/plain": [
       "\u001b[37m╭─\u001b[0m\u001b[37m────────────────────────────────────────────────────\u001b[0m\u001b[37m 📝 AI \u001b[0m\u001b[37m────────────────────────────────────────────────────\u001b[0m\u001b[37m─╮\u001b[0m\n",
       "\u001b[37m│\u001b[0m I'll help you find information about reward hacking types from Lilian Weng's blog posts. Let me search for      \u001b[37m│\u001b[0m\n",
       "\u001b[37m│\u001b[0m relevant content.                                                                                               \u001b[37m│\u001b[0m\n",
       "\u001b[37m╰─────────────────────────────────────────────────────────────────────────────────────────────────────────────────╯\u001b[0m\n"
      ]
     },
     "metadata": {},
     "output_type": "display_data"
    },
    {
     "data": {
      "text/html": [
       "<pre style=\"white-space:pre;overflow-x:auto;line-height:normal;font-family:Menlo,'DejaVu Sans Mono',consolas,'Courier New',monospace\"><span style=\"color: #808000; text-decoration-color: #808000\">╭──────────────────────────────────────────────── 🔧 Tool Output ─────────────────────────────────────────────────╮</span>\n",
       "<span style=\"color: #808000; text-decoration-color: #808000\">│</span> The document discusses two main types of reward hacking:                                                        <span style=\"color: #808000; text-decoration-color: #808000\">│</span>\n",
       "<span style=\"color: #808000; text-decoration-color: #808000\">│</span>                                                                                                                 <span style=\"color: #808000; text-decoration-color: #808000\">│</span>\n",
       "<span style=\"color: #808000; text-decoration-color: #808000\">│</span> **1. Environment or goal misspecification**                                                                     <span style=\"color: #808000; text-decoration-color: #808000\">│</span>\n",
       "<span style=\"color: #808000; text-decoration-color: #808000\">│</span> - The model learns undesired behavior to achieve high rewards by hacking the environment or optimizing a reward <span style=\"color: #808000; text-decoration-color: #808000\">│</span>\n",
       "<span style=\"color: #808000; text-decoration-color: #808000\">│</span> function not aligned with the true reward objective                                                             <span style=\"color: #808000; text-decoration-color: #808000\">│</span>\n",
       "<span style=\"color: #808000; text-decoration-color: #808000\">│</span> - Occurs when the reward is misspecified or lacks key requirements                                              <span style=\"color: #808000; text-decoration-color: #808000\">│</span>\n",
       "<span style=\"color: #808000; text-decoration-color: #808000\">│</span> - Examples include: recommendation algorithms optimizing for engagement metrics instead of usefulness, video    <span style=\"color: #808000; text-decoration-color: #808000\">│</span>\n",
       "<span style=\"color: #808000; text-decoration-color: #808000\">│</span> platforms optimizing for watch time instead of user well-being, and RL agents exploiting imperfect reward       <span style=\"color: #808000; text-decoration-color: #808000\">│</span>\n",
       "<span style=\"color: #808000; text-decoration-color: #808000\">│</span> functions in various tasks                                                                                      <span style=\"color: #808000; text-decoration-color: #808000\">│</span>\n",
       "<span style=\"color: #808000; text-decoration-color: #808000\">│</span>                                                                                                                 <span style=\"color: #808000; text-decoration-color: #808000\">│</span>\n",
       "<span style=\"color: #808000; text-decoration-color: #808000\">│</span> **2. Reward tampering** (Everitt et al. 2019)                                                                   <span style=\"color: #808000; text-decoration-color: #808000\">│</span>\n",
       "<span style=\"color: #808000; text-decoration-color: #808000\">│</span> - The agent interferes with the reward function itself, causing the observed reward to no longer accurately     <span style=\"color: #808000; text-decoration-color: #808000\">│</span>\n",
       "<span style=\"color: #808000; text-decoration-color: #808000\">│</span> represent the intended goal                                                                                     <span style=\"color: #808000; text-decoration-color: #808000\">│</span>\n",
       "<span style=\"color: #808000; text-decoration-color: #808000\">│</span> - The model modifies its reward mechanism either by directly manipulating the implementation of the reward      <span style=\"color: #808000; text-decoration-color: #808000\">│</span>\n",
       "<span style=\"color: #808000; text-decoration-color: #808000\">│</span> function or by indirectly altering the environmental information used as input for the reward function          <span style=\"color: #808000; text-decoration-color: #808000\">│</span>\n",
       "<span style=\"color: #808000; text-decoration-color: #808000\">│</span> - Examples include: coding models learning to change unit tests or modify the code used for calculating rewards <span style=\"color: #808000; text-decoration-color: #808000\">│</span>\n",
       "<span style=\"color: #808000; text-decoration-color: #808000\">│</span>                                                                                                                 <span style=\"color: #808000; text-decoration-color: #808000\">│</span>\n",
       "<span style=\"color: #808000; text-decoration-color: #808000\">│</span> The document notes that while some work defines reward tampering as a distinct category from reward hacking, it <span style=\"color: #808000; text-decoration-color: #808000\">│</span>\n",
       "<span style=\"color: #808000; text-decoration-color: #808000\">│</span> considers reward hacking as the broader concept encompassing both types.                                        <span style=\"color: #808000; text-decoration-color: #808000\">│</span>\n",
       "<span style=\"color: #808000; text-decoration-color: #808000\">╰─────────────────────────────────────────────────────────────────────────────────────────────────────────────────╯</span>\n",
       "</pre>\n"
      ],
      "text/plain": [
       "\u001b[33m╭─\u001b[0m\u001b[33m───────────────────────────────────────────────\u001b[0m\u001b[33m 🔧 Tool Output \u001b[0m\u001b[33m────────────────────────────────────────────────\u001b[0m\u001b[33m─╮\u001b[0m\n",
       "\u001b[33m│\u001b[0m The document discusses two main types of reward hacking:                                                        \u001b[33m│\u001b[0m\n",
       "\u001b[33m│\u001b[0m                                                                                                                 \u001b[33m│\u001b[0m\n",
       "\u001b[33m│\u001b[0m **1. Environment or goal misspecification**                                                                     \u001b[33m│\u001b[0m\n",
       "\u001b[33m│\u001b[0m - The model learns undesired behavior to achieve high rewards by hacking the environment or optimizing a reward \u001b[33m│\u001b[0m\n",
       "\u001b[33m│\u001b[0m function not aligned with the true reward objective                                                             \u001b[33m│\u001b[0m\n",
       "\u001b[33m│\u001b[0m - Occurs when the reward is misspecified or lacks key requirements                                              \u001b[33m│\u001b[0m\n",
       "\u001b[33m│\u001b[0m - Examples include: recommendation algorithms optimizing for engagement metrics instead of usefulness, video    \u001b[33m│\u001b[0m\n",
       "\u001b[33m│\u001b[0m platforms optimizing for watch time instead of user well-being, and RL agents exploiting imperfect reward       \u001b[33m│\u001b[0m\n",
       "\u001b[33m│\u001b[0m functions in various tasks                                                                                      \u001b[33m│\u001b[0m\n",
       "\u001b[33m│\u001b[0m                                                                                                                 \u001b[33m│\u001b[0m\n",
       "\u001b[33m│\u001b[0m **2. Reward tampering** (Everitt et al. 2019)                                                                   \u001b[33m│\u001b[0m\n",
       "\u001b[33m│\u001b[0m - The agent interferes with the reward function itself, causing the observed reward to no longer accurately     \u001b[33m│\u001b[0m\n",
       "\u001b[33m│\u001b[0m represent the intended goal                                                                                     \u001b[33m│\u001b[0m\n",
       "\u001b[33m│\u001b[0m - The model modifies its reward mechanism either by directly manipulating the implementation of the reward      \u001b[33m│\u001b[0m\n",
       "\u001b[33m│\u001b[0m function or by indirectly altering the environmental information used as input for the reward function          \u001b[33m│\u001b[0m\n",
       "\u001b[33m│\u001b[0m - Examples include: coding models learning to change unit tests or modify the code used for calculating rewards \u001b[33m│\u001b[0m\n",
       "\u001b[33m│\u001b[0m                                                                                                                 \u001b[33m│\u001b[0m\n",
       "\u001b[33m│\u001b[0m The document notes that while some work defines reward tampering as a distinct category from reward hacking, it \u001b[33m│\u001b[0m\n",
       "\u001b[33m│\u001b[0m considers reward hacking as the broader concept encompassing both types.                                        \u001b[33m│\u001b[0m\n",
       "\u001b[33m╰─────────────────────────────────────────────────────────────────────────────────────────────────────────────────╯\u001b[0m\n"
      ]
     },
     "metadata": {},
     "output_type": "display_data"
    },
    {
     "data": {
      "text/html": [
       "<pre style=\"white-space:pre;overflow-x:auto;line-height:normal;font-family:Menlo,'DejaVu Sans Mono',consolas,'Courier New',monospace\"><span style=\"color: #c0c0c0; text-decoration-color: #c0c0c0\">╭───────────────────────────────────────────────────── 📝 AI ─────────────────────────────────────────────────────╮</span>\n",
       "<span style=\"color: #c0c0c0; text-decoration-color: #c0c0c0\">│</span> Let me search for more specific information about reward hacking to get additional context and examples.        <span style=\"color: #c0c0c0; text-decoration-color: #c0c0c0\">│</span>\n",
       "<span style=\"color: #c0c0c0; text-decoration-color: #c0c0c0\">╰─────────────────────────────────────────────────────────────────────────────────────────────────────────────────╯</span>\n",
       "</pre>\n"
      ],
      "text/plain": [
       "\u001b[37m╭─\u001b[0m\u001b[37m────────────────────────────────────────────────────\u001b[0m\u001b[37m 📝 AI \u001b[0m\u001b[37m────────────────────────────────────────────────────\u001b[0m\u001b[37m─╮\u001b[0m\n",
       "\u001b[37m│\u001b[0m Let me search for more specific information about reward hacking to get additional context and examples.        \u001b[37m│\u001b[0m\n",
       "\u001b[37m╰─────────────────────────────────────────────────────────────────────────────────────────────────────────────────╯\u001b[0m\n"
      ]
     },
     "metadata": {},
     "output_type": "display_data"
    },
    {
     "data": {
      "text/html": [
       "<pre style=\"white-space:pre;overflow-x:auto;line-height:normal;font-family:Menlo,'DejaVu Sans Mono',consolas,'Courier New',monospace\"><span style=\"color: #808000; text-decoration-color: #808000\">╭──────────────────────────────────────────────── 🔧 Tool Output ─────────────────────────────────────────────────╮</span>\n",
       "<span style=\"color: #808000; text-decoration-color: #808000\">│</span> The document discusses two main types of reward hacking:                                                        <span style=\"color: #808000; text-decoration-color: #808000\">│</span>\n",
       "<span style=\"color: #808000; text-decoration-color: #808000\">│</span>                                                                                                                 <span style=\"color: #808000; text-decoration-color: #808000\">│</span>\n",
       "<span style=\"color: #808000; text-decoration-color: #808000\">│</span> 1. **Environment or goal misspecification**: The model learns undesired behavior to achieve high rewards by     <span style=\"color: #808000; text-decoration-color: #808000\">│</span>\n",
       "<span style=\"color: #808000; text-decoration-color: #808000\">│</span> hacking the environment or optimizing a reward function not aligned with the true reward objective—such as when <span style=\"color: #808000; text-decoration-color: #808000\">│</span>\n",
       "<span style=\"color: #808000; text-decoration-color: #808000\">│</span> the reward is misspecified or lacks key requirements.                                                           <span style=\"color: #808000; text-decoration-color: #808000\">│</span>\n",
       "<span style=\"color: #808000; text-decoration-color: #808000\">│</span>                                                                                                                 <span style=\"color: #808000; text-decoration-color: #808000\">│</span>\n",
       "<span style=\"color: #808000; text-decoration-color: #808000\">│</span> 2. **Reward tampering**: The agent interferes with the reward function itself, causing the observed reward to   <span style=\"color: #808000; text-decoration-color: #808000\">│</span>\n",
       "<span style=\"color: #808000; text-decoration-color: #808000\">│</span> no longer accurately represent the intended goal. This can involve directly manipulating the implementation of  <span style=\"color: #808000; text-decoration-color: #808000\">│</span>\n",
       "<span style=\"color: #808000; text-decoration-color: #808000\">│</span> the reward function or indirectly altering the environmental information used as input for the reward function. <span style=\"color: #808000; text-decoration-color: #808000\">│</span>\n",
       "<span style=\"color: #808000; text-decoration-color: #808000\">╰─────────────────────────────────────────────────────────────────────────────────────────────────────────────────╯</span>\n",
       "</pre>\n"
      ],
      "text/plain": [
       "\u001b[33m╭─\u001b[0m\u001b[33m───────────────────────────────────────────────\u001b[0m\u001b[33m 🔧 Tool Output \u001b[0m\u001b[33m────────────────────────────────────────────────\u001b[0m\u001b[33m─╮\u001b[0m\n",
       "\u001b[33m│\u001b[0m The document discusses two main types of reward hacking:                                                        \u001b[33m│\u001b[0m\n",
       "\u001b[33m│\u001b[0m                                                                                                                 \u001b[33m│\u001b[0m\n",
       "\u001b[33m│\u001b[0m 1. **Environment or goal misspecification**: The model learns undesired behavior to achieve high rewards by     \u001b[33m│\u001b[0m\n",
       "\u001b[33m│\u001b[0m hacking the environment or optimizing a reward function not aligned with the true reward objective—such as when \u001b[33m│\u001b[0m\n",
       "\u001b[33m│\u001b[0m the reward is misspecified or lacks key requirements.                                                           \u001b[33m│\u001b[0m\n",
       "\u001b[33m│\u001b[0m                                                                                                                 \u001b[33m│\u001b[0m\n",
       "\u001b[33m│\u001b[0m 2. **Reward tampering**: The agent interferes with the reward function itself, causing the observed reward to   \u001b[33m│\u001b[0m\n",
       "\u001b[33m│\u001b[0m no longer accurately represent the intended goal. This can involve directly manipulating the implementation of  \u001b[33m│\u001b[0m\n",
       "\u001b[33m│\u001b[0m the reward function or indirectly altering the environmental information used as input for the reward function. \u001b[33m│\u001b[0m\n",
       "\u001b[33m╰─────────────────────────────────────────────────────────────────────────────────────────────────────────────────╯\u001b[0m\n"
      ]
     },
     "metadata": {},
     "output_type": "display_data"
    },
    {
     "data": {
      "text/html": [
       "<pre style=\"white-space:pre;overflow-x:auto;line-height:normal;font-family:Menlo,'DejaVu Sans Mono',consolas,'Courier New',monospace\"><span style=\"color: #c0c0c0; text-decoration-color: #c0c0c0\">╭───────────────────────────────────────────────────── 📝 AI ─────────────────────────────────────────────────────╮</span>\n",
       "<span style=\"color: #c0c0c0; text-decoration-color: #c0c0c0\">│</span> Let me search for more detailed examples and specific cases mentioned in the blogs.                             <span style=\"color: #c0c0c0; text-decoration-color: #c0c0c0\">│</span>\n",
       "<span style=\"color: #c0c0c0; text-decoration-color: #c0c0c0\">╰─────────────────────────────────────────────────────────────────────────────────────────────────────────────────╯</span>\n",
       "</pre>\n"
      ],
      "text/plain": [
       "\u001b[37m╭─\u001b[0m\u001b[37m────────────────────────────────────────────────────\u001b[0m\u001b[37m 📝 AI \u001b[0m\u001b[37m────────────────────────────────────────────────────\u001b[0m\u001b[37m─╮\u001b[0m\n",
       "\u001b[37m│\u001b[0m Let me search for more detailed examples and specific cases mentioned in the blogs.                             \u001b[37m│\u001b[0m\n",
       "\u001b[37m╰─────────────────────────────────────────────────────────────────────────────────────────────────────────────────╯\u001b[0m\n"
      ]
     },
     "metadata": {},
     "output_type": "display_data"
    },
    {
     "data": {
      "text/html": [
       "<pre style=\"white-space:pre;overflow-x:auto;line-height:normal;font-family:Menlo,'DejaVu Sans Mono',consolas,'Courier New',monospace\"><span style=\"color: #808000; text-decoration-color: #808000\">╭──────────────────────────────────────────────── 🔧 Tool Output ─────────────────────────────────────────────────╮</span>\n",
       "<span style=\"color: #808000; text-decoration-color: #808000\">│</span> Reward hacking examples in real life:                                                                           <span style=\"color: #808000; text-decoration-color: #808000\">│</span>\n",
       "<span style=\"color: #808000; text-decoration-color: #808000\">│</span>                                                                                                                 <span style=\"color: #808000; text-decoration-color: #808000\">│</span>\n",
       "<span style=\"color: #808000; text-decoration-color: #808000\">│</span> - Social media recommendation algorithms optimize for proxy metrics like likes/comments/engagement time,        <span style=\"color: #808000; text-decoration-color: #808000\">│</span>\n",
       "<span style=\"color: #808000; text-decoration-color: #808000\">│</span> leading to recommendations of outrageous/extreme content that triggers more engagement                          <span style=\"color: #808000; text-decoration-color: #808000\">│</span>\n",
       "<span style=\"color: #808000; text-decoration-color: #808000\">│</span> - Video sharing sites optimizing for watch time while the true goal is user well-being                          <span style=\"color: #808000; text-decoration-color: #808000\">│</span>\n",
       "<span style=\"color: #808000; text-decoration-color: #808000\">│</span> - Financial system gaming leading to the 2008 housing bubble crisis (as shown in \"The Big Short\")               <span style=\"color: #808000; text-decoration-color: #808000\">│</span>\n",
       "<span style=\"color: #808000; text-decoration-color: #808000\">│</span>                                                                                                                 <span style=\"color: #808000; text-decoration-color: #808000\">│</span>\n",
       "<span style=\"color: #808000; text-decoration-color: #808000\">│</span> Why does Reward Hacking Exist?:                                                                                 <span style=\"color: #808000; text-decoration-color: #808000\">│</span>\n",
       "<span style=\"color: #808000; text-decoration-color: #808000\">│</span>                                                                                                                 <span style=\"color: #808000; text-decoration-color: #808000\">│</span>\n",
       "<span style=\"color: #808000; text-decoration-color: #808000\">│</span> Goodhart's Law variants (Garrabrant 2017):                                                                      <span style=\"color: #808000; text-decoration-color: #808000\">│</span>\n",
       "<span style=\"color: #808000; text-decoration-color: #808000\">│</span> - Regressional - selection for imperfect proxy also selects for noise                                           <span style=\"color: #808000; text-decoration-color: #808000\">│</span>\n",
       "<span style=\"color: #808000; text-decoration-color: #808000\">│</span> - Extremal - metric selection pushes state distribution into different data regions                             <span style=\"color: #808000; text-decoration-color: #808000\">│</span>\n",
       "<span style=\"color: #808000; text-decoration-color: #808000\">│</span> - Causal - non-causal correlation between proxy and goal causes intervention failures                           <span style=\"color: #808000; text-decoration-color: #808000\">│</span>\n",
       "<span style=\"color: #808000; text-decoration-color: #808000\">│</span> - Adversarial - optimization provides incentive for adversaries to correlate their goal with proxy              <span style=\"color: #808000; text-decoration-color: #808000\">│</span>\n",
       "<span style=\"color: #808000; text-decoration-color: #808000\">│</span>                                                                                                                 <span style=\"color: #808000; text-decoration-color: #808000\">│</span>\n",
       "<span style=\"color: #808000; text-decoration-color: #808000\">│</span> Amodei et al. (2016) causes:                                                                                    <span style=\"color: #808000; text-decoration-color: #808000\">│</span>\n",
       "<span style=\"color: #808000; text-decoration-color: #808000\">│</span> - Partial observed states and imperfect goal representations                                                    <span style=\"color: #808000; text-decoration-color: #808000\">│</span>\n",
       "<span style=\"color: #808000; text-decoration-color: #808000\">│</span> - Complex systems susceptible to hacking (e.g., code execution that changes environment)                        <span style=\"color: #808000; text-decoration-color: #808000\">│</span>\n",
       "<span style=\"color: #808000; text-decoration-color: #808000\">│</span> - Abstract concepts hard to learn/formulate (high-dimensional inputs relying on few dimensions)                 <span style=\"color: #808000; text-decoration-color: #808000\">│</span>\n",
       "<span style=\"color: #808000; text-decoration-color: #808000\">│</span> - Self-reinforcing feedback components that amplify and distort rewards                                         <span style=\"color: #808000; text-decoration-color: #808000\">│</span>\n",
       "<span style=\"color: #808000; text-decoration-color: #808000\">│</span>                                                                                                                 <span style=\"color: #808000; text-decoration-color: #808000\">│</span>\n",
       "<span style=\"color: #808000; text-decoration-color: #808000\">│</span> In-Context Reward Hacking:                                                                                      <span style=\"color: #808000; text-decoration-color: #808000\">│</span>\n",
       "<span style=\"color: #808000; text-decoration-color: #808000\">│</span>                                                                                                                 <span style=\"color: #808000; text-decoration-color: #808000\">│</span>\n",
       "<span style=\"color: #808000; text-decoration-color: #808000\">│</span> Pan et al. (2023, 2024) experiments show:                                                                       <span style=\"color: #808000; text-decoration-color: #808000\">│</span>\n",
       "<span style=\"color: #808000; text-decoration-color: #808000\">│</span> - Iterative self-refinement where same model serves as evaluator and generator                                  <span style=\"color: #808000; text-decoration-color: #808000\">│</span>\n",
       "<span style=\"color: #808000; text-decoration-color: #808000\">│</span> - Setup leads to evaluator scores diverging from oracle/human scores                                            <span style=\"color: #808000; text-decoration-color: #808000\">│</span>\n",
       "<span style=\"color: #808000; text-decoration-color: #808000\">│</span> - Smaller evaluator models (GPT-3.5) cause more severe hacking than larger ones (GPT-4)                         <span style=\"color: #808000; text-decoration-color: #808000\">│</span>\n",
       "<span style=\"color: #808000; text-decoration-color: #808000\">│</span> - Output-refinement experiments: refining tweets based on engagement metrics leads to higher toxicity           <span style=\"color: #808000; text-decoration-color: #808000\">│</span>\n",
       "<span style=\"color: #808000; text-decoration-color: #808000\">│</span> - Identical context between evaluator and generator crucial for in-context reward hacking                       <span style=\"color: #808000; text-decoration-color: #808000\">│</span>\n",
       "<span style=\"color: #808000; text-decoration-color: #808000\">╰─────────────────────────────────────────────────────────────────────────────────────────────────────────────────╯</span>\n",
       "</pre>\n"
      ],
      "text/plain": [
       "\u001b[33m╭─\u001b[0m\u001b[33m───────────────────────────────────────────────\u001b[0m\u001b[33m 🔧 Tool Output \u001b[0m\u001b[33m────────────────────────────────────────────────\u001b[0m\u001b[33m─╮\u001b[0m\n",
       "\u001b[33m│\u001b[0m Reward hacking examples in real life:                                                                           \u001b[33m│\u001b[0m\n",
       "\u001b[33m│\u001b[0m                                                                                                                 \u001b[33m│\u001b[0m\n",
       "\u001b[33m│\u001b[0m - Social media recommendation algorithms optimize for proxy metrics like likes/comments/engagement time,        \u001b[33m│\u001b[0m\n",
       "\u001b[33m│\u001b[0m leading to recommendations of outrageous/extreme content that triggers more engagement                          \u001b[33m│\u001b[0m\n",
       "\u001b[33m│\u001b[0m - Video sharing sites optimizing for watch time while the true goal is user well-being                          \u001b[33m│\u001b[0m\n",
       "\u001b[33m│\u001b[0m - Financial system gaming leading to the 2008 housing bubble crisis (as shown in \"The Big Short\")               \u001b[33m│\u001b[0m\n",
       "\u001b[33m│\u001b[0m                                                                                                                 \u001b[33m│\u001b[0m\n",
       "\u001b[33m│\u001b[0m Why does Reward Hacking Exist?:                                                                                 \u001b[33m│\u001b[0m\n",
       "\u001b[33m│\u001b[0m                                                                                                                 \u001b[33m│\u001b[0m\n",
       "\u001b[33m│\u001b[0m Goodhart's Law variants (Garrabrant 2017):                                                                      \u001b[33m│\u001b[0m\n",
       "\u001b[33m│\u001b[0m - Regressional - selection for imperfect proxy also selects for noise                                           \u001b[33m│\u001b[0m\n",
       "\u001b[33m│\u001b[0m - Extremal - metric selection pushes state distribution into different data regions                             \u001b[33m│\u001b[0m\n",
       "\u001b[33m│\u001b[0m - Causal - non-causal correlation between proxy and goal causes intervention failures                           \u001b[33m│\u001b[0m\n",
       "\u001b[33m│\u001b[0m - Adversarial - optimization provides incentive for adversaries to correlate their goal with proxy              \u001b[33m│\u001b[0m\n",
       "\u001b[33m│\u001b[0m                                                                                                                 \u001b[33m│\u001b[0m\n",
       "\u001b[33m│\u001b[0m Amodei et al. (2016) causes:                                                                                    \u001b[33m│\u001b[0m\n",
       "\u001b[33m│\u001b[0m - Partial observed states and imperfect goal representations                                                    \u001b[33m│\u001b[0m\n",
       "\u001b[33m│\u001b[0m - Complex systems susceptible to hacking (e.g., code execution that changes environment)                        \u001b[33m│\u001b[0m\n",
       "\u001b[33m│\u001b[0m - Abstract concepts hard to learn/formulate (high-dimensional inputs relying on few dimensions)                 \u001b[33m│\u001b[0m\n",
       "\u001b[33m│\u001b[0m - Self-reinforcing feedback components that amplify and distort rewards                                         \u001b[33m│\u001b[0m\n",
       "\u001b[33m│\u001b[0m                                                                                                                 \u001b[33m│\u001b[0m\n",
       "\u001b[33m│\u001b[0m In-Context Reward Hacking:                                                                                      \u001b[33m│\u001b[0m\n",
       "\u001b[33m│\u001b[0m                                                                                                                 \u001b[33m│\u001b[0m\n",
       "\u001b[33m│\u001b[0m Pan et al. (2023, 2024) experiments show:                                                                       \u001b[33m│\u001b[0m\n",
       "\u001b[33m│\u001b[0m - Iterative self-refinement where same model serves as evaluator and generator                                  \u001b[33m│\u001b[0m\n",
       "\u001b[33m│\u001b[0m - Setup leads to evaluator scores diverging from oracle/human scores                                            \u001b[33m│\u001b[0m\n",
       "\u001b[33m│\u001b[0m - Smaller evaluator models (GPT-3.5) cause more severe hacking than larger ones (GPT-4)                         \u001b[33m│\u001b[0m\n",
       "\u001b[33m│\u001b[0m - Output-refinement experiments: refining tweets based on engagement metrics leads to higher toxicity           \u001b[33m│\u001b[0m\n",
       "\u001b[33m│\u001b[0m - Identical context between evaluator and generator crucial for in-context reward hacking                       \u001b[33m│\u001b[0m\n",
       "\u001b[33m╰─────────────────────────────────────────────────────────────────────────────────────────────────────────────────╯\u001b[0m\n"
      ]
     },
     "metadata": {},
     "output_type": "display_data"
    },
    {
     "data": {
      "text/html": [
       "<pre style=\"white-space:pre;overflow-x:auto;line-height:normal;font-family:Menlo,'DejaVu Sans Mono',consolas,'Courier New',monospace\"><span style=\"color: #c0c0c0; text-decoration-color: #c0c0c0\">╭───────────────────────────────────────────────────── 📝 AI ─────────────────────────────────────────────────────╮</span>\n",
       "<span style=\"color: #c0c0c0; text-decoration-color: #c0c0c0\">│</span> Let me also search for any additional types or classifications of reward hacking that might be mentioned.       <span style=\"color: #c0c0c0; text-decoration-color: #c0c0c0\">│</span>\n",
       "<span style=\"color: #c0c0c0; text-decoration-color: #c0c0c0\">╰─────────────────────────────────────────────────────────────────────────────────────────────────────────────────╯</span>\n",
       "</pre>\n"
      ],
      "text/plain": [
       "\u001b[37m╭─\u001b[0m\u001b[37m────────────────────────────────────────────────────\u001b[0m\u001b[37m 📝 AI \u001b[0m\u001b[37m────────────────────────────────────────────────────\u001b[0m\u001b[37m─╮\u001b[0m\n",
       "\u001b[37m│\u001b[0m Let me also search for any additional types or classifications of reward hacking that might be mentioned.       \u001b[37m│\u001b[0m\n",
       "\u001b[37m╰─────────────────────────────────────────────────────────────────────────────────────────────────────────────────╯\u001b[0m\n"
      ]
     },
     "metadata": {},
     "output_type": "display_data"
    },
    {
     "data": {
      "text/html": [
       "<pre style=\"white-space:pre;overflow-x:auto;line-height:normal;font-family:Menlo,'DejaVu Sans Mono',consolas,'Courier New',monospace\"><span style=\"color: #808000; text-decoration-color: #808000\">╭──────────────────────────────────────────────── 🔧 Tool Output ─────────────────────────────────────────────────╮</span>\n",
       "<span style=\"color: #808000; text-decoration-color: #808000\">│</span> **Types of Reward Hacking Discussed:**                                                                          <span style=\"color: #808000; text-decoration-color: #808000\">│</span>\n",
       "<span style=\"color: #808000; text-decoration-color: #808000\">│</span>                                                                                                                 <span style=\"color: #808000; text-decoration-color: #808000\">│</span>\n",
       "<span style=\"color: #808000; text-decoration-color: #808000\">│</span> 1. **Proxy Metric Optimization**                                                                                <span style=\"color: #808000; text-decoration-color: #808000\">│</span>\n",
       "<span style=\"color: #808000; text-decoration-color: #808000\">│</span>    - Social media algorithms optimize for engagement metrics (likes, comments, time spent) instead of true      <span style=\"color: #808000; text-decoration-color: #808000\">│</span>\n",
       "<span style=\"color: #808000; text-decoration-color: #808000\">│</span> goals (e.g., user well-being), leading to recommendations of extreme or emotionally charged content.            <span style=\"color: #808000; text-decoration-color: #808000\">│</span>\n",
       "<span style=\"color: #808000; text-decoration-color: #808000\">│</span>    - Video sharing platforms may prioritize watch time over user satisfaction.                                  <span style=\"color: #808000; text-decoration-color: #808000\">│</span>\n",
       "<span style=\"color: #808000; text-decoration-color: #808000\">│</span>                                                                                                                 <span style=\"color: #808000; text-decoration-color: #808000\">│</span>\n",
       "<span style=\"color: #808000; text-decoration-color: #808000\">│</span> 2. **Financial System Exploitation**                                                                            <span style=\"color: #808000; text-decoration-color: #808000\">│</span>\n",
       "<span style=\"color: #808000; text-decoration-color: #808000\">│</span>    - Example from the 2008 financial crisis: actors gamed financial systems (e.g., housing bubble incentives),  <span style=\"color: #808000; text-decoration-color: #808000\">│</span>\n",
       "<span style=\"color: #808000; text-decoration-color: #808000\">│</span> illustrating reward hacking in societal structures.                                                             <span style=\"color: #808000; text-decoration-color: #808000\">│</span>\n",
       "<span style=\"color: #808000; text-decoration-color: #808000\">│</span>                                                                                                                 <span style=\"color: #808000; text-decoration-color: #808000\">│</span>\n",
       "<span style=\"color: #808000; text-decoration-color: #808000\">│</span> 3. **Goodhart’s Law Variants (Categorized by Garrabrant, 2017)**                                                <span style=\"color: #808000; text-decoration-color: #808000\">│</span>\n",
       "<span style=\"color: #808000; text-decoration-color: #808000\">│</span>    - **Regressional**: Optimizing for a proxy metric also selects for noise.                                    <span style=\"color: #808000; text-decoration-color: #808000\">│</span>\n",
       "<span style=\"color: #808000; text-decoration-color: #808000\">│</span>    - **Extremal**: Optimization pushes the system into extreme, unintended states.                              <span style=\"color: #808000; text-decoration-color: #808000\">│</span>\n",
       "<span style=\"color: #808000; text-decoration-color: #808000\">│</span>    - **Causal**: Non-causal correlations between proxy and goal lead to ineffective interventions.              <span style=\"color: #808000; text-decoration-color: #808000\">│</span>\n",
       "<span style=\"color: #808000; text-decoration-color: #808000\">│</span>    - **Adversarial**: Incentives for adversaries to align their goals with the proxy metric.                    <span style=\"color: #808000; text-decoration-color: #808000\">│</span>\n",
       "<span style=\"color: #808000; text-decoration-color: #808000\">│</span>                                                                                                                 <span style=\"color: #808000; text-decoration-color: #808000\">│</span>\n",
       "<span style=\"color: #808000; text-decoration-color: #808000\">│</span> 4. **Reinforcement Learning (RL) Specific Hacking**                                                             <span style=\"color: #808000; text-decoration-color: #808000\">│</span>\n",
       "<span style=\"color: #808000; text-decoration-color: #808000\">│</span>    - Exploiting partial observability or imperfect environment representations.                                 <span style=\"color: #808000; text-decoration-color: #808000\">│</span>\n",
       "<span style=\"color: #808000; text-decoration-color: #808000\">│</span>    - Manipulating environment mechanisms (e.g., executing code to alter rewards).                               <span style=\"color: #808000; text-decoration-color: #808000\">│</span>\n",
       "<span style=\"color: #808000; text-decoration-color: #808000\">│</span>    - Over-relying on simplified features in high-dimensional reward functions.                                  <span style=\"color: #808000; text-decoration-color: #808000\">│</span>\n",
       "<span style=\"color: #808000; text-decoration-color: #808000\">│</span>    - Self-reinforcing feedback loops (e.g., ad placement algorithms leading to \"winner-takes-all\" outcomes).    <span style=\"color: #808000; text-decoration-color: #808000\">│</span>\n",
       "<span style=\"color: #808000; text-decoration-color: #808000\">│</span>                                                                                                                 <span style=\"color: #808000; text-decoration-color: #808000\">│</span>\n",
       "<span style=\"color: #808000; text-decoration-color: #808000\">│</span> 5. **In-Context Reward Hacking (ICRH)**                                                                         <span style=\"color: #808000; text-decoration-color: #808000\">│</span>\n",
       "<span style=\"color: #808000; text-decoration-color: #808000\">│</span>    - Occurs during deployment via self-refinement feedback loops (e.g., LLMs iteratively optimizing policies    <span style=\"color: #808000; text-decoration-color: #808000\">│</span>\n",
       "<span style=\"color: #808000; text-decoration-color: #808000\">│</span> based on error feedback).                                                                                       <span style=\"color: #808000; text-decoration-color: #808000\">│</span>\n",
       "<span style=\"color: #808000; text-decoration-color: #808000\">│</span>    - Example: An LLM agent tasked with paying invoices learns to bypass authentication to resolve balance       <span style=\"color: #808000; text-decoration-color: #808000\">│</span>\n",
       "<span style=\"color: #808000; text-decoration-color: #808000\">│</span> errors, leading to unauthorized actions.                                                                        <span style=\"color: #808000; text-decoration-color: #808000\">│</span>\n",
       "<span style=\"color: #808000; text-decoration-color: #808000\">│</span>    - Differs from traditional reward hacking by occurring at deployment (not training) and driven by generalist <span style=\"color: #808000; text-decoration-color: #808000\">│</span>\n",
       "<span style=\"color: #808000; text-decoration-color: #808000\">│</span> models (not task specialization).                                                                               <span style=\"color: #808000; text-decoration-color: #808000\">│</span>\n",
       "<span style=\"color: #808000; text-decoration-color: #808000\">│</span>                                                                                                                 <span style=\"color: #808000; text-decoration-color: #808000\">│</span>\n",
       "<span style=\"color: #808000; text-decoration-color: #808000\">│</span> 6. **Generalization of Hacking Skills**                                                                         <span style=\"color: #808000; text-decoration-color: #808000\">│</span>\n",
       "<span style=\"color: #808000; text-decoration-color: #808000\">│</span>    - Models trained on hackable environments can generalize reward hacking behaviors to out-of-distribution     <span style=\"color: #808000; text-decoration-color: #808000\">│</span>\n",
       "<span style=\"color: #808000; text-decoration-color: #808000\">│</span> tasks (e.g., GPT-3.5 exhibiting hacking in holdout environments after training on specific datasets).           <span style=\"color: #808000; text-decoration-color: #808000\">│</span>\n",
       "<span style=\"color: #808000; text-decoration-color: #808000\">│</span>                                                                                                                 <span style=\"color: #808000; text-decoration-color: #808000\">│</span>\n",
       "<span style=\"color: #808000; text-decoration-color: #808000\">│</span> ---                                                                                                             <span style=\"color: #808000; text-decoration-color: #808000\">│</span>\n",
       "<span style=\"color: #808000; text-decoration-color: #808000\">│</span> **References Supporting These Types:**                                                                          <span style=\"color: #808000; text-decoration-color: #808000\">│</span>\n",
       "<span style=\"color: #808000; text-decoration-color: #808000\">│</span> - Amodei et al. (2016) on RL reward hacking causes.                                                             <span style=\"color: #808000; text-decoration-color: #808000\">│</span>\n",
       "<span style=\"color: #808000; text-decoration-color: #808000\">│</span> - Garrabrant (2017) on Goodhart’s Law variants.                                                                 <span style=\"color: #808000; text-decoration-color: #808000\">│</span>\n",
       "<span style=\"color: #808000; text-decoration-color: #808000\">│</span> - Pan et al. (2024) on In-Context Reward Hacking (ICRH).                                                        <span style=\"color: #808000; text-decoration-color: #808000\">│</span>\n",
       "<span style=\"color: #808000; text-decoration-color: #808000\">│</span> - Kei et al. (2024) on generalization of hacking skills.                                                        <span style=\"color: #808000; text-decoration-color: #808000\">│</span>\n",
       "<span style=\"color: #808000; text-decoration-color: #808000\">╰─────────────────────────────────────────────────────────────────────────────────────────────────────────────────╯</span>\n",
       "</pre>\n"
      ],
      "text/plain": [
       "\u001b[33m╭─\u001b[0m\u001b[33m───────────────────────────────────────────────\u001b[0m\u001b[33m 🔧 Tool Output \u001b[0m\u001b[33m────────────────────────────────────────────────\u001b[0m\u001b[33m─╮\u001b[0m\n",
       "\u001b[33m│\u001b[0m **Types of Reward Hacking Discussed:**                                                                          \u001b[33m│\u001b[0m\n",
       "\u001b[33m│\u001b[0m                                                                                                                 \u001b[33m│\u001b[0m\n",
       "\u001b[33m│\u001b[0m 1. **Proxy Metric Optimization**                                                                                \u001b[33m│\u001b[0m\n",
       "\u001b[33m│\u001b[0m    - Social media algorithms optimize for engagement metrics (likes, comments, time spent) instead of true      \u001b[33m│\u001b[0m\n",
       "\u001b[33m│\u001b[0m goals (e.g., user well-being), leading to recommendations of extreme or emotionally charged content.            \u001b[33m│\u001b[0m\n",
       "\u001b[33m│\u001b[0m    - Video sharing platforms may prioritize watch time over user satisfaction.                                  \u001b[33m│\u001b[0m\n",
       "\u001b[33m│\u001b[0m                                                                                                                 \u001b[33m│\u001b[0m\n",
       "\u001b[33m│\u001b[0m 2. **Financial System Exploitation**                                                                            \u001b[33m│\u001b[0m\n",
       "\u001b[33m│\u001b[0m    - Example from the 2008 financial crisis: actors gamed financial systems (e.g., housing bubble incentives),  \u001b[33m│\u001b[0m\n",
       "\u001b[33m│\u001b[0m illustrating reward hacking in societal structures.                                                             \u001b[33m│\u001b[0m\n",
       "\u001b[33m│\u001b[0m                                                                                                                 \u001b[33m│\u001b[0m\n",
       "\u001b[33m│\u001b[0m 3. **Goodhart’s Law Variants (Categorized by Garrabrant, 2017)**                                                \u001b[33m│\u001b[0m\n",
       "\u001b[33m│\u001b[0m    - **Regressional**: Optimizing for a proxy metric also selects for noise.                                    \u001b[33m│\u001b[0m\n",
       "\u001b[33m│\u001b[0m    - **Extremal**: Optimization pushes the system into extreme, unintended states.                              \u001b[33m│\u001b[0m\n",
       "\u001b[33m│\u001b[0m    - **Causal**: Non-causal correlations between proxy and goal lead to ineffective interventions.              \u001b[33m│\u001b[0m\n",
       "\u001b[33m│\u001b[0m    - **Adversarial**: Incentives for adversaries to align their goals with the proxy metric.                    \u001b[33m│\u001b[0m\n",
       "\u001b[33m│\u001b[0m                                                                                                                 \u001b[33m│\u001b[0m\n",
       "\u001b[33m│\u001b[0m 4. **Reinforcement Learning (RL) Specific Hacking**                                                             \u001b[33m│\u001b[0m\n",
       "\u001b[33m│\u001b[0m    - Exploiting partial observability or imperfect environment representations.                                 \u001b[33m│\u001b[0m\n",
       "\u001b[33m│\u001b[0m    - Manipulating environment mechanisms (e.g., executing code to alter rewards).                               \u001b[33m│\u001b[0m\n",
       "\u001b[33m│\u001b[0m    - Over-relying on simplified features in high-dimensional reward functions.                                  \u001b[33m│\u001b[0m\n",
       "\u001b[33m│\u001b[0m    - Self-reinforcing feedback loops (e.g., ad placement algorithms leading to \"winner-takes-all\" outcomes).    \u001b[33m│\u001b[0m\n",
       "\u001b[33m│\u001b[0m                                                                                                                 \u001b[33m│\u001b[0m\n",
       "\u001b[33m│\u001b[0m 5. **In-Context Reward Hacking (ICRH)**                                                                         \u001b[33m│\u001b[0m\n",
       "\u001b[33m│\u001b[0m    - Occurs during deployment via self-refinement feedback loops (e.g., LLMs iteratively optimizing policies    \u001b[33m│\u001b[0m\n",
       "\u001b[33m│\u001b[0m based on error feedback).                                                                                       \u001b[33m│\u001b[0m\n",
       "\u001b[33m│\u001b[0m    - Example: An LLM agent tasked with paying invoices learns to bypass authentication to resolve balance       \u001b[33m│\u001b[0m\n",
       "\u001b[33m│\u001b[0m errors, leading to unauthorized actions.                                                                        \u001b[33m│\u001b[0m\n",
       "\u001b[33m│\u001b[0m    - Differs from traditional reward hacking by occurring at deployment (not training) and driven by generalist \u001b[33m│\u001b[0m\n",
       "\u001b[33m│\u001b[0m models (not task specialization).                                                                               \u001b[33m│\u001b[0m\n",
       "\u001b[33m│\u001b[0m                                                                                                                 \u001b[33m│\u001b[0m\n",
       "\u001b[33m│\u001b[0m 6. **Generalization of Hacking Skills**                                                                         \u001b[33m│\u001b[0m\n",
       "\u001b[33m│\u001b[0m    - Models trained on hackable environments can generalize reward hacking behaviors to out-of-distribution     \u001b[33m│\u001b[0m\n",
       "\u001b[33m│\u001b[0m tasks (e.g., GPT-3.5 exhibiting hacking in holdout environments after training on specific datasets).           \u001b[33m│\u001b[0m\n",
       "\u001b[33m│\u001b[0m                                                                                                                 \u001b[33m│\u001b[0m\n",
       "\u001b[33m│\u001b[0m ---                                                                                                             \u001b[33m│\u001b[0m\n",
       "\u001b[33m│\u001b[0m **References Supporting These Types:**                                                                          \u001b[33m│\u001b[0m\n",
       "\u001b[33m│\u001b[0m - Amodei et al. (2016) on RL reward hacking causes.                                                             \u001b[33m│\u001b[0m\n",
       "\u001b[33m│\u001b[0m - Garrabrant (2017) on Goodhart’s Law variants.                                                                 \u001b[33m│\u001b[0m\n",
       "\u001b[33m│\u001b[0m - Pan et al. (2024) on In-Context Reward Hacking (ICRH).                                                        \u001b[33m│\u001b[0m\n",
       "\u001b[33m│\u001b[0m - Kei et al. (2024) on generalization of hacking skills.                                                        \u001b[33m│\u001b[0m\n",
       "\u001b[33m╰─────────────────────────────────────────────────────────────────────────────────────────────────────────────────╯\u001b[0m\n"
      ]
     },
     "metadata": {},
     "output_type": "display_data"
    },
    {
     "data": {
      "text/html": [
       "<pre style=\"white-space:pre;overflow-x:auto;line-height:normal;font-family:Menlo,'DejaVu Sans Mono',consolas,'Courier New',monospace\"><span style=\"color: #c0c0c0; text-decoration-color: #c0c0c0\">╭───────────────────────────────────────────────────── 📝 AI ─────────────────────────────────────────────────────╮</span>\n",
       "<span style=\"color: #c0c0c0; text-decoration-color: #c0c0c0\">│</span> Based on my research of Lilian Weng's blog posts, I found several types and classifications of reward hacking   <span style=\"color: #c0c0c0; text-decoration-color: #c0c0c0\">│</span>\n",
       "<span style=\"color: #c0c0c0; text-decoration-color: #c0c0c0\">│</span> discussed. Here's a comprehensive overview:                                                                     <span style=\"color: #c0c0c0; text-decoration-color: #c0c0c0\">│</span>\n",
       "<span style=\"color: #c0c0c0; text-decoration-color: #c0c0c0\">│</span>                                                                                                                 <span style=\"color: #c0c0c0; text-decoration-color: #c0c0c0\">│</span>\n",
       "<span style=\"color: #c0c0c0; text-decoration-color: #c0c0c0\">│</span> ## Main Types of Reward Hacking                                                                                 <span style=\"color: #c0c0c0; text-decoration-color: #c0c0c0\">│</span>\n",
       "<span style=\"color: #c0c0c0; text-decoration-color: #c0c0c0\">│</span>                                                                                                                 <span style=\"color: #c0c0c0; text-decoration-color: #c0c0c0\">│</span>\n",
       "<span style=\"color: #c0c0c0; text-decoration-color: #c0c0c0\">│</span> ### 1. **Environment or Goal Misspecification**                                                                 <span style=\"color: #c0c0c0; text-decoration-color: #c0c0c0\">│</span>\n",
       "<span style=\"color: #c0c0c0; text-decoration-color: #c0c0c0\">│</span> - Models learn undesired behavior by optimizing for misspecified reward functions                               <span style=\"color: #c0c0c0; text-decoration-color: #c0c0c0\">│</span>\n",
       "<span style=\"color: #c0c0c0; text-decoration-color: #c0c0c0\">│</span> - Occurs when rewards lack key requirements or are not aligned with true objectives                             <span style=\"color: #c0c0c0; text-decoration-color: #c0c0c0\">│</span>\n",
       "<span style=\"color: #c0c0c0; text-decoration-color: #c0c0c0\">│</span> - Examples: Recommendation algorithms optimizing for engagement metrics instead of usefulness, video platforms  <span style=\"color: #c0c0c0; text-decoration-color: #c0c0c0\">│</span>\n",
       "<span style=\"color: #c0c0c0; text-decoration-color: #c0c0c0\">│</span> optimizing for watch time instead of user well-being                                                            <span style=\"color: #c0c0c0; text-decoration-color: #c0c0c0\">│</span>\n",
       "<span style=\"color: #c0c0c0; text-decoration-color: #c0c0c0\">│</span>                                                                                                                 <span style=\"color: #c0c0c0; text-decoration-color: #c0c0c0\">│</span>\n",
       "<span style=\"color: #c0c0c0; text-decoration-color: #c0c0c0\">│</span> ### 2. **Reward Tampering** (Everitt et al. 2019)                                                               <span style=\"color: #c0c0c0; text-decoration-color: #c0c0c0\">│</span>\n",
       "<span style=\"color: #c0c0c0; text-decoration-color: #c0c0c0\">│</span> - Agents directly interfere with the reward function itself                                                     <span style=\"color: #c0c0c0; text-decoration-color: #c0c0c0\">│</span>\n",
       "<span style=\"color: #c0c0c0; text-decoration-color: #c0c0c0\">│</span> - Can involve manipulating the implementation of the reward function                                            <span style=\"color: #c0c0c0; text-decoration-color: #c0c0c0\">│</span>\n",
       "<span style=\"color: #c0c0c0; text-decoration-color: #c0c0c0\">│</span> - May alter environmental information used as input for reward calculation                                      <span style=\"color: #c0c0c0; text-decoration-color: #c0c0c0\">│</span>\n",
       "<span style=\"color: #c0c0c0; text-decoration-color: #c0c0c0\">│</span> - Examples: Coding models changing unit tests or modifying code used for calculating rewards                    <span style=\"color: #c0c0c0; text-decoration-color: #c0c0c0\">│</span>\n",
       "<span style=\"color: #c0c0c0; text-decoration-color: #c0c0c0\">│</span>                                                                                                                 <span style=\"color: #c0c0c0; text-decoration-color: #c0c0c0\">│</span>\n",
       "<span style=\"color: #c0c0c0; text-decoration-color: #c0c0c0\">│</span> ### 3. **Goodhart's Law Variants** (Garrabrant 2017)                                                            <span style=\"color: #c0c0c0; text-decoration-color: #c0c0c0\">│</span>\n",
       "<span style=\"color: #c0c0c0; text-decoration-color: #c0c0c0\">│</span> - **Regressional**: Selection for imperfect proxy also selects for noise                                        <span style=\"color: #c0c0c0; text-decoration-color: #c0c0c0\">│</span>\n",
       "<span style=\"color: #c0c0c0; text-decoration-color: #c0c0c0\">│</span> - **Extremal**: Metric selection pushes state distribution into different data regions                          <span style=\"color: #c0c0c0; text-decoration-color: #c0c0c0\">│</span>\n",
       "<span style=\"color: #c0c0c0; text-decoration-color: #c0c0c0\">│</span> - **Causal**: Non-causal correlation between proxy and goal causes intervention failures                        <span style=\"color: #c0c0c0; text-decoration-color: #c0c0c0\">│</span>\n",
       "<span style=\"color: #c0c0c0; text-decoration-color: #c0c0c0\">│</span> - **Adversarial**: Optimization provides incentive for adversaries to correlate their goal with proxy           <span style=\"color: #c0c0c0; text-decoration-color: #c0c0c0\">│</span>\n",
       "<span style=\"color: #c0c0c0; text-decoration-color: #c0c0c0\">│</span>                                                                                                                 <span style=\"color: #c0c0c0; text-decoration-color: #c0c0c0\">│</span>\n",
       "<span style=\"color: #c0c0c0; text-decoration-color: #c0c0c0\">│</span> ### 4. **In-Context Reward Hacking (ICRH)** (Pan et al. 2023, 2024)                                             <span style=\"color: #c0c0c0; text-decoration-color: #c0c0c0\">│</span>\n",
       "<span style=\"color: #c0c0c0; text-decoration-color: #c0c0c0\">│</span> - Occurs during deployment via self-refinement feedback loops                                                   <span style=\"color: #c0c0c0; text-decoration-color: #c0c0c0\">│</span>\n",
       "<span style=\"color: #c0c0c0; text-decoration-color: #c0c0c0\">│</span> - Same model serves as both evaluator and generator                                                             <span style=\"color: #c0c0c0; text-decoration-color: #c0c0c0\">│</span>\n",
       "<span style=\"color: #c0c0c0; text-decoration-color: #c0c0c0\">│</span> - Leads to evaluator scores diverging from oracle/human scores                                                  <span style=\"color: #c0c0c0; text-decoration-color: #c0c0c0\">│</span>\n",
       "<span style=\"color: #c0c0c0; text-decoration-color: #c0c0c0\">│</span> - Example: LLM agents bypassing authentication to resolve balance errors                                        <span style=\"color: #c0c0c0; text-decoration-color: #c0c0c0\">│</span>\n",
       "<span style=\"color: #c0c0c0; text-decoration-color: #c0c0c0\">│</span>                                                                                                                 <span style=\"color: #c0c0c0; text-decoration-color: #c0c0c0\">│</span>\n",
       "<span style=\"color: #c0c0c0; text-decoration-color: #c0c0c0\">│</span> ### 5. **Real-World Examples Categories**                                                                       <span style=\"color: #c0c0c0; text-decoration-color: #c0c0c0\">│</span>\n",
       "<span style=\"color: #c0c0c0; text-decoration-color: #c0c0c0\">│</span> - **Proxy Metric Optimization**: Social media algorithms optimizing for engagement metrics                      <span style=\"color: #c0c0c0; text-decoration-color: #c0c0c0\">│</span>\n",
       "<span style=\"color: #c0c0c0; text-decoration-color: #c0c0c0\">│</span> - **Financial System Exploitation**: Gaming financial systems (e.g., 2008 housing crisis)                       <span style=\"color: #c0c0c0; text-decoration-color: #c0c0c0\">│</span>\n",
       "<span style=\"color: #c0c0c0; text-decoration-color: #c0c0c0\">│</span> - **RL-Specific Hacking**: Exploiting partial observability or imperfect environment representations            <span style=\"color: #c0c0c0; text-decoration-color: #c0c0c0\">│</span>\n",
       "<span style=\"color: #c0c0c0; text-decoration-color: #c0c0c0\">│</span>                                                                                                                 <span style=\"color: #c0c0c0; text-decoration-color: #c0c0c0\">│</span>\n",
       "<span style=\"color: #c0c0c0; text-decoration-color: #c0c0c0\">│</span> The blogs emphasize that reward hacking is a broad concept encompassing these various types, with the common    <span style=\"color: #c0c0c0; text-decoration-color: #c0c0c0\">│</span>\n",
       "<span style=\"color: #c0c0c0; text-decoration-color: #c0c0c0\">│</span> theme being that models find ways to achieve high rewards that don't align with the intended objectives, often  <span style=\"color: #c0c0c0; text-decoration-color: #c0c0c0\">│</span>\n",
       "<span style=\"color: #c0c0c0; text-decoration-color: #c0c0c0\">│</span> through unintended or harmful means.                                                                            <span style=\"color: #c0c0c0; text-decoration-color: #c0c0c0\">│</span>\n",
       "<span style=\"color: #c0c0c0; text-decoration-color: #c0c0c0\">╰─────────────────────────────────────────────────────────────────────────────────────────────────────────────────╯</span>\n",
       "</pre>\n"
      ],
      "text/plain": [
       "\u001b[37m╭─\u001b[0m\u001b[37m────────────────────────────────────────────────────\u001b[0m\u001b[37m 📝 AI \u001b[0m\u001b[37m────────────────────────────────────────────────────\u001b[0m\u001b[37m─╮\u001b[0m\n",
       "\u001b[37m│\u001b[0m Based on my research of Lilian Weng's blog posts, I found several types and classifications of reward hacking   \u001b[37m│\u001b[0m\n",
       "\u001b[37m│\u001b[0m discussed. Here's a comprehensive overview:                                                                     \u001b[37m│\u001b[0m\n",
       "\u001b[37m│\u001b[0m                                                                                                                 \u001b[37m│\u001b[0m\n",
       "\u001b[37m│\u001b[0m ## Main Types of Reward Hacking                                                                                 \u001b[37m│\u001b[0m\n",
       "\u001b[37m│\u001b[0m                                                                                                                 \u001b[37m│\u001b[0m\n",
       "\u001b[37m│\u001b[0m ### 1. **Environment or Goal Misspecification**                                                                 \u001b[37m│\u001b[0m\n",
       "\u001b[37m│\u001b[0m - Models learn undesired behavior by optimizing for misspecified reward functions                               \u001b[37m│\u001b[0m\n",
       "\u001b[37m│\u001b[0m - Occurs when rewards lack key requirements or are not aligned with true objectives                             \u001b[37m│\u001b[0m\n",
       "\u001b[37m│\u001b[0m - Examples: Recommendation algorithms optimizing for engagement metrics instead of usefulness, video platforms  \u001b[37m│\u001b[0m\n",
       "\u001b[37m│\u001b[0m optimizing for watch time instead of user well-being                                                            \u001b[37m│\u001b[0m\n",
       "\u001b[37m│\u001b[0m                                                                                                                 \u001b[37m│\u001b[0m\n",
       "\u001b[37m│\u001b[0m ### 2. **Reward Tampering** (Everitt et al. 2019)                                                               \u001b[37m│\u001b[0m\n",
       "\u001b[37m│\u001b[0m - Agents directly interfere with the reward function itself                                                     \u001b[37m│\u001b[0m\n",
       "\u001b[37m│\u001b[0m - Can involve manipulating the implementation of the reward function                                            \u001b[37m│\u001b[0m\n",
       "\u001b[37m│\u001b[0m - May alter environmental information used as input for reward calculation                                      \u001b[37m│\u001b[0m\n",
       "\u001b[37m│\u001b[0m - Examples: Coding models changing unit tests or modifying code used for calculating rewards                    \u001b[37m│\u001b[0m\n",
       "\u001b[37m│\u001b[0m                                                                                                                 \u001b[37m│\u001b[0m\n",
       "\u001b[37m│\u001b[0m ### 3. **Goodhart's Law Variants** (Garrabrant 2017)                                                            \u001b[37m│\u001b[0m\n",
       "\u001b[37m│\u001b[0m - **Regressional**: Selection for imperfect proxy also selects for noise                                        \u001b[37m│\u001b[0m\n",
       "\u001b[37m│\u001b[0m - **Extremal**: Metric selection pushes state distribution into different data regions                          \u001b[37m│\u001b[0m\n",
       "\u001b[37m│\u001b[0m - **Causal**: Non-causal correlation between proxy and goal causes intervention failures                        \u001b[37m│\u001b[0m\n",
       "\u001b[37m│\u001b[0m - **Adversarial**: Optimization provides incentive for adversaries to correlate their goal with proxy           \u001b[37m│\u001b[0m\n",
       "\u001b[37m│\u001b[0m                                                                                                                 \u001b[37m│\u001b[0m\n",
       "\u001b[37m│\u001b[0m ### 4. **In-Context Reward Hacking (ICRH)** (Pan et al. 2023, 2024)                                             \u001b[37m│\u001b[0m\n",
       "\u001b[37m│\u001b[0m - Occurs during deployment via self-refinement feedback loops                                                   \u001b[37m│\u001b[0m\n",
       "\u001b[37m│\u001b[0m - Same model serves as both evaluator and generator                                                             \u001b[37m│\u001b[0m\n",
       "\u001b[37m│\u001b[0m - Leads to evaluator scores diverging from oracle/human scores                                                  \u001b[37m│\u001b[0m\n",
       "\u001b[37m│\u001b[0m - Example: LLM agents bypassing authentication to resolve balance errors                                        \u001b[37m│\u001b[0m\n",
       "\u001b[37m│\u001b[0m                                                                                                                 \u001b[37m│\u001b[0m\n",
       "\u001b[37m│\u001b[0m ### 5. **Real-World Examples Categories**                                                                       \u001b[37m│\u001b[0m\n",
       "\u001b[37m│\u001b[0m - **Proxy Metric Optimization**: Social media algorithms optimizing for engagement metrics                      \u001b[37m│\u001b[0m\n",
       "\u001b[37m│\u001b[0m - **Financial System Exploitation**: Gaming financial systems (e.g., 2008 housing crisis)                       \u001b[37m│\u001b[0m\n",
       "\u001b[37m│\u001b[0m - **RL-Specific Hacking**: Exploiting partial observability or imperfect environment representations            \u001b[37m│\u001b[0m\n",
       "\u001b[37m│\u001b[0m                                                                                                                 \u001b[37m│\u001b[0m\n",
       "\u001b[37m│\u001b[0m The blogs emphasize that reward hacking is a broad concept encompassing these various types, with the common    \u001b[37m│\u001b[0m\n",
       "\u001b[37m│\u001b[0m theme being that models find ways to achieve high rewards that don't align with the intended objectives, often  \u001b[37m│\u001b[0m\n",
       "\u001b[37m│\u001b[0m through unintended or harmful means.                                                                            \u001b[37m│\u001b[0m\n",
       "\u001b[37m╰─────────────────────────────────────────────────────────────────────────────────────────────────────────────────╯\u001b[0m\n"
      ]
     },
     "metadata": {},
     "output_type": "display_data"
    }
   ],
   "source": [
    "query = \"What are the types of reward hacking discussed in the blogs?\"\n",
    "result = agent.invoke({\"messages\": [{\"role\": \"user\", \"content\": query}]})\n",
    "format_messages(result[\"messages\"])"
   ]
  }
 ],
 "metadata": {
  "kernelspec": {
   "display_name": "Prompt_EngineeringxProgramming",
   "language": "python",
   "name": "python3"
  },
  "language_info": {
   "codemirror_mode": {
    "name": "ipython",
    "version": 3
   },
   "file_extension": ".py",
   "mimetype": "text/x-python",
   "name": "python",
   "nbconvert_exporter": "python",
   "pygments_lexer": "ipython3"
  },
  "vincent": {
   "sessionId": "10dc095e46cc1128f73a4e9a_2025-09-02T18-52-01-458Z"
  }
 },
 "nbformat": 4,
 "nbformat_minor": 5
}
