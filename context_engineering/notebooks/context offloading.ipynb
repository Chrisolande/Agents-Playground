{
 "cells": [
  {
   "cell_type": "code",
   "id": "initial_id",
   "metadata": {
    "collapsed": true,
    "ExecuteTime": {
     "end_time": "2025-08-13T12:44:14.899809Z",
     "start_time": "2025-08-13T12:44:14.884483Z"
    }
   },
   "source": [
    "from IPython.display import Image, display\n",
    "from dotenv import load_dotenv\n",
    "from langchain.tools import tool\n",
    "from langchain_core.messages import HumanMessage\n",
    "from langchain_core.messages import ToolMessage, SystemMessage\n",
    "from langchain_huggingface import HuggingFaceEmbeddings\n",
    "from langchain_openai import ChatOpenAI\n",
    "from langchain_tavily import TavilySearch\n",
    "from langgraph.checkpoint.memory import InMemorySaver\n",
    "from langgraph.graph import MessagesState, StateGraph, END\n",
    "from langgraph.prebuilt import tools_condition\n",
    "# Import organization: Additional components for persistent memory\n",
    "from langgraph.store.base import BaseStore\n",
    "from pydantic import BaseModel, Field\n",
    "from rich.console import Console\n",
    "from rich.markdown import Markdown\n",
    "from rich.pretty import pprint\n",
    "\n",
    "load_dotenv()"
   ],
   "outputs": [
    {
     "data": {
      "text/plain": [
       "True"
      ]
     },
     "execution_count": 15,
     "metadata": {},
     "output_type": "execute_result"
    }
   ],
   "execution_count": 15
  },
  {
   "metadata": {
    "ExecuteTime": {
     "end_time": "2025-08-13T12:44:20.159417Z",
     "start_time": "2025-08-13T12:44:14.970009Z"
    }
   },
   "cell_type": "code",
   "source": [
    "llm = ChatOpenAI(model=\"deepseek-chat\", temperature=1.3)\n",
    "embeddings = HuggingFaceEmbeddings(model_name=\"sentence-transformers/all-MiniLM-L6-v2\",\n",
    "                                   model_kwargs={\"local_files_only\": True, \"device\": \"cpu\"})"
   ],
   "id": "50a854b9bc0bbf9d",
   "outputs": [],
   "execution_count": 16
  },
  {
   "metadata": {
    "ExecuteTime": {
     "end_time": "2025-08-13T12:44:20.271656Z",
     "start_time": "2025-08-13T12:44:20.213991Z"
    }
   },
   "cell_type": "code",
   "source": [
    "class ScratchpadState(MessagesState):\n",
    "    scratchpad: str = Field(description=\"The scratchpad for storing notes\")\n",
    "\n",
    "\n",
    "@tool\n",
    "class WriteToScratchpad(BaseModel):\n",
    "    notes: str = Field(description=\"Notes to save to the scratchpad\")\n",
    "\n",
    "\n",
    "@tool\n",
    "class ReadFromScratchpad(BaseModel):\n",
    "    reasoning: str = Field(description=\"Reasoning for reading from the scratchpad\")\n",
    "\n",
    "\n",
    "search_tool = TavilySearch(\n",
    "        max_results=3, topic=\"general\"\n",
    ")\n",
    "\n",
    "tools = [ReadFromScratchpad, WriteToScratchpad, search_tool]\n",
    "\n",
    "tool_by_name = {tool.name: tool for tool in tools}\n",
    "llm_with_tools = llm.bind_tools(tools)\n",
    "\n",
    "scratchpad_prompt = \"\"\"You are an advanced research assistant equipped with web search capabilities and a persistent scratchpad system for systematic knowledge management.\n",
    "\n",
    "## Core Research Methodology:\n",
    "\n",
    "### Phase 1: Foundation & Planning\n",
    "- **Scratchpad Review**: Begin by examining your scratchpad for existing relevant research, insights, or partial work that could inform your current task\n",
    "- **Context Assessment**: Evaluate what you already know versus what needs to be discovered\n",
    "- **Strategic Planning**: Develop a comprehensive, structured research plan with clear objectives, key questions, and search strategies\n",
    "- **Documentation**: Record your research plan, hypotheses, and initial thoughts in the scratchpad\n",
    "\n",
    "### Phase 2: Active Research & Discovery\n",
    "- **Targeted Searching**: Execute systematic web searches aligned with your research plan\n",
    "- **Real-time Documentation**: After each search, immediately update your scratchpad with:\n",
    "  - New findings and data points\n",
    "  - Source credibility assessments\n",
    "  - Connections to previous research\n",
    "  - Emerging patterns or contradictions\n",
    "  - Gaps that require further investigation\n",
    "\n",
    "### Phase 3: Analysis & Synthesis\n",
    "- **Cross-referencing**: Compare findings across sources and previous research\n",
    "- **Critical Evaluation**: Assess information quality, bias, and reliability\n",
    "- **Pattern Recognition**: Identify trends, relationships, and insights\n",
    "- **Continuous Updates**: Refine your understanding and update scratchpad accordingly\n",
    "\n",
    "### Phase 4: Iteration & Refinement\n",
    "- **Gap Analysis**: Identify remaining questions or weak evidence\n",
    "- **Follow-up Research**: Conduct additional targeted searches as needed\n",
    "- **Knowledge Integration**: Synthesize new information with existing research\n",
    "- **Quality Assurance**: Verify key facts and resolve contradictions\n",
    "\n",
    "### Phase 5: Completion & Delivery\n",
    "- **Comprehensive Response**: Provide thorough, well-supported answers based on accumulated research\n",
    "- **Source Documentation**: Include proper attribution and evidence\n",
    "- **Future-Ready Notes**: Ensure scratchpad contains organized, reusable research for potential follow-up questions\n",
    "\n",
    "## Available Research Tools:\n",
    "- **WriteToScratchpad**: Persistent storage for research plans, findings, insights, and progress tracking\n",
    "- **ReadFromScratchpad**: Retrieval of previous research work, notes, and accumulated knowledge\n",
    "- **TavilySearch**: Web search for current information, data, and diverse perspectives\n",
    "\n",
    "## Quality Standards:\n",
    "- Maintain organized, chronological notes with clear categorization\n",
    "- Build systematically upon previous research rather than starting from scratch\n",
    "- Prioritize accuracy, comprehensiveness, and critical analysis\n",
    "- Document both confirmatory and contradictory evidence\n",
    "- Create a knowledge base that supports both immediate needs and future research\n",
    "\n",
    "Your scratchpad is your research memory - use it strategically to become more effective with each interaction.\"\"\"\n",
    "\n",
    "\n",
    "def llm_call(state: ScratchpadState) -> dict:\n",
    "    return {\n",
    "        \"messages\": [\n",
    "            llm_with_tools.invoke(\n",
    "                    [SystemMessage(content=scratchpad_prompt)] + state[\"messages\"]\n",
    "            )\n",
    "        ]\n",
    "    }\n",
    "\n",
    "\n",
    "def tool_node(state: ScratchpadState) -> dict:\n",
    "    result = []\n",
    "    for tool_call in state[\"messages\"][-1].tool_calls:\n",
    "        tool = tool_by_name[tool_call[\"name\"]]\n",
    "        observation = tool.invoke(tool_call[\"args\"])\n",
    "\n",
    "        if tool_call[\"name\"] == \"WriteToScratchpad\":\n",
    "            notes = observation.notes\n",
    "            result.append(ToolMessage(content=f\"Wrote to scratchpad: {notes}\", tool_call_id=tool_call[\"id\"]))\n",
    "            update = {\"messages\": result, \"scratchpad\": notes}\n",
    "\n",
    "        elif tool_call[\"name\"] == \"ReadFromScratchpad\":\n",
    "            # Retrieve notes from the scratchpad\n",
    "            notes = state.get(\"scratchpad\", \"\")\n",
    "            result.append(ToolMessage(content=f\"Notes from scratchpad: {notes}\", tool_call_id=tool_call[\"id\"]))\n",
    "            update = {\"messages\": result}\n",
    "\n",
    "        elif tool_call[\"name\"] == \"tavily_search\":\n",
    "            # Write search tool observation to messages\n",
    "            result.append(ToolMessage(content=observation, tool_call_id=tool_call[\"id\"]))\n",
    "            update = {\"messages\": result}\n",
    "    return update\n",
    "\n"
   ],
   "id": "cc52ef787af4b6cb",
   "outputs": [],
   "execution_count": 17
  },
  {
   "metadata": {
    "ExecuteTime": {
     "end_time": "2025-08-13T12:44:20.795716Z",
     "start_time": "2025-08-13T12:44:20.283407Z"
    }
   },
   "cell_type": "code",
   "source": [
    "agent_builder = StateGraph(ScratchpadState)\n",
    "\n",
    "agent_builder.add_node(\"llm_call\", llm_call)\n",
    "agent_builder.add_node(\"tools\", tool_node)\n",
    "agent_builder.set_entry_point(\"llm_call\")\n",
    "agent_builder.add_edge(\"tools\", \"llm_call\")\n",
    "agent_builder.add_conditional_edges(\"llm_call\", tools_condition, {\n",
    "    \"tools\": \"tools\",\n",
    "    END: END\n",
    "})\n",
    "\n",
    "agent = agent_builder.compile()\n",
    "# Display the workflow graph\n",
    "display(Image(agent.get_graph(xray=True).draw_mermaid_png()))"
   ],
   "id": "947b2e955a6c34e6",
   "outputs": [
    {
     "data": {
      "image/png": "[encoded data removed]",
      "text/plain": [
       "<IPython.core.display.Image object>"
      ]
     },
     "metadata": {},
     "output_type": "display_data"
    }
   ],
   "execution_count": 18
  },
  {
   "metadata": {
    "ExecuteTime": {
     "end_time": "2025-08-13T12:45:52.641398Z",
     "start_time": "2025-08-13T12:44:20.829381Z"
    }
   },
   "cell_type": "code",
   "source": [
    "# Research request\n",
    "\n",
    "\n",
    "query = \"Compare the funding rounds and recent developments of Commonwealth Fusion Systems vs Helion Energy.\"\n",
    "\n",
    "state = agent.invoke({\"messages\": [HumanMessage(content=query)]})\n",
    "\n",
    "from utils import format_messages\n",
    "\n",
    "format_messages(state['messages'])"
   ],
   "id": "743703e440a47e5e",
   "outputs": [
    {
     "data": {
      "text/plain": [
       "\u001B[34m╭─\u001B[0m\u001B[34m──────────────────────────────────────────────────\u001B[0m\u001B[34m 🧑 Human \u001B[0m\u001B[34m───────────────────────────────────────────────────\u001B[0m\u001B[34m─╮\u001B[0m\n",
       "\u001B[34m│\u001B[0m Compare the funding rounds and recent developments of Commonwealth Fusion Systems vs Helion Energy.             \u001B[34m│\u001B[0m\n",
       "\u001B[34m╰─────────────────────────────────────────────────────────────────────────────────────────────────────────────────╯\u001B[0m\n"
      ],
      "text/html": [
       "<pre style=\"white-space:pre;overflow-x:auto;line-height:normal;font-family:Menlo,'DejaVu Sans Mono',consolas,'Courier New',monospace\"><span style=\"color: #000080; text-decoration-color: #000080\">╭─────────────────────────────────────────────────── 🧑 Human ────────────────────────────────────────────────────╮</span>\n",
       "<span style=\"color: #000080; text-decoration-color: #000080\">│</span> Compare the funding rounds and recent developments of Commonwealth Fusion Systems vs Helion Energy.             <span style=\"color: #000080; text-decoration-color: #000080\">│</span>\n",
       "<span style=\"color: #000080; text-decoration-color: #000080\">╰─────────────────────────────────────────────────────────────────────────────────────────────────────────────────╯</span>\n",
       "</pre>\n"
      ]
     },
     "metadata": {},
     "output_type": "display_data"
    },
    {
     "data": {
      "text/plain": [
       "\u001B[37m╭─\u001B[0m\u001B[37m────────────────────────────────────────────────────\u001B[0m\u001B[37m 📝 AI \u001B[0m\u001B[37m────────────────────────────────────────────────────\u001B[0m\u001B[37m─╮\u001B[0m\n",
       "\u001B[37m│\u001B[0m                                                                                                                 \u001B[37m│\u001B[0m\n",
       "\u001B[37m╰─────────────────────────────────────────────────────────────────────────────────────────────────────────────────╯\u001B[0m\n"
      ],
      "text/html": [
       "<pre style=\"white-space:pre;overflow-x:auto;line-height:normal;font-family:Menlo,'DejaVu Sans Mono',consolas,'Courier New',monospace\"><span style=\"color: #c0c0c0; text-decoration-color: #c0c0c0\">╭───────────────────────────────────────────────────── 📝 AI ─────────────────────────────────────────────────────╮</span>\n",
       "<span style=\"color: #c0c0c0; text-decoration-color: #c0c0c0\">│</span>                                                                                                                 <span style=\"color: #c0c0c0; text-decoration-color: #c0c0c0\">│</span>\n",
       "<span style=\"color: #c0c0c0; text-decoration-color: #c0c0c0\">╰─────────────────────────────────────────────────────────────────────────────────────────────────────────────────╯</span>\n",
       "</pre>\n"
      ]
     },
     "metadata": {},
     "output_type": "display_data"
    },
    {
     "data": {
      "text/plain": [
       "\u001B[33m╭─\u001B[0m\u001B[33m───────────────────────────────────────────────\u001B[0m\u001B[33m 🔧 Tool Output \u001B[0m\u001B[33m────────────────────────────────────────────────\u001B[0m\u001B[33m─╮\u001B[0m\n",
       "\u001B[33m│\u001B[0m {'query': 'Commonwealth Fusion Systems funding rounds', 'follow_up_questions': None, 'answer': None, 'images':  \u001B[33m│\u001B[0m\n",
       "\u001B[33m│\u001B[0m [], 'results': [{'url': 'https://forgeglobal.com/commonwealth-fusion_ipo/', 'title': 'Commonwealth Fusion IPO - \u001B[33m│\u001B[0m\n",
       "\u001B[33m│\u001B[0m Forge Global', 'content': 'Commonwealth Fusion Systems is an energy research company that uses fusion energy    \u001B[33m│\u001B[0m\n",
       "\u001B[33m│\u001B[0m and physics to create clean energy that will reverse the impact of climate change. Per Forge data, Commonwealth \u001B[33m│\u001B[0m\n",
       "\u001B[33m│\u001B[0m Fusion raised $2B billion in funding over 5 rounds. Their latest funding was raised on May 31, 2023. Key        \u001B[33m│\u001B[0m\n",
       "\u001B[33m│\u001B[0m investors include Temasek Holdings, the U.S. Department of Energy, Tiger Global Management, and Breakthrough    \u001B[33m│\u001B[0m\n",
       "\u001B[33m│\u001B[0m Energy Ventures. [...] The funding to date for Commonwealth Fusion is not currently available.\\n\\nCommonwealth  \u001B[33m│\u001B[0m\n",
       "\u001B[33m│\u001B[0m Fusion major investors\\n\\nSand Hill Angels\\n\\nSchooner Capital\\n\\nSenator Investment Group\\n\\nSoros Fund        \u001B[33m│\u001B[0m\n",
       "\u001B[33m│\u001B[0m Management\\n\\nStarbridge Venture Capital\\n\\nStarlight Ventures\\n\\nTemasek Holdings\\n\\nThe Engine\\n\\nTiger       \u001B[33m│\u001B[0m\n",
       "\u001B[33m│\u001B[0m Global Management\\n\\nTime Ventures\\n\\nShow All InvestorsShow Fewer Investors\\n\\n## Commonwealth Fusion funding  \u001B[33m│\u001B[0m\n",
       "\u001B[33m│\u001B[0m rounds and valuation\\n\\nFunding history chart\\n\\nFunding History is not available for this company. [...] |  |  \u001B[33m│\u001B[0m\n",
       "\u001B[33m│\u001B[0m | | | | Last Funding Round | | | |\\n| --- | --- | --- | --- | --- | --- | --- | --- | --- |\\n| Company | |      \u001B[33m│\u001B[0m\n",
       "\u001B[33m│\u001B[0m Forge Price | Forge Price Change 5 | Last Closed Trade | Share Class | Post-Money Valuation | Price per Share | \u001B[33m│\u001B[0m\n",
       "\u001B[33m│\u001B[0m Amount Raised |\\n|  | OpenAI | $469.47 | -0.01% | $xx.xx | Funding Round | -- | -- | -- |\\n|  | Anduril |       \u001B[33m│\u001B[0m\n",
       "\u001B[33m│\u001B[0m $40.88 | -3.86% | $xx.xx | Series G | $30.5B | $xx.xx | $2.5B |\\n|  | Figma | $38.00 | +0.03% | $xx.xx | Series \u001B[33m│\u001B[0m\n",
       "\u001B[33m│\u001B[0m E | $10B | $xx.xx | $200MM |', 'score': 0.93511593, 'raw_content': None}, {'url':                               \u001B[33m│\u001B[0m\n",
       "\u001B[33m│\u001B[0m 'https://www.prnewswire.com/news-releases/commonwealth-fusion-systems-raises-1-8-billion-in-funding-to-commerci \u001B[33m│\u001B[0m\n",
       "\u001B[33m│\u001B[0m alize-fusion-energy-301434560.html', 'title': 'Commonwealth Fusion Systems Raises $1.8 Billion in ...',         \u001B[33m│\u001B[0m\n",
       "\u001B[33m│\u001B[0m 'content': \"CAMBRIDGE, Mass., Dec. 1, 2021 /PRNewswire/ -- Commonwealth Fusion Systems (CFS) announced it has   \u001B[33m│\u001B[0m\n",
       "\u001B[33m│\u001B[0m closed on more than $1.8 billion in Series B funding to commercialize fusion energy. This includes capital to   \u001B[33m│\u001B[0m\n",
       "\u001B[33m│\u001B[0m construct, commission, and operate SPARC, the world's first commercially relevant net energy fusion machine. In \u001B[33m│\u001B[0m\n",
       "\u001B[33m│\u001B[0m addition, it will enable the company to begin work on ARC, the first commercial fusion power plant, which       \u001B[33m│\u001B[0m\n",
       "\u001B[33m│\u001B[0m includes developing support technologies, advancing the design, [...] ## Sports Overview\\n\\n## View All         \u001B[33m│\u001B[0m\n",
       "\u001B[33m│\u001B[0m Sports\\n\\n## Travel\\n\\n## Travel Overview\\n\\n## View All Travel\\n\\n## Policy & Public Interest\\n\\n## Policy &   \u001B[33m│\u001B[0m\n",
       "\u001B[33m│\u001B[0m Public Interest Overview\\n\\n## View All Policy & Public Interest\\n\\n## People & Culture\\n\\n## People & Culture  \u001B[33m│\u001B[0m\n",
       "\u001B[33m│\u001B[0m Overview\\n\\n## View All People & Culture\\n\\nIn-Language News\\n\\nPR Newswire: news distribution, targeting and   \u001B[33m│\u001B[0m\n",
       "\u001B[33m│\u001B[0m monitoring\\n\\nContact Us\\n\\n888-776-0942\\n  \\nfrom 8 AM - 10 PM ET\\n\\n# Commonwealth Fusion Systems Raises $1.8 \u001B[33m│\u001B[0m\n",
       "\u001B[33m│\u001B[0m Billion in Funding to Commercialize Fusion Energy\", 'score': 0.8877607, 'raw_content': None}, {'url':           \u001B[33m│\u001B[0m\n",
       "\u001B[33m│\u001B[0m 'https://en.wikipedia.org/wiki/Commonwealth_Fusion_Systems', 'title': 'Commonwealth Fusion Systems -            \u001B[33m│\u001B[0m\n",
       "\u001B[33m│\u001B[0m Wikipedia', 'content': 'CFS was founded in 2018 as a spin-off from the MIT Plasma Science and Fusion Center.    \u001B[33m│\u001B[0m\n",
       "\u001B[33m│\u001B[0m After initial funding of $50 million in 2018 from the Italian multinational Eni, CFS closed its series A round  \u001B[33m│\u001B[0m\n",
       "\u001B[33m│\u001B[0m of venture capital funding in 2019 with a total of US$ 115 million in funding from Eni, Bill Gates\\'s           \u001B[33m│\u001B[0m\n",
       "\u001B[33m│\u001B[0m Breakthrough Energy Ventures, Vinod Khosla\\'s Khosla Ventures, and others. CFS raised an additional US$ 84      \u001B[33m│\u001B[0m\n",
       "\u001B[33m│\u001B[0m million in series A2 funding from Singapore\\'s Temasek, Norway\\'s Equinor, and Devonshire [...] In September    \u001B[33m│\u001B[0m\n",
       "\u001B[33m│\u001B[0m 2021, the company announced the demonstration of a high temperature superconducting magnet, able to generate    \u001B[33m│\u001B[0m\n",
       "\u001B[33m│\u001B[0m magnetic fields of 20\\u202fTesla. According to the New York Times, this was a successful test of \"the world\\'s  \u001B[33m│\u001B[0m\n",
       "\u001B[33m│\u001B[0m most powerful version of the type of magnet crucial to many fusion efforts\"\\n\\nIn November 2021, the company    \u001B[33m│\u001B[0m\n",
       "\u001B[33m│\u001B[0m raised an additional $1.8 billion in Series B funding to construct and operate the SPARC tokamak, funded by     \u001B[33m│\u001B[0m\n",
       "\u001B[33m│\u001B[0m Temasek Holdings, Google, Bill Gates and Eni. [...] In March 2023, Eni and CFS signed a multi-year agreement to \u001B[33m│\u001B[0m\n",
       "\u001B[33m│\u001B[0m collaborate in obtaining the components and authorizations necessary for the construction of the first SPARC    \u001B[33m│\u001B[0m\n",
       "\u001B[33m│\u001B[0m experimental plant, as well as the construction of the first Arc power plant and the identification of          \u001B[33m│\u001B[0m\n",
       "\u001B[33m│\u001B[0m countries that may be interested in hosting it.\\n\\nIn May 2023, United States Department of Energy granted the  \u001B[33m│\u001B[0m\n",
       "\u001B[33m│\u001B[0m company additional funding along with seven other US companies via the Milestone-Based Fusion Development       \u001B[33m│\u001B[0m\n",
       "\u001B[33m│\u001B[0m Program.', 'score': 0.8757978, 'raw_content': None}], 'response_time': 2.27}                                    \u001B[33m│\u001B[0m\n",
       "\u001B[33m╰─────────────────────────────────────────────────────────────────────────────────────────────────────────────────╯\u001B[0m\n"
      ],
      "text/html": [
       "<pre style=\"white-space:pre;overflow-x:auto;line-height:normal;font-family:Menlo,'DejaVu Sans Mono',consolas,'Courier New',monospace\"><span style=\"color: #808000; text-decoration-color: #808000\">╭──────────────────────────────────────────────── 🔧 Tool Output ─────────────────────────────────────────────────╮</span>\n",
       "<span style=\"color: #808000; text-decoration-color: #808000\">│</span> {'query': 'Commonwealth Fusion Systems funding rounds', 'follow_up_questions': None, 'answer': None, 'images':  <span style=\"color: #808000; text-decoration-color: #808000\">│</span>\n",
       "<span style=\"color: #808000; text-decoration-color: #808000\">│</span> [], 'results': [{'url': 'https://forgeglobal.com/commonwealth-fusion_ipo/', 'title': 'Commonwealth Fusion IPO - <span style=\"color: #808000; text-decoration-color: #808000\">│</span>\n",
       "<span style=\"color: #808000; text-decoration-color: #808000\">│</span> Forge Global', 'content': 'Commonwealth Fusion Systems is an energy research company that uses fusion energy    <span style=\"color: #808000; text-decoration-color: #808000\">│</span>\n",
       "<span style=\"color: #808000; text-decoration-color: #808000\">│</span> and physics to create clean energy that will reverse the impact of climate change. Per Forge data, Commonwealth <span style=\"color: #808000; text-decoration-color: #808000\">│</span>\n",
       "<span style=\"color: #808000; text-decoration-color: #808000\">│</span> Fusion raised $2B billion in funding over 5 rounds. Their latest funding was raised on May 31, 2023. Key        <span style=\"color: #808000; text-decoration-color: #808000\">│</span>\n",
       "<span style=\"color: #808000; text-decoration-color: #808000\">│</span> investors include Temasek Holdings, the U.S. Department of Energy, Tiger Global Management, and Breakthrough    <span style=\"color: #808000; text-decoration-color: #808000\">│</span>\n",
       "<span style=\"color: #808000; text-decoration-color: #808000\">│</span> Energy Ventures. [...] The funding to date for Commonwealth Fusion is not currently available.\\n\\nCommonwealth  <span style=\"color: #808000; text-decoration-color: #808000\">│</span>\n",
       "<span style=\"color: #808000; text-decoration-color: #808000\">│</span> Fusion major investors\\n\\nSand Hill Angels\\n\\nSchooner Capital\\n\\nSenator Investment Group\\n\\nSoros Fund        <span style=\"color: #808000; text-decoration-color: #808000\">│</span>\n",
       "<span style=\"color: #808000; text-decoration-color: #808000\">│</span> Management\\n\\nStarbridge Venture Capital\\n\\nStarlight Ventures\\n\\nTemasek Holdings\\n\\nThe Engine\\n\\nTiger       <span style=\"color: #808000; text-decoration-color: #808000\">│</span>\n",
       "<span style=\"color: #808000; text-decoration-color: #808000\">│</span> Global Management\\n\\nTime Ventures\\n\\nShow All InvestorsShow Fewer Investors\\n\\n## Commonwealth Fusion funding  <span style=\"color: #808000; text-decoration-color: #808000\">│</span>\n",
       "<span style=\"color: #808000; text-decoration-color: #808000\">│</span> rounds and valuation\\n\\nFunding history chart\\n\\nFunding History is not available for this company. [...] |  |  <span style=\"color: #808000; text-decoration-color: #808000\">│</span>\n",
       "<span style=\"color: #808000; text-decoration-color: #808000\">│</span> | | | | Last Funding Round | | | |\\n| --- | --- | --- | --- | --- | --- | --- | --- | --- |\\n| Company | |      <span style=\"color: #808000; text-decoration-color: #808000\">│</span>\n",
       "<span style=\"color: #808000; text-decoration-color: #808000\">│</span> Forge Price | Forge Price Change 5 | Last Closed Trade | Share Class | Post-Money Valuation | Price per Share | <span style=\"color: #808000; text-decoration-color: #808000\">│</span>\n",
       "<span style=\"color: #808000; text-decoration-color: #808000\">│</span> Amount Raised |\\n|  | OpenAI | $469.47 | -0.01% | $xx.xx | Funding Round | -- | -- | -- |\\n|  | Anduril |       <span style=\"color: #808000; text-decoration-color: #808000\">│</span>\n",
       "<span style=\"color: #808000; text-decoration-color: #808000\">│</span> $40.88 | -3.86% | $xx.xx | Series G | $30.5B | $xx.xx | $2.5B |\\n|  | Figma | $38.00 | +0.03% | $xx.xx | Series <span style=\"color: #808000; text-decoration-color: #808000\">│</span>\n",
       "<span style=\"color: #808000; text-decoration-color: #808000\">│</span> E | $10B | $xx.xx | $200MM |', 'score': 0.93511593, 'raw_content': None}, {'url':                               <span style=\"color: #808000; text-decoration-color: #808000\">│</span>\n",
       "<span style=\"color: #808000; text-decoration-color: #808000\">│</span> 'https://www.prnewswire.com/news-releases/commonwealth-fusion-systems-raises-1-8-billion-in-funding-to-commerci <span style=\"color: #808000; text-decoration-color: #808000\">│</span>\n",
       "<span style=\"color: #808000; text-decoration-color: #808000\">│</span> alize-fusion-energy-301434560.html', 'title': 'Commonwealth Fusion Systems Raises $1.8 Billion in ...',         <span style=\"color: #808000; text-decoration-color: #808000\">│</span>\n",
       "<span style=\"color: #808000; text-decoration-color: #808000\">│</span> 'content': \"CAMBRIDGE, Mass., Dec. 1, 2021 /PRNewswire/ -- Commonwealth Fusion Systems (CFS) announced it has   <span style=\"color: #808000; text-decoration-color: #808000\">│</span>\n",
       "<span style=\"color: #808000; text-decoration-color: #808000\">│</span> closed on more than $1.8 billion in Series B funding to commercialize fusion energy. This includes capital to   <span style=\"color: #808000; text-decoration-color: #808000\">│</span>\n",
       "<span style=\"color: #808000; text-decoration-color: #808000\">│</span> construct, commission, and operate SPARC, the world's first commercially relevant net energy fusion machine. In <span style=\"color: #808000; text-decoration-color: #808000\">│</span>\n",
       "<span style=\"color: #808000; text-decoration-color: #808000\">│</span> addition, it will enable the company to begin work on ARC, the first commercial fusion power plant, which       <span style=\"color: #808000; text-decoration-color: #808000\">│</span>\n",
       "<span style=\"color: #808000; text-decoration-color: #808000\">│</span> includes developing support technologies, advancing the design, [...] ## Sports Overview\\n\\n## View All         <span style=\"color: #808000; text-decoration-color: #808000\">│</span>\n",
       "<span style=\"color: #808000; text-decoration-color: #808000\">│</span> Sports\\n\\n## Travel\\n\\n## Travel Overview\\n\\n## View All Travel\\n\\n## Policy &amp; Public Interest\\n\\n## Policy &amp;   <span style=\"color: #808000; text-decoration-color: #808000\">│</span>\n",
       "<span style=\"color: #808000; text-decoration-color: #808000\">│</span> Public Interest Overview\\n\\n## View All Policy &amp; Public Interest\\n\\n## People &amp; Culture\\n\\n## People &amp; Culture  <span style=\"color: #808000; text-decoration-color: #808000\">│</span>\n",
       "<span style=\"color: #808000; text-decoration-color: #808000\">│</span> Overview\\n\\n## View All People &amp; Culture\\n\\nIn-Language News\\n\\nPR Newswire: news distribution, targeting and   <span style=\"color: #808000; text-decoration-color: #808000\">│</span>\n",
       "<span style=\"color: #808000; text-decoration-color: #808000\">│</span> monitoring\\n\\nContact Us\\n\\n888-776-0942\\n  \\nfrom 8 AM - 10 PM ET\\n\\n# Commonwealth Fusion Systems Raises $1.8 <span style=\"color: #808000; text-decoration-color: #808000\">│</span>\n",
       "<span style=\"color: #808000; text-decoration-color: #808000\">│</span> Billion in Funding to Commercialize Fusion Energy\", 'score': 0.8877607, 'raw_content': None}, {'url':           <span style=\"color: #808000; text-decoration-color: #808000\">│</span>\n",
       "<span style=\"color: #808000; text-decoration-color: #808000\">│</span> 'https://en.wikipedia.org/wiki/Commonwealth_Fusion_Systems', 'title': 'Commonwealth Fusion Systems -            <span style=\"color: #808000; text-decoration-color: #808000\">│</span>\n",
       "<span style=\"color: #808000; text-decoration-color: #808000\">│</span> Wikipedia', 'content': 'CFS was founded in 2018 as a spin-off from the MIT Plasma Science and Fusion Center.    <span style=\"color: #808000; text-decoration-color: #808000\">│</span>\n",
       "<span style=\"color: #808000; text-decoration-color: #808000\">│</span> After initial funding of $50 million in 2018 from the Italian multinational Eni, CFS closed its series A round  <span style=\"color: #808000; text-decoration-color: #808000\">│</span>\n",
       "<span style=\"color: #808000; text-decoration-color: #808000\">│</span> of venture capital funding in 2019 with a total of US$ 115 million in funding from Eni, Bill Gates\\'s           <span style=\"color: #808000; text-decoration-color: #808000\">│</span>\n",
       "<span style=\"color: #808000; text-decoration-color: #808000\">│</span> Breakthrough Energy Ventures, Vinod Khosla\\'s Khosla Ventures, and others. CFS raised an additional US$ 84      <span style=\"color: #808000; text-decoration-color: #808000\">│</span>\n",
       "<span style=\"color: #808000; text-decoration-color: #808000\">│</span> million in series A2 funding from Singapore\\'s Temasek, Norway\\'s Equinor, and Devonshire [...] In September    <span style=\"color: #808000; text-decoration-color: #808000\">│</span>\n",
       "<span style=\"color: #808000; text-decoration-color: #808000\">│</span> 2021, the company announced the demonstration of a high temperature superconducting magnet, able to generate    <span style=\"color: #808000; text-decoration-color: #808000\">│</span>\n",
       "<span style=\"color: #808000; text-decoration-color: #808000\">│</span> magnetic fields of 20\\u202fTesla. According to the New York Times, this was a successful test of \"the world\\'s  <span style=\"color: #808000; text-decoration-color: #808000\">│</span>\n",
       "<span style=\"color: #808000; text-decoration-color: #808000\">│</span> most powerful version of the type of magnet crucial to many fusion efforts\"\\n\\nIn November 2021, the company    <span style=\"color: #808000; text-decoration-color: #808000\">│</span>\n",
       "<span style=\"color: #808000; text-decoration-color: #808000\">│</span> raised an additional $1.8 billion in Series B funding to construct and operate the SPARC tokamak, funded by     <span style=\"color: #808000; text-decoration-color: #808000\">│</span>\n",
       "<span style=\"color: #808000; text-decoration-color: #808000\">│</span> Temasek Holdings, Google, Bill Gates and Eni. [...] In March 2023, Eni and CFS signed a multi-year agreement to <span style=\"color: #808000; text-decoration-color: #808000\">│</span>\n",
       "<span style=\"color: #808000; text-decoration-color: #808000\">│</span> collaborate in obtaining the components and authorizations necessary for the construction of the first SPARC    <span style=\"color: #808000; text-decoration-color: #808000\">│</span>\n",
       "<span style=\"color: #808000; text-decoration-color: #808000\">│</span> experimental plant, as well as the construction of the first Arc power plant and the identification of          <span style=\"color: #808000; text-decoration-color: #808000\">│</span>\n",
       "<span style=\"color: #808000; text-decoration-color: #808000\">│</span> countries that may be interested in hosting it.\\n\\nIn May 2023, United States Department of Energy granted the  <span style=\"color: #808000; text-decoration-color: #808000\">│</span>\n",
       "<span style=\"color: #808000; text-decoration-color: #808000\">│</span> company additional funding along with seven other US companies via the Milestone-Based Fusion Development       <span style=\"color: #808000; text-decoration-color: #808000\">│</span>\n",
       "<span style=\"color: #808000; text-decoration-color: #808000\">│</span> Program.', 'score': 0.8757978, 'raw_content': None}], 'response_time': 2.27}                                    <span style=\"color: #808000; text-decoration-color: #808000\">│</span>\n",
       "<span style=\"color: #808000; text-decoration-color: #808000\">╰─────────────────────────────────────────────────────────────────────────────────────────────────────────────────╯</span>\n",
       "</pre>\n"
      ]
     },
     "metadata": {},
     "output_type": "display_data"
    },
    {
     "data": {
      "text/plain": [
       "\u001B[33m╭─\u001B[0m\u001B[33m───────────────────────────────────────────────\u001B[0m\u001B[33m 🔧 Tool Output \u001B[0m\u001B[33m────────────────────────────────────────────────\u001B[0m\u001B[33m─╮\u001B[0m\n",
       "\u001B[33m│\u001B[0m {'query': 'Helion Energy funding rounds', 'follow_up_questions': None, 'answer': None, 'images': [], 'results': \u001B[33m│\u001B[0m\n",
       "\u001B[33m│\u001B[0m [{'url': 'https://tracxn.com/d/companies/helion/__fS6qGKScel2LE9EV85bGN9zjK8uhT4s_uRFQXu4k0M8', 'title':        \u001B[33m│\u001B[0m\n",
       "\u001B[33m│\u001B[0m 'Helion - 2025 Company Profile, Team, Funding & Competitors - Tracxn', 'content': \"Helion has raised a total    \u001B[33m│\u001B[0m\n",
       "\u001B[33m│\u001B[0m funding of$977M over 7 round s.Its first funding round was on Aug 16, 2011.Its latest funding round was a       \u001B[33m│\u001B[0m\n",
       "\u001B[33m│\u001B[0m Series F round on Jan 28, 2025 for $425M.6 investor s participated in its latest round,which                    \u001B[33m│\u001B[0m\n",
       "\u001B[33m│\u001B[0m includesDefense.gov, DOE, SoftBank Vision Fund and Mithril.\\n\\nHelion has 13 institutional investor s including \u001B[33m│\u001B[0m\n",
       "\u001B[33m│\u001B[0m Y Combinator, Mithril and Defense.gov.There are 4 Angel Investor s in Helion.\\n\\nHere is the list of recent     \u001B[33m│\u001B[0m\n",
       "\u001B[33m│\u001B[0m funding rounds of Helion: [...] Helion is a funded company, its first funding round was on Aug 16,              \u001B[33m│\u001B[0m\n",
       "\u001B[33m│\u001B[0m 2011.\\n\\nWhen was the latest funding round of Helion?\\n\\nHelion's latest funding round was on Jan 28,           \u001B[33m│\u001B[0m\n",
       "\u001B[33m│\u001B[0m 2025.\\n\\nWhere does Helion rank among its competitors?\\n\\nHelion ranks 2 amongst 37 active competitors.\\n\\nWhat \u001B[33m│\u001B[0m\n",
       "\u001B[33m│\u001B[0m does Helion do? [...] $977Min 7 rounds\\n\\nLatest Funding Round\\n\\nSeries F, Jan 28, 2025, $425M\\n\\nPost Money   \u001B[33m│\u001B[0m\n",
       "\u001B[33m│\u001B[0m Valuation\\n\\n$5.42Bas on Jan 28, 2025\\n\\nInvestors\\n\\nY Combinator&16 more\\n\\nRanked\\n\\n2 nd among37 active     \u001B[33m│\u001B[0m\n",
       "\u001B[33m│\u001B[0m competitors\\n\\nEmployee Count\\n\\n44as on Dec 31, 2022 \\n\\nSimilar Companies\\n\\nGeneral Fusion&8 more\\n\\nLegal   \u001B[33m│\u001B[0m\n",
       "\u001B[33m│\u001B[0m entities associated with Helion\\n-------------------------------------\\n\\nHelion is associated with 1 legal     \u001B[33m│\u001B[0m\n",
       "\u001B[33m│\u001B[0m entit y given below:\", 'score': 0.92857105, 'raw_content': None}, {'url':                                       \u001B[33m│\u001B[0m\n",
       "\u001B[33m│\u001B[0m 'https://www.helionenergy.com/articles/helion-announces-425m-series-f-investment-to-scale-commercialized-fusion \u001B[33m│\u001B[0m\n",
       "\u001B[33m│\u001B[0m -power/', 'title': 'Helion Announces $425M Series F Investment to Scale ...', 'content': 'EVERETT, Wash. –      \u001B[33m│\u001B[0m\n",
       "\u001B[33m│\u001B[0m January 28, 2025 – Helion, a fusion energy company, today announced a $425 million Series F investment round    \u001B[33m│\u001B[0m\n",
       "\u001B[33m│\u001B[0m that will be used to scale commercialization efforts for the company’s groundbreaking fusion technology. The    \u001B[33m│\u001B[0m\n",
       "\u001B[33m│\u001B[0m oversubscribed and upsized round had participation from new investors, including Lightspeed Venture Partners,   \u001B[33m│\u001B[0m\n",
       "\u001B[33m│\u001B[0m SoftBank Vision Fund 2, and a major university endowment, and existing investors including Sam Altman, Mithril  \u001B[33m│\u001B[0m\n",
       "\u001B[33m│\u001B[0m Capital, Capricorn Investment Group, Dustin [...] Moskovitz through Good Ventures Foundation, and Nucor. This   \u001B[33m│\u001B[0m\n",
       "\u001B[33m│\u001B[0m latest round of funding will bring the total invested in Helion to over $1 billion and values the company at    \u001B[33m│\u001B[0m\n",
       "\u001B[33m│\u001B[0m $5.425 billion post-money. [...] # Helion Announces $425M Series F Investment to Scale Commercialized Fusion    \u001B[33m│\u001B[0m\n",
       "\u001B[33m│\u001B[0m Power\\n\\n## Round includes new investors, Lightspeed Venture Partners, SoftBank Vision Fund 2, and existing     \u001B[33m│\u001B[0m\n",
       "\u001B[33m│\u001B[0m investors\\n\\n---', 'score': 0.8868231, 'raw_content': None}, {'url':                                            \u001B[33m│\u001B[0m\n",
       "\u001B[33m│\u001B[0m 'https://www.neimagazine.com/news/helion-secures-425m-funding-to-commercialise-its-fusion-technology/',         \u001B[33m│\u001B[0m\n",
       "\u001B[33m│\u001B[0m 'title': 'Helion secures $425m funding to commercialise its fusion ...', 'content': 'US-based fusion energy     \u001B[33m│\u001B[0m\n",
       "\u001B[33m│\u001B[0m company Helion has raised $425m in a Series F investment round to advance the commercialisation of its fusion   \u001B[33m│\u001B[0m\n",
       "\u001B[33m│\u001B[0m energy technology.\\n\\nExisting investors including Sam Altman, Mithril Capital, Capricorn Investment Group,     \u001B[33m│\u001B[0m\n",
       "\u001B[33m│\u001B[0m Dustin Moskovitz through Good Ventures Foundation, and Nucor participated in the Series F round. [...]          \u001B[33m│\u001B[0m\n",
       "\u001B[33m│\u001B[0m Additionally, new investors Lightspeed Venture Partners, SoftBank Vision Fund 2, and a major university         \u001B[33m│\u001B[0m\n",
       "\u001B[33m│\u001B[0m endowment, participated in the oversubscribed and upsized funding round.\\n\\nThe latest funding round brings the \u001B[33m│\u001B[0m\n",
       "\u001B[33m│\u001B[0m total investment in Helion to more than $1bn and values the company at $5.425bn post-money.', 'score':          \u001B[33m│\u001B[0m\n",
       "\u001B[33m│\u001B[0m 0.87681407, 'raw_content': None}], 'response_time': 2.18}                                                       \u001B[33m│\u001B[0m\n",
       "\u001B[33m╰─────────────────────────────────────────────────────────────────────────────────────────────────────────────────╯\u001B[0m\n"
      ],
      "text/html": [
       "<pre style=\"white-space:pre;overflow-x:auto;line-height:normal;font-family:Menlo,'DejaVu Sans Mono',consolas,'Courier New',monospace\"><span style=\"color: #808000; text-decoration-color: #808000\">╭──────────────────────────────────────────────── 🔧 Tool Output ─────────────────────────────────────────────────╮</span>\n",
       "<span style=\"color: #808000; text-decoration-color: #808000\">│</span> {'query': 'Helion Energy funding rounds', 'follow_up_questions': None, 'answer': None, 'images': [], 'results': <span style=\"color: #808000; text-decoration-color: #808000\">│</span>\n",
       "<span style=\"color: #808000; text-decoration-color: #808000\">│</span> [{'url': 'https://tracxn.com/d/companies/helion/__fS6qGKScel2LE9EV85bGN9zjK8uhT4s_uRFQXu4k0M8', 'title':        <span style=\"color: #808000; text-decoration-color: #808000\">│</span>\n",
       "<span style=\"color: #808000; text-decoration-color: #808000\">│</span> 'Helion - 2025 Company Profile, Team, Funding &amp; Competitors - Tracxn', 'content': \"Helion has raised a total    <span style=\"color: #808000; text-decoration-color: #808000\">│</span>\n",
       "<span style=\"color: #808000; text-decoration-color: #808000\">│</span> funding of$977M over 7 round s.Its first funding round was on Aug 16, 2011.Its latest funding round was a       <span style=\"color: #808000; text-decoration-color: #808000\">│</span>\n",
       "<span style=\"color: #808000; text-decoration-color: #808000\">│</span> Series F round on Jan 28, 2025 for $425M.6 investor s participated in its latest round,which                    <span style=\"color: #808000; text-decoration-color: #808000\">│</span>\n",
       "<span style=\"color: #808000; text-decoration-color: #808000\">│</span> includesDefense.gov, DOE, SoftBank Vision Fund and Mithril.\\n\\nHelion has 13 institutional investor s including <span style=\"color: #808000; text-decoration-color: #808000\">│</span>\n",
       "<span style=\"color: #808000; text-decoration-color: #808000\">│</span> Y Combinator, Mithril and Defense.gov.There are 4 Angel Investor s in Helion.\\n\\nHere is the list of recent     <span style=\"color: #808000; text-decoration-color: #808000\">│</span>\n",
       "<span style=\"color: #808000; text-decoration-color: #808000\">│</span> funding rounds of Helion: [...] Helion is a funded company, its first funding round was on Aug 16,              <span style=\"color: #808000; text-decoration-color: #808000\">│</span>\n",
       "<span style=\"color: #808000; text-decoration-color: #808000\">│</span> 2011.\\n\\nWhen was the latest funding round of Helion?\\n\\nHelion's latest funding round was on Jan 28,           <span style=\"color: #808000; text-decoration-color: #808000\">│</span>\n",
       "<span style=\"color: #808000; text-decoration-color: #808000\">│</span> 2025.\\n\\nWhere does Helion rank among its competitors?\\n\\nHelion ranks 2 amongst 37 active competitors.\\n\\nWhat <span style=\"color: #808000; text-decoration-color: #808000\">│</span>\n",
       "<span style=\"color: #808000; text-decoration-color: #808000\">│</span> does Helion do? [...] $977Min 7 rounds\\n\\nLatest Funding Round\\n\\nSeries F, Jan 28, 2025, $425M\\n\\nPost Money   <span style=\"color: #808000; text-decoration-color: #808000\">│</span>\n",
       "<span style=\"color: #808000; text-decoration-color: #808000\">│</span> Valuation\\n\\n$5.42Bas on Jan 28, 2025\\n\\nInvestors\\n\\nY Combinator&amp;16 more\\n\\nRanked\\n\\n2 nd among37 active     <span style=\"color: #808000; text-decoration-color: #808000\">│</span>\n",
       "<span style=\"color: #808000; text-decoration-color: #808000\">│</span> competitors\\n\\nEmployee Count\\n\\n44as on Dec 31, 2022 \\n\\nSimilar Companies\\n\\nGeneral Fusion&amp;8 more\\n\\nLegal   <span style=\"color: #808000; text-decoration-color: #808000\">│</span>\n",
       "<span style=\"color: #808000; text-decoration-color: #808000\">│</span> entities associated with Helion\\n-------------------------------------\\n\\nHelion is associated with 1 legal     <span style=\"color: #808000; text-decoration-color: #808000\">│</span>\n",
       "<span style=\"color: #808000; text-decoration-color: #808000\">│</span> entit y given below:\", 'score': 0.92857105, 'raw_content': None}, {'url':                                       <span style=\"color: #808000; text-decoration-color: #808000\">│</span>\n",
       "<span style=\"color: #808000; text-decoration-color: #808000\">│</span> 'https://www.helionenergy.com/articles/helion-announces-425m-series-f-investment-to-scale-commercialized-fusion <span style=\"color: #808000; text-decoration-color: #808000\">│</span>\n",
       "<span style=\"color: #808000; text-decoration-color: #808000\">│</span> -power/', 'title': 'Helion Announces $425M Series F Investment to Scale ...', 'content': 'EVERETT, Wash. –      <span style=\"color: #808000; text-decoration-color: #808000\">│</span>\n",
       "<span style=\"color: #808000; text-decoration-color: #808000\">│</span> January 28, 2025 – Helion, a fusion energy company, today announced a $425 million Series F investment round    <span style=\"color: #808000; text-decoration-color: #808000\">│</span>\n",
       "<span style=\"color: #808000; text-decoration-color: #808000\">│</span> that will be used to scale commercialization efforts for the company’s groundbreaking fusion technology. The    <span style=\"color: #808000; text-decoration-color: #808000\">│</span>\n",
       "<span style=\"color: #808000; text-decoration-color: #808000\">│</span> oversubscribed and upsized round had participation from new investors, including Lightspeed Venture Partners,   <span style=\"color: #808000; text-decoration-color: #808000\">│</span>\n",
       "<span style=\"color: #808000; text-decoration-color: #808000\">│</span> SoftBank Vision Fund 2, and a major university endowment, and existing investors including Sam Altman, Mithril  <span style=\"color: #808000; text-decoration-color: #808000\">│</span>\n",
       "<span style=\"color: #808000; text-decoration-color: #808000\">│</span> Capital, Capricorn Investment Group, Dustin [...] Moskovitz through Good Ventures Foundation, and Nucor. This   <span style=\"color: #808000; text-decoration-color: #808000\">│</span>\n",
       "<span style=\"color: #808000; text-decoration-color: #808000\">│</span> latest round of funding will bring the total invested in Helion to over $1 billion and values the company at    <span style=\"color: #808000; text-decoration-color: #808000\">│</span>\n",
       "<span style=\"color: #808000; text-decoration-color: #808000\">│</span> $5.425 billion post-money. [...] # Helion Announces $425M Series F Investment to Scale Commercialized Fusion    <span style=\"color: #808000; text-decoration-color: #808000\">│</span>\n",
       "<span style=\"color: #808000; text-decoration-color: #808000\">│</span> Power\\n\\n## Round includes new investors, Lightspeed Venture Partners, SoftBank Vision Fund 2, and existing     <span style=\"color: #808000; text-decoration-color: #808000\">│</span>\n",
       "<span style=\"color: #808000; text-decoration-color: #808000\">│</span> investors\\n\\n---', 'score': 0.8868231, 'raw_content': None}, {'url':                                            <span style=\"color: #808000; text-decoration-color: #808000\">│</span>\n",
       "<span style=\"color: #808000; text-decoration-color: #808000\">│</span> 'https://www.neimagazine.com/news/helion-secures-425m-funding-to-commercialise-its-fusion-technology/',         <span style=\"color: #808000; text-decoration-color: #808000\">│</span>\n",
       "<span style=\"color: #808000; text-decoration-color: #808000\">│</span> 'title': 'Helion secures $425m funding to commercialise its fusion ...', 'content': 'US-based fusion energy     <span style=\"color: #808000; text-decoration-color: #808000\">│</span>\n",
       "<span style=\"color: #808000; text-decoration-color: #808000\">│</span> company Helion has raised $425m in a Series F investment round to advance the commercialisation of its fusion   <span style=\"color: #808000; text-decoration-color: #808000\">│</span>\n",
       "<span style=\"color: #808000; text-decoration-color: #808000\">│</span> energy technology.\\n\\nExisting investors including Sam Altman, Mithril Capital, Capricorn Investment Group,     <span style=\"color: #808000; text-decoration-color: #808000\">│</span>\n",
       "<span style=\"color: #808000; text-decoration-color: #808000\">│</span> Dustin Moskovitz through Good Ventures Foundation, and Nucor participated in the Series F round. [...]          <span style=\"color: #808000; text-decoration-color: #808000\">│</span>\n",
       "<span style=\"color: #808000; text-decoration-color: #808000\">│</span> Additionally, new investors Lightspeed Venture Partners, SoftBank Vision Fund 2, and a major university         <span style=\"color: #808000; text-decoration-color: #808000\">│</span>\n",
       "<span style=\"color: #808000; text-decoration-color: #808000\">│</span> endowment, participated in the oversubscribed and upsized funding round.\\n\\nThe latest funding round brings the <span style=\"color: #808000; text-decoration-color: #808000\">│</span>\n",
       "<span style=\"color: #808000; text-decoration-color: #808000\">│</span> total investment in Helion to more than $1bn and values the company at $5.425bn post-money.', 'score':          <span style=\"color: #808000; text-decoration-color: #808000\">│</span>\n",
       "<span style=\"color: #808000; text-decoration-color: #808000\">│</span> 0.87681407, 'raw_content': None}], 'response_time': 2.18}                                                       <span style=\"color: #808000; text-decoration-color: #808000\">│</span>\n",
       "<span style=\"color: #808000; text-decoration-color: #808000\">╰─────────────────────────────────────────────────────────────────────────────────────────────────────────────────╯</span>\n",
       "</pre>\n"
      ]
     },
     "metadata": {},
     "output_type": "display_data"
    },
    {
     "data": {
      "text/plain": [
       "\u001B[33m╭─\u001B[0m\u001B[33m───────────────────────────────────────────────\u001B[0m\u001B[33m 🔧 Tool Output \u001B[0m\u001B[33m────────────────────────────────────────────────\u001B[0m\u001B[33m─╮\u001B[0m\n",
       "\u001B[33m│\u001B[0m {'query': 'Commonwealth Fusion Systems recent developments', 'follow_up_questions': None, 'answer': None,       \u001B[33m│\u001B[0m\n",
       "\u001B[33m│\u001B[0m 'images': [], 'results': [{'url': 'https://cfs.energy/devens-campus/updates/', 'title': 'Devens Events &        \u001B[33m│\u001B[0m\n",
       "\u001B[33m│\u001B[0m Updates | Commonwealth Fusion Systems', 'content': 'CFS officially opened its new campus to support the         \u001B[33m│\u001B[0m\n",
       "\u001B[33m│\u001B[0m development and deployment of commercial fusion energy. The ceremonial event today included visits from U.S.    \u001B[33m│\u001B[0m\n",
       "\u001B[33m│\u001B[0m Secretary of Energy Jennifer M. Granholm, U.S. Senator Elizabeth Warren, U.S. Senator Edward Markey, U.S.       \u001B[33m│\u001B[0m\n",
       "\u001B[33m│\u001B[0m Representative Lori Trahan, Massachusetts Lieutenant Governor Kim Driscoll, along with a host of state and      \u001B[33m│\u001B[0m\n",
       "\u001B[33m│\u001B[0m local leaders.\\n\\n## New corporate headquarters and manufacturing facility completed\\n\\nJan 25, 2023 [...] ##   \u001B[33m│\u001B[0m\n",
       "\u001B[33m│\u001B[0m An Update from Commonwealth Fusion Systems\\n\\nJan 05, 2024\\n\\nThis is the second video in a series of the       \u001B[33m│\u001B[0m\n",
       "\u001B[33m│\u001B[0m latest updates from inside CFS. In this episode, CEO Bob Mumgaard and VP of Production Darby Dunn share major   \u001B[33m│\u001B[0m\n",
       "\u001B[33m│\u001B[0m milestones CFS has achieved since June 2023 that have helped to accelerate our path to commercial fusion.\\n\\n## \u001B[33m│\u001B[0m\n",
       "\u001B[33m│\u001B[0m Motor generator centerpiece delivered\\n\\nNov 13, 2023 [...] ## CFS-MIT High-Field Magnet Technology for         \u001B[33m│\u001B[0m\n",
       "\u001B[33m│\u001B[0m Commercial Fusion Experimentally Validated\\n\\nMar 04, 2024', 'score': 0.78214747, 'raw_content': None}, {'url': \u001B[33m│\u001B[0m\n",
       "\u001B[33m│\u001B[0m 'https://cfs.energy/news-and-media/', 'title': 'Press | Commonwealth Fusion Systems', 'content': \"Commonwealth  \u001B[33m│\u001B[0m\n",
       "\u001B[33m│\u001B[0m Fusion Systems\\n\\n# CFS in the News\\n\\nCommonwealth Fusion Systems, 08.06.2025\\n\\n## Commonwealth Fusion        \u001B[33m│\u001B[0m\n",
       "\u001B[33m│\u001B[0m Systems Names Christopher P. LiddellÂ to Board of Directors\\n\\nCommonwealth Fusion Systems' Tokamak Hall, the   \u001B[33m│\u001B[0m\n",
       "\u001B[33m│\u001B[0m home of the SPARC fusion machine\\n\\nCommonwealth Fusion Systems, 06.30.2025\\n\\n## Google and Commonwealth       \u001B[33m│\u001B[0m\n",
       "\u001B[33m│\u001B[0m Fusion Systems Sign Strategic Partnership\\n\\nTwo workers manufacture a superconducting cable at Commonwealth    \u001B[33m│\u001B[0m\n",
       "\u001B[33m│\u001B[0m Fusion Systems' magnet factory.\\n\\n, 02.11.2025 [...] An aerial view of the plus-shaped building that houses    \u001B[33m│\u001B[0m\n",
       "\u001B[33m│\u001B[0m the SPARC tokamak, a fusion machine built by Commonwealth Fusion Systems\\n\\nCommonwealth Fusion Systems,        \u001B[33m│\u001B[0m\n",
       "\u001B[33m│\u001B[0m 10.24.2024\\n\\n## Commonwealth Fusion Systems Granted Radioactive Materials License for SPARC Fusion             \u001B[33m│\u001B[0m\n",
       "\u001B[33m│\u001B[0m Machine\\n\\nCommonwealth Fusion Systems, 08.09.2024\\n\\n## Commonwealth Fusion Systems Wins Two DOE INFUSE Awards \u001B[33m│\u001B[0m\n",
       "\u001B[33m│\u001B[0m to Help Commercialize Fusion Energy [...] A cutaway illustration of ARC showing the magnets and glowing plasma  \u001B[33m│\u001B[0m\n",
       "\u001B[33m│\u001B[0m inside the fusion power plant\\n\\nCommonwealth Fusion Systems, 11.04.2024\\n\\n## ARPA-E award boosts CFSâ\\x80\\x99 \u001B[33m│\u001B[0m\n",
       "\u001B[33m│\u001B[0m quest for the best fusion power plant materials\\n\\nCommonwealth Fusion Systems, 10.30.2024\\n\\n## Commonwealth   \u001B[33m│\u001B[0m\n",
       "\u001B[33m│\u001B[0m Fusion Systemsâ\\x80\\x99 second breakthrough superconducting technology handles mammoth pulses of power\",        \u001B[33m│\u001B[0m\n",
       "\u001B[33m│\u001B[0m 'score': 0.7251239, 'raw_content': None}, {'url':                                                               \u001B[33m│\u001B[0m\n",
       "\u001B[33m│\u001B[0m 'https://cfs.energy/news-and-media/google-and-commonwealth-fusion-systems-sign-strategic-partnership', 'title': \u001B[33m│\u001B[0m\n",
       "\u001B[33m│\u001B[0m 'Google and Commonwealth Fusion Systems Sign Strategic ...', 'content': \"Commonwealth Fusion Systems\\n\\n#       \u001B[33m│\u001B[0m\n",
       "\u001B[33m│\u001B[0m Google and Commonwealth Fusion Systems Sign Strategic Partnership\\n\\nCommonwealth Fusion Systems' Tokamak Hall, \u001B[33m│\u001B[0m\n",
       "\u001B[33m│\u001B[0m the home of the SPARC fusion machine\\n\\nMOUNTAIN VIEW, Calif., and DEVENS, Mass. (June 30, 2025) â\\x80\\x94      \u001B[33m│\u001B[0m\n",
       "\u001B[33m│\u001B[0m Google and Commonwealth Fusion Systems (CFS) today announced a new global milestone, a bold partnership to      \u001B[33m│\u001B[0m\n",
       "\u001B[33m│\u001B[0m develop, deploy and scale clean, secure fusion power. [...] The agreement validates that CFS is developing one  \u001B[33m│\u001B[0m\n",
       "\u001B[33m│\u001B[0m of the most promising paths to commercial fusion power in the coming decade. CFS expects that its Chesterfield  \u001B[33m│\u001B[0m\n",
       "\u001B[33m│\u001B[0m County ARC power plant will be the first grid-scale fusion power plant in the world, exemplifying the           \u001B[33m│\u001B[0m\n",
       "\u001B[33m│\u001B[0m companyâ\\x80\\x99s scientific approach to developing fusion power; its application of key advances in            \u001B[33m│\u001B[0m\n",
       "\u001B[33m│\u001B[0m high-temperature superconducting (HTS) magnets; and its execution velocity in constructing its fusion machine,  \u001B[33m│\u001B[0m\n",
       "\u001B[33m│\u001B[0m SPARC, in Devens,\", 'score': 0.72042775, 'raw_content': None}], 'response_time': 2.07}                          \u001B[33m│\u001B[0m\n",
       "\u001B[33m╰─────────────────────────────────────────────────────────────────────────────────────────────────────────────────╯\u001B[0m\n"
      ],
      "text/html": [
       "<pre style=\"white-space:pre;overflow-x:auto;line-height:normal;font-family:Menlo,'DejaVu Sans Mono',consolas,'Courier New',monospace\"><span style=\"color: #808000; text-decoration-color: #808000\">╭──────────────────────────────────────────────── 🔧 Tool Output ─────────────────────────────────────────────────╮</span>\n",
       "<span style=\"color: #808000; text-decoration-color: #808000\">│</span> {'query': 'Commonwealth Fusion Systems recent developments', 'follow_up_questions': None, 'answer': None,       <span style=\"color: #808000; text-decoration-color: #808000\">│</span>\n",
       "<span style=\"color: #808000; text-decoration-color: #808000\">│</span> 'images': [], 'results': [{'url': 'https://cfs.energy/devens-campus/updates/', 'title': 'Devens Events &amp;        <span style=\"color: #808000; text-decoration-color: #808000\">│</span>\n",
       "<span style=\"color: #808000; text-decoration-color: #808000\">│</span> Updates | Commonwealth Fusion Systems', 'content': 'CFS officially opened its new campus to support the         <span style=\"color: #808000; text-decoration-color: #808000\">│</span>\n",
       "<span style=\"color: #808000; text-decoration-color: #808000\">│</span> development and deployment of commercial fusion energy. The ceremonial event today included visits from U.S.    <span style=\"color: #808000; text-decoration-color: #808000\">│</span>\n",
       "<span style=\"color: #808000; text-decoration-color: #808000\">│</span> Secretary of Energy Jennifer M. Granholm, U.S. Senator Elizabeth Warren, U.S. Senator Edward Markey, U.S.       <span style=\"color: #808000; text-decoration-color: #808000\">│</span>\n",
       "<span style=\"color: #808000; text-decoration-color: #808000\">│</span> Representative Lori Trahan, Massachusetts Lieutenant Governor Kim Driscoll, along with a host of state and      <span style=\"color: #808000; text-decoration-color: #808000\">│</span>\n",
       "<span style=\"color: #808000; text-decoration-color: #808000\">│</span> local leaders.\\n\\n## New corporate headquarters and manufacturing facility completed\\n\\nJan 25, 2023 [...] ##   <span style=\"color: #808000; text-decoration-color: #808000\">│</span>\n",
       "<span style=\"color: #808000; text-decoration-color: #808000\">│</span> An Update from Commonwealth Fusion Systems\\n\\nJan 05, 2024\\n\\nThis is the second video in a series of the       <span style=\"color: #808000; text-decoration-color: #808000\">│</span>\n",
       "<span style=\"color: #808000; text-decoration-color: #808000\">│</span> latest updates from inside CFS. In this episode, CEO Bob Mumgaard and VP of Production Darby Dunn share major   <span style=\"color: #808000; text-decoration-color: #808000\">│</span>\n",
       "<span style=\"color: #808000; text-decoration-color: #808000\">│</span> milestones CFS has achieved since June 2023 that have helped to accelerate our path to commercial fusion.\\n\\n## <span style=\"color: #808000; text-decoration-color: #808000\">│</span>\n",
       "<span style=\"color: #808000; text-decoration-color: #808000\">│</span> Motor generator centerpiece delivered\\n\\nNov 13, 2023 [...] ## CFS-MIT High-Field Magnet Technology for         <span style=\"color: #808000; text-decoration-color: #808000\">│</span>\n",
       "<span style=\"color: #808000; text-decoration-color: #808000\">│</span> Commercial Fusion Experimentally Validated\\n\\nMar 04, 2024', 'score': 0.78214747, 'raw_content': None}, {'url': <span style=\"color: #808000; text-decoration-color: #808000\">│</span>\n",
       "<span style=\"color: #808000; text-decoration-color: #808000\">│</span> 'https://cfs.energy/news-and-media/', 'title': 'Press | Commonwealth Fusion Systems', 'content': \"Commonwealth  <span style=\"color: #808000; text-decoration-color: #808000\">│</span>\n",
       "<span style=\"color: #808000; text-decoration-color: #808000\">│</span> Fusion Systems\\n\\n# CFS in the News\\n\\nCommonwealth Fusion Systems, 08.06.2025\\n\\n## Commonwealth Fusion        <span style=\"color: #808000; text-decoration-color: #808000\">│</span>\n",
       "<span style=\"color: #808000; text-decoration-color: #808000\">│</span> Systems Names Christopher P. LiddellÂ to Board of Directors\\n\\nCommonwealth Fusion Systems' Tokamak Hall, the   <span style=\"color: #808000; text-decoration-color: #808000\">│</span>\n",
       "<span style=\"color: #808000; text-decoration-color: #808000\">│</span> home of the SPARC fusion machine\\n\\nCommonwealth Fusion Systems, 06.30.2025\\n\\n## Google and Commonwealth       <span style=\"color: #808000; text-decoration-color: #808000\">│</span>\n",
       "<span style=\"color: #808000; text-decoration-color: #808000\">│</span> Fusion Systems Sign Strategic Partnership\\n\\nTwo workers manufacture a superconducting cable at Commonwealth    <span style=\"color: #808000; text-decoration-color: #808000\">│</span>\n",
       "<span style=\"color: #808000; text-decoration-color: #808000\">│</span> Fusion Systems' magnet factory.\\n\\n, 02.11.2025 [...] An aerial view of the plus-shaped building that houses    <span style=\"color: #808000; text-decoration-color: #808000\">│</span>\n",
       "<span style=\"color: #808000; text-decoration-color: #808000\">│</span> the SPARC tokamak, a fusion machine built by Commonwealth Fusion Systems\\n\\nCommonwealth Fusion Systems,        <span style=\"color: #808000; text-decoration-color: #808000\">│</span>\n",
       "<span style=\"color: #808000; text-decoration-color: #808000\">│</span> 10.24.2024\\n\\n## Commonwealth Fusion Systems Granted Radioactive Materials License for SPARC Fusion             <span style=\"color: #808000; text-decoration-color: #808000\">│</span>\n",
       "<span style=\"color: #808000; text-decoration-color: #808000\">│</span> Machine\\n\\nCommonwealth Fusion Systems, 08.09.2024\\n\\n## Commonwealth Fusion Systems Wins Two DOE INFUSE Awards <span style=\"color: #808000; text-decoration-color: #808000\">│</span>\n",
       "<span style=\"color: #808000; text-decoration-color: #808000\">│</span> to Help Commercialize Fusion Energy [...] A cutaway illustration of ARC showing the magnets and glowing plasma  <span style=\"color: #808000; text-decoration-color: #808000\">│</span>\n",
       "<span style=\"color: #808000; text-decoration-color: #808000\">│</span> inside the fusion power plant\\n\\nCommonwealth Fusion Systems, 11.04.2024\\n\\n## ARPA-E award boosts CFSâ\\x80\\x99 <span style=\"color: #808000; text-decoration-color: #808000\">│</span>\n",
       "<span style=\"color: #808000; text-decoration-color: #808000\">│</span> quest for the best fusion power plant materials\\n\\nCommonwealth Fusion Systems, 10.30.2024\\n\\n## Commonwealth   <span style=\"color: #808000; text-decoration-color: #808000\">│</span>\n",
       "<span style=\"color: #808000; text-decoration-color: #808000\">│</span> Fusion Systemsâ\\x80\\x99 second breakthrough superconducting technology handles mammoth pulses of power\",        <span style=\"color: #808000; text-decoration-color: #808000\">│</span>\n",
       "<span style=\"color: #808000; text-decoration-color: #808000\">│</span> 'score': 0.7251239, 'raw_content': None}, {'url':                                                               <span style=\"color: #808000; text-decoration-color: #808000\">│</span>\n",
       "<span style=\"color: #808000; text-decoration-color: #808000\">│</span> 'https://cfs.energy/news-and-media/google-and-commonwealth-fusion-systems-sign-strategic-partnership', 'title': <span style=\"color: #808000; text-decoration-color: #808000\">│</span>\n",
       "<span style=\"color: #808000; text-decoration-color: #808000\">│</span> 'Google and Commonwealth Fusion Systems Sign Strategic ...', 'content': \"Commonwealth Fusion Systems\\n\\n#       <span style=\"color: #808000; text-decoration-color: #808000\">│</span>\n",
       "<span style=\"color: #808000; text-decoration-color: #808000\">│</span> Google and Commonwealth Fusion Systems Sign Strategic Partnership\\n\\nCommonwealth Fusion Systems' Tokamak Hall, <span style=\"color: #808000; text-decoration-color: #808000\">│</span>\n",
       "<span style=\"color: #808000; text-decoration-color: #808000\">│</span> the home of the SPARC fusion machine\\n\\nMOUNTAIN VIEW, Calif., and DEVENS, Mass. (June 30, 2025) â\\x80\\x94      <span style=\"color: #808000; text-decoration-color: #808000\">│</span>\n",
       "<span style=\"color: #808000; text-decoration-color: #808000\">│</span> Google and Commonwealth Fusion Systems (CFS) today announced a new global milestone, a bold partnership to      <span style=\"color: #808000; text-decoration-color: #808000\">│</span>\n",
       "<span style=\"color: #808000; text-decoration-color: #808000\">│</span> develop, deploy and scale clean, secure fusion power. [...] The agreement validates that CFS is developing one  <span style=\"color: #808000; text-decoration-color: #808000\">│</span>\n",
       "<span style=\"color: #808000; text-decoration-color: #808000\">│</span> of the most promising paths to commercial fusion power in the coming decade. CFS expects that its Chesterfield  <span style=\"color: #808000; text-decoration-color: #808000\">│</span>\n",
       "<span style=\"color: #808000; text-decoration-color: #808000\">│</span> County ARC power plant will be the first grid-scale fusion power plant in the world, exemplifying the           <span style=\"color: #808000; text-decoration-color: #808000\">│</span>\n",
       "<span style=\"color: #808000; text-decoration-color: #808000\">│</span> companyâ\\x80\\x99s scientific approach to developing fusion power; its application of key advances in            <span style=\"color: #808000; text-decoration-color: #808000\">│</span>\n",
       "<span style=\"color: #808000; text-decoration-color: #808000\">│</span> high-temperature superconducting (HTS) magnets; and its execution velocity in constructing its fusion machine,  <span style=\"color: #808000; text-decoration-color: #808000\">│</span>\n",
       "<span style=\"color: #808000; text-decoration-color: #808000\">│</span> SPARC, in Devens,\", 'score': 0.72042775, 'raw_content': None}], 'response_time': 2.07}                          <span style=\"color: #808000; text-decoration-color: #808000\">│</span>\n",
       "<span style=\"color: #808000; text-decoration-color: #808000\">╰─────────────────────────────────────────────────────────────────────────────────────────────────────────────────╯</span>\n",
       "</pre>\n"
      ]
     },
     "metadata": {},
     "output_type": "display_data"
    },
    {
     "data": {
      "text/plain": [
       "\u001B[33m╭─\u001B[0m\u001B[33m───────────────────────────────────────────────\u001B[0m\u001B[33m 🔧 Tool Output \u001B[0m\u001B[33m────────────────────────────────────────────────\u001B[0m\u001B[33m─╮\u001B[0m\n",
       "\u001B[33m│\u001B[0m {'query': 'Helion Energy recent developments', 'follow_up_questions': None, 'answer': None, 'images': [],       \u001B[33m│\u001B[0m\n",
       "\u001B[33m│\u001B[0m 'results': [{'url': 'https://www.world-nuclear-news.org/articles/helion-begins-work-on-fusion-power-plant',     \u001B[33m│\u001B[0m\n",
       "\u001B[33m│\u001B[0m 'title': 'Helion begins work on fusion power plant - World Nuclear News', 'content': 'The company has           \u001B[33m│\u001B[0m\n",
       "\u001B[33m│\u001B[0m previously built six working prototypes and in June 2021 became the first private fusion company to reach       \u001B[33m│\u001B[0m\n",
       "\u001B[33m│\u001B[0m 100-million-degree plasma temperatures with its sixth fusion generator prototype, Trenta. Helion\\'s seventh     \u001B[33m│\u001B[0m\n",
       "\u001B[33m│\u001B[0m prototype, Polaris, in Everett, Washington, began initial operations in 2024. [...] World Nuclear News\\n\\n#     \u001B[33m│\u001B[0m\n",
       "\u001B[33m│\u001B[0m Helion begins work on fusion power plant\\n\\nShare on socials\\nHelion begins work on fusion power                \u001B[33m│\u001B[0m\n",
       "\u001B[33m│\u001B[0m plant_56455.jpg)\\n\\nHelion is developing what it says is a cost-effective, zero-carbon electrical power plant   \u001B[33m│\u001B[0m\n",
       "\u001B[33m│\u001B[0m using its patented pulsed, non-ignition fusion technology. The company says its fusion power plant will provide \u001B[33m│\u001B[0m\n",
       "\u001B[33m│\u001B[0m \"flexible, scalable, baseload power that is affordable, providing the world a new path to full decarbonisation  \u001B[33m│\u001B[0m\n",
       "\u001B[33m│\u001B[0m of electricity generation\". [...] It earlier said that it expects Orion, its first power plant, to be online by \u001B[33m│\u001B[0m\n",
       "\u001B[33m│\u001B[0m 2028 and will target power generation of 50 MWe or greater after a one-year ramp-up period.\\n\\nIn May 2023,     \u001B[33m│\u001B[0m\n",
       "\u001B[33m│\u001B[0m Microsoft signed an agreement with Helion for the provision of electricity from its first fusion power plant.   \u001B[33m│\u001B[0m\n",
       "\u001B[33m│\u001B[0m Constellation Energy will serve as the power marketer and will manage transmission for the project.', 'score':  \u001B[33m│\u001B[0m\n",
       "\u001B[33m│\u001B[0m 0.66203266, 'raw_content': None}, {'url':                                                                       \u001B[33m│\u001B[0m\n",
       "\u001B[33m│\u001B[0m 'https://carboncredits.com/microsoft-msft-to-get-fusion-power-as-helion-energy-kicks-off-orion-plant-constructi \u001B[33m│\u001B[0m\n",
       "\u001B[33m│\u001B[0m on/', 'title': 'Microsoft (MSFT) to Get Fusion Power as Helion Energy Kicks Off ...', 'content': 'Over the past \u001B[33m│\u001B[0m\n",
       "\u001B[33m│\u001B[0m decade, Helion has built six fusion prototypes and made steady technical progress through rapid iteration and   \u001B[33m│\u001B[0m\n",
       "\u001B[33m│\u001B[0m testing. Its sixth machine, Trenta, made history by achieving a fuel temperature of 100 million degrees         \u001B[33m│\u001B[0m\n",
       "\u001B[33m│\u001B[0m Celsius—considered the minimum threshold for fusion to become commercially viable. [...] In 2023, Helion signed \u001B[33m│\u001B[0m\n",
       "\u001B[33m│\u001B[0m the world’s first power purchase agreement (PPA) for fusion energy, committing to supply electricity to         \u001B[33m│\u001B[0m\n",
       "\u001B[33m│\u001B[0m Microsoft once the plant is operational. Located in Chelan County, Washington, the site was selected for its    \u001B[33m│\u001B[0m\n",
       "\u001B[33m│\u001B[0m easy access to power transmission and its legacy of energy innovation. [...] Since 2023, Helion has actively    \u001B[33m│\u001B[0m\n",
       "\u001B[33m│\u001B[0m collaborated with government agencies, Tribal Nations, and local stakeholders to prepare for the construction   \u001B[33m│\u001B[0m\n",
       "\u001B[33m│\u001B[0m and operation phases. The company’s transparent approach to permitting and community engagement has helped      \u001B[33m│\u001B[0m\n",
       "\u001B[33m│\u001B[0m smooth the path for the project.', 'score': 0.66045773, 'raw_content': None}, {'url':                           \u001B[33m│\u001B[0m\n",
       "\u001B[33m│\u001B[0m 'https://www.helionenergy.com/news/', 'title': 'News - Helion', 'content': \"Fusion Energy Startup Helion Energy \u001B[33m│\u001B[0m\n",
       "\u001B[33m│\u001B[0m Closes Latest Funding Round at $1.25B Valuation. The company raised $40 million in Series D funding,            \u001B[33m│\u001B[0m\n",
       "\u001B[33m│\u001B[0m accelerating Helion's\", 'score': 0.5382315, 'raw_content': None}], 'response_time': 4.38}                       \u001B[33m│\u001B[0m\n",
       "\u001B[33m╰─────────────────────────────────────────────────────────────────────────────────────────────────────────────────╯\u001B[0m\n"
      ],
      "text/html": [
       "<pre style=\"white-space:pre;overflow-x:auto;line-height:normal;font-family:Menlo,'DejaVu Sans Mono',consolas,'Courier New',monospace\"><span style=\"color: #808000; text-decoration-color: #808000\">╭──────────────────────────────────────────────── 🔧 Tool Output ─────────────────────────────────────────────────╮</span>\n",
       "<span style=\"color: #808000; text-decoration-color: #808000\">│</span> {'query': 'Helion Energy recent developments', 'follow_up_questions': None, 'answer': None, 'images': [],       <span style=\"color: #808000; text-decoration-color: #808000\">│</span>\n",
       "<span style=\"color: #808000; text-decoration-color: #808000\">│</span> 'results': [{'url': 'https://www.world-nuclear-news.org/articles/helion-begins-work-on-fusion-power-plant',     <span style=\"color: #808000; text-decoration-color: #808000\">│</span>\n",
       "<span style=\"color: #808000; text-decoration-color: #808000\">│</span> 'title': 'Helion begins work on fusion power plant - World Nuclear News', 'content': 'The company has           <span style=\"color: #808000; text-decoration-color: #808000\">│</span>\n",
       "<span style=\"color: #808000; text-decoration-color: #808000\">│</span> previously built six working prototypes and in June 2021 became the first private fusion company to reach       <span style=\"color: #808000; text-decoration-color: #808000\">│</span>\n",
       "<span style=\"color: #808000; text-decoration-color: #808000\">│</span> 100-million-degree plasma temperatures with its sixth fusion generator prototype, Trenta. Helion\\'s seventh     <span style=\"color: #808000; text-decoration-color: #808000\">│</span>\n",
       "<span style=\"color: #808000; text-decoration-color: #808000\">│</span> prototype, Polaris, in Everett, Washington, began initial operations in 2024. [...] World Nuclear News\\n\\n#     <span style=\"color: #808000; text-decoration-color: #808000\">│</span>\n",
       "<span style=\"color: #808000; text-decoration-color: #808000\">│</span> Helion begins work on fusion power plant\\n\\nShare on socials\\nHelion begins work on fusion power                <span style=\"color: #808000; text-decoration-color: #808000\">│</span>\n",
       "<span style=\"color: #808000; text-decoration-color: #808000\">│</span> plant_56455.jpg)\\n\\nHelion is developing what it says is a cost-effective, zero-carbon electrical power plant   <span style=\"color: #808000; text-decoration-color: #808000\">│</span>\n",
       "<span style=\"color: #808000; text-decoration-color: #808000\">│</span> using its patented pulsed, non-ignition fusion technology. The company says its fusion power plant will provide <span style=\"color: #808000; text-decoration-color: #808000\">│</span>\n",
       "<span style=\"color: #808000; text-decoration-color: #808000\">│</span> \"flexible, scalable, baseload power that is affordable, providing the world a new path to full decarbonisation  <span style=\"color: #808000; text-decoration-color: #808000\">│</span>\n",
       "<span style=\"color: #808000; text-decoration-color: #808000\">│</span> of electricity generation\". [...] It earlier said that it expects Orion, its first power plant, to be online by <span style=\"color: #808000; text-decoration-color: #808000\">│</span>\n",
       "<span style=\"color: #808000; text-decoration-color: #808000\">│</span> 2028 and will target power generation of 50 MWe or greater after a one-year ramp-up period.\\n\\nIn May 2023,     <span style=\"color: #808000; text-decoration-color: #808000\">│</span>\n",
       "<span style=\"color: #808000; text-decoration-color: #808000\">│</span> Microsoft signed an agreement with Helion for the provision of electricity from its first fusion power plant.   <span style=\"color: #808000; text-decoration-color: #808000\">│</span>\n",
       "<span style=\"color: #808000; text-decoration-color: #808000\">│</span> Constellation Energy will serve as the power marketer and will manage transmission for the project.', 'score':  <span style=\"color: #808000; text-decoration-color: #808000\">│</span>\n",
       "<span style=\"color: #808000; text-decoration-color: #808000\">│</span> 0.66203266, 'raw_content': None}, {'url':                                                                       <span style=\"color: #808000; text-decoration-color: #808000\">│</span>\n",
       "<span style=\"color: #808000; text-decoration-color: #808000\">│</span> 'https://carboncredits.com/microsoft-msft-to-get-fusion-power-as-helion-energy-kicks-off-orion-plant-constructi <span style=\"color: #808000; text-decoration-color: #808000\">│</span>\n",
       "<span style=\"color: #808000; text-decoration-color: #808000\">│</span> on/', 'title': 'Microsoft (MSFT) to Get Fusion Power as Helion Energy Kicks Off ...', 'content': 'Over the past <span style=\"color: #808000; text-decoration-color: #808000\">│</span>\n",
       "<span style=\"color: #808000; text-decoration-color: #808000\">│</span> decade, Helion has built six fusion prototypes and made steady technical progress through rapid iteration and   <span style=\"color: #808000; text-decoration-color: #808000\">│</span>\n",
       "<span style=\"color: #808000; text-decoration-color: #808000\">│</span> testing. Its sixth machine, Trenta, made history by achieving a fuel temperature of 100 million degrees         <span style=\"color: #808000; text-decoration-color: #808000\">│</span>\n",
       "<span style=\"color: #808000; text-decoration-color: #808000\">│</span> Celsius—considered the minimum threshold for fusion to become commercially viable. [...] In 2023, Helion signed <span style=\"color: #808000; text-decoration-color: #808000\">│</span>\n",
       "<span style=\"color: #808000; text-decoration-color: #808000\">│</span> the world’s first power purchase agreement (PPA) for fusion energy, committing to supply electricity to         <span style=\"color: #808000; text-decoration-color: #808000\">│</span>\n",
       "<span style=\"color: #808000; text-decoration-color: #808000\">│</span> Microsoft once the plant is operational. Located in Chelan County, Washington, the site was selected for its    <span style=\"color: #808000; text-decoration-color: #808000\">│</span>\n",
       "<span style=\"color: #808000; text-decoration-color: #808000\">│</span> easy access to power transmission and its legacy of energy innovation. [...] Since 2023, Helion has actively    <span style=\"color: #808000; text-decoration-color: #808000\">│</span>\n",
       "<span style=\"color: #808000; text-decoration-color: #808000\">│</span> collaborated with government agencies, Tribal Nations, and local stakeholders to prepare for the construction   <span style=\"color: #808000; text-decoration-color: #808000\">│</span>\n",
       "<span style=\"color: #808000; text-decoration-color: #808000\">│</span> and operation phases. The company’s transparent approach to permitting and community engagement has helped      <span style=\"color: #808000; text-decoration-color: #808000\">│</span>\n",
       "<span style=\"color: #808000; text-decoration-color: #808000\">│</span> smooth the path for the project.', 'score': 0.66045773, 'raw_content': None}, {'url':                           <span style=\"color: #808000; text-decoration-color: #808000\">│</span>\n",
       "<span style=\"color: #808000; text-decoration-color: #808000\">│</span> 'https://www.helionenergy.com/news/', 'title': 'News - Helion', 'content': \"Fusion Energy Startup Helion Energy <span style=\"color: #808000; text-decoration-color: #808000\">│</span>\n",
       "<span style=\"color: #808000; text-decoration-color: #808000\">│</span> Closes Latest Funding Round at $1.25B Valuation. The company raised $40 million in Series D funding,            <span style=\"color: #808000; text-decoration-color: #808000\">│</span>\n",
       "<span style=\"color: #808000; text-decoration-color: #808000\">│</span> accelerating Helion's\", 'score': 0.5382315, 'raw_content': None}], 'response_time': 4.38}                       <span style=\"color: #808000; text-decoration-color: #808000\">│</span>\n",
       "<span style=\"color: #808000; text-decoration-color: #808000\">╰─────────────────────────────────────────────────────────────────────────────────────────────────────────────────╯</span>\n",
       "</pre>\n"
      ]
     },
     "metadata": {},
     "output_type": "display_data"
    },
    {
     "data": {
      "text/plain": [
       "\u001B[37m╭─\u001B[0m\u001B[37m────────────────────────────────────────────────────\u001B[0m\u001B[37m 📝 AI \u001B[0m\u001B[37m────────────────────────────────────────────────────\u001B[0m\u001B[37m─╮\u001B[0m\n",
       "\u001B[37m│\u001B[0m                                                                                                                 \u001B[37m│\u001B[0m\n",
       "\u001B[37m╰─────────────────────────────────────────────────────────────────────────────────────────────────────────────────╯\u001B[0m\n"
      ],
      "text/html": [
       "<pre style=\"white-space:pre;overflow-x:auto;line-height:normal;font-family:Menlo,'DejaVu Sans Mono',consolas,'Courier New',monospace\"><span style=\"color: #c0c0c0; text-decoration-color: #c0c0c0\">╭───────────────────────────────────────────────────── 📝 AI ─────────────────────────────────────────────────────╮</span>\n",
       "<span style=\"color: #c0c0c0; text-decoration-color: #c0c0c0\">│</span>                                                                                                                 <span style=\"color: #c0c0c0; text-decoration-color: #c0c0c0\">│</span>\n",
       "<span style=\"color: #c0c0c0; text-decoration-color: #c0c0c0\">╰─────────────────────────────────────────────────────────────────────────────────────────────────────────────────╯</span>\n",
       "</pre>\n"
      ]
     },
     "metadata": {},
     "output_type": "display_data"
    },
    {
     "data": {
      "text/plain": [
       "\u001B[33m╭─\u001B[0m\u001B[33m───────────────────────────────────────────────\u001B[0m\u001B[33m 🔧 Tool Output \u001B[0m\u001B[33m────────────────────────────────────────────────\u001B[0m\u001B[33m─╮\u001B[0m\n",
       "\u001B[33m│\u001B[0m Wrote to scratchpad: ### Funding Rounds Comparison                                                              \u001B[33m│\u001B[0m\n",
       "\u001B[33m│\u001B[0m                                                                                                                 \u001B[33m│\u001B[0m\n",
       "\u001B[33m│\u001B[0m #### Commonwealth Fusion Systems (CFS)                                                                          \u001B[33m│\u001B[0m\n",
       "\u001B[33m│\u001B[0m 1. **Total Funding**: Over $2 billion across 5 rounds (as of May 2023).                                         \u001B[33m│\u001B[0m\n",
       "\u001B[33m│\u001B[0m 2. **Key Investors**: Temasek Holdings, U.S. Department of Energy, Tiger Global Management, Breakthrough Energy \u001B[33m│\u001B[0m\n",
       "\u001B[33m│\u001B[0m Ventures, Eni, Bill Gates.                                                                                      \u001B[33m│\u001B[0m\n",
       "\u001B[33m│\u001B[0m 3. **Latest Round**: $1.8 billion Series B in November 2021 for SPARC tokamak development.                      \u001B[33m│\u001B[0m\n",
       "\u001B[33m│\u001B[0m 4. **Additional Funding**: Received grants from the U.S. Department of Energy in 2023.                          \u001B[33m│\u001B[0m\n",
       "\u001B[33m│\u001B[0m                                                                                                                 \u001B[33m│\u001B[0m\n",
       "\u001B[33m│\u001B[0m #### Helion Energy                                                                                              \u001B[33m│\u001B[0m\n",
       "\u001B[33m│\u001B[0m 1. **Total Funding**: Over $1 billion across 7 rounds (as of January 2025).                                     \u001B[33m│\u001B[0m\n",
       "\u001B[33m│\u001B[0m 2. **Key Investors**: Defense.gov, DOE, SoftBank Vision Fund, Mithril, Sam Altman.                              \u001B[33m│\u001B[0m\n",
       "\u001B[33m│\u001B[0m 3. **Latest Round**: $425 million Series F in January 2025 for scaling commercialization.                       \u001B[33m│\u001B[0m\n",
       "\u001B[33m│\u001B[0m 4. **Post-Money Valuation**: $5.425 billion (as of January 2025).                                               \u001B[33m│\u001B[0m\n",
       "\u001B[33m│\u001B[0m                                                                                                                 \u001B[33m│\u001B[0m\n",
       "\u001B[33m│\u001B[0m ### Recent Developments                                                                                         \u001B[33m│\u001B[0m\n",
       "\u001B[33m│\u001B[0m                                                                                                                 \u001B[33m│\u001B[0m\n",
       "\u001B[33m│\u001B[0m #### Commonwealth Fusion Systems                                                                                \u001B[33m│\u001B[0m\n",
       "\u001B[33m│\u001B[0m 1. **SPARC Development**: Construction and commissioning of SPARC, the first commercially relevant net energy   \u001B[33m│\u001B[0m\n",
       "\u001B[33m│\u001B[0m fusion machine.                                                                                                 \u001B[33m│\u001B[0m\n",
       "\u001B[33m│\u001B[0m 2. **ARC Power Plant**: Began work on ARC, the first commercial fusion power plant.                             \u001B[33m│\u001B[0m\n",
       "\u001B[33m│\u001B[0m 3. **Partnerships**: Collaborated with Eni (March 2023) and Google (June 2025) for strategic partnerships.      \u001B[33m│\u001B[0m\n",
       "\u001B[33m│\u001B[0m 4. **Facility**: Opened a new campus in Devens, Massachusetts, for fusion energy development.                   \u001B[33m│\u001B[0m\n",
       "\u001B[33m│\u001B[0m                                                                                                                 \u001B[33m│\u001B[0m\n",
       "\u001B[33m│\u001B[0m #### Helion Energy                                                                                              \u001B[33m│\u001B[0m\n",
       "\u001B[33m│\u001B[0m 1. **Prototypes**: Built six working prototypes; Polaris prototype operational in 2024.                         \u001B[33m│\u001B[0m\n",
       "\u001B[33m│\u001B[0m 2. **Polaris Plant**: Began construction of its first fusion power plant, Orion, targeting 50 MWe output by     \u001B[33m│\u001B[0m\n",
       "\u001B[33m│\u001B[0m 2028.                                                                                                           \u001B[33m│\u001B[0m\n",
       "\u001B[33m│\u001B[0m 3. **Partnerships**: Signed a power purchase agreement with Microsoft (May 2023) for electricity supply.        \u001B[33m│\u001B[0m\n",
       "\u001B[33m│\u001B[0m 4. **Community Engagement**: Actively collaborating with local stakeholders for project development.            \u001B[33m│\u001B[0m\n",
       "\u001B[33m╰─────────────────────────────────────────────────────────────────────────────────────────────────────────────────╯\u001B[0m\n"
      ],
      "text/html": [
       "<pre style=\"white-space:pre;overflow-x:auto;line-height:normal;font-family:Menlo,'DejaVu Sans Mono',consolas,'Courier New',monospace\"><span style=\"color: #808000; text-decoration-color: #808000\">╭──────────────────────────────────────────────── 🔧 Tool Output ─────────────────────────────────────────────────╮</span>\n",
       "<span style=\"color: #808000; text-decoration-color: #808000\">│</span> Wrote to scratchpad: ### Funding Rounds Comparison                                                              <span style=\"color: #808000; text-decoration-color: #808000\">│</span>\n",
       "<span style=\"color: #808000; text-decoration-color: #808000\">│</span>                                                                                                                 <span style=\"color: #808000; text-decoration-color: #808000\">│</span>\n",
       "<span style=\"color: #808000; text-decoration-color: #808000\">│</span> #### Commonwealth Fusion Systems (CFS)                                                                          <span style=\"color: #808000; text-decoration-color: #808000\">│</span>\n",
       "<span style=\"color: #808000; text-decoration-color: #808000\">│</span> 1. **Total Funding**: Over $2 billion across 5 rounds (as of May 2023).                                         <span style=\"color: #808000; text-decoration-color: #808000\">│</span>\n",
       "<span style=\"color: #808000; text-decoration-color: #808000\">│</span> 2. **Key Investors**: Temasek Holdings, U.S. Department of Energy, Tiger Global Management, Breakthrough Energy <span style=\"color: #808000; text-decoration-color: #808000\">│</span>\n",
       "<span style=\"color: #808000; text-decoration-color: #808000\">│</span> Ventures, Eni, Bill Gates.                                                                                      <span style=\"color: #808000; text-decoration-color: #808000\">│</span>\n",
       "<span style=\"color: #808000; text-decoration-color: #808000\">│</span> 3. **Latest Round**: $1.8 billion Series B in November 2021 for SPARC tokamak development.                      <span style=\"color: #808000; text-decoration-color: #808000\">│</span>\n",
       "<span style=\"color: #808000; text-decoration-color: #808000\">│</span> 4. **Additional Funding**: Received grants from the U.S. Department of Energy in 2023.                          <span style=\"color: #808000; text-decoration-color: #808000\">│</span>\n",
       "<span style=\"color: #808000; text-decoration-color: #808000\">│</span>                                                                                                                 <span style=\"color: #808000; text-decoration-color: #808000\">│</span>\n",
       "<span style=\"color: #808000; text-decoration-color: #808000\">│</span> #### Helion Energy                                                                                              <span style=\"color: #808000; text-decoration-color: #808000\">│</span>\n",
       "<span style=\"color: #808000; text-decoration-color: #808000\">│</span> 1. **Total Funding**: Over $1 billion across 7 rounds (as of January 2025).                                     <span style=\"color: #808000; text-decoration-color: #808000\">│</span>\n",
       "<span style=\"color: #808000; text-decoration-color: #808000\">│</span> 2. **Key Investors**: Defense.gov, DOE, SoftBank Vision Fund, Mithril, Sam Altman.                              <span style=\"color: #808000; text-decoration-color: #808000\">│</span>\n",
       "<span style=\"color: #808000; text-decoration-color: #808000\">│</span> 3. **Latest Round**: $425 million Series F in January 2025 for scaling commercialization.                       <span style=\"color: #808000; text-decoration-color: #808000\">│</span>\n",
       "<span style=\"color: #808000; text-decoration-color: #808000\">│</span> 4. **Post-Money Valuation**: $5.425 billion (as of January 2025).                                               <span style=\"color: #808000; text-decoration-color: #808000\">│</span>\n",
       "<span style=\"color: #808000; text-decoration-color: #808000\">│</span>                                                                                                                 <span style=\"color: #808000; text-decoration-color: #808000\">│</span>\n",
       "<span style=\"color: #808000; text-decoration-color: #808000\">│</span> ### Recent Developments                                                                                         <span style=\"color: #808000; text-decoration-color: #808000\">│</span>\n",
       "<span style=\"color: #808000; text-decoration-color: #808000\">│</span>                                                                                                                 <span style=\"color: #808000; text-decoration-color: #808000\">│</span>\n",
       "<span style=\"color: #808000; text-decoration-color: #808000\">│</span> #### Commonwealth Fusion Systems                                                                                <span style=\"color: #808000; text-decoration-color: #808000\">│</span>\n",
       "<span style=\"color: #808000; text-decoration-color: #808000\">│</span> 1. **SPARC Development**: Construction and commissioning of SPARC, the first commercially relevant net energy   <span style=\"color: #808000; text-decoration-color: #808000\">│</span>\n",
       "<span style=\"color: #808000; text-decoration-color: #808000\">│</span> fusion machine.                                                                                                 <span style=\"color: #808000; text-decoration-color: #808000\">│</span>\n",
       "<span style=\"color: #808000; text-decoration-color: #808000\">│</span> 2. **ARC Power Plant**: Began work on ARC, the first commercial fusion power plant.                             <span style=\"color: #808000; text-decoration-color: #808000\">│</span>\n",
       "<span style=\"color: #808000; text-decoration-color: #808000\">│</span> 3. **Partnerships**: Collaborated with Eni (March 2023) and Google (June 2025) for strategic partnerships.      <span style=\"color: #808000; text-decoration-color: #808000\">│</span>\n",
       "<span style=\"color: #808000; text-decoration-color: #808000\">│</span> 4. **Facility**: Opened a new campus in Devens, Massachusetts, for fusion energy development.                   <span style=\"color: #808000; text-decoration-color: #808000\">│</span>\n",
       "<span style=\"color: #808000; text-decoration-color: #808000\">│</span>                                                                                                                 <span style=\"color: #808000; text-decoration-color: #808000\">│</span>\n",
       "<span style=\"color: #808000; text-decoration-color: #808000\">│</span> #### Helion Energy                                                                                              <span style=\"color: #808000; text-decoration-color: #808000\">│</span>\n",
       "<span style=\"color: #808000; text-decoration-color: #808000\">│</span> 1. **Prototypes**: Built six working prototypes; Polaris prototype operational in 2024.                         <span style=\"color: #808000; text-decoration-color: #808000\">│</span>\n",
       "<span style=\"color: #808000; text-decoration-color: #808000\">│</span> 2. **Polaris Plant**: Began construction of its first fusion power plant, Orion, targeting 50 MWe output by     <span style=\"color: #808000; text-decoration-color: #808000\">│</span>\n",
       "<span style=\"color: #808000; text-decoration-color: #808000\">│</span> 2028.                                                                                                           <span style=\"color: #808000; text-decoration-color: #808000\">│</span>\n",
       "<span style=\"color: #808000; text-decoration-color: #808000\">│</span> 3. **Partnerships**: Signed a power purchase agreement with Microsoft (May 2023) for electricity supply.        <span style=\"color: #808000; text-decoration-color: #808000\">│</span>\n",
       "<span style=\"color: #808000; text-decoration-color: #808000\">│</span> 4. **Community Engagement**: Actively collaborating with local stakeholders for project development.            <span style=\"color: #808000; text-decoration-color: #808000\">│</span>\n",
       "<span style=\"color: #808000; text-decoration-color: #808000\">╰─────────────────────────────────────────────────────────────────────────────────────────────────────────────────╯</span>\n",
       "</pre>\n"
      ]
     },
     "metadata": {},
     "output_type": "display_data"
    },
    {
     "data": {
      "text/plain": [
       "\u001B[37m╭─\u001B[0m\u001B[37m────────────────────────────────────────────────────\u001B[0m\u001B[37m 📝 AI \u001B[0m\u001B[37m────────────────────────────────────────────────────\u001B[0m\u001B[37m─╮\u001B[0m\n",
       "\u001B[37m│\u001B[0m Here’s a comprehensive comparison of **Commonwealth Fusion Systems (CFS)** and **Helion Energy** based on their \u001B[37m│\u001B[0m\n",
       "\u001B[37m│\u001B[0m funding rounds and recent developments:                                                                         \u001B[37m│\u001B[0m\n",
       "\u001B[37m│\u001B[0m                                                                                                                 \u001B[37m│\u001B[0m\n",
       "\u001B[37m│\u001B[0m ---                                                                                                             \u001B[37m│\u001B[0m\n",
       "\u001B[37m│\u001B[0m                                                                                                                 \u001B[37m│\u001B[0m\n",
       "\u001B[37m│\u001B[0m ### **Funding Rounds**                                                                                          \u001B[37m│\u001B[0m\n",
       "\u001B[37m│\u001B[0m                                                                                                                 \u001B[37m│\u001B[0m\n",
       "\u001B[37m│\u001B[0m #### **Commonwealth Fusion Systems (CFS)**                                                                      \u001B[37m│\u001B[0m\n",
       "\u001B[37m│\u001B[0m - **Total Funding**: Over $2 billion across 5 rounds (as of May 2023).                                          \u001B[37m│\u001B[0m\n",
       "\u001B[37m│\u001B[0m - **Key Investors**: Temasek Holdings, U.S. Department of Energy, Tiger Global Management, Breakthrough Energy  \u001B[37m│\u001B[0m\n",
       "\u001B[37m│\u001B[0m Ventures, Eni, and Bill Gates.                                                                                  \u001B[37m│\u001B[0m\n",
       "\u001B[37m│\u001B[0m - **Latest Round**: $1.8 billion Series B in November 2021 for the development of SPARC, the first commercially \u001B[37m│\u001B[0m\n",
       "\u001B[37m│\u001B[0m relevant net energy fusion machine.                                                                             \u001B[37m│\u001B[0m\n",
       "\u001B[37m│\u001B[0m - **Additional Funding**: Received grants from the U.S. Department of Energy in 2023.                           \u001B[37m│\u001B[0m\n",
       "\u001B[37m│\u001B[0m                                                                                                                 \u001B[37m│\u001B[0m\n",
       "\u001B[37m│\u001B[0m #### **Helion Energy**                                                                                          \u001B[37m│\u001B[0m\n",
       "\u001B[37m│\u001B[0m - **Total Funding**: Over $1 billion across 7 rounds (as of January 2025).                                      \u001B[37m│\u001B[0m\n",
       "\u001B[37m│\u001B[0m - **Key Investors**: Defense.gov, DOE, SoftBank Vision Fund, Mithril, and Sam Altman.                           \u001B[37m│\u001B[0m\n",
       "\u001B[37m│\u001B[0m - **Latest Round**: $425 million Series F in January 2025 to scale commercialization efforts.                   \u001B[37m│\u001B[0m\n",
       "\u001B[37m│\u001B[0m - **Post-Money Valuation**: $5.425 billion (as of January 2025).                                                \u001B[37m│\u001B[0m\n",
       "\u001B[37m│\u001B[0m                                                                                                                 \u001B[37m│\u001B[0m\n",
       "\u001B[37m│\u001B[0m ---                                                                                                             \u001B[37m│\u001B[0m\n",
       "\u001B[37m│\u001B[0m                                                                                                                 \u001B[37m│\u001B[0m\n",
       "\u001B[37m│\u001B[0m ### **Recent Developments**                                                                                     \u001B[37m│\u001B[0m\n",
       "\u001B[37m│\u001B[0m                                                                                                                 \u001B[37m│\u001B[0m\n",
       "\u001B[37m│\u001B[0m #### **Commonwealth Fusion Systems (CFS)**                                                                      \u001B[37m│\u001B[0m\n",
       "\u001B[37m│\u001B[0m 1. **SPARC Tokamak**: Construction and commissioning underway for the world’s first commercially relevant net   \u001B[37m│\u001B[0m\n",
       "\u001B[37m│\u001B[0m energy fusion machine.                                                                                          \u001B[37m│\u001B[0m\n",
       "\u001B[37m│\u001B[0m 2. **ARC Power Plant**: Development initiated for the first commercial fusion power plant.                      \u001B[37m│\u001B[0m\n",
       "\u001B[37m│\u001B[0m 3. **Strategic Partnerships**:                                                                                  \u001B[37m│\u001B[0m\n",
       "\u001B[37m│\u001B[0m    - Collaborated with **Eni** (March 2023) for components and authorizations.                                  \u001B[37m│\u001B[0m\n",
       "\u001B[37m│\u001B[0m    - Signed a partnership with **Google** (June 2025) to develop and scale fusion power.                        \u001B[37m│\u001B[0m\n",
       "\u001B[37m│\u001B[0m 4. **Facilities**: Opened a new campus in Devens, Massachusetts, to support fusion energy development.          \u001B[37m│\u001B[0m\n",
       "\u001B[37m│\u001B[0m                                                                                                                 \u001B[37m│\u001B[0m\n",
       "\u001B[37m│\u001B[0m #### **Helion Energy**                                                                                          \u001B[37m│\u001B[0m\n",
       "\u001B[37m│\u001B[0m 1. **Prototypes**: Built six working prototypes; the seventh, **Polaris**, became operational in 2024.          \u001B[37m│\u001B[0m\n",
       "\u001B[37m│\u001B[0m 2. **Fusion Power Plant**: Construction of **Orion**, its first power plant, began with a target output of 50   \u001B[37m│\u001B[0m\n",
       "\u001B[37m│\u001B[0m MWe by 2028.                                                                                                    \u001B[37m│\u001B[0m\n",
       "\u001B[37m│\u001B[0m 3. **Partnerships**:                                                                                            \u001B[37m│\u001B[0m\n",
       "\u001B[37m│\u001B[0m    - Signed a **power purchase agreement (PPA)** with **Microsoft** (May 2023) to supply electricity from its   \u001B[37m│\u001B[0m\n",
       "\u001B[37m│\u001B[0m fusion plant.                                                                                                   \u001B[37m│\u001B[0m\n",
       "\u001B[37m│\u001B[0m    - Collaborating with **Constellation Energy** for transmission management.                                   \u001B[37m│\u001B[0m\n",
       "\u001B[37m│\u001B[0m 4. **Community Engagement**: Actively working with local stakeholders and government agencies to ensure smooth  \u001B[37m│\u001B[0m\n",
       "\u001B[37m│\u001B[0m project execution.                                                                                              \u001B[37m│\u001B[0m\n",
       "\u001B[37m│\u001B[0m                                                                                                                 \u001B[37m│\u001B[0m\n",
       "\u001B[37m│\u001B[0m ---                                                                                                             \u001B[37m│\u001B[0m\n",
       "\u001B[37m│\u001B[0m                                                                                                                 \u001B[37m│\u001B[0m\n",
       "\u001B[37m│\u001B[0m ### **Key Takeaways**                                                                                           \u001B[37m│\u001B[0m\n",
       "\u001B[37m│\u001B[0m - **Funding**: CFS has raised more capital ($2B+ vs. $1B+), but Helion has a higher post-money valuation        \u001B[37m│\u001B[0m\n",
       "\u001B[37m│\u001B[0m ($5.425B).                                                                                                      \u001B[37m│\u001B[0m\n",
       "\u001B[37m│\u001B[0m - **Technology**: CFS focuses on tokamak-based fusion (SPARC and ARC), while Helion uses pulsed, non-ignition   \u001B[37m│\u001B[0m\n",
       "\u001B[37m│\u001B[0m fusion (Polaris and Orion).                                                                                     \u001B[37m│\u001B[0m\n",
       "\u001B[37m│\u001B[0m - **Commercialization**: Both companies are advancing toward commercial fusion, with CFS targeting grid-scale   \u001B[37m│\u001B[0m\n",
       "\u001B[37m│\u001B[0m power plants and Helion aiming for early electricity supply to Microsoft.                                       \u001B[37m│\u001B[0m\n",
       "\u001B[37m│\u001B[0m                                                                                                                 \u001B[37m│\u001B[0m\n",
       "\u001B[37m│\u001B[0m Let me know if you'd like further details on any aspect!                                                        \u001B[37m│\u001B[0m\n",
       "\u001B[37m╰─────────────────────────────────────────────────────────────────────────────────────────────────────────────────╯\u001B[0m\n"
      ],
      "text/html": [
       "<pre style=\"white-space:pre;overflow-x:auto;line-height:normal;font-family:Menlo,'DejaVu Sans Mono',consolas,'Courier New',monospace\"><span style=\"color: #c0c0c0; text-decoration-color: #c0c0c0\">╭───────────────────────────────────────────────────── 📝 AI ─────────────────────────────────────────────────────╮</span>\n",
       "<span style=\"color: #c0c0c0; text-decoration-color: #c0c0c0\">│</span> Here’s a comprehensive comparison of **Commonwealth Fusion Systems (CFS)** and **Helion Energy** based on their <span style=\"color: #c0c0c0; text-decoration-color: #c0c0c0\">│</span>\n",
       "<span style=\"color: #c0c0c0; text-decoration-color: #c0c0c0\">│</span> funding rounds and recent developments:                                                                         <span style=\"color: #c0c0c0; text-decoration-color: #c0c0c0\">│</span>\n",
       "<span style=\"color: #c0c0c0; text-decoration-color: #c0c0c0\">│</span>                                                                                                                 <span style=\"color: #c0c0c0; text-decoration-color: #c0c0c0\">│</span>\n",
       "<span style=\"color: #c0c0c0; text-decoration-color: #c0c0c0\">│</span> ---                                                                                                             <span style=\"color: #c0c0c0; text-decoration-color: #c0c0c0\">│</span>\n",
       "<span style=\"color: #c0c0c0; text-decoration-color: #c0c0c0\">│</span>                                                                                                                 <span style=\"color: #c0c0c0; text-decoration-color: #c0c0c0\">│</span>\n",
       "<span style=\"color: #c0c0c0; text-decoration-color: #c0c0c0\">│</span> ### **Funding Rounds**                                                                                          <span style=\"color: #c0c0c0; text-decoration-color: #c0c0c0\">│</span>\n",
       "<span style=\"color: #c0c0c0; text-decoration-color: #c0c0c0\">│</span>                                                                                                                 <span style=\"color: #c0c0c0; text-decoration-color: #c0c0c0\">│</span>\n",
       "<span style=\"color: #c0c0c0; text-decoration-color: #c0c0c0\">│</span> #### **Commonwealth Fusion Systems (CFS)**                                                                      <span style=\"color: #c0c0c0; text-decoration-color: #c0c0c0\">│</span>\n",
       "<span style=\"color: #c0c0c0; text-decoration-color: #c0c0c0\">│</span> - **Total Funding**: Over $2 billion across 5 rounds (as of May 2023).                                          <span style=\"color: #c0c0c0; text-decoration-color: #c0c0c0\">│</span>\n",
       "<span style=\"color: #c0c0c0; text-decoration-color: #c0c0c0\">│</span> - **Key Investors**: Temasek Holdings, U.S. Department of Energy, Tiger Global Management, Breakthrough Energy  <span style=\"color: #c0c0c0; text-decoration-color: #c0c0c0\">│</span>\n",
       "<span style=\"color: #c0c0c0; text-decoration-color: #c0c0c0\">│</span> Ventures, Eni, and Bill Gates.                                                                                  <span style=\"color: #c0c0c0; text-decoration-color: #c0c0c0\">│</span>\n",
       "<span style=\"color: #c0c0c0; text-decoration-color: #c0c0c0\">│</span> - **Latest Round**: $1.8 billion Series B in November 2021 for the development of SPARC, the first commercially <span style=\"color: #c0c0c0; text-decoration-color: #c0c0c0\">│</span>\n",
       "<span style=\"color: #c0c0c0; text-decoration-color: #c0c0c0\">│</span> relevant net energy fusion machine.                                                                             <span style=\"color: #c0c0c0; text-decoration-color: #c0c0c0\">│</span>\n",
       "<span style=\"color: #c0c0c0; text-decoration-color: #c0c0c0\">│</span> - **Additional Funding**: Received grants from the U.S. Department of Energy in 2023.                           <span style=\"color: #c0c0c0; text-decoration-color: #c0c0c0\">│</span>\n",
       "<span style=\"color: #c0c0c0; text-decoration-color: #c0c0c0\">│</span>                                                                                                                 <span style=\"color: #c0c0c0; text-decoration-color: #c0c0c0\">│</span>\n",
       "<span style=\"color: #c0c0c0; text-decoration-color: #c0c0c0\">│</span> #### **Helion Energy**                                                                                          <span style=\"color: #c0c0c0; text-decoration-color: #c0c0c0\">│</span>\n",
       "<span style=\"color: #c0c0c0; text-decoration-color: #c0c0c0\">│</span> - **Total Funding**: Over $1 billion across 7 rounds (as of January 2025).                                      <span style=\"color: #c0c0c0; text-decoration-color: #c0c0c0\">│</span>\n",
       "<span style=\"color: #c0c0c0; text-decoration-color: #c0c0c0\">│</span> - **Key Investors**: Defense.gov, DOE, SoftBank Vision Fund, Mithril, and Sam Altman.                           <span style=\"color: #c0c0c0; text-decoration-color: #c0c0c0\">│</span>\n",
       "<span style=\"color: #c0c0c0; text-decoration-color: #c0c0c0\">│</span> - **Latest Round**: $425 million Series F in January 2025 to scale commercialization efforts.                   <span style=\"color: #c0c0c0; text-decoration-color: #c0c0c0\">│</span>\n",
       "<span style=\"color: #c0c0c0; text-decoration-color: #c0c0c0\">│</span> - **Post-Money Valuation**: $5.425 billion (as of January 2025).                                                <span style=\"color: #c0c0c0; text-decoration-color: #c0c0c0\">│</span>\n",
       "<span style=\"color: #c0c0c0; text-decoration-color: #c0c0c0\">│</span>                                                                                                                 <span style=\"color: #c0c0c0; text-decoration-color: #c0c0c0\">│</span>\n",
       "<span style=\"color: #c0c0c0; text-decoration-color: #c0c0c0\">│</span> ---                                                                                                             <span style=\"color: #c0c0c0; text-decoration-color: #c0c0c0\">│</span>\n",
       "<span style=\"color: #c0c0c0; text-decoration-color: #c0c0c0\">│</span>                                                                                                                 <span style=\"color: #c0c0c0; text-decoration-color: #c0c0c0\">│</span>\n",
       "<span style=\"color: #c0c0c0; text-decoration-color: #c0c0c0\">│</span> ### **Recent Developments**                                                                                     <span style=\"color: #c0c0c0; text-decoration-color: #c0c0c0\">│</span>\n",
       "<span style=\"color: #c0c0c0; text-decoration-color: #c0c0c0\">│</span>                                                                                                                 <span style=\"color: #c0c0c0; text-decoration-color: #c0c0c0\">│</span>\n",
       "<span style=\"color: #c0c0c0; text-decoration-color: #c0c0c0\">│</span> #### **Commonwealth Fusion Systems (CFS)**                                                                      <span style=\"color: #c0c0c0; text-decoration-color: #c0c0c0\">│</span>\n",
       "<span style=\"color: #c0c0c0; text-decoration-color: #c0c0c0\">│</span> 1. **SPARC Tokamak**: Construction and commissioning underway for the world’s first commercially relevant net   <span style=\"color: #c0c0c0; text-decoration-color: #c0c0c0\">│</span>\n",
       "<span style=\"color: #c0c0c0; text-decoration-color: #c0c0c0\">│</span> energy fusion machine.                                                                                          <span style=\"color: #c0c0c0; text-decoration-color: #c0c0c0\">│</span>\n",
       "<span style=\"color: #c0c0c0; text-decoration-color: #c0c0c0\">│</span> 2. **ARC Power Plant**: Development initiated for the first commercial fusion power plant.                      <span style=\"color: #c0c0c0; text-decoration-color: #c0c0c0\">│</span>\n",
       "<span style=\"color: #c0c0c0; text-decoration-color: #c0c0c0\">│</span> 3. **Strategic Partnerships**:                                                                                  <span style=\"color: #c0c0c0; text-decoration-color: #c0c0c0\">│</span>\n",
       "<span style=\"color: #c0c0c0; text-decoration-color: #c0c0c0\">│</span>    - Collaborated with **Eni** (March 2023) for components and authorizations.                                  <span style=\"color: #c0c0c0; text-decoration-color: #c0c0c0\">│</span>\n",
       "<span style=\"color: #c0c0c0; text-decoration-color: #c0c0c0\">│</span>    - Signed a partnership with **Google** (June 2025) to develop and scale fusion power.                        <span style=\"color: #c0c0c0; text-decoration-color: #c0c0c0\">│</span>\n",
       "<span style=\"color: #c0c0c0; text-decoration-color: #c0c0c0\">│</span> 4. **Facilities**: Opened a new campus in Devens, Massachusetts, to support fusion energy development.          <span style=\"color: #c0c0c0; text-decoration-color: #c0c0c0\">│</span>\n",
       "<span style=\"color: #c0c0c0; text-decoration-color: #c0c0c0\">│</span>                                                                                                                 <span style=\"color: #c0c0c0; text-decoration-color: #c0c0c0\">│</span>\n",
       "<span style=\"color: #c0c0c0; text-decoration-color: #c0c0c0\">│</span> #### **Helion Energy**                                                                                          <span style=\"color: #c0c0c0; text-decoration-color: #c0c0c0\">│</span>\n",
       "<span style=\"color: #c0c0c0; text-decoration-color: #c0c0c0\">│</span> 1. **Prototypes**: Built six working prototypes; the seventh, **Polaris**, became operational in 2024.          <span style=\"color: #c0c0c0; text-decoration-color: #c0c0c0\">│</span>\n",
       "<span style=\"color: #c0c0c0; text-decoration-color: #c0c0c0\">│</span> 2. **Fusion Power Plant**: Construction of **Orion**, its first power plant, began with a target output of 50   <span style=\"color: #c0c0c0; text-decoration-color: #c0c0c0\">│</span>\n",
       "<span style=\"color: #c0c0c0; text-decoration-color: #c0c0c0\">│</span> MWe by 2028.                                                                                                    <span style=\"color: #c0c0c0; text-decoration-color: #c0c0c0\">│</span>\n",
       "<span style=\"color: #c0c0c0; text-decoration-color: #c0c0c0\">│</span> 3. **Partnerships**:                                                                                            <span style=\"color: #c0c0c0; text-decoration-color: #c0c0c0\">│</span>\n",
       "<span style=\"color: #c0c0c0; text-decoration-color: #c0c0c0\">│</span>    - Signed a **power purchase agreement (PPA)** with **Microsoft** (May 2023) to supply electricity from its   <span style=\"color: #c0c0c0; text-decoration-color: #c0c0c0\">│</span>\n",
       "<span style=\"color: #c0c0c0; text-decoration-color: #c0c0c0\">│</span> fusion plant.                                                                                                   <span style=\"color: #c0c0c0; text-decoration-color: #c0c0c0\">│</span>\n",
       "<span style=\"color: #c0c0c0; text-decoration-color: #c0c0c0\">│</span>    - Collaborating with **Constellation Energy** for transmission management.                                   <span style=\"color: #c0c0c0; text-decoration-color: #c0c0c0\">│</span>\n",
       "<span style=\"color: #c0c0c0; text-decoration-color: #c0c0c0\">│</span> 4. **Community Engagement**: Actively working with local stakeholders and government agencies to ensure smooth  <span style=\"color: #c0c0c0; text-decoration-color: #c0c0c0\">│</span>\n",
       "<span style=\"color: #c0c0c0; text-decoration-color: #c0c0c0\">│</span> project execution.                                                                                              <span style=\"color: #c0c0c0; text-decoration-color: #c0c0c0\">│</span>\n",
       "<span style=\"color: #c0c0c0; text-decoration-color: #c0c0c0\">│</span>                                                                                                                 <span style=\"color: #c0c0c0; text-decoration-color: #c0c0c0\">│</span>\n",
       "<span style=\"color: #c0c0c0; text-decoration-color: #c0c0c0\">│</span> ---                                                                                                             <span style=\"color: #c0c0c0; text-decoration-color: #c0c0c0\">│</span>\n",
       "<span style=\"color: #c0c0c0; text-decoration-color: #c0c0c0\">│</span>                                                                                                                 <span style=\"color: #c0c0c0; text-decoration-color: #c0c0c0\">│</span>\n",
       "<span style=\"color: #c0c0c0; text-decoration-color: #c0c0c0\">│</span> ### **Key Takeaways**                                                                                           <span style=\"color: #c0c0c0; text-decoration-color: #c0c0c0\">│</span>\n",
       "<span style=\"color: #c0c0c0; text-decoration-color: #c0c0c0\">│</span> - **Funding**: CFS has raised more capital ($2B+ vs. $1B+), but Helion has a higher post-money valuation        <span style=\"color: #c0c0c0; text-decoration-color: #c0c0c0\">│</span>\n",
       "<span style=\"color: #c0c0c0; text-decoration-color: #c0c0c0\">│</span> ($5.425B).                                                                                                      <span style=\"color: #c0c0c0; text-decoration-color: #c0c0c0\">│</span>\n",
       "<span style=\"color: #c0c0c0; text-decoration-color: #c0c0c0\">│</span> - **Technology**: CFS focuses on tokamak-based fusion (SPARC and ARC), while Helion uses pulsed, non-ignition   <span style=\"color: #c0c0c0; text-decoration-color: #c0c0c0\">│</span>\n",
       "<span style=\"color: #c0c0c0; text-decoration-color: #c0c0c0\">│</span> fusion (Polaris and Orion).                                                                                     <span style=\"color: #c0c0c0; text-decoration-color: #c0c0c0\">│</span>\n",
       "<span style=\"color: #c0c0c0; text-decoration-color: #c0c0c0\">│</span> - **Commercialization**: Both companies are advancing toward commercial fusion, with CFS targeting grid-scale   <span style=\"color: #c0c0c0; text-decoration-color: #c0c0c0\">│</span>\n",
       "<span style=\"color: #c0c0c0; text-decoration-color: #c0c0c0\">│</span> power plants and Helion aiming for early electricity supply to Microsoft.                                       <span style=\"color: #c0c0c0; text-decoration-color: #c0c0c0\">│</span>\n",
       "<span style=\"color: #c0c0c0; text-decoration-color: #c0c0c0\">│</span>                                                                                                                 <span style=\"color: #c0c0c0; text-decoration-color: #c0c0c0\">│</span>\n",
       "<span style=\"color: #c0c0c0; text-decoration-color: #c0c0c0\">│</span> Let me know if you'd like further details on any aspect!                                                        <span style=\"color: #c0c0c0; text-decoration-color: #c0c0c0\">│</span>\n",
       "<span style=\"color: #c0c0c0; text-decoration-color: #c0c0c0\">╰─────────────────────────────────────────────────────────────────────────────────────────────────────────────────╯</span>\n",
       "</pre>\n"
      ]
     },
     "metadata": {},
     "output_type": "display_data"
    }
   ],
   "execution_count": 19
  },
  {
   "metadata": {
    "ExecuteTime": {
     "end_time": "2025-08-13T12:45:53.193008Z",
     "start_time": "2025-08-13T12:45:53.100991Z"
    }
   },
   "cell_type": "code",
   "source": [
    "\n",
    "console = Console()\n",
    "console.print(\"\\n[bold green]Scratchpad:[/bold green]\")\n",
    "\n",
    "Markdown(state['scratchpad'])"
   ],
   "id": "44c0679cfc5cef05",
   "outputs": [
    {
     "data": {
      "text/plain": [
       "\n",
       "\u001B[1;32mScratchpad:\u001B[0m\n"
      ],
      "text/html": [
       "<pre style=\"white-space:pre;overflow-x:auto;line-height:normal;font-family:Menlo,'DejaVu Sans Mono',consolas,'Courier New',monospace\">\n",
       "<span style=\"color: #008000; text-decoration-color: #008000; font-weight: bold\">Scratchpad:</span>\n",
       "</pre>\n"
      ]
     },
     "metadata": {},
     "output_type": "display_data"
    },
    {
     "data": {
      "text/plain": [
       "                                             \u001B[1mFunding Rounds Comparison\u001B[0m                                             \n",
       "\n",
       "                                         \u001B[1;2mCommonwealth Fusion Systems (CFS)\u001B[0m                                         \n",
       "\n",
       "\u001B[1;33m 1 \u001B[0m\u001B[1mTotal Funding\u001B[0m: Over $2 billion across 5 rounds (as of May 2023).                                                \n",
       "\u001B[1;33m 2 \u001B[0m\u001B[1mKey Investors\u001B[0m: Temasek Holdings, U.S. Department of Energy, Tiger Global Management, Breakthrough Energy        \n",
       "\u001B[1;33m   \u001B[0mVentures, Eni, Bill Gates.                                                                                      \n",
       "\u001B[1;33m 3 \u001B[0m\u001B[1mLatest Round\u001B[0m: $1.8 billion Series B in November 2021 for SPARC tokamak development.                             \n",
       "\u001B[1;33m 4 \u001B[0m\u001B[1mAdditional Funding\u001B[0m: Received grants from the U.S. Department of Energy in 2023.                                 \n",
       "\n",
       "                                                   \u001B[1;2mHelion Energy\u001B[0m                                                   \n",
       "\n",
       "\u001B[1;33m 1 \u001B[0m\u001B[1mTotal Funding\u001B[0m: Over $1 billion across 7 rounds (as of January 2025).                                            \n",
       "\u001B[1;33m 2 \u001B[0m\u001B[1mKey Investors\u001B[0m: Defense.gov, DOE, SoftBank Vision Fund, Mithril, Sam Altman.                                     \n",
       "\u001B[1;33m 3 \u001B[0m\u001B[1mLatest Round\u001B[0m: $425 million Series F in January 2025 for scaling commercialization.                              \n",
       "\u001B[1;33m 4 \u001B[0m\u001B[1mPost-Money Valuation\u001B[0m: $5.425 billion (as of January 2025).                                                      \n",
       "\n",
       "                                                \u001B[1mRecent Developments\u001B[0m                                                \n",
       "\n",
       "                                            \u001B[1;2mCommonwealth Fusion Systems\u001B[0m                                            \n",
       "\n",
       "\u001B[1;33m 1 \u001B[0m\u001B[1mSPARC Development\u001B[0m: Construction and commissioning of SPARC, the first commercially relevant net energy fusion   \n",
       "\u001B[1;33m   \u001B[0mmachine.                                                                                                        \n",
       "\u001B[1;33m 2 \u001B[0m\u001B[1mARC Power Plant\u001B[0m: Began work on ARC, the first commercial fusion power plant.                                    \n",
       "\u001B[1;33m 3 \u001B[0m\u001B[1mPartnerships\u001B[0m: Collaborated with Eni (March 2023) and Google (June 2025) for strategic partnerships.             \n",
       "\u001B[1;33m 4 \u001B[0m\u001B[1mFacility\u001B[0m: Opened a new campus in Devens, Massachusetts, for fusion energy development.                          \n",
       "\n",
       "                                                   \u001B[1;2mHelion Energy\u001B[0m                                                   \n",
       "\n",
       "\u001B[1;33m 1 \u001B[0m\u001B[1mPrototypes\u001B[0m: Built six working prototypes; Polaris prototype operational in 2024.                                \n",
       "\u001B[1;33m 2 \u001B[0m\u001B[1mPolaris Plant\u001B[0m: Began construction of its first fusion power plant, Orion, targeting 50 MWe output by 2028.      \n",
       "\u001B[1;33m 3 \u001B[0m\u001B[1mPartnerships\u001B[0m: Signed a power purchase agreement with Microsoft (May 2023) for electricity supply.               \n",
       "\u001B[1;33m 4 \u001B[0m\u001B[1mCommunity Engagement\u001B[0m: Actively collaborating with local stakeholders for project development.                   \n"
      ],
      "text/html": [
       "<pre style=\"white-space:pre;overflow-x:auto;line-height:normal;font-family:Menlo,'DejaVu Sans Mono',consolas,'Courier New',monospace\">                                             <span style=\"font-weight: bold\">Funding Rounds Comparison</span>                                             \n",
       "\n",
       "                                         <span style=\"color: #7f7f7f; text-decoration-color: #7f7f7f; font-weight: bold\">Commonwealth Fusion Systems (CFS)</span>                                         \n",
       "\n",
       "<span style=\"color: #808000; text-decoration-color: #808000; font-weight: bold\"> 1 </span><span style=\"font-weight: bold\">Total Funding</span>: Over $2 billion across 5 rounds (as of May 2023).                                                \n",
       "<span style=\"color: #808000; text-decoration-color: #808000; font-weight: bold\"> 2 </span><span style=\"font-weight: bold\">Key Investors</span>: Temasek Holdings, U.S. Department of Energy, Tiger Global Management, Breakthrough Energy        \n",
       "<span style=\"color: #808000; text-decoration-color: #808000; font-weight: bold\">   </span>Ventures, Eni, Bill Gates.                                                                                      \n",
       "<span style=\"color: #808000; text-decoration-color: #808000; font-weight: bold\"> 3 </span><span style=\"font-weight: bold\">Latest Round</span>: $1.8 billion Series B in November 2021 for SPARC tokamak development.                             \n",
       "<span style=\"color: #808000; text-decoration-color: #808000; font-weight: bold\"> 4 </span><span style=\"font-weight: bold\">Additional Funding</span>: Received grants from the U.S. Department of Energy in 2023.                                 \n",
       "\n",
       "                                                   <span style=\"color: #7f7f7f; text-decoration-color: #7f7f7f; font-weight: bold\">Helion Energy</span>                                                   \n",
       "\n",
       "<span style=\"color: #808000; text-decoration-color: #808000; font-weight: bold\"> 1 </span><span style=\"font-weight: bold\">Total Funding</span>: Over $1 billion across 7 rounds (as of January 2025).                                            \n",
       "<span style=\"color: #808000; text-decoration-color: #808000; font-weight: bold\"> 2 </span><span style=\"font-weight: bold\">Key Investors</span>: Defense.gov, DOE, SoftBank Vision Fund, Mithril, Sam Altman.                                     \n",
       "<span style=\"color: #808000; text-decoration-color: #808000; font-weight: bold\"> 3 </span><span style=\"font-weight: bold\">Latest Round</span>: $425 million Series F in January 2025 for scaling commercialization.                              \n",
       "<span style=\"color: #808000; text-decoration-color: #808000; font-weight: bold\"> 4 </span><span style=\"font-weight: bold\">Post-Money Valuation</span>: $5.425 billion (as of January 2025).                                                      \n",
       "\n",
       "                                                <span style=\"font-weight: bold\">Recent Developments</span>                                                \n",
       "\n",
       "                                            <span style=\"color: #7f7f7f; text-decoration-color: #7f7f7f; font-weight: bold\">Commonwealth Fusion Systems</span>                                            \n",
       "\n",
       "<span style=\"color: #808000; text-decoration-color: #808000; font-weight: bold\"> 1 </span><span style=\"font-weight: bold\">SPARC Development</span>: Construction and commissioning of SPARC, the first commercially relevant net energy fusion   \n",
       "<span style=\"color: #808000; text-decoration-color: #808000; font-weight: bold\">   </span>machine.                                                                                                        \n",
       "<span style=\"color: #808000; text-decoration-color: #808000; font-weight: bold\"> 2 </span><span style=\"font-weight: bold\">ARC Power Plant</span>: Began work on ARC, the first commercial fusion power plant.                                    \n",
       "<span style=\"color: #808000; text-decoration-color: #808000; font-weight: bold\"> 3 </span><span style=\"font-weight: bold\">Partnerships</span>: Collaborated with Eni (March 2023) and Google (June 2025) for strategic partnerships.             \n",
       "<span style=\"color: #808000; text-decoration-color: #808000; font-weight: bold\"> 4 </span><span style=\"font-weight: bold\">Facility</span>: Opened a new campus in Devens, Massachusetts, for fusion energy development.                          \n",
       "\n",
       "                                                   <span style=\"color: #7f7f7f; text-decoration-color: #7f7f7f; font-weight: bold\">Helion Energy</span>                                                   \n",
       "\n",
       "<span style=\"color: #808000; text-decoration-color: #808000; font-weight: bold\"> 1 </span><span style=\"font-weight: bold\">Prototypes</span>: Built six working prototypes; Polaris prototype operational in 2024.                                \n",
       "<span style=\"color: #808000; text-decoration-color: #808000; font-weight: bold\"> 2 </span><span style=\"font-weight: bold\">Polaris Plant</span>: Began construction of its first fusion power plant, Orion, targeting 50 MWe output by 2028.      \n",
       "<span style=\"color: #808000; text-decoration-color: #808000; font-weight: bold\"> 3 </span><span style=\"font-weight: bold\">Partnerships</span>: Signed a power purchase agreement with Microsoft (May 2023) for electricity supply.               \n",
       "<span style=\"color: #808000; text-decoration-color: #808000; font-weight: bold\"> 4 </span><span style=\"font-weight: bold\">Community Engagement</span>: Actively collaborating with local stakeholders for project development.                   \n",
       "</pre>\n"
      ]
     },
     "execution_count": 20,
     "metadata": {},
     "output_type": "execute_result"
    }
   ],
   "execution_count": 20
  },
  {
   "metadata": {},
   "cell_type": "markdown",
   "source": "# Offloading via memory",
   "id": "b08a3c00772971e3"
  },
  {
   "metadata": {
    "ExecuteTime": {
     "end_time": "2025-08-13T12:45:53.600038Z",
     "start_time": "2025-08-13T12:45:53.583663Z"
    }
   },
   "cell_type": "code",
   "source": [
    "from langgraph.store.memory import InMemoryStore\n",
    "\n",
    "store = InMemoryStore()\n",
    "\n",
    "namespace = (\"rlm\", \"scratchpad\")\n",
    "store.put(\n",
    "        namespace,\n",
    "        \"scratchpad\",\n",
    "        {\n",
    "            \"scratchpad\": \"Research project on renewable energy adoption in developing countries. Key areas to track: policy frameworks, technology barriers, financing mechanisms, and success stories from pilot programs.\"}\n",
    ")"
   ],
   "id": "72303d2faaced6d2",
   "outputs": [],
   "execution_count": 21
  },
  {
   "metadata": {
    "ExecuteTime": {
     "end_time": "2025-08-13T12:45:53.650813Z",
     "start_time": "2025-08-13T12:45:53.614105Z"
    }
   },
   "cell_type": "code",
   "source": [
    "\n",
    "scratchpad = store.get(namespace, \"scratchpad\")\n",
    "\n",
    "console = Console()\n",
    "console.print(\"\\n[bold green]Retrieved Context from Memory:[/bold green]\")\n",
    "pprint(scratchpad)"
   ],
   "id": "c2f085a2e87e228d",
   "outputs": [
    {
     "data": {
      "text/plain": [
       "\n",
       "\u001B[1;32mRetrieved Context from Memory:\u001B[0m\n"
      ],
      "text/html": [
       "<pre style=\"white-space:pre;overflow-x:auto;line-height:normal;font-family:Menlo,'DejaVu Sans Mono',consolas,'Courier New',monospace\">\n",
       "<span style=\"color: #008000; text-decoration-color: #008000; font-weight: bold\">Retrieved Context from Memory:</span>\n",
       "</pre>\n"
      ]
     },
     "metadata": {},
     "output_type": "display_data"
    },
    {
     "data": {
      "text/plain": [
       "\u001B[1;35mItem\u001B[0m\u001B[1m(\u001B[0m\u001B[33mnamespace\u001B[0m=\u001B[1m[\u001B[0m\u001B[32m'rlm'\u001B[0m, \u001B[32m'scratchpad'\u001B[0m\u001B[1m]\u001B[0m, \u001B[33mkey\u001B[0m=\u001B[32m'scratchpad'\u001B[0m, \u001B[33mvalue\u001B[0m=\u001B[1m{\u001B[0m\u001B[32m'scratchpad'\u001B[0m: \u001B[32m'Research project on renewable energy adoption in developing countries. Key areas to track: policy frameworks, technology barriers, financing mechanisms, and success stories from pilot programs.'\u001B[0m\u001B[1m}\u001B[0m, \u001B[33mcreated_at\u001B[0m=\u001B[32m'2025-08-13T12:45:53.597521+00:00'\u001B[0m, \u001B[33mupdated_at\u001B[0m=\u001B[32m'2025-08-13T12:45:53.597528+00:00'\u001B[0m\u001B[1m)\u001B[0m\n"
      ],
      "text/html": [
       "<pre style=\"white-space:pre;overflow-x:auto;line-height:normal;font-family:Menlo,'DejaVu Sans Mono',consolas,'Courier New',monospace\"><span style=\"color: #800080; text-decoration-color: #800080; font-weight: bold\">Item</span><span style=\"font-weight: bold\">(</span><span style=\"color: #808000; text-decoration-color: #808000\">namespace</span>=<span style=\"font-weight: bold\">[</span><span style=\"color: #008000; text-decoration-color: #008000\">'rlm'</span>, <span style=\"color: #008000; text-decoration-color: #008000\">'scratchpad'</span><span style=\"font-weight: bold\">]</span>, <span style=\"color: #808000; text-decoration-color: #808000\">key</span>=<span style=\"color: #008000; text-decoration-color: #008000\">'scratchpad'</span>, <span style=\"color: #808000; text-decoration-color: #808000\">value</span>=<span style=\"font-weight: bold\">{</span><span style=\"color: #008000; text-decoration-color: #008000\">'scratchpad'</span>: <span style=\"color: #008000; text-decoration-color: #008000\">'Research project on renewable energy adoption in developing countries. Key areas to track: policy frameworks, technology barriers, financing mechanisms, and success stories from pilot programs.'</span><span style=\"font-weight: bold\">}</span>, <span style=\"color: #808000; text-decoration-color: #808000\">created_at</span>=<span style=\"color: #008000; text-decoration-color: #008000\">'2025-08-13T12:45:53.597521+00:00'</span>, <span style=\"color: #808000; text-decoration-color: #808000\">updated_at</span>=<span style=\"color: #008000; text-decoration-color: #008000\">'2025-08-13T12:45:53.597528+00:00'</span><span style=\"font-weight: bold\">)</span>\n",
       "</pre>\n"
      ]
     },
     "metadata": {},
     "output_type": "display_data"
    }
   ],
   "execution_count": 22
  },
  {
   "metadata": {
    "ExecuteTime": {
     "end_time": "2025-08-13T12:45:54.123002Z",
     "start_time": "2025-08-13T12:45:53.712716Z"
    }
   },
   "cell_type": "code",
   "source": [
    "\n",
    "\n",
    "def tool_node_persistent(state: ScratchpadState, store: BaseStore) -> dict:\n",
    "    result = []\n",
    "    for tool_call in state[\"messages\"][-1].tool_calls:\n",
    "        tool = tool_by_name[tool_call[\"name\"]]\n",
    "        observation = tool.invoke(tool_call[\"args\"])\n",
    "\n",
    "        if tool_call[\"name\"] == \"WriteToScratchpad\":\n",
    "            # Save to a persistent store for cross-thread access\n",
    "            notes = observation.notes\n",
    "            result.append(ToolMessage(content=f\"Wrote to scratchpad: {notes}\", tool_call_id=tool_call[\"id\"]))\n",
    "            store.put(namespace, \"scratchpad\", {\"scratchpad\": notes})\n",
    "            update = {\"messages\": result}\n",
    "\n",
    "        elif tool_call[\"name\"] == \"ReadFromScratchpad\":\n",
    "            # Retrieve from persistent store across threads\n",
    "            stored_data = store.get(namespace, \"scratchpad\")\n",
    "            notes = stored_data.value[\"scratchpad\"] if stored_data else \"No notes found\"\n",
    "            result.append(ToolMessage(content=f\"Notes from scratchpad: {notes}\", tool_call_id=tool_call[\"id\"]))\n",
    "            update = {\"messages\": result}\n",
    "\n",
    "        elif tool_call[\"name\"] == \"tavily_search\":\n",
    "            # Write search tool observation to messages\n",
    "            result.append(ToolMessage(content=observation, tool_call_id=tool_call[\"id\"]))\n",
    "            update = {\"messages\": result}\n",
    "\n",
    "    return update\n",
    "\n",
    "\n",
    "# Build persistent memory workflow - enhanced version of the previous workflow\n",
    "agent_builder_persistent = StateGraph(ScratchpadState)\n",
    "\n",
    "# Add nodes (reusing llm_call, but with persistent tool node)\n",
    "agent_builder_persistent.add_node(\"llm_call\", llm_call)\n",
    "agent_builder_persistent.add_node(\"tools\", tool_node_persistent)\n",
    "\n",
    "# Define workflow edges (same structure as basic version)\n",
    "agent_builder_persistent.set_entry_point(\"llm_call\")\n",
    "agent_builder_persistent.add_conditional_edges(\"llm_call\", tools_condition, {\"tools\": \"tools\", END: END})\n",
    "agent_builder_persistent.add_edge(\"tools\", \"llm_call\")\n",
    "\n",
    "# Compile with checkpointer for thread-based state persistence\n",
    "checkpointer = InMemorySaver()\n",
    "\n",
    "# Initialize persistent memory storage component\n",
    "memory_store = InMemoryStore()\n",
    "\n",
    "# Compile with both checkpointer (for thread persistence) and store (for cross-thread memory)\n",
    "agent = agent_builder_persistent.compile(checkpointer=checkpointer, store=memory_store)\n",
    "\n",
    "# Display the enhanced workflow graph\n",
    "display(Image(agent.get_graph(xray=True).draw_mermaid_png()))"
   ],
   "id": "5f46f8506ceb6f30",
   "outputs": [
    {
     "data": {
      "image/png": "[encoded data removed]",
      "text/plain": [
       "<IPython.core.display.Image object>"
      ]
     },
     "metadata": {},
     "output_type": "display_data"
    }
   ],
   "execution_count": 23
  },
  {
   "metadata": {
    "ExecuteTime": {
     "end_time": "2025-08-13T12:47:46.801025Z",
     "start_time": "2025-08-13T12:45:54.161723Z"
    }
   },
   "cell_type": "code",
   "source": [
    "config = {\"configurable\": {\"thread_id\": \"1\"}}\n",
    "\n",
    "state = agent.invoke({\n",
    "    \"messages\": [HumanMessage(\n",
    "            content=\"Can you search for funding rounds and recent developments of Commonwealth Fusion Systems?\")]\n",
    "}, config)\n",
    "\n"
   ],
   "id": "b0ddc3073d45fc68",
   "outputs": [],
   "execution_count": 24
  },
  {
   "metadata": {
    "ExecuteTime": {
     "end_time": "2025-08-13T12:47:47.058609Z",
     "start_time": "2025-08-13T12:47:46.914336Z"
    }
   },
   "cell_type": "code",
   "source": [
    "\n",
    "\n",
    "console.print(\"\\n[bold cyan]Workflow Result (Thread 1) - Kick Off Research:[/bold cyan]\")\n",
    "format_messages(state['messages'])"
   ],
   "id": "a5f6cb3192775db9",
   "outputs": [
    {
     "data": {
      "text/plain": [
       "\n",
       "\u001B[1;36mWorkflow Result \u001B[0m\u001B[1;36m(\u001B[0m\u001B[1;36mThread \u001B[0m\u001B[1;36m1\u001B[0m\u001B[1;36m)\u001B[0m\u001B[1;36m - Kick Off Research:\u001B[0m\n"
      ],
      "text/html": [
       "<pre style=\"white-space:pre;overflow-x:auto;line-height:normal;font-family:Menlo,'DejaVu Sans Mono',consolas,'Courier New',monospace\">\n",
       "<span style=\"color: #008080; text-decoration-color: #008080; font-weight: bold\">Workflow Result (Thread </span><span style=\"color: #008080; text-decoration-color: #008080; font-weight: bold\">1</span><span style=\"color: #008080; text-decoration-color: #008080; font-weight: bold\">) - Kick Off Research:</span>\n",
       "</pre>\n"
      ]
     },
     "metadata": {},
     "output_type": "display_data"
    },
    {
     "data": {
      "text/plain": [
       "\u001B[34m╭─\u001B[0m\u001B[34m──────────────────────────────────────────────────\u001B[0m\u001B[34m 🧑 Human \u001B[0m\u001B[34m───────────────────────────────────────────────────\u001B[0m\u001B[34m─╮\u001B[0m\n",
       "\u001B[34m│\u001B[0m Can you search for funding rounds and recent developments of Commonwealth Fusion Systems?                       \u001B[34m│\u001B[0m\n",
       "\u001B[34m╰─────────────────────────────────────────────────────────────────────────────────────────────────────────────────╯\u001B[0m\n"
      ],
      "text/html": [
       "<pre style=\"white-space:pre;overflow-x:auto;line-height:normal;font-family:Menlo,'DejaVu Sans Mono',consolas,'Courier New',monospace\"><span style=\"color: #000080; text-decoration-color: #000080\">╭─────────────────────────────────────────────────── 🧑 Human ────────────────────────────────────────────────────╮</span>\n",
       "<span style=\"color: #000080; text-decoration-color: #000080\">│</span> Can you search for funding rounds and recent developments of Commonwealth Fusion Systems?                       <span style=\"color: #000080; text-decoration-color: #000080\">│</span>\n",
       "<span style=\"color: #000080; text-decoration-color: #000080\">╰─────────────────────────────────────────────────────────────────────────────────────────────────────────────────╯</span>\n",
       "</pre>\n"
      ]
     },
     "metadata": {},
     "output_type": "display_data"
    },
    {
     "data": {
      "text/plain": [
       "\u001B[37m╭─\u001B[0m\u001B[37m────────────────────────────────────────────────────\u001B[0m\u001B[37m 📝 AI \u001B[0m\u001B[37m────────────────────────────────────────────────────\u001B[0m\u001B[37m─╮\u001B[0m\n",
       "\u001B[37m│\u001B[0m                                                                                                                 \u001B[37m│\u001B[0m\n",
       "\u001B[37m╰─────────────────────────────────────────────────────────────────────────────────────────────────────────────────╯\u001B[0m\n"
      ],
      "text/html": [
       "<pre style=\"white-space:pre;overflow-x:auto;line-height:normal;font-family:Menlo,'DejaVu Sans Mono',consolas,'Courier New',monospace\"><span style=\"color: #c0c0c0; text-decoration-color: #c0c0c0\">╭───────────────────────────────────────────────────── 📝 AI ─────────────────────────────────────────────────────╮</span>\n",
       "<span style=\"color: #c0c0c0; text-decoration-color: #c0c0c0\">│</span>                                                                                                                 <span style=\"color: #c0c0c0; text-decoration-color: #c0c0c0\">│</span>\n",
       "<span style=\"color: #c0c0c0; text-decoration-color: #c0c0c0\">╰─────────────────────────────────────────────────────────────────────────────────────────────────────────────────╯</span>\n",
       "</pre>\n"
      ]
     },
     "metadata": {},
     "output_type": "display_data"
    },
    {
     "data": {
      "text/plain": [
       "\u001B[33m╭─\u001B[0m\u001B[33m───────────────────────────────────────────────\u001B[0m\u001B[33m 🔧 Tool Output \u001B[0m\u001B[33m────────────────────────────────────────────────\u001B[0m\u001B[33m─╮\u001B[0m\n",
       "\u001B[33m│\u001B[0m {'query': 'Commonwealth Fusion Systems funding rounds and recent developments', 'follow_up_questions': None,    \u001B[33m│\u001B[0m\n",
       "\u001B[33m│\u001B[0m 'answer': None, 'images': [], 'results': [{'url': 'https://cfs.energy/', 'title': 'Commonwealth Fusion Systems: \u001B[33m│\u001B[0m\n",
       "\u001B[33m│\u001B[0m Home', 'content': 'CFS has assembled a world-class team working to design, build, and scale fusion power plants \u001B[33m│\u001B[0m\n",
       "\u001B[33m│\u001B[0m that will deliver cost competitive, clean fusion energy to combat', 'score': 0.98589, 'raw_content': None},     \u001B[33m│\u001B[0m\n",
       "\u001B[33m│\u001B[0m {'url': 'https://en.wikipedia.org/wiki/Commonwealth_Fusion_Systems', 'title': 'Commonwealth Fusion Systems -    \u001B[33m│\u001B[0m\n",
       "\u001B[33m│\u001B[0m Wikipedia', 'content': 'In November 2021, the company raised an additional $1.8 billion in Series B funding to  \u001B[33m│\u001B[0m\n",
       "\u001B[33m│\u001B[0m construct and operate the SPARC tokamak, funded by Temasek Holdings, Google, Bill Gates and Eni. In December of \u001B[33m│\u001B[0m\n",
       "\u001B[33m│\u001B[0m that year, the company began construction on SPARC in Devens, Massachusetts.', 'score': 0.98554, 'raw_content': \u001B[33m│\u001B[0m\n",
       "\u001B[33m│\u001B[0m None}, {'url': 'https://cfs.energy/news-and-media/', 'title': 'Press | Commonwealth Fusion Systems', 'content': \u001B[33m│\u001B[0m\n",
       "\u001B[33m│\u001B[0m \"Commonwealth Fusion Systems' second breakthrough superconducting technology handles mammoth pulses of power.\", \u001B[33m│\u001B[0m\n",
       "\u001B[33m│\u001B[0m 'score': 0.98513, 'raw_content': None}], 'response_time': 2.25}                                                 \u001B[33m│\u001B[0m\n",
       "\u001B[33m╰─────────────────────────────────────────────────────────────────────────────────────────────────────────────────╯\u001B[0m\n"
      ],
      "text/html": [
       "<pre style=\"white-space:pre;overflow-x:auto;line-height:normal;font-family:Menlo,'DejaVu Sans Mono',consolas,'Courier New',monospace\"><span style=\"color: #808000; text-decoration-color: #808000\">╭──────────────────────────────────────────────── 🔧 Tool Output ─────────────────────────────────────────────────╮</span>\n",
       "<span style=\"color: #808000; text-decoration-color: #808000\">│</span> {'query': 'Commonwealth Fusion Systems funding rounds and recent developments', 'follow_up_questions': None,    <span style=\"color: #808000; text-decoration-color: #808000\">│</span>\n",
       "<span style=\"color: #808000; text-decoration-color: #808000\">│</span> 'answer': None, 'images': [], 'results': [{'url': 'https://cfs.energy/', 'title': 'Commonwealth Fusion Systems: <span style=\"color: #808000; text-decoration-color: #808000\">│</span>\n",
       "<span style=\"color: #808000; text-decoration-color: #808000\">│</span> Home', 'content': 'CFS has assembled a world-class team working to design, build, and scale fusion power plants <span style=\"color: #808000; text-decoration-color: #808000\">│</span>\n",
       "<span style=\"color: #808000; text-decoration-color: #808000\">│</span> that will deliver cost competitive, clean fusion energy to combat', 'score': 0.98589, 'raw_content': None},     <span style=\"color: #808000; text-decoration-color: #808000\">│</span>\n",
       "<span style=\"color: #808000; text-decoration-color: #808000\">│</span> {'url': 'https://en.wikipedia.org/wiki/Commonwealth_Fusion_Systems', 'title': 'Commonwealth Fusion Systems -    <span style=\"color: #808000; text-decoration-color: #808000\">│</span>\n",
       "<span style=\"color: #808000; text-decoration-color: #808000\">│</span> Wikipedia', 'content': 'In November 2021, the company raised an additional $1.8 billion in Series B funding to  <span style=\"color: #808000; text-decoration-color: #808000\">│</span>\n",
       "<span style=\"color: #808000; text-decoration-color: #808000\">│</span> construct and operate the SPARC tokamak, funded by Temasek Holdings, Google, Bill Gates and Eni. In December of <span style=\"color: #808000; text-decoration-color: #808000\">│</span>\n",
       "<span style=\"color: #808000; text-decoration-color: #808000\">│</span> that year, the company began construction on SPARC in Devens, Massachusetts.', 'score': 0.98554, 'raw_content': <span style=\"color: #808000; text-decoration-color: #808000\">│</span>\n",
       "<span style=\"color: #808000; text-decoration-color: #808000\">│</span> None}, {'url': 'https://cfs.energy/news-and-media/', 'title': 'Press | Commonwealth Fusion Systems', 'content': <span style=\"color: #808000; text-decoration-color: #808000\">│</span>\n",
       "<span style=\"color: #808000; text-decoration-color: #808000\">│</span> \"Commonwealth Fusion Systems' second breakthrough superconducting technology handles mammoth pulses of power.\", <span style=\"color: #808000; text-decoration-color: #808000\">│</span>\n",
       "<span style=\"color: #808000; text-decoration-color: #808000\">│</span> 'score': 0.98513, 'raw_content': None}], 'response_time': 2.25}                                                 <span style=\"color: #808000; text-decoration-color: #808000\">│</span>\n",
       "<span style=\"color: #808000; text-decoration-color: #808000\">╰─────────────────────────────────────────────────────────────────────────────────────────────────────────────────╯</span>\n",
       "</pre>\n"
      ]
     },
     "metadata": {},
     "output_type": "display_data"
    },
    {
     "data": {
      "text/plain": [
       "\u001B[37m╭─\u001B[0m\u001B[37m────────────────────────────────────────────────────\u001B[0m\u001B[37m 📝 AI \u001B[0m\u001B[37m────────────────────────────────────────────────────\u001B[0m\u001B[37m─╮\u001B[0m\n",
       "\u001B[37m│\u001B[0m                                                                                                                 \u001B[37m│\u001B[0m\n",
       "\u001B[37m╰─────────────────────────────────────────────────────────────────────────────────────────────────────────────────╯\u001B[0m\n"
      ],
      "text/html": [
       "<pre style=\"white-space:pre;overflow-x:auto;line-height:normal;font-family:Menlo,'DejaVu Sans Mono',consolas,'Courier New',monospace\"><span style=\"color: #c0c0c0; text-decoration-color: #c0c0c0\">╭───────────────────────────────────────────────────── 📝 AI ─────────────────────────────────────────────────────╮</span>\n",
       "<span style=\"color: #c0c0c0; text-decoration-color: #c0c0c0\">│</span>                                                                                                                 <span style=\"color: #c0c0c0; text-decoration-color: #c0c0c0\">│</span>\n",
       "<span style=\"color: #c0c0c0; text-decoration-color: #c0c0c0\">╰─────────────────────────────────────────────────────────────────────────────────────────────────────────────────╯</span>\n",
       "</pre>\n"
      ]
     },
     "metadata": {},
     "output_type": "display_data"
    },
    {
     "data": {
      "text/plain": [
       "\u001B[33m╭─\u001B[0m\u001B[33m───────────────────────────────────────────────\u001B[0m\u001B[33m 🔧 Tool Output \u001B[0m\u001B[33m────────────────────────────────────────────────\u001B[0m\u001B[33m─╮\u001B[0m\n",
       "\u001B[33m│\u001B[0m Notes from scratchpad: No notes found                                                                           \u001B[33m│\u001B[0m\n",
       "\u001B[33m╰─────────────────────────────────────────────────────────────────────────────────────────────────────────────────╯\u001B[0m\n"
      ],
      "text/html": [
       "<pre style=\"white-space:pre;overflow-x:auto;line-height:normal;font-family:Menlo,'DejaVu Sans Mono',consolas,'Courier New',monospace\"><span style=\"color: #808000; text-decoration-color: #808000\">╭──────────────────────────────────────────────── 🔧 Tool Output ─────────────────────────────────────────────────╮</span>\n",
       "<span style=\"color: #808000; text-decoration-color: #808000\">│</span> Notes from scratchpad: No notes found                                                                           <span style=\"color: #808000; text-decoration-color: #808000\">│</span>\n",
       "<span style=\"color: #808000; text-decoration-color: #808000\">╰─────────────────────────────────────────────────────────────────────────────────────────────────────────────────╯</span>\n",
       "</pre>\n"
      ]
     },
     "metadata": {},
     "output_type": "display_data"
    },
    {
     "data": {
      "text/plain": [
       "\u001B[37m╭─\u001B[0m\u001B[37m────────────────────────────────────────────────────\u001B[0m\u001B[37m 📝 AI \u001B[0m\u001B[37m────────────────────────────────────────────────────\u001B[0m\u001B[37m─╮\u001B[0m\n",
       "\u001B[37m│\u001B[0m                                                                                                                 \u001B[37m│\u001B[0m\n",
       "\u001B[37m╰─────────────────────────────────────────────────────────────────────────────────────────────────────────────────╯\u001B[0m\n"
      ],
      "text/html": [
       "<pre style=\"white-space:pre;overflow-x:auto;line-height:normal;font-family:Menlo,'DejaVu Sans Mono',consolas,'Courier New',monospace\"><span style=\"color: #c0c0c0; text-decoration-color: #c0c0c0\">╭───────────────────────────────────────────────────── 📝 AI ─────────────────────────────────────────────────────╮</span>\n",
       "<span style=\"color: #c0c0c0; text-decoration-color: #c0c0c0\">│</span>                                                                                                                 <span style=\"color: #c0c0c0; text-decoration-color: #c0c0c0\">│</span>\n",
       "<span style=\"color: #c0c0c0; text-decoration-color: #c0c0c0\">╰─────────────────────────────────────────────────────────────────────────────────────────────────────────────────╯</span>\n",
       "</pre>\n"
      ]
     },
     "metadata": {},
     "output_type": "display_data"
    },
    {
     "data": {
      "text/plain": [
       "\u001B[33m╭─\u001B[0m\u001B[33m───────────────────────────────────────────────\u001B[0m\u001B[33m 🔧 Tool Output \u001B[0m\u001B[33m────────────────────────────────────────────────\u001B[0m\u001B[33m─╮\u001B[0m\n",
       "\u001B[33m│\u001B[0m Wrote to scratchpad: 1. Initial search results for Commonwealth Fusion Systems (CFS) funding rounds and recent  \u001B[33m│\u001B[0m\n",
       "\u001B[33m│\u001B[0m developments:                                                                                                   \u001B[33m│\u001B[0m\n",
       "\u001B[33m│\u001B[0m    - CFS official website (https://cfs.energy/) mentions their mission to design, build, and scale fusion power \u001B[33m│\u001B[0m\n",
       "\u001B[33m│\u001B[0m plants.                                                                                                         \u001B[33m│\u001B[0m\n",
       "\u001B[33m│\u001B[0m    - Wikipedia (https://en.wikipedia.org/wiki/Commonwealth_Fusion_Systems) highlights a $1.8 billion Series B   \u001B[33m│\u001B[0m\n",
       "\u001B[33m│\u001B[0m funding round in November 2021, led by investors like Temasek Holdings, Google, Bill Gates, and Eni.            \u001B[33m│\u001B[0m\n",
       "\u001B[33m│\u001B[0m    - Construction of the SPARC tokamak began in December 2021 in Devens, Massachusetts.                         \u001B[33m│\u001B[0m\n",
       "\u001B[33m│\u001B[0m    - CFS news page (https://cfs.energy/news-and-media/) mentions advancements in superconducting technology.    \u001B[33m│\u001B[0m\n",
       "\u001B[33m│\u001B[0m                                                                                                                 \u001B[33m│\u001B[0m\n",
       "\u001B[33m│\u001B[0m Next steps: Investigate more recent funding rounds and developments, if any, beyond 2021.                       \u001B[33m│\u001B[0m\n",
       "\u001B[33m╰─────────────────────────────────────────────────────────────────────────────────────────────────────────────────╯\u001B[0m\n"
      ],
      "text/html": [
       "<pre style=\"white-space:pre;overflow-x:auto;line-height:normal;font-family:Menlo,'DejaVu Sans Mono',consolas,'Courier New',monospace\"><span style=\"color: #808000; text-decoration-color: #808000\">╭──────────────────────────────────────────────── 🔧 Tool Output ─────────────────────────────────────────────────╮</span>\n",
       "<span style=\"color: #808000; text-decoration-color: #808000\">│</span> Wrote to scratchpad: 1. Initial search results for Commonwealth Fusion Systems (CFS) funding rounds and recent  <span style=\"color: #808000; text-decoration-color: #808000\">│</span>\n",
       "<span style=\"color: #808000; text-decoration-color: #808000\">│</span> developments:                                                                                                   <span style=\"color: #808000; text-decoration-color: #808000\">│</span>\n",
       "<span style=\"color: #808000; text-decoration-color: #808000\">│</span>    - CFS official website (https://cfs.energy/) mentions their mission to design, build, and scale fusion power <span style=\"color: #808000; text-decoration-color: #808000\">│</span>\n",
       "<span style=\"color: #808000; text-decoration-color: #808000\">│</span> plants.                                                                                                         <span style=\"color: #808000; text-decoration-color: #808000\">│</span>\n",
       "<span style=\"color: #808000; text-decoration-color: #808000\">│</span>    - Wikipedia (https://en.wikipedia.org/wiki/Commonwealth_Fusion_Systems) highlights a $1.8 billion Series B   <span style=\"color: #808000; text-decoration-color: #808000\">│</span>\n",
       "<span style=\"color: #808000; text-decoration-color: #808000\">│</span> funding round in November 2021, led by investors like Temasek Holdings, Google, Bill Gates, and Eni.            <span style=\"color: #808000; text-decoration-color: #808000\">│</span>\n",
       "<span style=\"color: #808000; text-decoration-color: #808000\">│</span>    - Construction of the SPARC tokamak began in December 2021 in Devens, Massachusetts.                         <span style=\"color: #808000; text-decoration-color: #808000\">│</span>\n",
       "<span style=\"color: #808000; text-decoration-color: #808000\">│</span>    - CFS news page (https://cfs.energy/news-and-media/) mentions advancements in superconducting technology.    <span style=\"color: #808000; text-decoration-color: #808000\">│</span>\n",
       "<span style=\"color: #808000; text-decoration-color: #808000\">│</span>                                                                                                                 <span style=\"color: #808000; text-decoration-color: #808000\">│</span>\n",
       "<span style=\"color: #808000; text-decoration-color: #808000\">│</span> Next steps: Investigate more recent funding rounds and developments, if any, beyond 2021.                       <span style=\"color: #808000; text-decoration-color: #808000\">│</span>\n",
       "<span style=\"color: #808000; text-decoration-color: #808000\">╰─────────────────────────────────────────────────────────────────────────────────────────────────────────────────╯</span>\n",
       "</pre>\n"
      ]
     },
     "metadata": {},
     "output_type": "display_data"
    },
    {
     "data": {
      "text/plain": [
       "\u001B[37m╭─\u001B[0m\u001B[37m────────────────────────────────────────────────────\u001B[0m\u001B[37m 📝 AI \u001B[0m\u001B[37m────────────────────────────────────────────────────\u001B[0m\u001B[37m─╮\u001B[0m\n",
       "\u001B[37m│\u001B[0m                                                                                                                 \u001B[37m│\u001B[0m\n",
       "\u001B[37m╰─────────────────────────────────────────────────────────────────────────────────────────────────────────────────╯\u001B[0m\n"
      ],
      "text/html": [
       "<pre style=\"white-space:pre;overflow-x:auto;line-height:normal;font-family:Menlo,'DejaVu Sans Mono',consolas,'Courier New',monospace\"><span style=\"color: #c0c0c0; text-decoration-color: #c0c0c0\">╭───────────────────────────────────────────────────── 📝 AI ─────────────────────────────────────────────────────╮</span>\n",
       "<span style=\"color: #c0c0c0; text-decoration-color: #c0c0c0\">│</span>                                                                                                                 <span style=\"color: #c0c0c0; text-decoration-color: #c0c0c0\">│</span>\n",
       "<span style=\"color: #c0c0c0; text-decoration-color: #c0c0c0\">╰─────────────────────────────────────────────────────────────────────────────────────────────────────────────────╯</span>\n",
       "</pre>\n"
      ]
     },
     "metadata": {},
     "output_type": "display_data"
    },
    {
     "data": {
      "text/plain": [
       "\u001B[33m╭─\u001B[0m\u001B[33m───────────────────────────────────────────────\u001B[0m\u001B[33m 🔧 Tool Output \u001B[0m\u001B[33m────────────────────────────────────────────────\u001B[0m\u001B[33m─╮\u001B[0m\n",
       "\u001B[33m│\u001B[0m {'query': 'Commonwealth Fusion Systems funding rounds after 2021', 'follow_up_questions': None, 'answer': None, \u001B[33m│\u001B[0m\n",
       "\u001B[33m│\u001B[0m 'images': [], 'results': [{'url': 'https://x.com/CFS_energy/status/1947717360892137820', 'title': 'Commonwealth \u001B[33m│\u001B[0m\n",
       "\u001B[33m│\u001B[0m Fusion Systems - X', 'content': 'Association report released today shows an acceleration in fusion industry     \u001B[33m│\u001B[0m\n",
       "\u001B[33m│\u001B[0m funding growth, increasing to a total of $9.8 billion. Notable trends in the report: • Fusion companies raised  \u001B[33m│\u001B[0m\n",
       "\u001B[33m│\u001B[0m a total of $2.64 billion in the 12 months leading to July 2025. • The year’s investment total is the highest    \u001B[33m│\u001B[0m\n",
       "\u001B[33m│\u001B[0m since 2022 and a 178% rise from last year. • Over the last five years, the number of fusion companies in the    \u001B[33m│\u001B[0m\n",
       "\u001B[33m│\u001B[0m report increased from 23 to 53, and the total $9.8 billion raised is a 5x increase since 2021. [...] This       \u001B[33m│\u001B[0m\n",
       "\u001B[33m│\u001B[0m funding growth signals sustained, significant confidence in the fusion energy industry and its efforts to bring \u001B[33m│\u001B[0m\n",
       "\u001B[33m│\u001B[0m this novel technology online. The companies themselves remain optimistic: 35 of the 45 companies that responded \u001B[33m│\u001B[0m\n",
       "\u001B[33m│\u001B[0m expect to put a commercially viable net energy fusion plant online between 2030 and 2035. Funding, while not a  \u001B[33m│\u001B[0m\n",
       "\u001B[33m│\u001B[0m guarantee of success, is a necessary ingredient to making fusion energy a reality. With investors funding       \u001B[33m│\u001B[0m\n",
       "\u001B[33m│\u001B[0m multiple companies, and fusion companies exploring a', 'score': 0.9165366, 'raw_content': None}, {'url':        \u001B[33m│\u001B[0m\n",
       "\u001B[33m│\u001B[0m 'https://www.reddit.com/r/fusion/comments/1km2g7h/commonwealth_fusion_systems_raising_1_billionplus/', 'title': \u001B[33m│\u001B[0m\n",
       "\u001B[33m│\u001B[0m 'Commonwealth Fusion Systems raising $1 billion-plus Series B2', 'content': 'Image 22: r/fusion icon r/fusion•4 \u001B[33m│\u001B[0m\n",
       "\u001B[33m│\u001B[0m mo. ago Image 23: A banner for the subreddit Image 24: r/fusion iconr/fusion \\nDiscussion and news on           \u001B[33m│\u001B[0m\n",
       "\u001B[33m│\u001B[0m advancements in the field of nuclear fusion energy and related technologies.\\n\\n  \\n\\n31K Members Online    ### \u001B[33m│\u001B[0m\n",
       "\u001B[33m│\u001B[0m An Update from Commonwealth Fusion Systems (December 2024)  Image 25: r/fusion - An Update from Commonwealth    \u001B[33m│\u001B[0m\n",
       "\u001B[33m│\u001B[0m Fusion Systems (December 2024)youtu    74 upvotes ·18 comments [...] Update on StockTwits Growth Mission as of  \u001B[33m│\u001B[0m\n",
       "\u001B[33m│\u001B[0m 12/27/2024Image 92: r/KenduInu_Ecosystem icon r/KenduInu_Ecosystem•5 mo. ago Image 93: A banner for the         \u001B[33m│\u001B[0m\n",
       "\u001B[33m│\u001B[0m subreddit Image 94: r/KenduInu_Ecosystem iconr/KenduInu_Ecosystem \\nKendu is the narrative, and you are the     \u001B[33m│\u001B[0m\n",
       "\u001B[33m│\u001B[0m catalyst. Become the main character in the rise of the ultimate memecoin ecosystem. Will you join the pack?\\n\\n \u001B[33m│\u001B[0m\n",
       "\u001B[33m│\u001B[0m \\n\\n5.6K Members Online    ### Update on StockTwits Growth Mission as of 12/27/2024    89 upvotes ·7 comments   \u001B[33m│\u001B[0m\n",
       "\u001B[33m│\u001B[0m [...] Anyone can view, post, and comment to this community\\n\\nReddit RulesPrivacy PolicyUser AgreementReddit,   \u001B[33m│\u001B[0m\n",
       "\u001B[33m│\u001B[0m Inc. © 2025. All rights reserved.\\n\\nExpand Navigation Collapse Navigation\\n\\n   &nbsp; \\n   &nbsp; \\n\\n  \\n\\n  \u001B[33m│\u001B[0m\n",
       "\u001B[33m│\u001B[0m TOPICS \\n\\n   Internet Culture (Viral) \\n\\n   Amazing\\n   Animals & Pets\\n   Cringe & Facepalm\\n   Funny\\n      \u001B[33m│\u001B[0m\n",
       "\u001B[33m│\u001B[0m Interesting\\n   Memes\\n   Oddly Satisfying\\n   Reddit Meta\\n   Wholesome & Heartwarming\\n\\n   Games', 'score':  \u001B[33m│\u001B[0m\n",
       "\u001B[33m│\u001B[0m 0.7876867, 'raw_content': None}, {'url':                                                                        \u001B[33m│\u001B[0m\n",
       "\u001B[33m│\u001B[0m 'https://www.datacenterdynamics.com/en/news/commonwealth-fusion-systems-raises-more-than-1bn-backed-by-unnamed- \u001B[33m│\u001B[0m\n",
       "\u001B[33m│\u001B[0m hyperscale-data-center-developer-report/', 'title': 'Commonwealth Fusion Systems raises more than $1bn, backed  \u001B[33m│\u001B[0m\n",
       "\u001B[33m│\u001B[0m by ...', 'content': 'Compute | New York 2026\\n       Connect | Investment Series\\n       Connect | Investment - \u001B[33m│\u001B[0m\n",
       "\u001B[33m│\u001B[0m New York\\n       Connect | Investment - MENA\\n       Connect | Investment - APAC\\n       Connect | Investment - \u001B[33m│\u001B[0m\n",
       "\u001B[33m│\u001B[0m Cancún\\n       Connect | Investment - London\\n       Connect | Investment - Madrid\\n       Digital              \u001B[33m│\u001B[0m\n",
       "\u001B[33m│\u001B[0m Infrastructure Series\\n       Yotta 2025 [...] 13 May 2025  \\n   The Role of Remote Power Panel in High-Density \u001B[33m│\u001B[0m\n",
       "\u001B[33m│\u001B[0m Data                                                                                                            \u001B[33m│\u001B[0m\n",
       "\u001B[33m│\u001B[0m Centers\\n====================================================================================================== \u001B[33m│\u001B[0m\n",
       "\u001B[33m│\u001B[0m ======================================================================= [...] 09 May 2025  \\n   AI for IT       \u001B[33m│\u001B[0m\n",
       "\u001B[33m│\u001B[0m Leaders: Deploying a Future-Proof IT                                                                            \u001B[33m│\u001B[0m\n",
       "\u001B[33m│\u001B[0m Infrastructure\\n=============================================================================================== \u001B[33m│\u001B[0m\n",
       "\u001B[33m│\u001B[0m =================================================================================\\n\\n08 May 2025  \\n            \u001B[33m│\u001B[0m\n",
       "\u001B[33m│\u001B[0m More\\n\\nImage 10: Investments & Markets Thumbnail', 'score': 0.7440808, 'raw_content': None}], 'response_time': \u001B[33m│\u001B[0m\n",
       "\u001B[33m│\u001B[0m 1.8}                                                                                                            \u001B[33m│\u001B[0m\n",
       "\u001B[33m╰─────────────────────────────────────────────────────────────────────────────────────────────────────────────────╯\u001B[0m\n"
      ],
      "text/html": [
       "<pre style=\"white-space:pre;overflow-x:auto;line-height:normal;font-family:Menlo,'DejaVu Sans Mono',consolas,'Courier New',monospace\"><span style=\"color: #808000; text-decoration-color: #808000\">╭──────────────────────────────────────────────── 🔧 Tool Output ─────────────────────────────────────────────────╮</span>\n",
       "<span style=\"color: #808000; text-decoration-color: #808000\">│</span> {'query': 'Commonwealth Fusion Systems funding rounds after 2021', 'follow_up_questions': None, 'answer': None, <span style=\"color: #808000; text-decoration-color: #808000\">│</span>\n",
       "<span style=\"color: #808000; text-decoration-color: #808000\">│</span> 'images': [], 'results': [{'url': 'https://x.com/CFS_energy/status/1947717360892137820', 'title': 'Commonwealth <span style=\"color: #808000; text-decoration-color: #808000\">│</span>\n",
       "<span style=\"color: #808000; text-decoration-color: #808000\">│</span> Fusion Systems - X', 'content': 'Association report released today shows an acceleration in fusion industry     <span style=\"color: #808000; text-decoration-color: #808000\">│</span>\n",
       "<span style=\"color: #808000; text-decoration-color: #808000\">│</span> funding growth, increasing to a total of $9.8 billion. Notable trends in the report: • Fusion companies raised  <span style=\"color: #808000; text-decoration-color: #808000\">│</span>\n",
       "<span style=\"color: #808000; text-decoration-color: #808000\">│</span> a total of $2.64 billion in the 12 months leading to July 2025. • The year’s investment total is the highest    <span style=\"color: #808000; text-decoration-color: #808000\">│</span>\n",
       "<span style=\"color: #808000; text-decoration-color: #808000\">│</span> since 2022 and a 178% rise from last year. • Over the last five years, the number of fusion companies in the    <span style=\"color: #808000; text-decoration-color: #808000\">│</span>\n",
       "<span style=\"color: #808000; text-decoration-color: #808000\">│</span> report increased from 23 to 53, and the total $9.8 billion raised is a 5x increase since 2021. [...] This       <span style=\"color: #808000; text-decoration-color: #808000\">│</span>\n",
       "<span style=\"color: #808000; text-decoration-color: #808000\">│</span> funding growth signals sustained, significant confidence in the fusion energy industry and its efforts to bring <span style=\"color: #808000; text-decoration-color: #808000\">│</span>\n",
       "<span style=\"color: #808000; text-decoration-color: #808000\">│</span> this novel technology online. The companies themselves remain optimistic: 35 of the 45 companies that responded <span style=\"color: #808000; text-decoration-color: #808000\">│</span>\n",
       "<span style=\"color: #808000; text-decoration-color: #808000\">│</span> expect to put a commercially viable net energy fusion plant online between 2030 and 2035. Funding, while not a  <span style=\"color: #808000; text-decoration-color: #808000\">│</span>\n",
       "<span style=\"color: #808000; text-decoration-color: #808000\">│</span> guarantee of success, is a necessary ingredient to making fusion energy a reality. With investors funding       <span style=\"color: #808000; text-decoration-color: #808000\">│</span>\n",
       "<span style=\"color: #808000; text-decoration-color: #808000\">│</span> multiple companies, and fusion companies exploring a', 'score': 0.9165366, 'raw_content': None}, {'url':        <span style=\"color: #808000; text-decoration-color: #808000\">│</span>\n",
       "<span style=\"color: #808000; text-decoration-color: #808000\">│</span> 'https://www.reddit.com/r/fusion/comments/1km2g7h/commonwealth_fusion_systems_raising_1_billionplus/', 'title': <span style=\"color: #808000; text-decoration-color: #808000\">│</span>\n",
       "<span style=\"color: #808000; text-decoration-color: #808000\">│</span> 'Commonwealth Fusion Systems raising $1 billion-plus Series B2', 'content': 'Image 22: r/fusion icon r/fusion•4 <span style=\"color: #808000; text-decoration-color: #808000\">│</span>\n",
       "<span style=\"color: #808000; text-decoration-color: #808000\">│</span> mo. ago Image 23: A banner for the subreddit Image 24: r/fusion iconr/fusion \\nDiscussion and news on           <span style=\"color: #808000; text-decoration-color: #808000\">│</span>\n",
       "<span style=\"color: #808000; text-decoration-color: #808000\">│</span> advancements in the field of nuclear fusion energy and related technologies.\\n\\n  \\n\\n31K Members Online    ### <span style=\"color: #808000; text-decoration-color: #808000\">│</span>\n",
       "<span style=\"color: #808000; text-decoration-color: #808000\">│</span> An Update from Commonwealth Fusion Systems (December 2024)  Image 25: r/fusion - An Update from Commonwealth    <span style=\"color: #808000; text-decoration-color: #808000\">│</span>\n",
       "<span style=\"color: #808000; text-decoration-color: #808000\">│</span> Fusion Systems (December 2024)youtu    74 upvotes ·18 comments [...] Update on StockTwits Growth Mission as of  <span style=\"color: #808000; text-decoration-color: #808000\">│</span>\n",
       "<span style=\"color: #808000; text-decoration-color: #808000\">│</span> 12/27/2024Image 92: r/KenduInu_Ecosystem icon r/KenduInu_Ecosystem•5 mo. ago Image 93: A banner for the         <span style=\"color: #808000; text-decoration-color: #808000\">│</span>\n",
       "<span style=\"color: #808000; text-decoration-color: #808000\">│</span> subreddit Image 94: r/KenduInu_Ecosystem iconr/KenduInu_Ecosystem \\nKendu is the narrative, and you are the     <span style=\"color: #808000; text-decoration-color: #808000\">│</span>\n",
       "<span style=\"color: #808000; text-decoration-color: #808000\">│</span> catalyst. Become the main character in the rise of the ultimate memecoin ecosystem. Will you join the pack?\\n\\n <span style=\"color: #808000; text-decoration-color: #808000\">│</span>\n",
       "<span style=\"color: #808000; text-decoration-color: #808000\">│</span> \\n\\n5.6K Members Online    ### Update on StockTwits Growth Mission as of 12/27/2024    89 upvotes ·7 comments   <span style=\"color: #808000; text-decoration-color: #808000\">│</span>\n",
       "<span style=\"color: #808000; text-decoration-color: #808000\">│</span> [...] Anyone can view, post, and comment to this community\\n\\nReddit RulesPrivacy PolicyUser AgreementReddit,   <span style=\"color: #808000; text-decoration-color: #808000\">│</span>\n",
       "<span style=\"color: #808000; text-decoration-color: #808000\">│</span> Inc. © 2025. All rights reserved.\\n\\nExpand Navigation Collapse Navigation\\n\\n   &amp;nbsp; \\n   &amp;nbsp; \\n\\n  \\n\\n  <span style=\"color: #808000; text-decoration-color: #808000\">│</span>\n",
       "<span style=\"color: #808000; text-decoration-color: #808000\">│</span> TOPICS \\n\\n   Internet Culture (Viral) \\n\\n   Amazing\\n   Animals &amp; Pets\\n   Cringe &amp; Facepalm\\n   Funny\\n      <span style=\"color: #808000; text-decoration-color: #808000\">│</span>\n",
       "<span style=\"color: #808000; text-decoration-color: #808000\">│</span> Interesting\\n   Memes\\n   Oddly Satisfying\\n   Reddit Meta\\n   Wholesome &amp; Heartwarming\\n\\n   Games', 'score':  <span style=\"color: #808000; text-decoration-color: #808000\">│</span>\n",
       "<span style=\"color: #808000; text-decoration-color: #808000\">│</span> 0.7876867, 'raw_content': None}, {'url':                                                                        <span style=\"color: #808000; text-decoration-color: #808000\">│</span>\n",
       "<span style=\"color: #808000; text-decoration-color: #808000\">│</span> 'https://www.datacenterdynamics.com/en/news/commonwealth-fusion-systems-raises-more-than-1bn-backed-by-unnamed- <span style=\"color: #808000; text-decoration-color: #808000\">│</span>\n",
       "<span style=\"color: #808000; text-decoration-color: #808000\">│</span> hyperscale-data-center-developer-report/', 'title': 'Commonwealth Fusion Systems raises more than $1bn, backed  <span style=\"color: #808000; text-decoration-color: #808000\">│</span>\n",
       "<span style=\"color: #808000; text-decoration-color: #808000\">│</span> by ...', 'content': 'Compute | New York 2026\\n       Connect | Investment Series\\n       Connect | Investment - <span style=\"color: #808000; text-decoration-color: #808000\">│</span>\n",
       "<span style=\"color: #808000; text-decoration-color: #808000\">│</span> New York\\n       Connect | Investment - MENA\\n       Connect | Investment - APAC\\n       Connect | Investment - <span style=\"color: #808000; text-decoration-color: #808000\">│</span>\n",
       "<span style=\"color: #808000; text-decoration-color: #808000\">│</span> Cancún\\n       Connect | Investment - London\\n       Connect | Investment - Madrid\\n       Digital              <span style=\"color: #808000; text-decoration-color: #808000\">│</span>\n",
       "<span style=\"color: #808000; text-decoration-color: #808000\">│</span> Infrastructure Series\\n       Yotta 2025 [...] 13 May 2025  \\n   The Role of Remote Power Panel in High-Density <span style=\"color: #808000; text-decoration-color: #808000\">│</span>\n",
       "<span style=\"color: #808000; text-decoration-color: #808000\">│</span> Data                                                                                                            <span style=\"color: #808000; text-decoration-color: #808000\">│</span>\n",
       "<span style=\"color: #808000; text-decoration-color: #808000\">│</span> Centers\\n====================================================================================================== <span style=\"color: #808000; text-decoration-color: #808000\">│</span>\n",
       "<span style=\"color: #808000; text-decoration-color: #808000\">│</span> ======================================================================= [...] 09 May 2025  \\n   AI for IT       <span style=\"color: #808000; text-decoration-color: #808000\">│</span>\n",
       "<span style=\"color: #808000; text-decoration-color: #808000\">│</span> Leaders: Deploying a Future-Proof IT                                                                            <span style=\"color: #808000; text-decoration-color: #808000\">│</span>\n",
       "<span style=\"color: #808000; text-decoration-color: #808000\">│</span> Infrastructure\\n=============================================================================================== <span style=\"color: #808000; text-decoration-color: #808000\">│</span>\n",
       "<span style=\"color: #808000; text-decoration-color: #808000\">│</span> =================================================================================\\n\\n08 May 2025  \\n            <span style=\"color: #808000; text-decoration-color: #808000\">│</span>\n",
       "<span style=\"color: #808000; text-decoration-color: #808000\">│</span> More\\n\\nImage 10: Investments &amp; Markets Thumbnail', 'score': 0.7440808, 'raw_content': None}], 'response_time': <span style=\"color: #808000; text-decoration-color: #808000\">│</span>\n",
       "<span style=\"color: #808000; text-decoration-color: #808000\">│</span> 1.8}                                                                                                            <span style=\"color: #808000; text-decoration-color: #808000\">│</span>\n",
       "<span style=\"color: #808000; text-decoration-color: #808000\">╰─────────────────────────────────────────────────────────────────────────────────────────────────────────────────╯</span>\n",
       "</pre>\n"
      ]
     },
     "metadata": {},
     "output_type": "display_data"
    },
    {
     "data": {
      "text/plain": [
       "\u001B[37m╭─\u001B[0m\u001B[37m────────────────────────────────────────────────────\u001B[0m\u001B[37m 📝 AI \u001B[0m\u001B[37m────────────────────────────────────────────────────\u001B[0m\u001B[37m─╮\u001B[0m\n",
       "\u001B[37m│\u001B[0m                                                                                                                 \u001B[37m│\u001B[0m\n",
       "\u001B[37m╰─────────────────────────────────────────────────────────────────────────────────────────────────────────────────╯\u001B[0m\n"
      ],
      "text/html": [
       "<pre style=\"white-space:pre;overflow-x:auto;line-height:normal;font-family:Menlo,'DejaVu Sans Mono',consolas,'Courier New',monospace\"><span style=\"color: #c0c0c0; text-decoration-color: #c0c0c0\">╭───────────────────────────────────────────────────── 📝 AI ─────────────────────────────────────────────────────╮</span>\n",
       "<span style=\"color: #c0c0c0; text-decoration-color: #c0c0c0\">│</span>                                                                                                                 <span style=\"color: #c0c0c0; text-decoration-color: #c0c0c0\">│</span>\n",
       "<span style=\"color: #c0c0c0; text-decoration-color: #c0c0c0\">╰─────────────────────────────────────────────────────────────────────────────────────────────────────────────────╯</span>\n",
       "</pre>\n"
      ]
     },
     "metadata": {},
     "output_type": "display_data"
    },
    {
     "data": {
      "text/plain": [
       "\u001B[33m╭─\u001B[0m\u001B[33m───────────────────────────────────────────────\u001B[0m\u001B[33m 🔧 Tool Output \u001B[0m\u001B[33m────────────────────────────────────────────────\u001B[0m\u001B[33m─╮\u001B[0m\n",
       "\u001B[33m│\u001B[0m Wrote to scratchpad: 1. Funding rounds and developments for Commonwealth Fusion Systems (CFS):                  \u001B[33m│\u001B[0m\n",
       "\u001B[33m│\u001B[0m    - In November 2021, CFS raised $1.8 billion in Series B funding (Wikipedia).                                 \u001B[33m│\u001B[0m\n",
       "\u001B[33m│\u001B[0m    - A report from X (formerly Twitter) indicates the fusion industry raised $9.8 billion in total, with $2.64  \u001B[33m│\u001B[0m\n",
       "\u001B[33m│\u001B[0m billion in the 12 months leading to July 2025. This includes contributions from multiple fusion companies,      \u001B[33m│\u001B[0m\n",
       "\u001B[33m│\u001B[0m suggesting CFS may have participated in this growth.                                                            \u001B[33m│\u001B[0m\n",
       "\u001B[33m│\u001B[0m    - Reddit discussions suggest CFS was raising over $1 billion in a Series B2 round as of December 2024.       \u001B[33m│\u001B[0m\n",
       "\u001B[33m│\u001B[0m    - An article from Data Center Dynamics mentions CFS raising over $1 billion in 2025, backed by an unnamed    \u001B[33m│\u001B[0m\n",
       "\u001B[33m│\u001B[0m hyperscale data center developer.                                                                               \u001B[33m│\u001B[0m\n",
       "\u001B[33m│\u001B[0m                                                                                                                 \u001B[33m│\u001B[0m\n",
       "\u001B[33m│\u001B[0m Next steps: Verify the accuracy of these reports and look for official announcements from CFS.                  \u001B[33m│\u001B[0m\n",
       "\u001B[33m╰─────────────────────────────────────────────────────────────────────────────────────────────────────────────────╯\u001B[0m\n"
      ],
      "text/html": [
       "<pre style=\"white-space:pre;overflow-x:auto;line-height:normal;font-family:Menlo,'DejaVu Sans Mono',consolas,'Courier New',monospace\"><span style=\"color: #808000; text-decoration-color: #808000\">╭──────────────────────────────────────────────── 🔧 Tool Output ─────────────────────────────────────────────────╮</span>\n",
       "<span style=\"color: #808000; text-decoration-color: #808000\">│</span> Wrote to scratchpad: 1. Funding rounds and developments for Commonwealth Fusion Systems (CFS):                  <span style=\"color: #808000; text-decoration-color: #808000\">│</span>\n",
       "<span style=\"color: #808000; text-decoration-color: #808000\">│</span>    - In November 2021, CFS raised $1.8 billion in Series B funding (Wikipedia).                                 <span style=\"color: #808000; text-decoration-color: #808000\">│</span>\n",
       "<span style=\"color: #808000; text-decoration-color: #808000\">│</span>    - A report from X (formerly Twitter) indicates the fusion industry raised $9.8 billion in total, with $2.64  <span style=\"color: #808000; text-decoration-color: #808000\">│</span>\n",
       "<span style=\"color: #808000; text-decoration-color: #808000\">│</span> billion in the 12 months leading to July 2025. This includes contributions from multiple fusion companies,      <span style=\"color: #808000; text-decoration-color: #808000\">│</span>\n",
       "<span style=\"color: #808000; text-decoration-color: #808000\">│</span> suggesting CFS may have participated in this growth.                                                            <span style=\"color: #808000; text-decoration-color: #808000\">│</span>\n",
       "<span style=\"color: #808000; text-decoration-color: #808000\">│</span>    - Reddit discussions suggest CFS was raising over $1 billion in a Series B2 round as of December 2024.       <span style=\"color: #808000; text-decoration-color: #808000\">│</span>\n",
       "<span style=\"color: #808000; text-decoration-color: #808000\">│</span>    - An article from Data Center Dynamics mentions CFS raising over $1 billion in 2025, backed by an unnamed    <span style=\"color: #808000; text-decoration-color: #808000\">│</span>\n",
       "<span style=\"color: #808000; text-decoration-color: #808000\">│</span> hyperscale data center developer.                                                                               <span style=\"color: #808000; text-decoration-color: #808000\">│</span>\n",
       "<span style=\"color: #808000; text-decoration-color: #808000\">│</span>                                                                                                                 <span style=\"color: #808000; text-decoration-color: #808000\">│</span>\n",
       "<span style=\"color: #808000; text-decoration-color: #808000\">│</span> Next steps: Verify the accuracy of these reports and look for official announcements from CFS.                  <span style=\"color: #808000; text-decoration-color: #808000\">│</span>\n",
       "<span style=\"color: #808000; text-decoration-color: #808000\">╰─────────────────────────────────────────────────────────────────────────────────────────────────────────────────╯</span>\n",
       "</pre>\n"
      ]
     },
     "metadata": {},
     "output_type": "display_data"
    },
    {
     "data": {
      "text/plain": [
       "\u001B[37m╭─\u001B[0m\u001B[37m────────────────────────────────────────────────────\u001B[0m\u001B[37m 📝 AI \u001B[0m\u001B[37m────────────────────────────────────────────────────\u001B[0m\u001B[37m─╮\u001B[0m\n",
       "\u001B[37m│\u001B[0m                                                                                                                 \u001B[37m│\u001B[0m\n",
       "\u001B[37m╰─────────────────────────────────────────────────────────────────────────────────────────────────────────────────╯\u001B[0m\n"
      ],
      "text/html": [
       "<pre style=\"white-space:pre;overflow-x:auto;line-height:normal;font-family:Menlo,'DejaVu Sans Mono',consolas,'Courier New',monospace\"><span style=\"color: #c0c0c0; text-decoration-color: #c0c0c0\">╭───────────────────────────────────────────────────── 📝 AI ─────────────────────────────────────────────────────╮</span>\n",
       "<span style=\"color: #c0c0c0; text-decoration-color: #c0c0c0\">│</span>                                                                                                                 <span style=\"color: #c0c0c0; text-decoration-color: #c0c0c0\">│</span>\n",
       "<span style=\"color: #c0c0c0; text-decoration-color: #c0c0c0\">╰─────────────────────────────────────────────────────────────────────────────────────────────────────────────────╯</span>\n",
       "</pre>\n"
      ]
     },
     "metadata": {},
     "output_type": "display_data"
    },
    {
     "data": {
      "text/plain": [
       "\u001B[33m╭─\u001B[0m\u001B[33m───────────────────────────────────────────────\u001B[0m\u001B[33m 🔧 Tool Output \u001B[0m\u001B[33m────────────────────────────────────────────────\u001B[0m\u001B[33m─╮\u001B[0m\n",
       "\u001B[33m│\u001B[0m {'query': 'Commonwealth Fusion Systems official announcements funding rounds 2024 2025', 'follow_up_questions': \u001B[33m│\u001B[0m\n",
       "\u001B[33m│\u001B[0m None, 'answer': None, 'images': [], 'results': [{'url':                                                         \u001B[33m│\u001B[0m\n",
       "\u001B[33m│\u001B[0m 'https://fusionxinvest.com/news/2625/12-january-2021-commonwealth-fusion-systems-closes-1-8bn-series-b/',       \u001B[33m│\u001B[0m\n",
       "\u001B[33m│\u001B[0m 'title': 'Commonwealth Fusion Systems closes $1.8bn Series B', 'content': 'Tags:Breakthrough Energy Ventures,   \u001B[33m│\u001B[0m\n",
       "\u001B[33m│\u001B[0m Coatue, Commonwealth Fusion Systems, DFJ Growth, Emerson Collective, Eni, Equinor Ventures, Fine Structure      \u001B[33m│\u001B[0m\n",
       "\u001B[33m│\u001B[0m Ventures, Footprint Coalition, Google, JIMCO, JIMCO Technology Fund, JS Capital, Safar Partners, Schooner       \u001B[33m│\u001B[0m\n",
       "\u001B[33m│\u001B[0m Capital, Senator Investment Gropu, Soros Fund Management, Starlight Ventures, Temasek, The Engine, Tiger Global \u001B[33m│\u001B[0m\n",
       "\u001B[33m│\u001B[0m Management, TIME Ventures\\n\\n### Google signs PPA with Commonwealth Fusion Systems\\n\\n30 June 2025 [...]        \u001B[33m│\u001B[0m\n",
       "\u001B[33m│\u001B[0m Exclusive member content If you are a FusionXInvest member, please login to continue reading. Not yet a member? \u001B[33m│\u001B[0m\n",
       "\u001B[33m│\u001B[0m View our subscription options or begin a trial membership today to get…\\n\\n### Commonwealth Fusion Systems to   \u001B[33m│\u001B[0m\n",
       "\u001B[33m│\u001B[0m build ARC in Virginia\\n\\n17 December 2024\\n\\nExclusive member content If you are a FusionXInvest member, please \u001B[33m│\u001B[0m\n",
       "\u001B[33m│\u001B[0m login to continue reading. Not yet a member? View our subscription options or begin a trial membership today to \u001B[33m│\u001B[0m\n",
       "\u001B[33m│\u001B[0m get…\\n\\n### CFS successfully tests key CSMC magnet [...] ### Commonwealth Fusion Systems files for power plant  \u001B[33m│\u001B[0m\n",
       "\u001B[33m│\u001B[0m permit\\n\\n27 May 2025\\n\\nExclusive member content If you are a FusionXInvest member, please login to continue   \u001B[33m│\u001B[0m\n",
       "\u001B[33m│\u001B[0m reading. Not yet a member? View our subscription options or begin a trial membership today to get…\\n\\n###       \u001B[33m│\u001B[0m\n",
       "\u001B[33m│\u001B[0m Commonwealth Fusion Systems starts SPARC construction\\n\\n25 March 2025', 'score': 0.7971311, 'raw_content':     \u001B[33m│\u001B[0m\n",
       "\u001B[33m│\u001B[0m None}, {'url':                                                                                                  \u001B[33m│\u001B[0m\n",
       "\u001B[33m│\u001B[0m 'https://bebeez.eu/2025/06/18/commonwealth-fusion-systems-cfs-launches-a-1-1-5-billion-us-dollars-round/',      \u001B[33m│\u001B[0m\n",
       "\u001B[33m│\u001B[0m 'title': 'Commonwealth Fusion Systems (CFS) launches a 1-1.5 billion US ...', 'content': 'Commonwealth Fusion   \u001B[33m│\u001B[0m\n",
       "\u001B[33m│\u001B[0m Systems (CFS) launches a 1-1.5 billion US Dollars round – BeBeez International\\n\\n===============\\n\\nImage      \u001B[33m│\u001B[0m\n",
       "\u001B[33m│\u001B[0m 1\\n\\n launches a 1-1.5 billion US Dollars                                                                       \u001B[33m│\u001B[0m\n",
       "\u001B[33m│\u001B[0m round\\n===========================================================================\\n\\nImage 4: Salvatore        \u001B[33m│\u001B[0m\n",
       "\u001B[33m│\u001B[0m Brunoby Salvatore Bruno\\n\\nJune 18, 2025\\n\\n Reading Time: 3 mins read \\n\\ninITALY, UK&IRELAND, Uncategorized,  \u001B[33m│\u001B[0m\n",
       "\u001B[33m│\u001B[0m VENTURE CAPITAL\\n\\nImage 5: Commonwealth Fusion Systems (CFS) launches a 1-1.5 billion US Dollars round [...]   \u001B[33m│\u001B[0m\n",
       "\u001B[33m│\u001B[0m June 19, 2025\\n\\nImage 8\\n\\nPRIVATE EQUITY\\n\\n### Finnish startup Renow secures seed funding to tackle          \u001B[33m│\u001B[0m\n",
       "\u001B[33m│\u001B[0m ecommerce returns at scale\\n\\nJune 19, 2025\\n\\nImage 9\\n\\nSCANDINAVIA&BALTICS\\n\\n### Lithuanian startup Traxlo  \u001B[33m│\u001B[0m\n",
       "\u001B[33m│\u001B[0m raises €1.6 million to build the labor infrastructure for the AI era\\n\\nJune 19, 2025\\n\\n\\n\\n###                \u001B[33m│\u001B[0m\n",
       "\u001B[33m│\u001B[0m ItaHub\\n\\nImage 10: Crypto-assets supervision rules in Italy, Banca d’Italia will supervise payment systems and \u001B[33m│\u001B[0m\n",
       "\u001B[33m│\u001B[0m Consob on market abuse', 'score': 0.75290436, 'raw_content': None}, {'url':                                     \u001B[33m│\u001B[0m\n",
       "\u001B[33m│\u001B[0m 'https://cfs.energy/news-and-media/', 'title': 'Press | Commonwealth Fusion Systems', 'content': \"Commonwealth  \u001B[33m│\u001B[0m\n",
       "\u001B[33m│\u001B[0m Fusion Systems,07.12.2024 Commonwealth Fusion Systems Delivers Superconducting Magnets to University of         \u001B[33m│\u001B[0m\n",
       "\u001B[33m│\u001B[0m Wisconsin's WHAM Project                                                                                        \u001B[33m│\u001B[0m\n",
       "\u001B[33m│\u001B[0m ------------------------------------------------------------------------------------------------------ [...]    \u001B[33m│\u001B[0m\n",
       "\u001B[33m│\u001B[0m Commonwealth Fusion Systems,06.24.2024 Building Trust in Fusion Energy -------------------------------\\n\\n      \u001B[33m│\u001B[0m\n",
       "\u001B[33m│\u001B[0m \\n\\n   Image 17Image 18 \\nCommonwealth Fusion Systems,06.06.2024 Commonwealth Fusion Systems Signs $15 Million  \u001B[33m│\u001B[0m\n",
       "\u001B[33m│\u001B[0m DOE Agreement To Advance Commercial Fusion Energy                                                               \u001B[33m│\u001B[0m\n",
       "\u001B[33m│\u001B[0m -----------------------------------------------------------------------------------------------\\n\\n             \u001B[33m│\u001B[0m\n",
       "\u001B[33m│\u001B[0m \\n\\nPrevious 1 2 3 4 Next\\n\\nJoin the power movement\\n-----------------------\\n\\nFollow Us [...] Image 13Image  \u001B[33m│\u001B[0m\n",
       "\u001B[33m│\u001B[0m 14 \\nCommonwealth Fusion Systems,08.09.2024 Commonwealth Fusion Systems Wins Two DOE INFUSE Awards to Help      \u001B[33m│\u001B[0m\n",
       "\u001B[33m│\u001B[0m Commercialize Fusion Energy                                                                                     \u001B[33m│\u001B[0m\n",
       "\u001B[33m│\u001B[0m ------------------------------------------------------------------------------------------\", 'score':           \u001B[33m│\u001B[0m\n",
       "\u001B[33m│\u001B[0m 0.7211353, 'raw_content': None}], 'response_time': 1.72}                                                        \u001B[33m│\u001B[0m\n",
       "\u001B[33m╰─────────────────────────────────────────────────────────────────────────────────────────────────────────────────╯\u001B[0m\n"
      ],
      "text/html": [
       "<pre style=\"white-space:pre;overflow-x:auto;line-height:normal;font-family:Menlo,'DejaVu Sans Mono',consolas,'Courier New',monospace\"><span style=\"color: #808000; text-decoration-color: #808000\">╭──────────────────────────────────────────────── 🔧 Tool Output ─────────────────────────────────────────────────╮</span>\n",
       "<span style=\"color: #808000; text-decoration-color: #808000\">│</span> {'query': 'Commonwealth Fusion Systems official announcements funding rounds 2024 2025', 'follow_up_questions': <span style=\"color: #808000; text-decoration-color: #808000\">│</span>\n",
       "<span style=\"color: #808000; text-decoration-color: #808000\">│</span> None, 'answer': None, 'images': [], 'results': [{'url':                                                         <span style=\"color: #808000; text-decoration-color: #808000\">│</span>\n",
       "<span style=\"color: #808000; text-decoration-color: #808000\">│</span> 'https://fusionxinvest.com/news/2625/12-january-2021-commonwealth-fusion-systems-closes-1-8bn-series-b/',       <span style=\"color: #808000; text-decoration-color: #808000\">│</span>\n",
       "<span style=\"color: #808000; text-decoration-color: #808000\">│</span> 'title': 'Commonwealth Fusion Systems closes $1.8bn Series B', 'content': 'Tags:Breakthrough Energy Ventures,   <span style=\"color: #808000; text-decoration-color: #808000\">│</span>\n",
       "<span style=\"color: #808000; text-decoration-color: #808000\">│</span> Coatue, Commonwealth Fusion Systems, DFJ Growth, Emerson Collective, Eni, Equinor Ventures, Fine Structure      <span style=\"color: #808000; text-decoration-color: #808000\">│</span>\n",
       "<span style=\"color: #808000; text-decoration-color: #808000\">│</span> Ventures, Footprint Coalition, Google, JIMCO, JIMCO Technology Fund, JS Capital, Safar Partners, Schooner       <span style=\"color: #808000; text-decoration-color: #808000\">│</span>\n",
       "<span style=\"color: #808000; text-decoration-color: #808000\">│</span> Capital, Senator Investment Gropu, Soros Fund Management, Starlight Ventures, Temasek, The Engine, Tiger Global <span style=\"color: #808000; text-decoration-color: #808000\">│</span>\n",
       "<span style=\"color: #808000; text-decoration-color: #808000\">│</span> Management, TIME Ventures\\n\\n### Google signs PPA with Commonwealth Fusion Systems\\n\\n30 June 2025 [...]        <span style=\"color: #808000; text-decoration-color: #808000\">│</span>\n",
       "<span style=\"color: #808000; text-decoration-color: #808000\">│</span> Exclusive member content If you are a FusionXInvest member, please login to continue reading. Not yet a member? <span style=\"color: #808000; text-decoration-color: #808000\">│</span>\n",
       "<span style=\"color: #808000; text-decoration-color: #808000\">│</span> View our subscription options or begin a trial membership today to get…\\n\\n### Commonwealth Fusion Systems to   <span style=\"color: #808000; text-decoration-color: #808000\">│</span>\n",
       "<span style=\"color: #808000; text-decoration-color: #808000\">│</span> build ARC in Virginia\\n\\n17 December 2024\\n\\nExclusive member content If you are a FusionXInvest member, please <span style=\"color: #808000; text-decoration-color: #808000\">│</span>\n",
       "<span style=\"color: #808000; text-decoration-color: #808000\">│</span> login to continue reading. Not yet a member? View our subscription options or begin a trial membership today to <span style=\"color: #808000; text-decoration-color: #808000\">│</span>\n",
       "<span style=\"color: #808000; text-decoration-color: #808000\">│</span> get…\\n\\n### CFS successfully tests key CSMC magnet [...] ### Commonwealth Fusion Systems files for power plant  <span style=\"color: #808000; text-decoration-color: #808000\">│</span>\n",
       "<span style=\"color: #808000; text-decoration-color: #808000\">│</span> permit\\n\\n27 May 2025\\n\\nExclusive member content If you are a FusionXInvest member, please login to continue   <span style=\"color: #808000; text-decoration-color: #808000\">│</span>\n",
       "<span style=\"color: #808000; text-decoration-color: #808000\">│</span> reading. Not yet a member? View our subscription options or begin a trial membership today to get…\\n\\n###       <span style=\"color: #808000; text-decoration-color: #808000\">│</span>\n",
       "<span style=\"color: #808000; text-decoration-color: #808000\">│</span> Commonwealth Fusion Systems starts SPARC construction\\n\\n25 March 2025', 'score': 0.7971311, 'raw_content':     <span style=\"color: #808000; text-decoration-color: #808000\">│</span>\n",
       "<span style=\"color: #808000; text-decoration-color: #808000\">│</span> None}, {'url':                                                                                                  <span style=\"color: #808000; text-decoration-color: #808000\">│</span>\n",
       "<span style=\"color: #808000; text-decoration-color: #808000\">│</span> 'https://bebeez.eu/2025/06/18/commonwealth-fusion-systems-cfs-launches-a-1-1-5-billion-us-dollars-round/',      <span style=\"color: #808000; text-decoration-color: #808000\">│</span>\n",
       "<span style=\"color: #808000; text-decoration-color: #808000\">│</span> 'title': 'Commonwealth Fusion Systems (CFS) launches a 1-1.5 billion US ...', 'content': 'Commonwealth Fusion   <span style=\"color: #808000; text-decoration-color: #808000\">│</span>\n",
       "<span style=\"color: #808000; text-decoration-color: #808000\">│</span> Systems (CFS) launches a 1-1.5 billion US Dollars round – BeBeez International\\n\\n===============\\n\\nImage      <span style=\"color: #808000; text-decoration-color: #808000\">│</span>\n",
       "<span style=\"color: #808000; text-decoration-color: #808000\">│</span> 1\\n\\n launches a 1-1.5 billion US Dollars                                                                       <span style=\"color: #808000; text-decoration-color: #808000\">│</span>\n",
       "<span style=\"color: #808000; text-decoration-color: #808000\">│</span> round\\n===========================================================================\\n\\nImage 4: Salvatore        <span style=\"color: #808000; text-decoration-color: #808000\">│</span>\n",
       "<span style=\"color: #808000; text-decoration-color: #808000\">│</span> Brunoby Salvatore Bruno\\n\\nJune 18, 2025\\n\\n Reading Time: 3 mins read \\n\\ninITALY, UK&amp;IRELAND, Uncategorized,  <span style=\"color: #808000; text-decoration-color: #808000\">│</span>\n",
       "<span style=\"color: #808000; text-decoration-color: #808000\">│</span> VENTURE CAPITAL\\n\\nImage 5: Commonwealth Fusion Systems (CFS) launches a 1-1.5 billion US Dollars round [...]   <span style=\"color: #808000; text-decoration-color: #808000\">│</span>\n",
       "<span style=\"color: #808000; text-decoration-color: #808000\">│</span> June 19, 2025\\n\\nImage 8\\n\\nPRIVATE EQUITY\\n\\n### Finnish startup Renow secures seed funding to tackle          <span style=\"color: #808000; text-decoration-color: #808000\">│</span>\n",
       "<span style=\"color: #808000; text-decoration-color: #808000\">│</span> ecommerce returns at scale\\n\\nJune 19, 2025\\n\\nImage 9\\n\\nSCANDINAVIA&amp;BALTICS\\n\\n### Lithuanian startup Traxlo  <span style=\"color: #808000; text-decoration-color: #808000\">│</span>\n",
       "<span style=\"color: #808000; text-decoration-color: #808000\">│</span> raises €1.6 million to build the labor infrastructure for the AI era\\n\\nJune 19, 2025\\n\\n\\n\\n###                <span style=\"color: #808000; text-decoration-color: #808000\">│</span>\n",
       "<span style=\"color: #808000; text-decoration-color: #808000\">│</span> ItaHub\\n\\nImage 10: Crypto-assets supervision rules in Italy, Banca d’Italia will supervise payment systems and <span style=\"color: #808000; text-decoration-color: #808000\">│</span>\n",
       "<span style=\"color: #808000; text-decoration-color: #808000\">│</span> Consob on market abuse', 'score': 0.75290436, 'raw_content': None}, {'url':                                     <span style=\"color: #808000; text-decoration-color: #808000\">│</span>\n",
       "<span style=\"color: #808000; text-decoration-color: #808000\">│</span> 'https://cfs.energy/news-and-media/', 'title': 'Press | Commonwealth Fusion Systems', 'content': \"Commonwealth  <span style=\"color: #808000; text-decoration-color: #808000\">│</span>\n",
       "<span style=\"color: #808000; text-decoration-color: #808000\">│</span> Fusion Systems,07.12.2024 Commonwealth Fusion Systems Delivers Superconducting Magnets to University of         <span style=\"color: #808000; text-decoration-color: #808000\">│</span>\n",
       "<span style=\"color: #808000; text-decoration-color: #808000\">│</span> Wisconsin's WHAM Project                                                                                        <span style=\"color: #808000; text-decoration-color: #808000\">│</span>\n",
       "<span style=\"color: #808000; text-decoration-color: #808000\">│</span> ------------------------------------------------------------------------------------------------------ [...]    <span style=\"color: #808000; text-decoration-color: #808000\">│</span>\n",
       "<span style=\"color: #808000; text-decoration-color: #808000\">│</span> Commonwealth Fusion Systems,06.24.2024 Building Trust in Fusion Energy -------------------------------\\n\\n      <span style=\"color: #808000; text-decoration-color: #808000\">│</span>\n",
       "<span style=\"color: #808000; text-decoration-color: #808000\">│</span> \\n\\n   Image 17Image 18 \\nCommonwealth Fusion Systems,06.06.2024 Commonwealth Fusion Systems Signs $15 Million  <span style=\"color: #808000; text-decoration-color: #808000\">│</span>\n",
       "<span style=\"color: #808000; text-decoration-color: #808000\">│</span> DOE Agreement To Advance Commercial Fusion Energy                                                               <span style=\"color: #808000; text-decoration-color: #808000\">│</span>\n",
       "<span style=\"color: #808000; text-decoration-color: #808000\">│</span> -----------------------------------------------------------------------------------------------\\n\\n             <span style=\"color: #808000; text-decoration-color: #808000\">│</span>\n",
       "<span style=\"color: #808000; text-decoration-color: #808000\">│</span> \\n\\nPrevious 1 2 3 4 Next\\n\\nJoin the power movement\\n-----------------------\\n\\nFollow Us [...] Image 13Image  <span style=\"color: #808000; text-decoration-color: #808000\">│</span>\n",
       "<span style=\"color: #808000; text-decoration-color: #808000\">│</span> 14 \\nCommonwealth Fusion Systems,08.09.2024 Commonwealth Fusion Systems Wins Two DOE INFUSE Awards to Help      <span style=\"color: #808000; text-decoration-color: #808000\">│</span>\n",
       "<span style=\"color: #808000; text-decoration-color: #808000\">│</span> Commercialize Fusion Energy                                                                                     <span style=\"color: #808000; text-decoration-color: #808000\">│</span>\n",
       "<span style=\"color: #808000; text-decoration-color: #808000\">│</span> ------------------------------------------------------------------------------------------\", 'score':           <span style=\"color: #808000; text-decoration-color: #808000\">│</span>\n",
       "<span style=\"color: #808000; text-decoration-color: #808000\">│</span> 0.7211353, 'raw_content': None}], 'response_time': 1.72}                                                        <span style=\"color: #808000; text-decoration-color: #808000\">│</span>\n",
       "<span style=\"color: #808000; text-decoration-color: #808000\">╰─────────────────────────────────────────────────────────────────────────────────────────────────────────────────╯</span>\n",
       "</pre>\n"
      ]
     },
     "metadata": {},
     "output_type": "display_data"
    },
    {
     "data": {
      "text/plain": [
       "\u001B[37m╭─\u001B[0m\u001B[37m────────────────────────────────────────────────────\u001B[0m\u001B[37m 📝 AI \u001B[0m\u001B[37m────────────────────────────────────────────────────\u001B[0m\u001B[37m─╮\u001B[0m\n",
       "\u001B[37m│\u001B[0m                                                                                                                 \u001B[37m│\u001B[0m\n",
       "\u001B[37m╰─────────────────────────────────────────────────────────────────────────────────────────────────────────────────╯\u001B[0m\n"
      ],
      "text/html": [
       "<pre style=\"white-space:pre;overflow-x:auto;line-height:normal;font-family:Menlo,'DejaVu Sans Mono',consolas,'Courier New',monospace\"><span style=\"color: #c0c0c0; text-decoration-color: #c0c0c0\">╭───────────────────────────────────────────────────── 📝 AI ─────────────────────────────────────────────────────╮</span>\n",
       "<span style=\"color: #c0c0c0; text-decoration-color: #c0c0c0\">│</span>                                                                                                                 <span style=\"color: #c0c0c0; text-decoration-color: #c0c0c0\">│</span>\n",
       "<span style=\"color: #c0c0c0; text-decoration-color: #c0c0c0\">╰─────────────────────────────────────────────────────────────────────────────────────────────────────────────────╯</span>\n",
       "</pre>\n"
      ]
     },
     "metadata": {},
     "output_type": "display_data"
    },
    {
     "data": {
      "text/plain": [
       "\u001B[33m╭─\u001B[0m\u001B[33m───────────────────────────────────────────────\u001B[0m\u001B[33m 🔧 Tool Output \u001B[0m\u001B[33m────────────────────────────────────────────────\u001B[0m\u001B[33m─╮\u001B[0m\n",
       "\u001B[33m│\u001B[0m Wrote to scratchpad: 1. Verified updates on Commonwealth Fusion Systems (CFS) funding rounds and developments:  \u001B[33m│\u001B[0m\n",
       "\u001B[33m│\u001B[0m    - In June 2025, CFS launched a funding round aiming for $1-1.5 billion (BeBeez International).               \u001B[33m│\u001B[0m\n",
       "\u001B[33m│\u001B[0m    - The company has been actively involved in projects like delivering superconducting magnets to the          \u001B[33m│\u001B[0m\n",
       "\u001B[33m│\u001B[0m University of Wisconsin (December 2024) and signing a $15 million DOE agreement (June 2024).                    \u001B[33m│\u001B[0m\n",
       "\u001B[33m│\u001B[0m    - CFS also won two DOE INFUSE awards in August 2024 to advance commercial fusion energy.                     \u001B[33m│\u001B[0m\n",
       "\u001B[33m│\u001B[0m    - Earlier in 2021, CFS closed a $1.8 billion Series B round, as previously noted.                            \u001B[33m│\u001B[0m\n",
       "\u001B[33m│\u001B[0m                                                                                                                 \u001B[33m│\u001B[0m\n",
       "\u001B[33m│\u001B[0m Key takeaway: CFS continues to secure significant funding and make progress in fusion energy technology, with   \u001B[33m│\u001B[0m\n",
       "\u001B[33m│\u001B[0m recent rounds targeting over $1 billion in 2025.                                                                \u001B[33m│\u001B[0m\n",
       "\u001B[33m╰─────────────────────────────────────────────────────────────────────────────────────────────────────────────────╯\u001B[0m\n"
      ],
      "text/html": [
       "<pre style=\"white-space:pre;overflow-x:auto;line-height:normal;font-family:Menlo,'DejaVu Sans Mono',consolas,'Courier New',monospace\"><span style=\"color: #808000; text-decoration-color: #808000\">╭──────────────────────────────────────────────── 🔧 Tool Output ─────────────────────────────────────────────────╮</span>\n",
       "<span style=\"color: #808000; text-decoration-color: #808000\">│</span> Wrote to scratchpad: 1. Verified updates on Commonwealth Fusion Systems (CFS) funding rounds and developments:  <span style=\"color: #808000; text-decoration-color: #808000\">│</span>\n",
       "<span style=\"color: #808000; text-decoration-color: #808000\">│</span>    - In June 2025, CFS launched a funding round aiming for $1-1.5 billion (BeBeez International).               <span style=\"color: #808000; text-decoration-color: #808000\">│</span>\n",
       "<span style=\"color: #808000; text-decoration-color: #808000\">│</span>    - The company has been actively involved in projects like delivering superconducting magnets to the          <span style=\"color: #808000; text-decoration-color: #808000\">│</span>\n",
       "<span style=\"color: #808000; text-decoration-color: #808000\">│</span> University of Wisconsin (December 2024) and signing a $15 million DOE agreement (June 2024).                    <span style=\"color: #808000; text-decoration-color: #808000\">│</span>\n",
       "<span style=\"color: #808000; text-decoration-color: #808000\">│</span>    - CFS also won two DOE INFUSE awards in August 2024 to advance commercial fusion energy.                     <span style=\"color: #808000; text-decoration-color: #808000\">│</span>\n",
       "<span style=\"color: #808000; text-decoration-color: #808000\">│</span>    - Earlier in 2021, CFS closed a $1.8 billion Series B round, as previously noted.                            <span style=\"color: #808000; text-decoration-color: #808000\">│</span>\n",
       "<span style=\"color: #808000; text-decoration-color: #808000\">│</span>                                                                                                                 <span style=\"color: #808000; text-decoration-color: #808000\">│</span>\n",
       "<span style=\"color: #808000; text-decoration-color: #808000\">│</span> Key takeaway: CFS continues to secure significant funding and make progress in fusion energy technology, with   <span style=\"color: #808000; text-decoration-color: #808000\">│</span>\n",
       "<span style=\"color: #808000; text-decoration-color: #808000\">│</span> recent rounds targeting over $1 billion in 2025.                                                                <span style=\"color: #808000; text-decoration-color: #808000\">│</span>\n",
       "<span style=\"color: #808000; text-decoration-color: #808000\">╰─────────────────────────────────────────────────────────────────────────────────────────────────────────────────╯</span>\n",
       "</pre>\n"
      ]
     },
     "metadata": {},
     "output_type": "display_data"
    },
    {
     "data": {
      "text/plain": [
       "\u001B[37m╭─\u001B[0m\u001B[37m────────────────────────────────────────────────────\u001B[0m\u001B[37m 📝 AI \u001B[0m\u001B[37m────────────────────────────────────────────────────\u001B[0m\u001B[37m─╮\u001B[0m\n",
       "\u001B[37m│\u001B[0m Here’s a summary of the funding rounds and recent developments for **Commonwealth Fusion Systems (CFS)**:       \u001B[37m│\u001B[0m\n",
       "\u001B[37m│\u001B[0m                                                                                                                 \u001B[37m│\u001B[0m\n",
       "\u001B[37m│\u001B[0m ### **Funding Rounds:**                                                                                         \u001B[37m│\u001B[0m\n",
       "\u001B[37m│\u001B[0m 1. **Series B (November 2021):**                                                                                \u001B[37m│\u001B[0m\n",
       "\u001B[37m│\u001B[0m    - Raised **$1.8 billion**, led by investors including Temasek Holdings, Google, Bill Gates, and Eni.         \u001B[37m│\u001B[0m\n",
       "\u001B[37m│\u001B[0m    - Funds were allocated for the construction of the **SPARC tokamak** in Devens, Massachusetts                \u001B[37m│\u001B[0m\n",
       "\u001B[37m│\u001B[0m ([Wikipedia](https://en.wikipedia.org/wiki/Commonwealth_Fusion_Systems)).                                       \u001B[37m│\u001B[0m\n",
       "\u001B[37m│\u001B[0m                                                                                                                 \u001B[37m│\u001B[0m\n",
       "\u001B[37m│\u001B[0m 2. **Series B2 (December 2024 - June 2025):**                                                                   \u001B[37m│\u001B[0m\n",
       "\u001B[37m│\u001B[0m    - Reports indicate CFS was raising **over $1 billion** in a follow-up round.                                 \u001B[37m│\u001B[0m\n",
       "\u001B[37m│\u001B[0m    - By June 2025, the company aimed for **$1-1.5 billion** in new funding ([BeBeez                             \u001B[37m│\u001B[0m\n",
       "\u001B[37m│\u001B[0m International](https://bebeez.eu/2025/06/18/commonwealth-fusion-systems-cfs-launches-a-1-1-5-billion-us-dollars \u001B[37m│\u001B[0m\n",
       "\u001B[37m│\u001B[0m -round/)).                                                                                                      \u001B[37m│\u001B[0m\n",
       "\u001B[37m│\u001B[0m                                                                                                                 \u001B[37m│\u001B[0m\n",
       "\u001B[37m│\u001B[0m ### **Recent Developments (2024-2025):**                                                                        \u001B[37m│\u001B[0m\n",
       "\u001B[37m│\u001B[0m - **December 2024:**                                                                                            \u001B[37m│\u001B[0m\n",
       "\u001B[37m│\u001B[0m   - Delivered **superconducting magnets** to the University of Wisconsin's WHAM project ([CFS                   \u001B[37m│\u001B[0m\n",
       "\u001B[37m│\u001B[0m News](https://cfs.energy/news-and-media/)).                                                                     \u001B[37m│\u001B[0m\n",
       "\u001B[37m│\u001B[0m                                                                                                                 \u001B[37m│\u001B[0m\n",
       "\u001B[37m│\u001B[0m - **June 2024:**                                                                                                \u001B[37m│\u001B[0m\n",
       "\u001B[37m│\u001B[0m   - Signed a **$15 million agreement** with the U.S. Department of Energy (DOE) to advance commercial fusion    \u001B[37m│\u001B[0m\n",
       "\u001B[37m│\u001B[0m energy ([CFS News](https://cfs.energy/news-and-media/)).                                                        \u001B[37m│\u001B[0m\n",
       "\u001B[37m│\u001B[0m                                                                                                                 \u001B[37m│\u001B[0m\n",
       "\u001B[37m│\u001B[0m - **August 2024:**                                                                                              \u001B[37m│\u001B[0m\n",
       "\u001B[37m│\u001B[0m   - Won **two DOE INFUSE awards** to support the commercialization of fusion energy ([CFS                       \u001B[37m│\u001B[0m\n",
       "\u001B[37m│\u001B[0m News](https://cfs.energy/news-and-media/)).                                                                     \u001B[37m│\u001B[0m\n",
       "\u001B[37m│\u001B[0m                                                                                                                 \u001B[37m│\u001B[0m\n",
       "\u001B[37m│\u001B[0m ### **Industry Context:**                                                                                       \u001B[37m│\u001B[0m\n",
       "\u001B[37m│\u001B[0m - The fusion energy sector has seen significant investment growth, with **$9.8 billion raised industry-wide**   \u001B[37m│\u001B[0m\n",
       "\u001B[37m│\u001B[0m as of mid-2025, including contributions from multiple companies like CFS ([X                                    \u001B[37m│\u001B[0m\n",
       "\u001B[37m│\u001B[0m Report](https://x.com/CFS_energy/status/1947717360892137820)).                                                  \u001B[37m│\u001B[0m\n",
       "\u001B[37m│\u001B[0m                                                                                                                 \u001B[37m│\u001B[0m\n",
       "\u001B[37m│\u001B[0m ### **Key Takeaway:**                                                                                           \u001B[37m│\u001B[0m\n",
       "\u001B[37m│\u001B[0m CFS remains a leader in fusion energy, securing substantial funding and making steady progress toward           \u001B[37m│\u001B[0m\n",
       "\u001B[37m│\u001B[0m commercializing fusion power. The company continues to attract major investments and partnerships to advance    \u001B[37m│\u001B[0m\n",
       "\u001B[37m│\u001B[0m its technology.                                                                                                 \u001B[37m│\u001B[0m\n",
       "\u001B[37m│\u001B[0m                                                                                                                 \u001B[37m│\u001B[0m\n",
       "\u001B[37m│\u001B[0m For further details, you can explore their official (https://cfs.energy/news-and-media/) or industry reports.   \u001B[37m│\u001B[0m\n",
       "\u001B[37m│\u001B[0m Let me know if you'd like more specific information!                                                            \u001B[37m│\u001B[0m\n",
       "\u001B[37m╰─────────────────────────────────────────────────────────────────────────────────────────────────────────────────╯\u001B[0m\n"
      ],
      "text/html": [
       "<pre style=\"white-space:pre;overflow-x:auto;line-height:normal;font-family:Menlo,'DejaVu Sans Mono',consolas,'Courier New',monospace\"><span style=\"color: #c0c0c0; text-decoration-color: #c0c0c0\">╭───────────────────────────────────────────────────── 📝 AI ─────────────────────────────────────────────────────╮</span>\n",
       "<span style=\"color: #c0c0c0; text-decoration-color: #c0c0c0\">│</span> Here’s a summary of the funding rounds and recent developments for **Commonwealth Fusion Systems (CFS)**:       <span style=\"color: #c0c0c0; text-decoration-color: #c0c0c0\">│</span>\n",
       "<span style=\"color: #c0c0c0; text-decoration-color: #c0c0c0\">│</span>                                                                                                                 <span style=\"color: #c0c0c0; text-decoration-color: #c0c0c0\">│</span>\n",
       "<span style=\"color: #c0c0c0; text-decoration-color: #c0c0c0\">│</span> ### **Funding Rounds:**                                                                                         <span style=\"color: #c0c0c0; text-decoration-color: #c0c0c0\">│</span>\n",
       "<span style=\"color: #c0c0c0; text-decoration-color: #c0c0c0\">│</span> 1. **Series B (November 2021):**                                                                                <span style=\"color: #c0c0c0; text-decoration-color: #c0c0c0\">│</span>\n",
       "<span style=\"color: #c0c0c0; text-decoration-color: #c0c0c0\">│</span>    - Raised **$1.8 billion**, led by investors including Temasek Holdings, Google, Bill Gates, and Eni.         <span style=\"color: #c0c0c0; text-decoration-color: #c0c0c0\">│</span>\n",
       "<span style=\"color: #c0c0c0; text-decoration-color: #c0c0c0\">│</span>    - Funds were allocated for the construction of the **SPARC tokamak** in Devens, Massachusetts                <span style=\"color: #c0c0c0; text-decoration-color: #c0c0c0\">│</span>\n",
       "<span style=\"color: #c0c0c0; text-decoration-color: #c0c0c0\">│</span> ([Wikipedia](https://en.wikipedia.org/wiki/Commonwealth_Fusion_Systems)).                                       <span style=\"color: #c0c0c0; text-decoration-color: #c0c0c0\">│</span>\n",
       "<span style=\"color: #c0c0c0; text-decoration-color: #c0c0c0\">│</span>                                                                                                                 <span style=\"color: #c0c0c0; text-decoration-color: #c0c0c0\">│</span>\n",
       "<span style=\"color: #c0c0c0; text-decoration-color: #c0c0c0\">│</span> 2. **Series B2 (December 2024 - June 2025):**                                                                   <span style=\"color: #c0c0c0; text-decoration-color: #c0c0c0\">│</span>\n",
       "<span style=\"color: #c0c0c0; text-decoration-color: #c0c0c0\">│</span>    - Reports indicate CFS was raising **over $1 billion** in a follow-up round.                                 <span style=\"color: #c0c0c0; text-decoration-color: #c0c0c0\">│</span>\n",
       "<span style=\"color: #c0c0c0; text-decoration-color: #c0c0c0\">│</span>    - By June 2025, the company aimed for **$1-1.5 billion** in new funding ([BeBeez                             <span style=\"color: #c0c0c0; text-decoration-color: #c0c0c0\">│</span>\n",
       "<span style=\"color: #c0c0c0; text-decoration-color: #c0c0c0\">│</span> International](https://bebeez.eu/2025/06/18/commonwealth-fusion-systems-cfs-launches-a-1-1-5-billion-us-dollars <span style=\"color: #c0c0c0; text-decoration-color: #c0c0c0\">│</span>\n",
       "<span style=\"color: #c0c0c0; text-decoration-color: #c0c0c0\">│</span> -round/)).                                                                                                      <span style=\"color: #c0c0c0; text-decoration-color: #c0c0c0\">│</span>\n",
       "<span style=\"color: #c0c0c0; text-decoration-color: #c0c0c0\">│</span>                                                                                                                 <span style=\"color: #c0c0c0; text-decoration-color: #c0c0c0\">│</span>\n",
       "<span style=\"color: #c0c0c0; text-decoration-color: #c0c0c0\">│</span> ### **Recent Developments (2024-2025):**                                                                        <span style=\"color: #c0c0c0; text-decoration-color: #c0c0c0\">│</span>\n",
       "<span style=\"color: #c0c0c0; text-decoration-color: #c0c0c0\">│</span> - **December 2024:**                                                                                            <span style=\"color: #c0c0c0; text-decoration-color: #c0c0c0\">│</span>\n",
       "<span style=\"color: #c0c0c0; text-decoration-color: #c0c0c0\">│</span>   - Delivered **superconducting magnets** to the University of Wisconsin's WHAM project ([CFS                   <span style=\"color: #c0c0c0; text-decoration-color: #c0c0c0\">│</span>\n",
       "<span style=\"color: #c0c0c0; text-decoration-color: #c0c0c0\">│</span> News](https://cfs.energy/news-and-media/)).                                                                     <span style=\"color: #c0c0c0; text-decoration-color: #c0c0c0\">│</span>\n",
       "<span style=\"color: #c0c0c0; text-decoration-color: #c0c0c0\">│</span>                                                                                                                 <span style=\"color: #c0c0c0; text-decoration-color: #c0c0c0\">│</span>\n",
       "<span style=\"color: #c0c0c0; text-decoration-color: #c0c0c0\">│</span> - **June 2024:**                                                                                                <span style=\"color: #c0c0c0; text-decoration-color: #c0c0c0\">│</span>\n",
       "<span style=\"color: #c0c0c0; text-decoration-color: #c0c0c0\">│</span>   - Signed a **$15 million agreement** with the U.S. Department of Energy (DOE) to advance commercial fusion    <span style=\"color: #c0c0c0; text-decoration-color: #c0c0c0\">│</span>\n",
       "<span style=\"color: #c0c0c0; text-decoration-color: #c0c0c0\">│</span> energy ([CFS News](https://cfs.energy/news-and-media/)).                                                        <span style=\"color: #c0c0c0; text-decoration-color: #c0c0c0\">│</span>\n",
       "<span style=\"color: #c0c0c0; text-decoration-color: #c0c0c0\">│</span>                                                                                                                 <span style=\"color: #c0c0c0; text-decoration-color: #c0c0c0\">│</span>\n",
       "<span style=\"color: #c0c0c0; text-decoration-color: #c0c0c0\">│</span> - **August 2024:**                                                                                              <span style=\"color: #c0c0c0; text-decoration-color: #c0c0c0\">│</span>\n",
       "<span style=\"color: #c0c0c0; text-decoration-color: #c0c0c0\">│</span>   - Won **two DOE INFUSE awards** to support the commercialization of fusion energy ([CFS                       <span style=\"color: #c0c0c0; text-decoration-color: #c0c0c0\">│</span>\n",
       "<span style=\"color: #c0c0c0; text-decoration-color: #c0c0c0\">│</span> News](https://cfs.energy/news-and-media/)).                                                                     <span style=\"color: #c0c0c0; text-decoration-color: #c0c0c0\">│</span>\n",
       "<span style=\"color: #c0c0c0; text-decoration-color: #c0c0c0\">│</span>                                                                                                                 <span style=\"color: #c0c0c0; text-decoration-color: #c0c0c0\">│</span>\n",
       "<span style=\"color: #c0c0c0; text-decoration-color: #c0c0c0\">│</span> ### **Industry Context:**                                                                                       <span style=\"color: #c0c0c0; text-decoration-color: #c0c0c0\">│</span>\n",
       "<span style=\"color: #c0c0c0; text-decoration-color: #c0c0c0\">│</span> - The fusion energy sector has seen significant investment growth, with **$9.8 billion raised industry-wide**   <span style=\"color: #c0c0c0; text-decoration-color: #c0c0c0\">│</span>\n",
       "<span style=\"color: #c0c0c0; text-decoration-color: #c0c0c0\">│</span> as of mid-2025, including contributions from multiple companies like CFS ([X                                    <span style=\"color: #c0c0c0; text-decoration-color: #c0c0c0\">│</span>\n",
       "<span style=\"color: #c0c0c0; text-decoration-color: #c0c0c0\">│</span> Report](https://x.com/CFS_energy/status/1947717360892137820)).                                                  <span style=\"color: #c0c0c0; text-decoration-color: #c0c0c0\">│</span>\n",
       "<span style=\"color: #c0c0c0; text-decoration-color: #c0c0c0\">│</span>                                                                                                                 <span style=\"color: #c0c0c0; text-decoration-color: #c0c0c0\">│</span>\n",
       "<span style=\"color: #c0c0c0; text-decoration-color: #c0c0c0\">│</span> ### **Key Takeaway:**                                                                                           <span style=\"color: #c0c0c0; text-decoration-color: #c0c0c0\">│</span>\n",
       "<span style=\"color: #c0c0c0; text-decoration-color: #c0c0c0\">│</span> CFS remains a leader in fusion energy, securing substantial funding and making steady progress toward           <span style=\"color: #c0c0c0; text-decoration-color: #c0c0c0\">│</span>\n",
       "<span style=\"color: #c0c0c0; text-decoration-color: #c0c0c0\">│</span> commercializing fusion power. The company continues to attract major investments and partnerships to advance    <span style=\"color: #c0c0c0; text-decoration-color: #c0c0c0\">│</span>\n",
       "<span style=\"color: #c0c0c0; text-decoration-color: #c0c0c0\">│</span> its technology.                                                                                                 <span style=\"color: #c0c0c0; text-decoration-color: #c0c0c0\">│</span>\n",
       "<span style=\"color: #c0c0c0; text-decoration-color: #c0c0c0\">│</span>                                                                                                                 <span style=\"color: #c0c0c0; text-decoration-color: #c0c0c0\">│</span>\n",
       "<span style=\"color: #c0c0c0; text-decoration-color: #c0c0c0\">│</span> For further details, you can explore their official (https://cfs.energy/news-and-media/) or industry reports.   <span style=\"color: #c0c0c0; text-decoration-color: #c0c0c0\">│</span>\n",
       "<span style=\"color: #c0c0c0; text-decoration-color: #c0c0c0\">│</span> Let me know if you'd like more specific information!                                                            <span style=\"color: #c0c0c0; text-decoration-color: #c0c0c0\">│</span>\n",
       "<span style=\"color: #c0c0c0; text-decoration-color: #c0c0c0\">╰─────────────────────────────────────────────────────────────────────────────────────────────────────────────────╯</span>\n",
       "</pre>\n"
      ]
     },
     "metadata": {},
     "output_type": "display_data"
    }
   ],
   "execution_count": 25
  },
  {
   "metadata": {
    "ExecuteTime": {
     "end_time": "2025-08-13T12:48:28.583614Z",
     "start_time": "2025-08-13T12:47:47.494092Z"
    }
   },
   "cell_type": "code",
   "source": [
    "# Cross-thread memory persistence demonstration\n",
    "config_2 = {\"configurable\": {\"thread_id\": \"2\"}}\n",
    "messages_2 = agent.invoke({\n",
    "    \"messages\": [\n",
    "        HumanMessage(content=\"How does the funding raised for Helion Energy compare to Commonwealth Fusion Systems?\")]\n",
    "}, config_2)\n",
    "\n",
    "console.print(\"\\n[bold cyan]Workflow Result (Thread 2) - Cross-Thread Memory Access:[/bold cyan]\")\n",
    "format_messages(messages_2['messages'])"
   ],
   "id": "6b5e8d2d9fdbc9e0",
   "outputs": [
    {
     "data": {
      "text/plain": [
       "\n",
       "\u001B[1;36mWorkflow Result \u001B[0m\u001B[1;36m(\u001B[0m\u001B[1;36mThread \u001B[0m\u001B[1;36m2\u001B[0m\u001B[1;36m)\u001B[0m\u001B[1;36m - Cross-Thread Memory Access:\u001B[0m\n"
      ],
      "text/html": [
       "<pre style=\"white-space:pre;overflow-x:auto;line-height:normal;font-family:Menlo,'DejaVu Sans Mono',consolas,'Courier New',monospace\">\n",
       "<span style=\"color: #008080; text-decoration-color: #008080; font-weight: bold\">Workflow Result (Thread </span><span style=\"color: #008080; text-decoration-color: #008080; font-weight: bold\">2</span><span style=\"color: #008080; text-decoration-color: #008080; font-weight: bold\">) - Cross-Thread Memory Access:</span>\n",
       "</pre>\n"
      ]
     },
     "metadata": {},
     "output_type": "display_data"
    },
    {
     "data": {
      "text/plain": [
       "\u001B[34m╭─\u001B[0m\u001B[34m──────────────────────────────────────────────────\u001B[0m\u001B[34m 🧑 Human \u001B[0m\u001B[34m───────────────────────────────────────────────────\u001B[0m\u001B[34m─╮\u001B[0m\n",
       "\u001B[34m│\u001B[0m How does the funding raised for Helion Energy compare to Commonwealth Fusion Systems?                           \u001B[34m│\u001B[0m\n",
       "\u001B[34m╰─────────────────────────────────────────────────────────────────────────────────────────────────────────────────╯\u001B[0m\n"
      ],
      "text/html": [
       "<pre style=\"white-space:pre;overflow-x:auto;line-height:normal;font-family:Menlo,'DejaVu Sans Mono',consolas,'Courier New',monospace\"><span style=\"color: #000080; text-decoration-color: #000080\">╭─────────────────────────────────────────────────── 🧑 Human ────────────────────────────────────────────────────╮</span>\n",
       "<span style=\"color: #000080; text-decoration-color: #000080\">│</span> How does the funding raised for Helion Energy compare to Commonwealth Fusion Systems?                           <span style=\"color: #000080; text-decoration-color: #000080\">│</span>\n",
       "<span style=\"color: #000080; text-decoration-color: #000080\">╰─────────────────────────────────────────────────────────────────────────────────────────────────────────────────╯</span>\n",
       "</pre>\n"
      ]
     },
     "metadata": {},
     "output_type": "display_data"
    },
    {
     "data": {
      "text/plain": [
       "\u001B[37m╭─\u001B[0m\u001B[37m────────────────────────────────────────────────────\u001B[0m\u001B[37m 📝 AI \u001B[0m\u001B[37m────────────────────────────────────────────────────\u001B[0m\u001B[37m─╮\u001B[0m\n",
       "\u001B[37m│\u001B[0m                                                                                                                 \u001B[37m│\u001B[0m\n",
       "\u001B[37m╰─────────────────────────────────────────────────────────────────────────────────────────────────────────────────╯\u001B[0m\n"
      ],
      "text/html": [
       "<pre style=\"white-space:pre;overflow-x:auto;line-height:normal;font-family:Menlo,'DejaVu Sans Mono',consolas,'Courier New',monospace\"><span style=\"color: #c0c0c0; text-decoration-color: #c0c0c0\">╭───────────────────────────────────────────────────── 📝 AI ─────────────────────────────────────────────────────╮</span>\n",
       "<span style=\"color: #c0c0c0; text-decoration-color: #c0c0c0\">│</span>                                                                                                                 <span style=\"color: #c0c0c0; text-decoration-color: #c0c0c0\">│</span>\n",
       "<span style=\"color: #c0c0c0; text-decoration-color: #c0c0c0\">╰─────────────────────────────────────────────────────────────────────────────────────────────────────────────────╯</span>\n",
       "</pre>\n"
      ]
     },
     "metadata": {},
     "output_type": "display_data"
    },
    {
     "data": {
      "text/plain": [
       "\u001B[33m╭─\u001B[0m\u001B[33m───────────────────────────────────────────────\u001B[0m\u001B[33m 🔧 Tool Output \u001B[0m\u001B[33m────────────────────────────────────────────────\u001B[0m\u001B[33m─╮\u001B[0m\n",
       "\u001B[33m│\u001B[0m {'query': 'Helion Energy funding raised', 'follow_up_questions': None, 'answer': None, 'images': [], 'results': \u001B[33m│\u001B[0m\n",
       "\u001B[33m│\u001B[0m [{'url': 'https://www.helionenergy.com/news/', 'title': 'News - Helion', 'content': \"### Sam Altman, SoftBank   \u001B[33m│\u001B[0m\n",
       "\u001B[33m│\u001B[0m invest in $425M round for Helion, a Seattle-area startup chasing fusion power\\n\\nHelion Energy announced a $425 \u001B[33m│\u001B[0m\n",
       "\u001B[33m│\u001B[0m million funding round that will help the Seattle-area fusion company chase the “Holy Grail” of clean            \u001B[33m│\u001B[0m\n",
       "\u001B[33m│\u001B[0m energy.\\n\\nGeekWire Image 40\\n\\n  \\n\\n### Helion raises $425M to help build a fusion reactor for                \u001B[33m│\u001B[0m\n",
       "\u001B[33m│\u001B[0m Microsoft\\n\\nHelion announced Tuesday a $425 million Series F raise that pushed its valuation $5.245            \u001B[33m│\u001B[0m\n",
       "\u001B[33m│\u001B[0m billion.\\n\\nTechCrunch Image 41 [...] The company raised $40 million in Series D funding, accelerating Helion’s \u001B[33m│\u001B[0m\n",
       "\u001B[33m│\u001B[0m ability to innovate new technology that will create a path to unlimited, clean electricity from fusion.\\n\\nRead \u001B[33m│\u001B[0m\n",
       "\u001B[33m│\u001B[0m press release Image 80\\n\\nLoad more Image 81\\n\\nImage 82\\n\\nGeneral                                             \u001B[33m│\u001B[0m\n",
       "\u001B[33m│\u001B[0m Inquiries\\n\\ninquiries@helionenergy.com\\nMedia & Press\\n\\npress@helionenergy.com\\n\\nGet our newsletter\\n\\nImage \u001B[33m│\u001B[0m\n",
       "\u001B[33m│\u001B[0m 83Thank you for subscribing!Something went wrong Please enter a valid email address\\n\\n©2025 Helion\\n\\n         \u001B[33m│\u001B[0m\n",
       "\u001B[33m│\u001B[0m Privacy policy\\n   Terms of use\\n   ©2025 Helion [...] ### Announcing Helion's latest fundraise of $500         \u001B[33m│\u001B[0m\n",
       "\u001B[33m│\u001B[0m million\\n\\nThis new funding will be used to accelerate our construction of Polaris, expected to demonstrate net \u001B[33m│\u001B[0m\n",
       "\u001B[33m│\u001B[0m electricity from fusion in 2024.\\n\\nRead press release Image 77\\n\\n  \\n\\n### Helion Energy Breaks Ground on     \u001B[33m│\u001B[0m\n",
       "\u001B[33m│\u001B[0m Site of Its Next-Generation Fusion Facility in Everett, Washington\\n\\nWashington Governor Jay Inslee and        \u001B[33m│\u001B[0m\n",
       "\u001B[33m│\u001B[0m Everett Mayor Cassie Franklin attend in support of the company’s expansion of operations and creation of new    \u001B[33m│\u001B[0m\n",
       "\u001B[33m│\u001B[0m clean energy jobs.\", 'score': 0.8783249, 'raw_content': None}, {'url':                                          \u001B[33m│\u001B[0m\n",
       "\u001B[33m│\u001B[0m 'https://tracxn.com/d/companies/helion/__fS6qGKScel2LE9EV85bGN9zjK8uhT4s_uRFQXu4k0M8/funding-and-investors',    \u001B[33m│\u001B[0m\n",
       "\u001B[33m│\u001B[0m 'title': 'Helion - 2025 Funding Rounds & List of Investors', 'content': \"Helion has raised a total of $977M     \u001B[33m│\u001B[0m\n",
       "\u001B[33m│\u001B[0m over7 funding rounds:2 Early-Stage, 3 Late-Stage and 2 Grant (prize money)round s. Helion's largest funding     \u001B[33m│\u001B[0m\n",
       "\u001B[33m│\u001B[0m round so far was aSeries Eround for $500M in Nov 2021, led bySam Altman.\\n\\nHere is the list of all funding     \u001B[33m│\u001B[0m\n",
       "\u001B[33m│\u001B[0m rounds of Helion: [...] How much funding has Helion raised till date?\\n\\nHelion has raised a total of $977M     \u001B[33m│\u001B[0m\n",
       "\u001B[33m│\u001B[0m over 7 rounds.\\n\\nWhich was the largest funding round of Helion?\\n\\nHelion's largest funding round was a Series \u001B[33m│\u001B[0m\n",
       "\u001B[33m│\u001B[0m E round held on Nov 05, 2021 for $500M.\\n\\nWhat is the valuation of Helion?\\n\\nHelion's valuation is $5.42B as  \u001B[33m│\u001B[0m\n",
       "\u001B[33m│\u001B[0m on Jan 28, 2025.\\n\\nHow many funding rounds does Helion have?\\n\\nHelion has total 7 funding rounds:\\n   3       \u001B[33m│\u001B[0m\n",
       "\u001B[33m│\u001B[0m Late-Stage round s\\n   2 Early-Stage round s\\n   2 Grant (prize money) round s\", 'score': 0.8775715,            \u001B[33m│\u001B[0m\n",
       "\u001B[33m│\u001B[0m 'raw_content': None}, {'url': 'https://news.crunchbase.com/venture/biggest-funding-rounds-helion-elevenlabs/',  \u001B[33m│\u001B[0m\n",
       "\u001B[33m│\u001B[0m 'title': \"The Week's Biggest Funding Rounds: Helion Energy Takes ...\", 'content': '1. Helion Energy, $425M,     \u001B[33m│\u001B[0m\n",
       "\u001B[33m│\u001B[0m energy: Fusion startup Helion Energy locked up a $425 million Series F — valuing the company at $5.4 billion —  \u001B[33m│\u001B[0m\n",
       "\u001B[33m│\u001B[0m as the company looks to commercialize its fusion technology. The round included participation from investors    \u001B[33m│\u001B[0m\n",
       "\u001B[33m│\u001B[0m including Lightspeed Venture Partners, SoftBank Vision Fund 2 and Sam Altman. The Everett, Washington-based     \u001B[33m│\u001B[0m\n",
       "\u001B[33m│\u001B[0m startup has now raised more than $1 billion. In November 2021, Helion closed a $500 million Series E. The new   \u001B[33m│\u001B[0m\n",
       "\u001B[33m│\u001B[0m round further illustrates investors’ [...] D, also led by Eden Global Partners. Founded in 2017, the company    \u001B[33m│\u001B[0m\n",
       "\u001B[33m│\u001B[0m has raised nearly $431 million, per Crunchbase. [...] 8. (tied) Smart Wires, $65M, electronics: Durham, North   \u001B[33m│\u001B[0m\n",
       "\u001B[33m│\u001B[0m Carolina-based Smart Wires, a company that develops solutions for a more reliable and affordable power grid,    \u001B[33m│\u001B[0m\n",
       "\u001B[33m│\u001B[0m raised $65 million in a new investment that included participation from BP Energy Partners. Founded in 2010,    \u001B[33m│\u001B[0m\n",
       "\u001B[33m│\u001B[0m the company has raised $248 million, per Crunchbase.', 'score': 0.86358756, 'raw_content': None}],              \u001B[33m│\u001B[0m\n",
       "\u001B[33m│\u001B[0m 'response_time': 2.41}                                                                                          \u001B[33m│\u001B[0m\n",
       "\u001B[33m╰─────────────────────────────────────────────────────────────────────────────────────────────────────────────────╯\u001B[0m\n"
      ],
      "text/html": [
       "<pre style=\"white-space:pre;overflow-x:auto;line-height:normal;font-family:Menlo,'DejaVu Sans Mono',consolas,'Courier New',monospace\"><span style=\"color: #808000; text-decoration-color: #808000\">╭──────────────────────────────────────────────── 🔧 Tool Output ─────────────────────────────────────────────────╮</span>\n",
       "<span style=\"color: #808000; text-decoration-color: #808000\">│</span> {'query': 'Helion Energy funding raised', 'follow_up_questions': None, 'answer': None, 'images': [], 'results': <span style=\"color: #808000; text-decoration-color: #808000\">│</span>\n",
       "<span style=\"color: #808000; text-decoration-color: #808000\">│</span> [{'url': 'https://www.helionenergy.com/news/', 'title': 'News - Helion', 'content': \"### Sam Altman, SoftBank   <span style=\"color: #808000; text-decoration-color: #808000\">│</span>\n",
       "<span style=\"color: #808000; text-decoration-color: #808000\">│</span> invest in $425M round for Helion, a Seattle-area startup chasing fusion power\\n\\nHelion Energy announced a $425 <span style=\"color: #808000; text-decoration-color: #808000\">│</span>\n",
       "<span style=\"color: #808000; text-decoration-color: #808000\">│</span> million funding round that will help the Seattle-area fusion company chase the “Holy Grail” of clean            <span style=\"color: #808000; text-decoration-color: #808000\">│</span>\n",
       "<span style=\"color: #808000; text-decoration-color: #808000\">│</span> energy.\\n\\nGeekWire Image 40\\n\\n  \\n\\n### Helion raises $425M to help build a fusion reactor for                <span style=\"color: #808000; text-decoration-color: #808000\">│</span>\n",
       "<span style=\"color: #808000; text-decoration-color: #808000\">│</span> Microsoft\\n\\nHelion announced Tuesday a $425 million Series F raise that pushed its valuation $5.245            <span style=\"color: #808000; text-decoration-color: #808000\">│</span>\n",
       "<span style=\"color: #808000; text-decoration-color: #808000\">│</span> billion.\\n\\nTechCrunch Image 41 [...] The company raised $40 million in Series D funding, accelerating Helion’s <span style=\"color: #808000; text-decoration-color: #808000\">│</span>\n",
       "<span style=\"color: #808000; text-decoration-color: #808000\">│</span> ability to innovate new technology that will create a path to unlimited, clean electricity from fusion.\\n\\nRead <span style=\"color: #808000; text-decoration-color: #808000\">│</span>\n",
       "<span style=\"color: #808000; text-decoration-color: #808000\">│</span> press release Image 80\\n\\nLoad more Image 81\\n\\nImage 82\\n\\nGeneral                                             <span style=\"color: #808000; text-decoration-color: #808000\">│</span>\n",
       "<span style=\"color: #808000; text-decoration-color: #808000\">│</span> Inquiries\\n\\ninquiries@helionenergy.com\\nMedia &amp; Press\\n\\npress@helionenergy.com\\n\\nGet our newsletter\\n\\nImage <span style=\"color: #808000; text-decoration-color: #808000\">│</span>\n",
       "<span style=\"color: #808000; text-decoration-color: #808000\">│</span> 83Thank you for subscribing!Something went wrong Please enter a valid email address\\n\\n©2025 Helion\\n\\n         <span style=\"color: #808000; text-decoration-color: #808000\">│</span>\n",
       "<span style=\"color: #808000; text-decoration-color: #808000\">│</span> Privacy policy\\n   Terms of use\\n   ©2025 Helion [...] ### Announcing Helion's latest fundraise of $500         <span style=\"color: #808000; text-decoration-color: #808000\">│</span>\n",
       "<span style=\"color: #808000; text-decoration-color: #808000\">│</span> million\\n\\nThis new funding will be used to accelerate our construction of Polaris, expected to demonstrate net <span style=\"color: #808000; text-decoration-color: #808000\">│</span>\n",
       "<span style=\"color: #808000; text-decoration-color: #808000\">│</span> electricity from fusion in 2024.\\n\\nRead press release Image 77\\n\\n  \\n\\n### Helion Energy Breaks Ground on     <span style=\"color: #808000; text-decoration-color: #808000\">│</span>\n",
       "<span style=\"color: #808000; text-decoration-color: #808000\">│</span> Site of Its Next-Generation Fusion Facility in Everett, Washington\\n\\nWashington Governor Jay Inslee and        <span style=\"color: #808000; text-decoration-color: #808000\">│</span>\n",
       "<span style=\"color: #808000; text-decoration-color: #808000\">│</span> Everett Mayor Cassie Franklin attend in support of the company’s expansion of operations and creation of new    <span style=\"color: #808000; text-decoration-color: #808000\">│</span>\n",
       "<span style=\"color: #808000; text-decoration-color: #808000\">│</span> clean energy jobs.\", 'score': 0.8783249, 'raw_content': None}, {'url':                                          <span style=\"color: #808000; text-decoration-color: #808000\">│</span>\n",
       "<span style=\"color: #808000; text-decoration-color: #808000\">│</span> 'https://tracxn.com/d/companies/helion/__fS6qGKScel2LE9EV85bGN9zjK8uhT4s_uRFQXu4k0M8/funding-and-investors',    <span style=\"color: #808000; text-decoration-color: #808000\">│</span>\n",
       "<span style=\"color: #808000; text-decoration-color: #808000\">│</span> 'title': 'Helion - 2025 Funding Rounds &amp; List of Investors', 'content': \"Helion has raised a total of $977M     <span style=\"color: #808000; text-decoration-color: #808000\">│</span>\n",
       "<span style=\"color: #808000; text-decoration-color: #808000\">│</span> over7 funding rounds:2 Early-Stage, 3 Late-Stage and 2 Grant (prize money)round s. Helion's largest funding     <span style=\"color: #808000; text-decoration-color: #808000\">│</span>\n",
       "<span style=\"color: #808000; text-decoration-color: #808000\">│</span> round so far was aSeries Eround for $500M in Nov 2021, led bySam Altman.\\n\\nHere is the list of all funding     <span style=\"color: #808000; text-decoration-color: #808000\">│</span>\n",
       "<span style=\"color: #808000; text-decoration-color: #808000\">│</span> rounds of Helion: [...] How much funding has Helion raised till date?\\n\\nHelion has raised a total of $977M     <span style=\"color: #808000; text-decoration-color: #808000\">│</span>\n",
       "<span style=\"color: #808000; text-decoration-color: #808000\">│</span> over 7 rounds.\\n\\nWhich was the largest funding round of Helion?\\n\\nHelion's largest funding round was a Series <span style=\"color: #808000; text-decoration-color: #808000\">│</span>\n",
       "<span style=\"color: #808000; text-decoration-color: #808000\">│</span> E round held on Nov 05, 2021 for $500M.\\n\\nWhat is the valuation of Helion?\\n\\nHelion's valuation is $5.42B as  <span style=\"color: #808000; text-decoration-color: #808000\">│</span>\n",
       "<span style=\"color: #808000; text-decoration-color: #808000\">│</span> on Jan 28, 2025.\\n\\nHow many funding rounds does Helion have?\\n\\nHelion has total 7 funding rounds:\\n   3       <span style=\"color: #808000; text-decoration-color: #808000\">│</span>\n",
       "<span style=\"color: #808000; text-decoration-color: #808000\">│</span> Late-Stage round s\\n   2 Early-Stage round s\\n   2 Grant (prize money) round s\", 'score': 0.8775715,            <span style=\"color: #808000; text-decoration-color: #808000\">│</span>\n",
       "<span style=\"color: #808000; text-decoration-color: #808000\">│</span> 'raw_content': None}, {'url': 'https://news.crunchbase.com/venture/biggest-funding-rounds-helion-elevenlabs/',  <span style=\"color: #808000; text-decoration-color: #808000\">│</span>\n",
       "<span style=\"color: #808000; text-decoration-color: #808000\">│</span> 'title': \"The Week's Biggest Funding Rounds: Helion Energy Takes ...\", 'content': '1. Helion Energy, $425M,     <span style=\"color: #808000; text-decoration-color: #808000\">│</span>\n",
       "<span style=\"color: #808000; text-decoration-color: #808000\">│</span> energy: Fusion startup Helion Energy locked up a $425 million Series F — valuing the company at $5.4 billion —  <span style=\"color: #808000; text-decoration-color: #808000\">│</span>\n",
       "<span style=\"color: #808000; text-decoration-color: #808000\">│</span> as the company looks to commercialize its fusion technology. The round included participation from investors    <span style=\"color: #808000; text-decoration-color: #808000\">│</span>\n",
       "<span style=\"color: #808000; text-decoration-color: #808000\">│</span> including Lightspeed Venture Partners, SoftBank Vision Fund 2 and Sam Altman. The Everett, Washington-based     <span style=\"color: #808000; text-decoration-color: #808000\">│</span>\n",
       "<span style=\"color: #808000; text-decoration-color: #808000\">│</span> startup has now raised more than $1 billion. In November 2021, Helion closed a $500 million Series E. The new   <span style=\"color: #808000; text-decoration-color: #808000\">│</span>\n",
       "<span style=\"color: #808000; text-decoration-color: #808000\">│</span> round further illustrates investors’ [...] D, also led by Eden Global Partners. Founded in 2017, the company    <span style=\"color: #808000; text-decoration-color: #808000\">│</span>\n",
       "<span style=\"color: #808000; text-decoration-color: #808000\">│</span> has raised nearly $431 million, per Crunchbase. [...] 8. (tied) Smart Wires, $65M, electronics: Durham, North   <span style=\"color: #808000; text-decoration-color: #808000\">│</span>\n",
       "<span style=\"color: #808000; text-decoration-color: #808000\">│</span> Carolina-based Smart Wires, a company that develops solutions for a more reliable and affordable power grid,    <span style=\"color: #808000; text-decoration-color: #808000\">│</span>\n",
       "<span style=\"color: #808000; text-decoration-color: #808000\">│</span> raised $65 million in a new investment that included participation from BP Energy Partners. Founded in 2010,    <span style=\"color: #808000; text-decoration-color: #808000\">│</span>\n",
       "<span style=\"color: #808000; text-decoration-color: #808000\">│</span> the company has raised $248 million, per Crunchbase.', 'score': 0.86358756, 'raw_content': None}],              <span style=\"color: #808000; text-decoration-color: #808000\">│</span>\n",
       "<span style=\"color: #808000; text-decoration-color: #808000\">│</span> 'response_time': 2.41}                                                                                          <span style=\"color: #808000; text-decoration-color: #808000\">│</span>\n",
       "<span style=\"color: #808000; text-decoration-color: #808000\">╰─────────────────────────────────────────────────────────────────────────────────────────────────────────────────╯</span>\n",
       "</pre>\n"
      ]
     },
     "metadata": {},
     "output_type": "display_data"
    },
    {
     "data": {
      "text/plain": [
       "\u001B[33m╭─\u001B[0m\u001B[33m───────────────────────────────────────────────\u001B[0m\u001B[33m 🔧 Tool Output \u001B[0m\u001B[33m────────────────────────────────────────────────\u001B[0m\u001B[33m─╮\u001B[0m\n",
       "\u001B[33m│\u001B[0m {'query': 'Commonwealth Fusion Systems funding raised', 'follow_up_questions': None, 'answer': None, 'images':  \u001B[33m│\u001B[0m\n",
       "\u001B[33m│\u001B[0m [], 'results': [{'url': 'https://forgeglobal.com/commonwealth-fusion_ipo/', 'title': 'Commonwealth Fusion IPO - \u001B[33m│\u001B[0m\n",
       "\u001B[33m│\u001B[0m Forge Global', 'content': 'Commonwealth Fusion Systems is an energy research company that uses fusion energy    \u001B[33m│\u001B[0m\n",
       "\u001B[33m│\u001B[0m and physics to create clean energy that will reverse the impact of climate change. Per Forge data, Commonwealth \u001B[33m│\u001B[0m\n",
       "\u001B[33m│\u001B[0m Fusion raised $2B billion in funding over 5 rounds. Their latest funding was raised on May 31, 2023. Key        \u001B[33m│\u001B[0m\n",
       "\u001B[33m│\u001B[0m investors include Temasek Holdings, the U.S. Department of Energy, Tiger Global Management, and Breakthrough    \u001B[33m│\u001B[0m\n",
       "\u001B[33m│\u001B[0m Energy Ventures. [...] Commonwealth Fusion Systems was founded in 2018 by Bob Mumgaard. CNBC reported in June   \u001B[33m│\u001B[0m\n",
       "\u001B[33m│\u001B[0m 2023 that Commonwealth Fusion Systems “has raised more than $2 billion in venture capital from the likes of     \u001B[33m│\u001B[0m\n",
       "\u001B[33m│\u001B[0m Bill Gates, Gates’ climate investment firm Breakthrough Energy Ventures, Google, John Doerr, Khosla Ventures,   \u001B[33m│\u001B[0m\n",
       "\u001B[33m│\u001B[0m Lowercarbon Capital, Marc Benioff’s TIME Ventures and more. That’s more private capital than any other fusion   \u001B[33m│\u001B[0m\n",
       "\u001B[33m│\u001B[0m startup.” Commonwealth Fusion Systems has not officially endorsed a plan to', 'score': 0.945243, 'raw_content': \u001B[33m│\u001B[0m\n",
       "\u001B[33m│\u001B[0m None}, {'url':                                                                                                  \u001B[33m│\u001B[0m\n",
       "\u001B[33m│\u001B[0m 'https://www.cfs.energy/news-and-media/commonwealth-fusion-systems-closes-1-8-billion-series-b-round/',         \u001B[33m│\u001B[0m\n",
       "\u001B[33m│\u001B[0m 'title': 'Commonwealth Fusion Systems Raises $1.8 Billion in Funding to ...', 'content': 'Skip to               \u001B[33m│\u001B[0m\n",
       "\u001B[33m│\u001B[0m content\\n\\n12.01.2021\\n\\n# Commonwealth Fusion Systems Raises $1.8 Billion in Funding to Commercialize Fusion   \u001B[33m│\u001B[0m\n",
       "\u001B[33m│\u001B[0m Energy [...] Commonwealth Fusion Systems (CFS) announced it has closed on more than $1.8 billion in Series B    \u001B[33m│\u001B[0m\n",
       "\u001B[33m│\u001B[0m funding to commercialize fusion energy. This includes capital to construct, commission, and operate SPARC, the  \u001B[33m│\u001B[0m\n",
       "\u001B[33m│\u001B[0m world’s first commercially relevant net energy fusion machine. In addition, it will enable the company to begin \u001B[33m│\u001B[0m\n",
       "\u001B[33m│\u001B[0m work on ARC, the first commercial fusion power plant, which includes developing support technologies, advancing \u001B[33m│\u001B[0m\n",
       "\u001B[33m│\u001B[0m the design, identifying the site, and assembling the partners and [...] \"Fusion is the kind of innovation that  \u001B[33m│\u001B[0m\n",
       "\u001B[33m│\u001B[0m can help fill the gaps in grids and put an end to fossil fuels. CFS is a company that executes - making         \u001B[33m│\u001B[0m\n",
       "\u001B[33m│\u001B[0m possible what seemed impossible, one technical milestone at a time,” said John Doerr, chair of Kleiner Perkins  \u001B[33m│\u001B[0m\n",
       "\u001B[33m│\u001B[0m and author of Speed & Scale: An Action Plan for Solving Our Climate Crisis Now.\\n\\nCFS has raised more than $2  \u001B[33m│\u001B[0m\n",
       "\u001B[33m│\u001B[0m billion in funding since it was founded in 2018.', 'score': 0.89121616, 'raw_content': None}, {'url':           \u001B[33m│\u001B[0m\n",
       "\u001B[33m│\u001B[0m 'https://en.wikipedia.org/wiki/Commonwealth_Fusion_Systems', 'title': 'Commonwealth Fusion Systems -            \u001B[33m│\u001B[0m\n",
       "\u001B[33m│\u001B[0m Wikipedia', 'content': 'CFS was founded in 2018 as a spin-off from the MIT Plasma Science and Fusion Center.    \u001B[33m│\u001B[0m\n",
       "\u001B[33m│\u001B[0m After initial funding of $50 million in 2018 from the Italian multinational Eni, CFS closed its series A round  \u001B[33m│\u001B[0m\n",
       "\u001B[33m│\u001B[0m of venture capital funding in 2019 with a total of US$ 115 million in funding from Eni, Bill Gates\\'s           \u001B[33m│\u001B[0m\n",
       "\u001B[33m│\u001B[0m Breakthrough Energy Ventures, Vinod Khosla\\'s Khosla Ventures, and others. CFS raised an additional US$ 84      \u001B[33m│\u001B[0m\n",
       "\u001B[33m│\u001B[0m million in series A2 funding from Singapore\\'s Temasek, Norway\\'s Equinor, and Devonshire [...] In September    \u001B[33m│\u001B[0m\n",
       "\u001B[33m│\u001B[0m 2021, the company announced the demonstration of a high temperature superconducting magnet, able to generate    \u001B[33m│\u001B[0m\n",
       "\u001B[33m│\u001B[0m magnetic fields of 20\\u202fTesla. According to the New York Times, this was a successful test of \"the world\\'s  \u001B[33m│\u001B[0m\n",
       "\u001B[33m│\u001B[0m most powerful version of the type of magnet crucial to many fusion efforts\"\\n\\nIn November 2021, the company    \u001B[33m│\u001B[0m\n",
       "\u001B[33m│\u001B[0m raised an additional $1.8 billion in Series B funding to construct and operate the SPARC tokamak, funded by     \u001B[33m│\u001B[0m\n",
       "\u001B[33m│\u001B[0m Temasek Holdings, Google, Bill Gates and Eni.', 'score': 0.86303437, 'raw_content': None}], 'response_time':    \u001B[33m│\u001B[0m\n",
       "\u001B[33m│\u001B[0m 2.21}                                                                                                           \u001B[33m│\u001B[0m\n",
       "\u001B[33m╰─────────────────────────────────────────────────────────────────────────────────────────────────────────────────╯\u001B[0m\n"
      ],
      "text/html": [
       "<pre style=\"white-space:pre;overflow-x:auto;line-height:normal;font-family:Menlo,'DejaVu Sans Mono',consolas,'Courier New',monospace\"><span style=\"color: #808000; text-decoration-color: #808000\">╭──────────────────────────────────────────────── 🔧 Tool Output ─────────────────────────────────────────────────╮</span>\n",
       "<span style=\"color: #808000; text-decoration-color: #808000\">│</span> {'query': 'Commonwealth Fusion Systems funding raised', 'follow_up_questions': None, 'answer': None, 'images':  <span style=\"color: #808000; text-decoration-color: #808000\">│</span>\n",
       "<span style=\"color: #808000; text-decoration-color: #808000\">│</span> [], 'results': [{'url': 'https://forgeglobal.com/commonwealth-fusion_ipo/', 'title': 'Commonwealth Fusion IPO - <span style=\"color: #808000; text-decoration-color: #808000\">│</span>\n",
       "<span style=\"color: #808000; text-decoration-color: #808000\">│</span> Forge Global', 'content': 'Commonwealth Fusion Systems is an energy research company that uses fusion energy    <span style=\"color: #808000; text-decoration-color: #808000\">│</span>\n",
       "<span style=\"color: #808000; text-decoration-color: #808000\">│</span> and physics to create clean energy that will reverse the impact of climate change. Per Forge data, Commonwealth <span style=\"color: #808000; text-decoration-color: #808000\">│</span>\n",
       "<span style=\"color: #808000; text-decoration-color: #808000\">│</span> Fusion raised $2B billion in funding over 5 rounds. Their latest funding was raised on May 31, 2023. Key        <span style=\"color: #808000; text-decoration-color: #808000\">│</span>\n",
       "<span style=\"color: #808000; text-decoration-color: #808000\">│</span> investors include Temasek Holdings, the U.S. Department of Energy, Tiger Global Management, and Breakthrough    <span style=\"color: #808000; text-decoration-color: #808000\">│</span>\n",
       "<span style=\"color: #808000; text-decoration-color: #808000\">│</span> Energy Ventures. [...] Commonwealth Fusion Systems was founded in 2018 by Bob Mumgaard. CNBC reported in June   <span style=\"color: #808000; text-decoration-color: #808000\">│</span>\n",
       "<span style=\"color: #808000; text-decoration-color: #808000\">│</span> 2023 that Commonwealth Fusion Systems “has raised more than $2 billion in venture capital from the likes of     <span style=\"color: #808000; text-decoration-color: #808000\">│</span>\n",
       "<span style=\"color: #808000; text-decoration-color: #808000\">│</span> Bill Gates, Gates’ climate investment firm Breakthrough Energy Ventures, Google, John Doerr, Khosla Ventures,   <span style=\"color: #808000; text-decoration-color: #808000\">│</span>\n",
       "<span style=\"color: #808000; text-decoration-color: #808000\">│</span> Lowercarbon Capital, Marc Benioff’s TIME Ventures and more. That’s more private capital than any other fusion   <span style=\"color: #808000; text-decoration-color: #808000\">│</span>\n",
       "<span style=\"color: #808000; text-decoration-color: #808000\">│</span> startup.” Commonwealth Fusion Systems has not officially endorsed a plan to', 'score': 0.945243, 'raw_content': <span style=\"color: #808000; text-decoration-color: #808000\">│</span>\n",
       "<span style=\"color: #808000; text-decoration-color: #808000\">│</span> None}, {'url':                                                                                                  <span style=\"color: #808000; text-decoration-color: #808000\">│</span>\n",
       "<span style=\"color: #808000; text-decoration-color: #808000\">│</span> 'https://www.cfs.energy/news-and-media/commonwealth-fusion-systems-closes-1-8-billion-series-b-round/',         <span style=\"color: #808000; text-decoration-color: #808000\">│</span>\n",
       "<span style=\"color: #808000; text-decoration-color: #808000\">│</span> 'title': 'Commonwealth Fusion Systems Raises $1.8 Billion in Funding to ...', 'content': 'Skip to               <span style=\"color: #808000; text-decoration-color: #808000\">│</span>\n",
       "<span style=\"color: #808000; text-decoration-color: #808000\">│</span> content\\n\\n12.01.2021\\n\\n# Commonwealth Fusion Systems Raises $1.8 Billion in Funding to Commercialize Fusion   <span style=\"color: #808000; text-decoration-color: #808000\">│</span>\n",
       "<span style=\"color: #808000; text-decoration-color: #808000\">│</span> Energy [...] Commonwealth Fusion Systems (CFS) announced it has closed on more than $1.8 billion in Series B    <span style=\"color: #808000; text-decoration-color: #808000\">│</span>\n",
       "<span style=\"color: #808000; text-decoration-color: #808000\">│</span> funding to commercialize fusion energy. This includes capital to construct, commission, and operate SPARC, the  <span style=\"color: #808000; text-decoration-color: #808000\">│</span>\n",
       "<span style=\"color: #808000; text-decoration-color: #808000\">│</span> world’s first commercially relevant net energy fusion machine. In addition, it will enable the company to begin <span style=\"color: #808000; text-decoration-color: #808000\">│</span>\n",
       "<span style=\"color: #808000; text-decoration-color: #808000\">│</span> work on ARC, the first commercial fusion power plant, which includes developing support technologies, advancing <span style=\"color: #808000; text-decoration-color: #808000\">│</span>\n",
       "<span style=\"color: #808000; text-decoration-color: #808000\">│</span> the design, identifying the site, and assembling the partners and [...] \"Fusion is the kind of innovation that  <span style=\"color: #808000; text-decoration-color: #808000\">│</span>\n",
       "<span style=\"color: #808000; text-decoration-color: #808000\">│</span> can help fill the gaps in grids and put an end to fossil fuels. CFS is a company that executes - making         <span style=\"color: #808000; text-decoration-color: #808000\">│</span>\n",
       "<span style=\"color: #808000; text-decoration-color: #808000\">│</span> possible what seemed impossible, one technical milestone at a time,” said John Doerr, chair of Kleiner Perkins  <span style=\"color: #808000; text-decoration-color: #808000\">│</span>\n",
       "<span style=\"color: #808000; text-decoration-color: #808000\">│</span> and author of Speed &amp; Scale: An Action Plan for Solving Our Climate Crisis Now.\\n\\nCFS has raised more than $2  <span style=\"color: #808000; text-decoration-color: #808000\">│</span>\n",
       "<span style=\"color: #808000; text-decoration-color: #808000\">│</span> billion in funding since it was founded in 2018.', 'score': 0.89121616, 'raw_content': None}, {'url':           <span style=\"color: #808000; text-decoration-color: #808000\">│</span>\n",
       "<span style=\"color: #808000; text-decoration-color: #808000\">│</span> 'https://en.wikipedia.org/wiki/Commonwealth_Fusion_Systems', 'title': 'Commonwealth Fusion Systems -            <span style=\"color: #808000; text-decoration-color: #808000\">│</span>\n",
       "<span style=\"color: #808000; text-decoration-color: #808000\">│</span> Wikipedia', 'content': 'CFS was founded in 2018 as a spin-off from the MIT Plasma Science and Fusion Center.    <span style=\"color: #808000; text-decoration-color: #808000\">│</span>\n",
       "<span style=\"color: #808000; text-decoration-color: #808000\">│</span> After initial funding of $50 million in 2018 from the Italian multinational Eni, CFS closed its series A round  <span style=\"color: #808000; text-decoration-color: #808000\">│</span>\n",
       "<span style=\"color: #808000; text-decoration-color: #808000\">│</span> of venture capital funding in 2019 with a total of US$ 115 million in funding from Eni, Bill Gates\\'s           <span style=\"color: #808000; text-decoration-color: #808000\">│</span>\n",
       "<span style=\"color: #808000; text-decoration-color: #808000\">│</span> Breakthrough Energy Ventures, Vinod Khosla\\'s Khosla Ventures, and others. CFS raised an additional US$ 84      <span style=\"color: #808000; text-decoration-color: #808000\">│</span>\n",
       "<span style=\"color: #808000; text-decoration-color: #808000\">│</span> million in series A2 funding from Singapore\\'s Temasek, Norway\\'s Equinor, and Devonshire [...] In September    <span style=\"color: #808000; text-decoration-color: #808000\">│</span>\n",
       "<span style=\"color: #808000; text-decoration-color: #808000\">│</span> 2021, the company announced the demonstration of a high temperature superconducting magnet, able to generate    <span style=\"color: #808000; text-decoration-color: #808000\">│</span>\n",
       "<span style=\"color: #808000; text-decoration-color: #808000\">│</span> magnetic fields of 20\\u202fTesla. According to the New York Times, this was a successful test of \"the world\\'s  <span style=\"color: #808000; text-decoration-color: #808000\">│</span>\n",
       "<span style=\"color: #808000; text-decoration-color: #808000\">│</span> most powerful version of the type of magnet crucial to many fusion efforts\"\\n\\nIn November 2021, the company    <span style=\"color: #808000; text-decoration-color: #808000\">│</span>\n",
       "<span style=\"color: #808000; text-decoration-color: #808000\">│</span> raised an additional $1.8 billion in Series B funding to construct and operate the SPARC tokamak, funded by     <span style=\"color: #808000; text-decoration-color: #808000\">│</span>\n",
       "<span style=\"color: #808000; text-decoration-color: #808000\">│</span> Temasek Holdings, Google, Bill Gates and Eni.', 'score': 0.86303437, 'raw_content': None}], 'response_time':    <span style=\"color: #808000; text-decoration-color: #808000\">│</span>\n",
       "<span style=\"color: #808000; text-decoration-color: #808000\">│</span> 2.21}                                                                                                           <span style=\"color: #808000; text-decoration-color: #808000\">│</span>\n",
       "<span style=\"color: #808000; text-decoration-color: #808000\">╰─────────────────────────────────────────────────────────────────────────────────────────────────────────────────╯</span>\n",
       "</pre>\n"
      ]
     },
     "metadata": {},
     "output_type": "display_data"
    },
    {
     "data": {
      "text/plain": [
       "\u001B[37m╭─\u001B[0m\u001B[37m────────────────────────────────────────────────────\u001B[0m\u001B[37m 📝 AI \u001B[0m\u001B[37m────────────────────────────────────────────────────\u001B[0m\u001B[37m─╮\u001B[0m\n",
       "\u001B[37m│\u001B[0m Here is a comparison of the funding raised by Helion Energy and Commonwealth Fusion Systems (CFS):              \u001B[37m│\u001B[0m\n",
       "\u001B[37m│\u001B[0m                                                                                                                 \u001B[37m│\u001B[0m\n",
       "\u001B[37m│\u001B[0m ### **Helion Energy**                                                                                           \u001B[37m│\u001B[0m\n",
       "\u001B[37m│\u001B[0m - **Total Funding Raised**: Approximately **$977 million** (as of recent reports).                              \u001B[37m│\u001B[0m\n",
       "\u001B[37m│\u001B[0m   - Largest funding round: **$500 million** (Series E in November 2021).                                        \u001B[37m│\u001B[0m\n",
       "\u001B[37m│\u001B[0m   - Other notable rounds:                                                                                       \u001B[37m│\u001B[0m\n",
       "\u001B[37m│\u001B[0m     - **$425 million** (Series F in 2023, valuing the company at $5.4 billion).                                 \u001B[37m│\u001B[0m\n",
       "\u001B[37m│\u001B[0m     - Earlier rounds include a **$40 million** Series D.                                                        \u001B[37m│\u001B[0m\n",
       "\u001B[37m│\u001B[0m - **Key Investors**: Sam Altman, SoftBank Vision Fund 2, Lightspeed Venture Partners.                           \u001B[37m│\u001B[0m\n",
       "\u001B[37m│\u001B[0m - **Valuation**: **$5.42 billion** (as of 2025).                                                                \u001B[37m│\u001B[0m\n",
       "\u001B[37m│\u001B[0m                                                                                                                 \u001B[37m│\u001B[0m\n",
       "\u001B[37m│\u001B[0m ### **Commonwealth Fusion Systems (CFS)**                                                                       \u001B[37m│\u001B[0m\n",
       "\u001B[37m│\u001B[0m - **Total Funding Raised**: **Over $2 billion** (as of 2023).                                                   \u001B[37m│\u001B[0m\n",
       "\u001B[37m│\u001B[0m   - Largest funding round: **$1.8 billion** (Series B in November 2021).                                        \u001B[37m│\u001B[0m\n",
       "\u001B[37m│\u001B[0m   - Other notable rounds:                                                                                       \u001B[37m│\u001B[0m\n",
       "\u001B[37m│\u001B[0m     - **$115 million** (Series A in 2019).                                                                      \u001B[37m│\u001B[0m\n",
       "\u001B[37m│\u001B[0m     - **$84 million** (Series A2 from Temasek, Equinor, and others).                                            \u001B[37m│\u001B[0m\n",
       "\u001B[37m│\u001B[0m - **Key Investors**: Bill Gates, Breakthrough Energy Ventures, Google, Temasek Holdings, Tiger Global           \u001B[37m│\u001B[0m\n",
       "\u001B[37m│\u001B[0m Management.                                                                                                     \u001B[37m│\u001B[0m\n",
       "\u001B[37m│\u001B[0m - **Valuation**: Not explicitly stated, but significant given the scale of funding.                             \u001B[37m│\u001B[0m\n",
       "\u001B[37m│\u001B[0m                                                                                                                 \u001B[37m│\u001B[0m\n",
       "\u001B[37m│\u001B[0m ### **Comparison**                                                                                              \u001B[37m│\u001B[0m\n",
       "\u001B[37m│\u001B[0m - **Total Funding**: CFS has raised more than twice as much as Helion Energy ($2B+ vs. $977M).                  \u001B[37m│\u001B[0m\n",
       "\u001B[37m│\u001B[0m - **Investor Profile**: Both companies attract high-profile investors, but CFS has a broader and more diverse   \u001B[37m│\u001B[0m\n",
       "\u001B[37m│\u001B[0m investor base, including significant contributions from government-linked entities like Temasek.                \u001B[37m│\u001B[0m\n",
       "\u001B[37m│\u001B[0m - **Focus**: Both aim to commercialize fusion energy, but CFS has emphasized large-scale infrastructure (e.g.,  \u001B[37m│\u001B[0m\n",
       "\u001B[37m│\u001B[0m SPARC tokamak), while Helion focuses on its Polaris reactor.                                                    \u001B[37m│\u001B[0m\n",
       "\u001B[37m│\u001B[0m                                                                                                                 \u001B[37m│\u001B[0m\n",
       "\u001B[37m│\u001B[0m ### Summary                                                                                                     \u001B[37m│\u001B[0m\n",
       "\u001B[37m│\u001B[0m Commonwealth Fusion Systems has secured significantly more funding than Helion Energy, reflecting its           \u001B[37m│\u001B[0m\n",
       "\u001B[37m│\u001B[0m aggressive roadmap and backing from major institutional and private investors. Helion, while well-funded,       \u001B[37m│\u001B[0m\n",
       "\u001B[37m│\u001B[0m operates at a smaller scale in terms of capital raised.                                                         \u001B[37m│\u001B[0m\n",
       "\u001B[37m╰─────────────────────────────────────────────────────────────────────────────────────────────────────────────────╯\u001B[0m\n"
      ],
      "text/html": [
       "<pre style=\"white-space:pre;overflow-x:auto;line-height:normal;font-family:Menlo,'DejaVu Sans Mono',consolas,'Courier New',monospace\"><span style=\"color: #c0c0c0; text-decoration-color: #c0c0c0\">╭───────────────────────────────────────────────────── 📝 AI ─────────────────────────────────────────────────────╮</span>\n",
       "<span style=\"color: #c0c0c0; text-decoration-color: #c0c0c0\">│</span> Here is a comparison of the funding raised by Helion Energy and Commonwealth Fusion Systems (CFS):              <span style=\"color: #c0c0c0; text-decoration-color: #c0c0c0\">│</span>\n",
       "<span style=\"color: #c0c0c0; text-decoration-color: #c0c0c0\">│</span>                                                                                                                 <span style=\"color: #c0c0c0; text-decoration-color: #c0c0c0\">│</span>\n",
       "<span style=\"color: #c0c0c0; text-decoration-color: #c0c0c0\">│</span> ### **Helion Energy**                                                                                           <span style=\"color: #c0c0c0; text-decoration-color: #c0c0c0\">│</span>\n",
       "<span style=\"color: #c0c0c0; text-decoration-color: #c0c0c0\">│</span> - **Total Funding Raised**: Approximately **$977 million** (as of recent reports).                              <span style=\"color: #c0c0c0; text-decoration-color: #c0c0c0\">│</span>\n",
       "<span style=\"color: #c0c0c0; text-decoration-color: #c0c0c0\">│</span>   - Largest funding round: **$500 million** (Series E in November 2021).                                        <span style=\"color: #c0c0c0; text-decoration-color: #c0c0c0\">│</span>\n",
       "<span style=\"color: #c0c0c0; text-decoration-color: #c0c0c0\">│</span>   - Other notable rounds:                                                                                       <span style=\"color: #c0c0c0; text-decoration-color: #c0c0c0\">│</span>\n",
       "<span style=\"color: #c0c0c0; text-decoration-color: #c0c0c0\">│</span>     - **$425 million** (Series F in 2023, valuing the company at $5.4 billion).                                 <span style=\"color: #c0c0c0; text-decoration-color: #c0c0c0\">│</span>\n",
       "<span style=\"color: #c0c0c0; text-decoration-color: #c0c0c0\">│</span>     - Earlier rounds include a **$40 million** Series D.                                                        <span style=\"color: #c0c0c0; text-decoration-color: #c0c0c0\">│</span>\n",
       "<span style=\"color: #c0c0c0; text-decoration-color: #c0c0c0\">│</span> - **Key Investors**: Sam Altman, SoftBank Vision Fund 2, Lightspeed Venture Partners.                           <span style=\"color: #c0c0c0; text-decoration-color: #c0c0c0\">│</span>\n",
       "<span style=\"color: #c0c0c0; text-decoration-color: #c0c0c0\">│</span> - **Valuation**: **$5.42 billion** (as of 2025).                                                                <span style=\"color: #c0c0c0; text-decoration-color: #c0c0c0\">│</span>\n",
       "<span style=\"color: #c0c0c0; text-decoration-color: #c0c0c0\">│</span>                                                                                                                 <span style=\"color: #c0c0c0; text-decoration-color: #c0c0c0\">│</span>\n",
       "<span style=\"color: #c0c0c0; text-decoration-color: #c0c0c0\">│</span> ### **Commonwealth Fusion Systems (CFS)**                                                                       <span style=\"color: #c0c0c0; text-decoration-color: #c0c0c0\">│</span>\n",
       "<span style=\"color: #c0c0c0; text-decoration-color: #c0c0c0\">│</span> - **Total Funding Raised**: **Over $2 billion** (as of 2023).                                                   <span style=\"color: #c0c0c0; text-decoration-color: #c0c0c0\">│</span>\n",
       "<span style=\"color: #c0c0c0; text-decoration-color: #c0c0c0\">│</span>   - Largest funding round: **$1.8 billion** (Series B in November 2021).                                        <span style=\"color: #c0c0c0; text-decoration-color: #c0c0c0\">│</span>\n",
       "<span style=\"color: #c0c0c0; text-decoration-color: #c0c0c0\">│</span>   - Other notable rounds:                                                                                       <span style=\"color: #c0c0c0; text-decoration-color: #c0c0c0\">│</span>\n",
       "<span style=\"color: #c0c0c0; text-decoration-color: #c0c0c0\">│</span>     - **$115 million** (Series A in 2019).                                                                      <span style=\"color: #c0c0c0; text-decoration-color: #c0c0c0\">│</span>\n",
       "<span style=\"color: #c0c0c0; text-decoration-color: #c0c0c0\">│</span>     - **$84 million** (Series A2 from Temasek, Equinor, and others).                                            <span style=\"color: #c0c0c0; text-decoration-color: #c0c0c0\">│</span>\n",
       "<span style=\"color: #c0c0c0; text-decoration-color: #c0c0c0\">│</span> - **Key Investors**: Bill Gates, Breakthrough Energy Ventures, Google, Temasek Holdings, Tiger Global           <span style=\"color: #c0c0c0; text-decoration-color: #c0c0c0\">│</span>\n",
       "<span style=\"color: #c0c0c0; text-decoration-color: #c0c0c0\">│</span> Management.                                                                                                     <span style=\"color: #c0c0c0; text-decoration-color: #c0c0c0\">│</span>\n",
       "<span style=\"color: #c0c0c0; text-decoration-color: #c0c0c0\">│</span> - **Valuation**: Not explicitly stated, but significant given the scale of funding.                             <span style=\"color: #c0c0c0; text-decoration-color: #c0c0c0\">│</span>\n",
       "<span style=\"color: #c0c0c0; text-decoration-color: #c0c0c0\">│</span>                                                                                                                 <span style=\"color: #c0c0c0; text-decoration-color: #c0c0c0\">│</span>\n",
       "<span style=\"color: #c0c0c0; text-decoration-color: #c0c0c0\">│</span> ### **Comparison**                                                                                              <span style=\"color: #c0c0c0; text-decoration-color: #c0c0c0\">│</span>\n",
       "<span style=\"color: #c0c0c0; text-decoration-color: #c0c0c0\">│</span> - **Total Funding**: CFS has raised more than twice as much as Helion Energy ($2B+ vs. $977M).                  <span style=\"color: #c0c0c0; text-decoration-color: #c0c0c0\">│</span>\n",
       "<span style=\"color: #c0c0c0; text-decoration-color: #c0c0c0\">│</span> - **Investor Profile**: Both companies attract high-profile investors, but CFS has a broader and more diverse   <span style=\"color: #c0c0c0; text-decoration-color: #c0c0c0\">│</span>\n",
       "<span style=\"color: #c0c0c0; text-decoration-color: #c0c0c0\">│</span> investor base, including significant contributions from government-linked entities like Temasek.                <span style=\"color: #c0c0c0; text-decoration-color: #c0c0c0\">│</span>\n",
       "<span style=\"color: #c0c0c0; text-decoration-color: #c0c0c0\">│</span> - **Focus**: Both aim to commercialize fusion energy, but CFS has emphasized large-scale infrastructure (e.g.,  <span style=\"color: #c0c0c0; text-decoration-color: #c0c0c0\">│</span>\n",
       "<span style=\"color: #c0c0c0; text-decoration-color: #c0c0c0\">│</span> SPARC tokamak), while Helion focuses on its Polaris reactor.                                                    <span style=\"color: #c0c0c0; text-decoration-color: #c0c0c0\">│</span>\n",
       "<span style=\"color: #c0c0c0; text-decoration-color: #c0c0c0\">│</span>                                                                                                                 <span style=\"color: #c0c0c0; text-decoration-color: #c0c0c0\">│</span>\n",
       "<span style=\"color: #c0c0c0; text-decoration-color: #c0c0c0\">│</span> ### Summary                                                                                                     <span style=\"color: #c0c0c0; text-decoration-color: #c0c0c0\">│</span>\n",
       "<span style=\"color: #c0c0c0; text-decoration-color: #c0c0c0\">│</span> Commonwealth Fusion Systems has secured significantly more funding than Helion Energy, reflecting its           <span style=\"color: #c0c0c0; text-decoration-color: #c0c0c0\">│</span>\n",
       "<span style=\"color: #c0c0c0; text-decoration-color: #c0c0c0\">│</span> aggressive roadmap and backing from major institutional and private investors. Helion, while well-funded,       <span style=\"color: #c0c0c0; text-decoration-color: #c0c0c0\">│</span>\n",
       "<span style=\"color: #c0c0c0; text-decoration-color: #c0c0c0\">│</span> operates at a smaller scale in terms of capital raised.                                                         <span style=\"color: #c0c0c0; text-decoration-color: #c0c0c0\">│</span>\n",
       "<span style=\"color: #c0c0c0; text-decoration-color: #c0c0c0\">╰─────────────────────────────────────────────────────────────────────────────────────────────────────────────────╯</span>\n",
       "</pre>\n"
      ]
     },
     "metadata": {},
     "output_type": "display_data"
    }
   ],
   "execution_count": 26
  },
  {
   "metadata": {
    "ExecuteTime": {
     "end_time": "2025-08-13T12:48:28.716095Z",
     "start_time": "2025-08-13T12:48:28.710484Z"
    }
   },
   "cell_type": "code",
   "source": "",
   "id": "c221782464ba9da3",
   "outputs": [],
   "execution_count": null
  }
 ],
 "metadata": {
  "kernelspec": {
   "display_name": "Python 3",
   "language": "python",
   "name": "python3"
  },
  "language_info": {
   "codemirror_mode": {
    "name": "ipython",
    "version": 2
   },
   "file_extension": ".py",
   "mimetype": "text/x-python",
   "name": "python",
   "nbconvert_exporter": "python",
   "pygments_lexer": "ipython2",
   "version": "2.7.6"
  }
 },
 "nbformat": 4,
 "nbformat_minor": 5
}
