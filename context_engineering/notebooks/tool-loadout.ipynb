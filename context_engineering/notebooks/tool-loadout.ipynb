{
 "cells": [
  {
   "cell_type": "code",
   "execution_count": null,
   "id": "eb0c90723dfacb1e",
   "metadata": {},
   "outputs": [
    {
     "data": {
      "text/plain": [
       "True"
      ]
     },
     "execution_count": null,
     "metadata": {},
     "output_type": "execute_result"
    }
   ],
   "source": [
    "import math\n",
    "import types\n",
    "import uuid\n",
    "\n",
    "from dotenv import load_dotenv\n",
    "from IPython.display import Image, display\n",
    "from langchain_core.messages import HumanMessage, SystemMessage\n",
    "from langchain_huggingface import HuggingFaceEmbeddings\n",
    "from langchain_openai import ChatOpenAI\n",
    "from langgraph.graph import END, START, MessagesState, StateGraph\n",
    "from langgraph.prebuilt import ToolNode, tools_condition\n",
    "from langgraph.store.base import BaseStore\n",
    "from langgraph.store.memory import InMemoryStore\n",
    "from langgraph_bigtool.utils import convert_positional_only_function_to_tool\n",
    "from typing_extensions import Any\n",
    "\n",
    "from utils import format_messages\n",
    "\n",
    "load_dotenv()"
   ]
  },
  {
   "cell_type": "code",
   "execution_count": null,
   "id": "e1fb9ff75f6c6e1a",
   "metadata": {},
   "outputs": [],
   "source": [
    "llm = ChatOpenAI(model=\"gpt-4o-mini\", max_tokens=2400, temperature=0)\n",
    "embeddings = HuggingFaceEmbeddings(\n",
    "    model_name=\"thenlper/gte-base\", model_kwargs={\"local_files_only\": True}\n",
    ")"
   ]
  },
  {
   "cell_type": "code",
   "execution_count": null,
   "id": "bc433a23cac0cd28",
   "metadata": {},
   "outputs": [
    {
     "name": "stderr",
     "output_type": "stream",
     "text": [
      "/tmp/ipykernel_15296/3614452185.py:16: LangChainBetaWarning: The function `convert_positional_only_function_to_tool` is in beta. It is actively being worked on, so the API may change.\n",
      "  if tool := convert_positional_only_function_to_tool(function):\n"
     ]
    }
   ],
   "source": [
    "all_tools = []\n",
    "for function_name in dir(math):\n",
    "    function = getattr(math, function_name)\n",
    "\n",
    "    # Only process builtin functions\n",
    "    if not isinstance(function, types.BuiltinFunctionType):\n",
    "        continue\n",
    "\n",
    "    # Convert math functions to LangChain tools (handles positional-only parameters)\n",
    "    if tool := convert_positional_only_function_to_tool(function):\n",
    "        all_tools.append(tool)\n",
    "\n",
    "# Create a tool registry mapping unique IDs to tool instances\n",
    "# This allows for efficient tool lookup and management\n",
    "tool_registry = {str(uuid.uuid4()): tool for tool in all_tools}\n",
    "\n",
    "store = InMemoryStore(\n",
    "    index={\n",
    "        \"embed\": embeddings,\n",
    "        \"dims\": 768,  # GTE-Base embedding dimensions\n",
    "        \"fields\": [\"description\"],  # Index tool descriptions for search\n",
    "    }\n",
    ")\n",
    "\n",
    "# Index all tools in the store for semantic similarity search\n",
    "for tool_id, tool in tool_registry.items():\n",
    "    store.put(\n",
    "        (\"tools\",),  # Namespace\n",
    "        tool_id,\n",
    "        {\n",
    "            \"description\": f\"{tool.name}: {tool.description}\",\n",
    "        },\n",
    "    )"
   ]
  },
  {
   "cell_type": "code",
   "execution_count": null,
   "id": "c9def2b8966d508f",
   "metadata": {},
   "outputs": [],
   "source": [
    "# Extended state class to store dynamically selected tools\n",
    "\n",
    "\n",
    "class ToolLoadoutState(MessagesState):\n",
    "    \"\"\"State that extends MessagesState to include dynamically selected tools.\n",
    "\n",
    "    This allows the agent to maintain context about which tools are currently\n",
    "    available and bound to the conversation.\n",
    "    \"\"\"\n",
    "\n",
    "    tools_by_name: dict[str, Any] = {}\n",
    "\n",
    "\n",
    "# System prompt defining the agent's role and capabilities\n",
    "system_prompt = \"\"\"You are a helpful assistant with access to mathematical functions from Python's math library.\n",
    "You can search for and use relevant mathematical tools to solve problems.\n",
    "When you need to perform mathematical calculations, first determine what type of mathematical operation you need,\n",
    "then use the appropriate tools from the math library.\"\"\"\n",
    "\n",
    "\n",
    "def llm_call(state: ToolLoadoutState, store: BaseStore) -> dict:\n",
    "    \"\"\"\n",
    "    Main LLM call that dynamically selects and binds relevant tools.\n",
    "\n",
    "        This function implements the core tool loadout pattern:\n",
    "        1. Extract query context from a user message\n",
    "        2. Search for semantically relevant tools\n",
    "        3. Bind only relevant tools to the LLM\n",
    "        4. Generate a response with a focused tool set\n",
    "\n",
    "        Args:\n",
    "            state: Current conversation state containing messages and tools\n",
    "            store: Vector store containing indexed tool descriptions\n",
    "\n",
    "        Returns:\n",
    "            Dictionary with new messages and updated tool registry\n",
    "    \"\"\"\n",
    "\n",
    "    # Extract user query for semantic tools\n",
    "    messages = state[\"messages\"]\n",
    "    if messages and isinstance(messages[-1], HumanMessage):\n",
    "        query = messages[-1].content\n",
    "\n",
    "    else:\n",
    "        query = \"mathematical calculations\"  # Default fallback\n",
    "\n",
    "    # Perform semantic similarity search to find relevant tools\n",
    "    search_results = store.search((\"tools\",), query=query, limit=5)\n",
    "\n",
    "    # Build-focused tool set from search results\n",
    "    relevant_tools = []\n",
    "    tools_by_name = {}\n",
    "\n",
    "    for result in search_results:\n",
    "        tool_id = result.key\n",
    "        if tool_id in tool_registry:\n",
    "            tool = tool_registry[tool_id]\n",
    "            relevant_tools.append(tool)\n",
    "            tools_by_name[tool.name] = tool\n",
    "\n",
    "    # Only bind relevant tools if exists else use llm to avoid context overload\n",
    "    llm_with_tools = llm.bind_tools(relevant_tools) if relevant_tools else llm\n",
    "\n",
    "    # Generate response with focused context\n",
    "    response = llm_with_tools.invoke(\n",
    "        [SystemMessage(content=system_prompt)] + state[\"messages\"]\n",
    "    )\n",
    "    return {\"messages\": [response], \"tools_by_name\": tools_by_name}"
   ]
  },
  {
   "cell_type": "code",
   "execution_count": null,
   "id": "a878170a926cea46",
   "metadata": {},
   "outputs": [],
   "source": [
    "def tool_node(state: ToolLoadoutState):\n",
    "    \"\"\"Execute tool calls using the dynamically selected tool set.\"\"\"\n",
    "    # Create ToolNode with current tools from state\n",
    "    current_tools = list(state[\"tools_by_name\"].values())\n",
    "    tool_executor = ToolNode(tools=current_tools)\n",
    "\n",
    "    # Execute the ToolNode\n",
    "    return tool_executor.invoke(state)"
   ]
  },
  {
   "cell_type": "code",
   "execution_count": null,
   "id": "eeb8d6b4ecc4d912",
   "metadata": {},
   "outputs": [
    {
     "data": {
      "image/png": "[encoded data removed]",
      "text/plain": [
       "<IPython.core.display.Image object>"
      ]
     },
     "metadata": {},
     "output_type": "display_data"
    }
   ],
   "source": [
    "agent_builder = StateGraph(ToolLoadoutState)\n",
    "\n",
    "# Add workflow nodes\n",
    "agent_builder.add_node(\"llm_call\", llm_call)\n",
    "agent_builder.add_node(\"tool_node\", tool_node)\n",
    "\n",
    "# Define workflow edges\n",
    "agent_builder.add_edge(START, \"llm_call\")\n",
    "agent_builder.add_conditional_edges(\n",
    "    \"llm_call\",\n",
    "    tools_condition,\n",
    "    {\n",
    "        \"tools\": \"tool_node\",\n",
    "        END: END,\n",
    "    },\n",
    ")\n",
    "agent_builder.add_edge(\"tool_node\", \"llm_call\")\n",
    "\n",
    "# Compile the agent with tool store for semantic search\n",
    "agent = agent_builder.compile(store=store)\n",
    "\n",
    "# Display the workflow graph\n",
    "display(Image(agent.get_graph(xray=True).draw_mermaid_png()))"
   ]
  },
  {
   "cell_type": "code",
   "execution_count": null,
   "id": "c0f6498f718a38f1",
   "metadata": {},
   "outputs": [
    {
     "data": {
      "text/html": [
       "<pre style=\"white-space:pre;overflow-x:auto;line-height:normal;font-family:Menlo,'DejaVu Sans Mono',consolas,'Courier New',monospace\"><span style=\"color: #000080; text-decoration-color: #000080\">╭─────────────────────────────────────────────────── 🧑 Human ────────────────────────────────────────────────────╮</span>\n",
       "<span style=\"color: #000080; text-decoration-color: #000080\">│</span> Use available tools to calculate arc cosine of 0.5.                                                             <span style=\"color: #000080; text-decoration-color: #000080\">│</span>\n",
       "<span style=\"color: #000080; text-decoration-color: #000080\">╰─────────────────────────────────────────────────────────────────────────────────────────────────────────────────╯</span>\n",
       "</pre>\n"
      ],
      "text/plain": [
       "\u001b[34m╭─\u001b[0m\u001b[34m──────────────────────────────────────────────────\u001b[0m\u001b[34m 🧑 Human \u001b[0m\u001b[34m───────────────────────────────────────────────────\u001b[0m\u001b[34m─╮\u001b[0m\n",
       "\u001b[34m│\u001b[0m Use available tools to calculate arc cosine of 0.5.                                                             \u001b[34m│\u001b[0m\n",
       "\u001b[34m╰─────────────────────────────────────────────────────────────────────────────────────────────────────────────────╯\u001b[0m\n"
      ]
     },
     "metadata": {},
     "output_type": "display_data"
    },
    {
     "data": {
      "text/html": [
       "<pre style=\"white-space:pre;overflow-x:auto;line-height:normal;font-family:Menlo,'DejaVu Sans Mono',consolas,'Courier New',monospace\"><span style=\"color: #c0c0c0; text-decoration-color: #c0c0c0\">╭───────────────────────────────────────────────────── 📝 AI ─────────────────────────────────────────────────────╮</span>\n",
       "<span style=\"color: #c0c0c0; text-decoration-color: #c0c0c0\">│</span>                                                                                                                 <span style=\"color: #c0c0c0; text-decoration-color: #c0c0c0\">│</span>\n",
       "<span style=\"color: #c0c0c0; text-decoration-color: #c0c0c0\">╰─────────────────────────────────────────────────────────────────────────────────────────────────────────────────╯</span>\n",
       "</pre>\n"
      ],
      "text/plain": [
       "\u001b[37m╭─\u001b[0m\u001b[37m────────────────────────────────────────────────────\u001b[0m\u001b[37m 📝 AI \u001b[0m\u001b[37m────────────────────────────────────────────────────\u001b[0m\u001b[37m─╮\u001b[0m\n",
       "\u001b[37m│\u001b[0m                                                                                                                 \u001b[37m│\u001b[0m\n",
       "\u001b[37m╰─────────────────────────────────────────────────────────────────────────────────────────────────────────────────╯\u001b[0m\n"
      ]
     },
     "metadata": {},
     "output_type": "display_data"
    },
    {
     "data": {
      "text/html": [
       "<pre style=\"white-space:pre;overflow-x:auto;line-height:normal;font-family:Menlo,'DejaVu Sans Mono',consolas,'Courier New',monospace\"><span style=\"color: #808000; text-decoration-color: #808000\">╭──────────────────────────────────────────────── 🔧 Tool Output ─────────────────────────────────────────────────╮</span>\n",
       "<span style=\"color: #808000; text-decoration-color: #808000\">│</span> 1.0471975511965979                                                                                              <span style=\"color: #808000; text-decoration-color: #808000\">│</span>\n",
       "<span style=\"color: #808000; text-decoration-color: #808000\">╰─────────────────────────────────────────────────────────────────────────────────────────────────────────────────╯</span>\n",
       "</pre>\n"
      ],
      "text/plain": [
       "\u001b[33m╭─\u001b[0m\u001b[33m───────────────────────────────────────────────\u001b[0m\u001b[33m 🔧 Tool Output \u001b[0m\u001b[33m────────────────────────────────────────────────\u001b[0m\u001b[33m─╮\u001b[0m\n",
       "\u001b[33m│\u001b[0m 1.0471975511965979                                                                                              \u001b[33m│\u001b[0m\n",
       "\u001b[33m╰─────────────────────────────────────────────────────────────────────────────────────────────────────────────────╯\u001b[0m\n"
      ]
     },
     "metadata": {},
     "output_type": "display_data"
    },
    {
     "data": {
      "text/html": [
       "<pre style=\"white-space:pre;overflow-x:auto;line-height:normal;font-family:Menlo,'DejaVu Sans Mono',consolas,'Courier New',monospace\"><span style=\"color: #c0c0c0; text-decoration-color: #c0c0c0\">╭───────────────────────────────────────────────────── 📝 AI ─────────────────────────────────────────────────────╮</span>\n",
       "<span style=\"color: #c0c0c0; text-decoration-color: #c0c0c0\">│</span> The arc cosine of 0.5 is approximately \\( 1.0472 \\) radians.                                                    <span style=\"color: #c0c0c0; text-decoration-color: #c0c0c0\">│</span>\n",
       "<span style=\"color: #c0c0c0; text-decoration-color: #c0c0c0\">╰─────────────────────────────────────────────────────────────────────────────────────────────────────────────────╯</span>\n",
       "</pre>\n"
      ],
      "text/plain": [
       "\u001b[37m╭─\u001b[0m\u001b[37m────────────────────────────────────────────────────\u001b[0m\u001b[37m 📝 AI \u001b[0m\u001b[37m────────────────────────────────────────────────────\u001b[0m\u001b[37m─╮\u001b[0m\n",
       "\u001b[37m│\u001b[0m The arc cosine of 0.5 is approximately \\( 1.0472 \\) radians.                                                    \u001b[37m│\u001b[0m\n",
       "\u001b[37m╰─────────────────────────────────────────────────────────────────────────────────────────────────────────────────╯\u001b[0m\n"
      ]
     },
     "metadata": {},
     "output_type": "display_data"
    }
   ],
   "source": [
    "query = \"Use available tools to calculate arc cosine of 0.5.\"\n",
    "result = agent.invoke({\"messages\": [HumanMessage(content=query)]})\n",
    "format_messages(result[\"messages\"])"
   ]
  }
 ],
 "metadata": {
  "kernelspec": {
   "display_name": "Python 3",
   "language": "python",
   "name": "python3"
  },
  "language_info": {
   "codemirror_mode": {
    "name": "ipython",
    "version": 2
   },
   "file_extension": ".py",
   "mimetype": "text/x-python",
   "name": "python",
   "nbconvert_exporter": "python",
   "pygments_lexer": "ipython2"
  }
 },
 "nbformat": 4,
 "nbformat_minor": 5
}
