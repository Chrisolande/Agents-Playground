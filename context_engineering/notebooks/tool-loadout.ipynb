{
 "cells": [
  {
   "cell_type": "code",
   "execution_count": null,
   "id": "7fb27b941602401d91542211134fc71a",
   "metadata": {},
   "outputs": [],
   "source": [
    "import math\n",
    "import types\n",
    "import uuid\n",
    "\n",
    "from dotenv import load_dotenv\n",
    "from IPython.display import Image, display\n",
    "from langchain_core.messages import HumanMessage, SystemMessage\n",
    "from langchain_deepseek import ChatDeepSeek\n",
    "from langgraph.graph import END, START, MessagesState, StateGraph\n",
    "from langgraph.prebuilt import ToolNode, tools_condition\n",
    "from langgraph.store.base import BaseStore\n",
    "from langgraph.store.memory import InMemoryStore\n",
    "from langgraph_bigtool.utils import convert_positional_only_function_to_tool\n",
    "from typing_extensions import Any\n",
    "from fastembed import TextEmbedding\n",
    "import os\n",
    "from dataclasses import dataclass, field\n",
    "from langchain_core.embeddings import Embeddings\n",
    "\n",
    "from utils import format_messages\n",
    "\n",
    "_ = load_dotenv()"
   ]
  },
  {
   "cell_type": "code",
   "execution_count": null,
   "id": "acae54e37e7d407bbb7b55eff062a284",
   "metadata": {},
   "outputs": [],
   "source": [
    "llm = ChatDeepSeek(model=\"deepseek-chat\", max_tokens=2400, temperature=0)\n",
    "embeddings = TextEmbedding(\n",
    "    model_name=\"jinaai/jina-embeddings-v2-base-de\",\n",
    "    cache_dir=os.path.expanduser(\"~/.cache/fastembed\"),\n",
    ")"
   ]
  },
  {
   "cell_type": "code",
   "execution_count": null,
   "id": "9a63283cbaf04dbcab1f6479b197f3a8",
   "metadata": {},
   "outputs": [],
   "source": [
    "@dataclass\n",
    "class FastEmbed(Embeddings):\n",
    "    fe: TextEmbedding = field(default_factory=TextEmbedding)\n",
    "\n",
    "    def embed_documents(self, documents: list[str]) -> list[list[float]]:\n",
    "        return [emb.tolist() for emb in self.fe.embed(documents)]\n",
    "\n",
    "    def embed_query(self, query: str) -> list[float]:\n",
    "        return list(self.fe.embed([query]))[0].tolist()"
   ]
  },
  {
   "cell_type": "code",
   "execution_count": null,
   "id": "8dd0d8092fe74a7c96281538738b07e2",
   "metadata": {},
   "outputs": [],
   "source": [
    "embeddings = FastEmbed(fe=embeddings)"
   ]
  },
  {
   "cell_type": "code",
   "execution_count": null,
   "id": "72eea5119410473aa328ad9291626812",
   "metadata": {},
   "outputs": [],
   "source": [
    "all_tools = []\n",
    "for function_name in dir(math):\n",
    "    function = getattr(math, function_name)\n",
    "\n",
    "    # Only process builtin functions\n",
    "    if not isinstance(function, types.BuiltinFunctionType):\n",
    "        continue\n",
    "\n",
    "    # Convert math functions to LangChain tools (handles positional-only parameters)\n",
    "    if tool := convert_positional_only_function_to_tool(function):\n",
    "        all_tools.append(tool)\n",
    "\n",
    "# Create a tool registry mapping unique IDs to tool instances\n",
    "# This allows for efficient tool lookup and management\n",
    "tool_registry = {str(uuid.uuid4()): tool for tool in all_tools}\n",
    "\n",
    "store = InMemoryStore(\n",
    "    index={\n",
    "        \"embed\": embeddings,\n",
    "        \"dims\": 768,  # FastEmbed embedding dimensions\n",
    "        \"fields\": [\"description\"],  # Index tool descriptions for search\n",
    "    }\n",
    ")\n",
    "\n",
    "# Index all tools in the store for semantic similarity search\n",
    "for tool_id, tool in tool_registry.items():\n",
    "    store.put(\n",
    "        (\"tools\",),  # Namespace\n",
    "        tool_id,\n",
    "        {\n",
    "            \"description\": f\"{tool.name}: {tool.description}\",\n",
    "        },\n",
    "    )"
   ]
  },
  {
   "cell_type": "code",
   "execution_count": null,
   "id": "8edb47106e1a46a883d545849b8ab81b",
   "metadata": {},
   "outputs": [],
   "source": [
    "# Extended state class to store dynamically selected tools\n",
    "\n",
    "\n",
    "class ToolLoadoutState(MessagesState):\n",
    "    \"\"\"State that extends MessagesState to include dynamically selected tools.\n",
    "\n",
    "    This allows the agent to maintain context about which tools are currently\n",
    "    available and bound to the conversation.\n",
    "    \"\"\"\n",
    "\n",
    "    tools_by_name: dict[str, Any] = {}\n",
    "\n",
    "\n",
    "# System prompt defining the agent's role and capabilities\n",
    "system_prompt = \"\"\"You are a helpful assistant with access to mathematical functions from Python's math library.\n",
    "You can search for and use relevant mathematical tools to solve problems.\n",
    "When you need to perform mathematical calculations, first determine what type of mathematical operation you need,\n",
    "then use the appropriate tools from the math library.\"\"\"\n",
    "\n",
    "\n",
    "def llm_call(state: ToolLoadoutState, store: BaseStore) -> dict:\n",
    "    \"\"\"\n",
    "    Main LLM call that dynamically selects and binds relevant tools.\n",
    "\n",
    "        This function implements the core tool loadout pattern:\n",
    "        1. Extract query context from a user message\n",
    "        2. Search for semantically relevant tools\n",
    "        3. Bind only relevant tools to the LLM\n",
    "        4. Generate a response with a focused tool set\n",
    "\n",
    "        Args:\n",
    "            state: Current conversation state containing messages and tools\n",
    "            store: Vector store containing indexed tool descriptions\n",
    "\n",
    "        Returns:\n",
    "            Dictionary with new messages and updated tool registry\n",
    "    \"\"\"\n",
    "\n",
    "    # Extract user query for semantic tools\n",
    "    messages = state[\"messages\"]\n",
    "    if messages and isinstance(messages[-1], HumanMessage):\n",
    "        query = messages[-1].content\n",
    "\n",
    "    else:\n",
    "        query = \"mathematical calculations\"  # Default fallback\n",
    "\n",
    "    # Perform semantic similarity search to find relevant tools\n",
    "    search_results = store.search((\"tools\",), query=query, limit=5)\n",
    "\n",
    "    # Build-focused tool set from search results\n",
    "    relevant_tools = []\n",
    "    tools_by_name = {}\n",
    "\n",
    "    for result in search_results:\n",
    "        tool_id = result.key\n",
    "        if tool_id in tool_registry:\n",
    "            tool = tool_registry[tool_id]\n",
    "            relevant_tools.append(tool)\n",
    "            tools_by_name[tool.name] = tool\n",
    "\n",
    "    # Only bind relevant tools if exists else use llm to avoid context overload\n",
    "    llm_with_tools = llm.bind_tools(relevant_tools) if relevant_tools else llm\n",
    "\n",
    "    # Generate response with focused context\n",
    "    response = llm_with_tools.invoke(\n",
    "        [SystemMessage(content=system_prompt)] + state[\"messages\"]\n",
    "    )\n",
    "    return {\"messages\": [response], \"tools_by_name\": tools_by_name}"
   ]
  },
  {
   "cell_type": "code",
   "execution_count": null,
   "id": "10185d26023b46108eb7d9f57d49d2b3",
   "metadata": {},
   "outputs": [],
   "source": [
    "def tool_node(state: ToolLoadoutState):\n",
    "    \"\"\"Execute tool calls using the dynamically selected tool set.\"\"\"\n",
    "    # Create ToolNode with current tools from state\n",
    "    current_tools = list(state[\"tools_by_name\"].values())\n",
    "    tool_executor = ToolNode(tools=current_tools)\n",
    "\n",
    "    # Execute the ToolNode\n",
    "    return tool_executor.invoke(state)"
   ]
  },
  {
   "cell_type": "code",
   "execution_count": null,
   "id": "8763a12b2bbd4a93a75aff182afb95dc",
   "metadata": {},
   "outputs": [],
   "source": [
    "agent_builder = StateGraph(ToolLoadoutState)\n",
    "\n",
    "# Add workflow nodes\n",
    "agent_builder.add_node(\"llm_call\", llm_call)\n",
    "agent_builder.add_node(\"tool_node\", tool_node)\n",
    "\n",
    "# Define workflow edges\n",
    "agent_builder.add_edge(START, \"llm_call\")\n",
    "agent_builder.add_conditional_edges(\n",
    "    \"llm_call\",\n",
    "    tools_condition,\n",
    "    {\n",
    "        \"tools\": \"tool_node\",\n",
    "        END: END,\n",
    "    },\n",
    ")\n",
    "agent_builder.add_edge(\"tool_node\", \"llm_call\")\n",
    "\n",
    "# Compile the agent with tool store for semantic search\n",
    "agent = agent_builder.compile(store=store)"
   ]
  },
  {
   "cell_type": "code",
   "execution_count": null,
   "id": "7623eae2785240b9bd12b16a66d81610",
   "metadata": {},
   "outputs": [],
   "source": [
    "# Display the workflow graph\n",
    "display(\n",
    "    Image(agent.get_graph(xray=True).draw_mermaid_png(retry_delay=2.0, max_retries=10))\n",
    ")"
   ]
  },
  {
   "cell_type": "code",
   "execution_count": null,
   "id": "7cdc8c89c7104fffa095e18ddfef8986",
   "metadata": {},
   "outputs": [
    {
     "data": {
      "text/html": [
       "<pre style=\"white-space:pre;overflow-x:auto;line-height:normal;font-family:Menlo,'DejaVu Sans Mono',consolas,'Courier New',monospace\"><span style=\"color: #000080; text-decoration-color: #000080\">╭─────────────────────────────────────────────────── 🧑 Human ────────────────────────────────────────────────────╮</span>\n",
       "<span style=\"color: #000080; text-decoration-color: #000080\">│</span> Use available tools to calculate arc cosine of 0.5.                                                             <span style=\"color: #000080; text-decoration-color: #000080\">│</span>\n",
       "<span style=\"color: #000080; text-decoration-color: #000080\">╰─────────────────────────────────────────────────────────────────────────────────────────────────────────────────╯</span>\n",
       "</pre>\n"
      ],
      "text/plain": [
       "\u001b[34m╭─\u001b[0m\u001b[34m──────────────────────────────────────────────────\u001b[0m\u001b[34m 🧑 Human \u001b[0m\u001b[34m───────────────────────────────────────────────────\u001b[0m\u001b[34m─╮\u001b[0m\n",
       "\u001b[34m│\u001b[0m Use available tools to calculate arc cosine of 0.5.                                                             \u001b[34m│\u001b[0m\n",
       "\u001b[34m╰─────────────────────────────────────────────────────────────────────────────────────────────────────────────────╯\u001b[0m\n"
      ]
     },
     "metadata": {},
     "output_type": "display_data"
    },
    {
     "data": {
      "text/html": [
       "<pre style=\"white-space:pre;overflow-x:auto;line-height:normal;font-family:Menlo,'DejaVu Sans Mono',consolas,'Courier New',monospace\"><span style=\"color: #c0c0c0; text-decoration-color: #c0c0c0\">╭───────────────────────────────────────────────────── 📝 AI ─────────────────────────────────────────────────────╮</span>\n",
       "<span style=\"color: #c0c0c0; text-decoration-color: #c0c0c0\">│</span> I'll calculate the arc cosine of 0.5 for you using the available math function.                                 <span style=\"color: #c0c0c0; text-decoration-color: #c0c0c0\">│</span>\n",
       "<span style=\"color: #c0c0c0; text-decoration-color: #c0c0c0\">╰─────────────────────────────────────────────────────────────────────────────────────────────────────────────────╯</span>\n",
       "</pre>\n"
      ],
      "text/plain": [
       "\u001b[37m╭─\u001b[0m\u001b[37m────────────────────────────────────────────────────\u001b[0m\u001b[37m 📝 AI \u001b[0m\u001b[37m────────────────────────────────────────────────────\u001b[0m\u001b[37m─╮\u001b[0m\n",
       "\u001b[37m│\u001b[0m I'll calculate the arc cosine of 0.5 for you using the available math function.                                 \u001b[37m│\u001b[0m\n",
       "\u001b[37m╰─────────────────────────────────────────────────────────────────────────────────────────────────────────────────╯\u001b[0m\n"
      ]
     },
     "metadata": {},
     "output_type": "display_data"
    },
    {
     "data": {
      "text/html": [
       "<pre style=\"white-space:pre;overflow-x:auto;line-height:normal;font-family:Menlo,'DejaVu Sans Mono',consolas,'Courier New',monospace\"><span style=\"color: #808000; text-decoration-color: #808000\">╭──────────────────────────────────────────────── 🔧 Tool Output ─────────────────────────────────────────────────╮</span>\n",
       "<span style=\"color: #808000; text-decoration-color: #808000\">│</span> 1.0471975511965979                                                                                              <span style=\"color: #808000; text-decoration-color: #808000\">│</span>\n",
       "<span style=\"color: #808000; text-decoration-color: #808000\">╰─────────────────────────────────────────────────────────────────────────────────────────────────────────────────╯</span>\n",
       "</pre>\n"
      ],
      "text/plain": [
       "\u001b[33m╭─\u001b[0m\u001b[33m───────────────────────────────────────────────\u001b[0m\u001b[33m 🔧 Tool Output \u001b[0m\u001b[33m────────────────────────────────────────────────\u001b[0m\u001b[33m─╮\u001b[0m\n",
       "\u001b[33m│\u001b[0m 1.0471975511965979                                                                                              \u001b[33m│\u001b[0m\n",
       "\u001b[33m╰─────────────────────────────────────────────────────────────────────────────────────────────────────────────────╯\u001b[0m\n"
      ]
     },
     "metadata": {},
     "output_type": "display_data"
    },
    {
     "data": {
      "text/html": [
       "<pre style=\"white-space:pre;overflow-x:auto;line-height:normal;font-family:Menlo,'DejaVu Sans Mono',consolas,'Courier New',monospace\"><span style=\"color: #c0c0c0; text-decoration-color: #c0c0c0\">╭───────────────────────────────────────────────────── 📝 AI ─────────────────────────────────────────────────────╮</span>\n",
       "<span style=\"color: #c0c0c0; text-decoration-color: #c0c0c0\">│</span> The arc cosine of 0.5 is approximately 1.0472 radians, which is equivalent to 60 degrees (since cos(60°) =      <span style=\"color: #c0c0c0; text-decoration-color: #c0c0c0\">│</span>\n",
       "<span style=\"color: #c0c0c0; text-decoration-color: #c0c0c0\">│</span> 0.5).                                                                                                           <span style=\"color: #c0c0c0; text-decoration-color: #c0c0c0\">│</span>\n",
       "<span style=\"color: #c0c0c0; text-decoration-color: #c0c0c0\">╰─────────────────────────────────────────────────────────────────────────────────────────────────────────────────╯</span>\n",
       "</pre>\n"
      ],
      "text/plain": [
       "\u001b[37m╭─\u001b[0m\u001b[37m────────────────────────────────────────────────────\u001b[0m\u001b[37m 📝 AI \u001b[0m\u001b[37m────────────────────────────────────────────────────\u001b[0m\u001b[37m─╮\u001b[0m\n",
       "\u001b[37m│\u001b[0m The arc cosine of 0.5 is approximately 1.0472 radians, which is equivalent to 60 degrees (since cos(60°) =      \u001b[37m│\u001b[0m\n",
       "\u001b[37m│\u001b[0m 0.5).                                                                                                           \u001b[37m│\u001b[0m\n",
       "\u001b[37m╰─────────────────────────────────────────────────────────────────────────────────────────────────────────────────╯\u001b[0m\n"
      ]
     },
     "metadata": {},
     "output_type": "display_data"
    }
   ],
   "source": [
    "query = \"Use available tools to calculate arc cosine of 0.5.\"\n",
    "result = agent.invoke({\"messages\": [HumanMessage(content=query)]})\n",
    "format_messages(result[\"messages\"])"
   ]
  }
 ],
 "metadata": {
  "kernelspec": {
   "display_name": "Prompt_EngineeringxProgramming",
   "language": "python",
   "name": "python3"
  },
  "language_info": {
   "codemirror_mode": {
    "name": "ipython",
    "version": 3
   },
   "file_extension": ".py",
   "mimetype": "text/x-python",
   "name": "python",
   "nbconvert_exporter": "python",
   "pygments_lexer": "ipython3"
  },
  "vincent": {
   "sessionId": "2eaf4e12e2cec29e8109512f_2025-09-02T16-34-13-920Z"
  }
 },
 "nbformat": 4,
 "nbformat_minor": 5
}
