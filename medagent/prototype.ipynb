{
 "cells": [
  {
   "cell_type": "code",
   "id": "47f5ae075322cbf5",
   "metadata": {
    "cellUniqueIdByVincent": "f75dd",
    "ExecuteTime": {
     "end_time": "2025-09-05T17:08:19.037416Z",
     "start_time": "2025-09-05T17:08:18.787422Z"
    }
   },
   "source": [
    "%reload_ext autoreload\n",
    "%autoreload 2"
   ],
   "outputs": [],
   "execution_count": 1
  },
  {
   "cell_type": "code",
   "id": "1379dec96800893d",
   "metadata": {
    "cellUniqueIdByVincent": "bb610",
    "ExecuteTime": {
     "end_time": "2025-09-05T17:08:35.413412Z",
     "start_time": "2025-09-05T17:08:19.054921Z"
    }
   },
   "source": [
    "import asyncio\n",
    "import os\n",
    "from collections import defaultdict\n",
    "from dataclasses import dataclass, field\n",
    "from datetime import datetime\n",
    "from typing import Literal\n",
    "\n",
    "import pandas as pd\n",
    "from dotenv import load_dotenv\n",
    "from dspy import LM, ChainOfThought, InputField, OutputField, Signature, configure\n",
    "from fastembed import TextEmbedding\n",
    "from IPython.display import Markdown, display\n",
    "from langchain.schema import Document\n",
    "from langchain.tools import tool\n",
    "from langchain.tools.retriever import create_retriever_tool\n",
    "from langchain_community.document_loaders import CSVLoader\n",
    "from langchain_community.vectorstores import FAISS\n",
    "from langchain_core.embeddings import Embeddings\n",
    "from langchain_core.messages import HumanMessage, SystemMessage\n",
    "from langchain_deepseek import ChatDeepSeek\n",
    "from langchain_experimental.text_splitter import SemanticChunker\n",
    "from langchain_tavily import TavilySearch\n",
    "from langgraph.graph import END, MessagesState, StateGraph\n",
    "from langgraph.prebuilt import ToolNode, tools_condition\n",
    "from langsmith import traceable\n",
    "from loguru import logger\n",
    "from pydantic import BaseModel, Field\n",
    "\n",
    "from retriever_formatter import RetrieverReportGenerator\n",
    "from source_formatter import SourceFormatter"
   ],
   "outputs": [],
   "execution_count": 2
  },
  {
   "cell_type": "code",
   "id": "45c0e89fa1123067",
   "metadata": {
    "cellUniqueIdByVincent": "014db",
    "ExecuteTime": {
     "end_time": "2025-09-05T17:08:35.985411Z",
     "start_time": "2025-09-05T17:08:35.442920Z"
    }
   },
   "source": [
    "# Load environment variables\n",
    "_ = load_dotenv()\n",
    "\n",
    "# Initialize LLM\n",
    "llm = ChatDeepSeek(model=\"deepseek-chat\")\n",
    "\n",
    "# Load and prepare the dataset\n",
    "df = pd.read_csv(\"data/hiv_aids_prevalence_africa.csv\")\n",
    "df[\"Article\"] = df[\"Title\"].str.cat(df[\"Abstract\"].fillna(\"\"), sep=\".\\n \")\n",
    "df.drop(columns=[\"Abstract\"], inplace=True)\n",
    "df.to_csv(\"data/tests.csv\", index=False)"
   ],
   "outputs": [],
   "execution_count": 3
  },
  {
   "cell_type": "code",
   "id": "7cdc8c89c7104fffa095e18ddfef8986",
   "metadata": {
    "cellUniqueIdByVincent": "e56d4",
    "ExecuteTime": {
     "end_time": "2025-09-05T17:08:36.048636Z",
     "start_time": "2025-09-05T17:08:35.999477Z"
    }
   },
   "source": [
    "@dataclass\n",
    "class FastEmbed(Embeddings):\n",
    "    fe: TextEmbedding = field(default_factory=TextEmbedding)\n",
    "\n",
    "    def embed_documents(self, texts: list[str]) -> list[list[float]]:\n",
    "        return [emb.tolist() for emb in self.fe.embed(texts)]\n",
    "\n",
    "    def embed_query(self, text: str) -> list[float]:\n",
    "        return list(self.fe.embed([text]))[0].tolist()"
   ],
   "outputs": [],
   "execution_count": 4
  },
  {
   "cell_type": "code",
   "id": "52ff083e90b3ed2",
   "metadata": {
    "cellUniqueIdByVincent": "3830a",
    "ExecuteTime": {
     "end_time": "2025-09-05T17:09:32.602580Z",
     "start_time": "2025-09-05T17:08:36.061571Z"
    }
   },
   "source": [
    "embeddings = FastEmbed(\n",
    "    TextEmbedding(\n",
    "        model_name=\"sentence-transformers/all-MiniLM-L6-V2\",\n",
    "        cache_dir=os.path.expanduser(\"~/.cache/fastembed\"),\n",
    "        local_files_only=True,\n",
    "    )\n",
    ")\n",
    "\n",
    "splitter = SemanticChunker(embeddings)\n",
    "\n",
    "loader = CSVLoader(\n",
    "    file_path=\"data/tests.csv\",\n",
    "    source_column=\"Pmid\",\n",
    "    content_columns=[\"Article\"],\n",
    "    metadata_columns=[\n",
    "        \"Pmid\",\n",
    "        \"Title\",\n",
    "        \"Url\",\n",
    "        \"Authors\",\n",
    "        \"Keywords\",\n",
    "        \"Journal\",\n",
    "        \"Affiliations\",\n",
    "        \"Publication Date\",\n",
    "        \"References\",\n",
    "    ],\n",
    ")\n",
    "\n",
    "documents = loader.load()\n",
    "splitted_documents = splitter.split_documents(documents)"
   ],
   "outputs": [],
   "execution_count": 5
  },
  {
   "cell_type": "code",
   "id": "c9eefe68b9fe4f5e",
   "metadata": {
    "cellUniqueIdByVincent": "f2e8a",
    "ExecuteTime": {
     "end_time": "2025-09-05T17:09:32.709350Z",
     "start_time": "2025-09-05T17:09:32.633097Z"
    }
   },
   "source": [
    "def batch_process(\n",
    "    documents: list[Document],\n",
    "    embeddings,\n",
    "    persist_directory,\n",
    "    batch_size=10,\n",
    "):\n",
    "    # Check if the persist directory exists\n",
    "    if not os.path.exists(persist_directory):\n",
    "        logger.warning(\n",
    "            f\"Persist directory {persist_directory} does not exist. Creating it\"\n",
    "        )\n",
    "        os.makedirs(persist_directory, exist_ok=True)\n",
    "\n",
    "    # Create the batches\n",
    "    batch_docs = [\n",
    "        documents[i : i + batch_size] for i in range(0, len(documents), batch_size)\n",
    "    ]\n",
    "\n",
    "    if os.path.exists(os.path.join(persist_directory, \"index.faiss\")):\n",
    "        logger.info(\n",
    "            f\"Vector Index already exists. Loading it from {persist_directory}.\"\n",
    "        )\n",
    "        vector_index = FAISS.load_local(\n",
    "            persist_directory,\n",
    "            embeddings=embeddings,\n",
    "            allow_dangerous_deserialization=True,\n",
    "        )\n",
    "    else:\n",
    "        logger.info(\"Creating new FAISS index from documents\")\n",
    "        # Create the vector_store\n",
    "        vector_index = FAISS.from_documents(batch_docs[0], embeddings)\n",
    "\n",
    "        for batch in batch_docs[1:]:\n",
    "            vector_index.add_documents(batch)\n",
    "\n",
    "        # Persist the index\n",
    "        vector_index.save_local(persist_directory)\n",
    "\n",
    "    return vector_index"
   ],
   "outputs": [],
   "execution_count": 6
  },
  {
   "cell_type": "code",
   "id": "64b9d24dd7538000",
   "metadata": {
    "cellUniqueIdByVincent": "484af",
    "ExecuteTime": {
     "end_time": "2025-09-05T17:09:35.347131Z",
     "start_time": "2025-09-05T17:09:32.743784Z"
    }
   },
   "source": [
    "embedding_model = FastEmbed(\n",
    "    TextEmbedding(\n",
    "        model_name=\"jinaai/jina-embeddings-v2-base-en\",\n",
    "        cache_dir=os.path.expanduser(\"~/.cache/fastembed\"),\n",
    "        local_files_only=True,\n",
    "    )\n",
    ")"
   ],
   "outputs": [],
   "execution_count": 7
  },
  {
   "cell_type": "code",
   "id": "adb2c7cfd6bd0672",
   "metadata": {
    "cellUniqueIdByVincent": "34647",
    "ExecuteTime": {
     "end_time": "2025-09-05T17:09:35.591292Z",
     "start_time": "2025-09-05T17:09:35.366627Z"
    }
   },
   "source": [
    "vector_store = batch_process(\n",
    "    splitted_documents, embedding_model, persist_directory=\"../faiss_index\"\n",
    ")"
   ],
   "outputs": [
    {
     "name": "stderr",
     "output_type": "stream",
     "text": [
      "\u001B[32m2025-09-05 20:09:35.431\u001B[0m | \u001B[1mINFO    \u001B[0m | \u001B[36m__main__\u001B[0m:\u001B[36mbatch_process\u001B[0m:\u001B[36m20\u001B[0m - \u001B[1mVector Index already exists. Loading it from ../faiss_index.\u001B[0m\n"
     ]
    }
   ],
   "execution_count": 8
  },
  {
   "cell_type": "code",
   "id": "c35c295050e9fc2a",
   "metadata": {
    "cellUniqueIdByVincent": "eb8e9",
    "ExecuteTime": {
     "end_time": "2025-09-05T17:09:35.844673Z",
     "start_time": "2025-09-05T17:09:35.608627Z"
    }
   },
   "source": [
    "retriever = vector_store.as_retriever(search_kwargs={\"k\": 10})\n",
    "\n",
    "results = retriever.invoke(\n",
    "    \"What strategies are suggested to reduce HIV prevalence among dialysis patients worldwide?\"\n",
    ")"
   ],
   "outputs": [],
   "execution_count": 9
  },
  {
   "cell_type": "code",
   "id": "3020e8d9",
   "metadata": {
    "cellUniqueIdByVincent": "5fb73",
    "ExecuteTime": {
     "end_time": "2025-09-05T17:11:10.886433Z",
     "start_time": "2025-09-05T17:11:10.797232Z"
    }
   },
   "source": [
    "@tool\n",
    "def retriever_tool(query):\n",
    "    \"\"\"\n",
    "    Retrieves pubmed data using the provided query and generates a report in markdown format.\n",
    "\n",
    "    This function utilizes a retriever to invoke the given query, processes the response,\n",
    "    and generates a report in markdown format using a report generator.\n",
    "\n",
    "    Args:\n",
    "        query: The query string to retrieve data.\n",
    "\n",
    "    Returns:\n",
    "        str: A markdown formatted report generated based on the retriever's response.\n",
    "    \"\"\"\n",
    "    response =  retriever.invoke(query)\n",
    "    report_gen = RetrieverReportGenerator()\n",
    "    markdown, _, _ = report_gen.create_report(response)\n",
    "    return markdown"
   ],
   "outputs": [],
   "execution_count": 18
  },
  {
   "cell_type": "code",
   "id": "72eea5119410473aa328ad9291626812",
   "metadata": {
    "cellUniqueIdByVincent": "8dbf2",
    "ExecuteTime": {
     "end_time": "2025-09-05T17:09:36.011104Z",
     "start_time": "2025-09-05T17:09:35.933685Z"
    }
   },
   "source": [
    "class StructuredOutput(BaseModel):\n",
    "    answer: list[str] = Field(description=\"A List of search queries\")\n",
    "\n",
    "\n",
    "dspy_lm = LM(\n",
    "    \"deepseek/deepseek-chat\",\n",
    "    api_key=os.getenv(\"DEEPSEEK_API_KEY\"),\n",
    "    base_url=\"https://api.deepseek.com\",\n",
    ")\n",
    "configure(lm=dspy_lm)\n",
    "\n",
    "\n",
    "class MultiQueryGenerator(Signature):\n",
    "    \"\"\"Generate multiple research queries from a single user query.\"\"\"\n",
    "\n",
    "    question = InputField(desc=\"Original user query\")\n",
    "    num_queries = InputField(desc=\"Number of research queries to generate\")\n",
    "    research_queries: StructuredOutput = OutputField(\n",
    "        desc=\"Generate a list of search terms to for the questions to aid in web search for an AI agent\"\n",
    "    )\n",
    "\n",
    "\n",
    "query_optimizer = ChainOfThought(MultiQueryGenerator)\n",
    "\n",
    "\n",
    "@traceable(name=\"query_generator\")\n",
    "def query_generator(question: str, num_queries: int):\n",
    "    try:\n",
    "        return query_optimizer(\n",
    "            question=question, num_queries=num_queries\n",
    "        ).research_queries.answer\n",
    "    except Exception as e:\n",
    "        print(f\"An error occurred during query generation: {e}\")\n",
    "        return []"
   ],
   "outputs": [],
   "execution_count": 11
  },
  {
   "cell_type": "code",
   "id": "8763a12b2bbd4a93a75aff182afb95dc",
   "metadata": {
    "cellUniqueIdByVincent": "08723",
    "ExecuteTime": {
     "end_time": "2025-09-05T17:28:45.409478Z",
     "start_time": "2025-09-05T17:28:45.338822Z"
    }
   },
   "source": [
    "async def tavily_search_async(\n",
    "    search_query: str,\n",
    "    max_results: int = 5,\n",
    "    num_queries: int = 5,\n",
    "    include_raw_content: bool = False,\n",
    "    topic: Literal[\"general\", \"news\", \"finance\"] = \"general\",\n",
    "):\n",
    "    tavily_search = TavilySearch(\n",
    "        max_results=max_results, include_raw_content=include_raw_content, topic=topic\n",
    "    )\n",
    "\n",
    "    search_queries = query_generator(search_query, num_queries)\n",
    "    tasks = [tavily_search.ainvoke({\"query\": q}) for q in search_queries]\n",
    "    results = await asyncio.gather(*tasks)\n",
    "    return results"
   ],
   "outputs": [],
   "execution_count": 37
  },
  {
   "cell_type": "code",
   "id": "45580067",
   "metadata": {
    "cellUniqueIdByVincent": "53d74",
    "ExecuteTime": {
     "end_time": "2025-09-05T17:09:44.343469Z",
     "start_time": "2025-09-05T17:09:44.249770Z"
    }
   },
   "source": [
    "\n",
    "@tool\n",
    "async def web_search(search_query: str):\n",
    "    \"\"\"\n",
    "    Search the web for the given search queries.\n",
    "    \"\"\"\n",
    "    formatter = SourceFormatter(\n",
    "    markdown_output=False\n",
    ") \n",
    "    search_response = await tavily_search_async(\n",
    "        search_query, max_results=5, include_raw_content=True\n",
    "    )\n",
    "\n",
    "    deduplicated_response = formatter.deduplicate_and_format_sources(search_response)\n",
    "    return deduplicated_response"
   ],
   "outputs": [],
   "execution_count": 16
  },
  {
   "cell_type": "code",
   "id": "acae54e37e7d407bbb7b55eff062a284",
   "metadata": {
    "cellUniqueIdByVincent": "6fef6",
    "ExecuteTime": {
     "end_time": "2025-09-05T17:10:07.969663Z",
     "start_time": "2025-09-05T17:10:07.886303Z"
    }
   },
   "source": [
    "tools = [retriever_tool, web_search]  # TODO: Add the web search tool\n",
    "\n",
    "llm_with_tools = llm.bind_tools(tools)"
   ],
   "outputs": [],
   "execution_count": 17
  },
  {
   "cell_type": "code",
   "id": "9a63283cbaf04dbcab1f6479b197f3a8",
   "metadata": {
    "cellUniqueIdByVincent": "10ea5",
    "ExecuteTime": {
     "end_time": "2025-09-05T17:32:07.655687Z",
     "start_time": "2025-09-05T17:32:05.855791Z"
    }
   },
   "source": [
    "rag_prompt = \"\"\"\n",
    "You are a helpful medical research assistant with access to two information sources:\n",
    "\n",
    "1. **Primary Source - PubMed Retriever**: Always start here to search your indexed PubMed database for relevant medical literature, abstracts, and research findings.\n",
    "\n",
    "2. **Secondary Source - Tavily Web Search**: Only use this if PubMed retrieval yields insufficient information or if current/breaking medical news is needed.\n",
    "\n",
    "**Process:**\n",
    "- Begin every query by using the PubMed retriever tool first\n",
    "- Evaluate if the retrieved PubMed content sufficiently answers the user's question\n",
    "- If PubMed results are sparse, outdated, or incomplete, then supplement with Tavily search\n",
    "- Always prioritize peer-reviewed medical literature over general web content\n",
    "- Cite all sources with proper references\n",
    "- Synthesize findings into accurate, evidence-based responses\n",
    "- If neither source provides adequate information, clearly state the limitations\n",
    "\n",
    "Always clarify the user's research question or scope before retrieving, and continue gathering information until you have sufficient coverage to provide a thorough, well-supported answer.\n",
    "\"\"\"\n",
    "\n",
    "\n",
    "class State(MessagesState):\n",
    "    texts: str\n",
    "\n",
    "\n",
    "def llm_call(state: State):\n",
    "    messages = state.get(\"messages\", [])\n",
    "\n",
    "    # If no messages yet, start the conversation\n",
    "    if not messages:\n",
    "        messages = [\n",
    "            SystemMessage(content=rag_prompt),\n",
    "            HumanMessage(content=state[\"texts\"]),\n",
    "        ]\n",
    "\n",
    "    response = llm_with_tools.invoke(messages)\n",
    "    return {\"messages\": messages + [response]}\n",
    "\n",
    "\n",
    "# state = State(texts=\"What are the approaches to Task Decomposition?\")\n",
    "graph = StateGraph(State)\n",
    "graph.add_node(\"llm_call\", llm_call)\n",
    "graph.add_node(\"tools\", ToolNode(tools))\n",
    "\n",
    "graph.set_entry_point(\"llm_call\")\n",
    "graph.add_conditional_edges(\n",
    "    \"llm_call\", tools_condition, {\"tools\": \"tools\", \"__end__\": END}\n",
    ")\n",
    "graph.add_edge(\"tools\", \"llm_call\")\n",
    "\n",
    "full_graph = graph.compile()\n",
    "full_graph"
   ],
   "outputs": [
    {
     "data": {
      "text/plain": [
       "<langgraph.graph.state.CompiledStateGraph object at 0x7c5664ff6bd0>"
      ],
      "image/png": "[encoded data removed]"
     },
     "execution_count": 40,
     "metadata": {},
     "output_type": "execute_result"
    }
   ],
   "execution_count": 40
  },
  {
   "cell_type": "code",
   "id": "8dd0d8092fe74a7c96281538738b07e2",
   "metadata": {
    "cellUniqueIdByVincent": "b66fc",
    "ExecuteTime": {
     "end_time": "2025-09-05T17:33:56.714019Z",
     "start_time": "2025-09-05T17:32:41.098189Z"
    }
   },
   "source": [
    "state = State(texts=\"What strategies are suggested to reduce HIV prevalence among dialysis patients worldwide?\")\n",
    "result = full_graph.invoke(state)\n",
    "\n",
    "print(result[\"messages\"][-1].content)  # Final assistant answer"
   ],
   "outputs": [
    {
     "name": "stdout",
     "output_type": "stream",
     "text": [
      "Based on the research findings from PubMed, I can provide you with evidence-based strategies to reduce HIV prevalence among dialysis patients worldwide. Here are the key strategies supported by the medical literature:\n",
      "\n",
      "## Key Strategies to Reduce HIV Prevalence Among Dialysis Patients\n",
      "\n",
      "### 1. **Strict Infection Control Protocols**\n",
      "- **Universal Precautions**: Implement and strictly enforce standard infection control measures in all dialysis centers\n",
      "- **Proper Sterilization**: Ensure thorough sterilization of dialysis equipment between patients\n",
      "- **Environmental Controls**: Maintain clean treatment environments with proper disinfection protocols\n",
      "\n",
      "### 2. **Enhanced Healthcare Infrastructure**\n",
      "- **Resource Allocation**: Invest in adequate healthcare facilities and equipment, particularly in high-prevalence regions like Africa and North America\n",
      "- **Staff Training**: Provide comprehensive training for dialysis center staff on HIV prevention and infection control\n",
      "- **Regular Audits**: Conduct regular infection control audits and compliance monitoring\n",
      "\n",
      "### 3. **Routine HIV Testing and Screening**\n",
      "- **Universal Testing**: Implement routine HIV testing for all dialysis patients at initiation and periodically\n",
      "- **Early Detection**: Enable early identification and treatment of HIV-positive patients to reduce transmission risk\n",
      "- **Confidential Counseling**: Provide pre- and post-test counseling services\n",
      "\n",
      "### 4. **Antiretroviral Therapy (ART) Access**\n",
      "- **Immediate Treatment**: Ensure prompt initiation of ART for HIV-positive dialysis patients\n",
      "- **Adherence Support**: Implement programs to support ART adherence among dialysis patients\n",
      "- **Viral Load Monitoring**: Regular monitoring to achieve and maintain viral suppression\n",
      "\n",
      "### 5. **Public Awareness and Education**\n",
      "- **Patient Education**: Educate dialysis patients about HIV transmission risks and prevention methods\n",
      "- **Community Outreach**: Raise awareness about HIV prevention in communities served by dialysis centers\n",
      "- **Stigma Reduction**: Implement programs to reduce stigma associated with HIV testing and treatment\n",
      "\n",
      "### 6. **Regional-Specific Interventions**\n",
      "- **High-Prevalence Areas**: In Africa and North America (where prevalence is highest at 21.1% and 19.3% respectively), implement intensive prevention programs\n",
      "- **Targeted Screening**: Focus screening efforts in regions with higher prevalence rates\n",
      "- **Mobile Health Services**: Consider mobile dialysis units with integrated HIV services for remote areas\n",
      "\n",
      "### 7. **Integration with Existing HIV Programs**\n",
      "- **Linkage to Care**: Ensure seamless referral systems between dialysis centers and HIV care facilities\n",
      "- **Pre-Exposure Prophylaxis (PrEP)**: Consider PrEP for high-risk dialysis patients in endemic areas\n",
      "- **Post-Exposure Prophylaxis (PEP)**: Establish clear PEP protocols for potential exposures in dialysis settings\n",
      "\n",
      "### 8. **Research and Surveillance**\n",
      "- **Epidemiological Monitoring**: Continue surveillance of HIV prevalence trends in dialysis populations\n",
      "- **Implementation Research**: Study effectiveness of different prevention strategies in dialysis settings\n",
      "- **Quality Improvement**: Use data to continuously improve prevention programs\n",
      "\n",
      "## Evidence-Based Recommendations from Research:\n",
      "\n",
      "The systematic review and meta-analysis found that HIV prevalence among dialysis patients varies significantly by region, with Africa (21.1%) and North America (19.3%) showing much higher rates compared to Europe (0.3%), South America (0.7%), and Asia (0.7%). The study attributes these disparities to:\n",
      "\n",
      "1. Lack of awareness and preventive knowledge\n",
      "2. Insufficient healthcare facilities\n",
      "3. Breaches in infection control protocols\n",
      "4. Risky attitudes and practices\n",
      "5. Immigration issues\n",
      "\n",
      "The research strongly recommends \"strict adherence to HIV preventive practices, raising public awareness, and advanced healthcare systems\" as key strategies to reduce HIV prevalence among dialysis patients globally.\n",
      "\n",
      "**Implementation Note**: These strategies should be tailored to local contexts, considering regional prevalence rates, available resources, and cultural factors to ensure maximum effectiveness.\n"
     ]
    }
   ],
   "execution_count": 41
  },
  {
   "metadata": {},
   "cell_type": "code",
   "outputs": [],
   "execution_count": null,
   "source": "",
   "id": "e2689e86b4b507c"
  }
 ],
 "metadata": {
  "kernelspec": {
   "display_name": "Research",
   "language": "python",
   "name": "python3"
  },
  "language_info": {
   "codemirror_mode": {
    "name": "ipython",
    "version": 3
   },
   "file_extension": ".py",
   "mimetype": "text/x-python",
   "name": "python",
   "nbconvert_exporter": "python",
   "pygments_lexer": "ipython3"
  },
  "vincent": {
   "sessionId": "d0a10080748424535e62ec19_2025-08-28T09-23-07-763Z"
  }
 },
 "nbformat": 4,
 "nbformat_minor": 5
}
