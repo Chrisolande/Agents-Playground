{
 "cells": [
  {
   "cell_type": "code",
   "execution_count": null,
   "id": "7fb27b941602401d91542211134fc71a",
   "metadata": {},
   "outputs": [],
   "source": [
    "from langchain_core.tools import tool\n",
    "from langchain_openai import ChatOpenAI\n",
    "from langchain_tavily import TavilySearch\n",
    "from langgraph.checkpoint.memory import MemorySaver\n",
    "from langgraph.graph import END, MessagesState, StateGraph\n",
    "from langgraph.prebuilt import ToolNode, tools_condition"
   ]
  },
  {
   "cell_type": "code",
   "execution_count": null,
   "id": "acae54e37e7d407bbb7b55eff062a284",
   "metadata": {},
   "outputs": [],
   "source": [
    "# Define tools\n",
    "\n",
    "\n",
    "@tool\n",
    "def add_numbers(x: float, y: float) -> float:\n",
    "    \"\"\"\n",
    "    Adds two floating-point numbers and returns their sum.\n",
    "\n",
    "    Args:\n",
    "        x (float): The first number.\n",
    "        y (float): The second number.\n",
    "\n",
    "    Returns:\n",
    "        float: The sum of x and y.\n",
    "    \"\"\"\n",
    "    return x + y\n",
    "\n",
    "\n",
    "@tool\n",
    "def multiply_numbers(x: float, y: float) -> float:\n",
    "    \"\"\"\n",
    "    Multiplies two floating-point numbers and returns the product.\n",
    "\n",
    "    Args:\n",
    "        x (float): The first number.\n",
    "        y (float): The second number.\n",
    "\n",
    "    Returns:\n",
    "        float: The product of x and y.\n",
    "    \"\"\"\n",
    "    return x * y\n",
    "\n",
    "\n",
    "@tool\n",
    "def web_search(query: str) -> dict:\n",
    "    \"\"\"\n",
    "    Performs a web search using the Tavily API and returns the top result.\n",
    "\n",
    "    Args:\n",
    "        query (str): The search query string.\n",
    "\n",
    "    Returns:\n",
    "        dict: A dictionary containing the top search result.\n",
    "    \"\"\"\n",
    "    tavily_tool = TavilySearch(max_results=1)\n",
    "    return tavily_tool.invoke(query)"
   ]
  },
  {
   "cell_type": "code",
   "execution_count": null,
   "id": "9a63283cbaf04dbcab1f6479b197f3a8",
   "metadata": {},
   "outputs": [],
   "source": [
    "model = ChatOpenAI(model=\"mistralai/mistral-small-3.2-24b-instruct\")\n",
    "tools = [web_search, add_numbers, multiply_numbers]"
   ]
  },
  {
   "cell_type": "code",
   "execution_count": null,
   "id": "8dd0d8092fe74a7c96281538738b07e2",
   "metadata": {},
   "outputs": [],
   "source": [
    "def create_workflow(tools):\n",
    "    workflow = StateGraph(MessagesState)\n",
    "    model_with_tools = model.bind_tools(tools)\n",
    "\n",
    "    workflow.add_node(\n",
    "        \"agent\",\n",
    "        lambda state: {\"messages\": [model_with_tools.invoke(state[\"messages\"])]},\n",
    "    )\n",
    "    workflow.add_node(\"tools\", ToolNode(tools))\n",
    "\n",
    "    workflow.set_entry_point(\"agent\")\n",
    "\n",
    "    workflow.add_conditional_edges(\n",
    "        \"agent\",\n",
    "        tools_condition,\n",
    "        {\n",
    "            \"tools\": \"tools\",\n",
    "            END: END,\n",
    "        },\n",
    "    )\n",
    "    workflow.add_edge(\"tools\", \"agent\")\n",
    "\n",
    "    memory = MemorySaver()\n",
    "    app = workflow.compile(checkpointer=memory, interrupt_before=[\"tools\"])\n",
    "\n",
    "    return app"
   ]
  },
  {
   "cell_type": "code",
   "execution_count": null,
   "id": "72eea5119410473aa328ad9291626812",
   "metadata": {},
   "outputs": [],
   "source": [
    "app = create_workflow(tools)"
   ]
  },
  {
   "cell_type": "code",
   "execution_count": null,
   "id": "8edb47106e1a46a883d545849b8ab81b",
   "metadata": {},
   "outputs": [
    {
     "data": {
      "image/png": "[encoded data removed]",
      "text/plain": [
       "<langgraph.graph.state.CompiledStateGraph object at 0x7f97db0e8830>"
      ]
     },
     "execution_count": null,
     "metadata": {},
     "output_type": "execute_result"
    }
   ],
   "source": [
    "app"
   ]
  },
  {
   "cell_type": "code",
   "execution_count": null,
   "id": "10185d26023b46108eb7d9f57d49d2b3",
   "metadata": {},
   "outputs": [
    {
     "data": {
      "text/plain": [
       "{'messages': [HumanMessage(content='What is 123.456 multiplied by 789.123?', additional_kwargs={}, response_metadata={}, id='97b9e01d-df9a-4fa3-a517-17487cbd522a'),\n",
       "  AIMessage(content='', additional_kwargs={'tool_calls': [{'id': 'GuevsyIur', 'function': {'arguments': '{\"x\": 123.456, \"y\": 789.123}', 'name': 'multiply_numbers'}, 'type': 'function', 'index': 0}], 'refusal': None}, response_metadata={'token_usage': {'completion_tokens': 30, 'prompt_tokens': 346, 'total_tokens': 376, 'completion_tokens_details': None, 'prompt_tokens_details': None}, 'model_name': 'mistralai/mistral-small-3.2-24b-instruct', 'system_fingerprint': None, 'id': 'gen-1752854183-CkpTLtkNqOFbqMdRUAAw', 'service_tier': None, 'finish_reason': 'tool_calls', 'logprobs': None}, id='run--679e4e04-1e73-4c4d-947f-b4a9300bc7ef-0', tool_calls=[{'name': 'multiply_numbers', 'args': {'x': 123.456, 'y': 789.123}, 'id': 'GuevsyIur', 'type': 'tool_call'}], usage_metadata={'input_tokens': 346, 'output_tokens': 30, 'total_tokens': 376, 'input_token_details': {}, 'output_token_details': {}})]}"
      ]
     },
     "execution_count": null,
     "metadata": {},
     "output_type": "execute_result"
    }
   ],
   "source": [
    "config = {\"configurable\": {\"thread_id\": \"2\"}}\n",
    "app.invoke({\"messages\": \"What is 123.456 multiplied by 789.123?\"}, config)"
   ]
  },
  {
   "cell_type": "code",
   "execution_count": null,
   "id": "8763a12b2bbd4a93a75aff182afb95dc",
   "metadata": {},
   "outputs": [
    {
     "name": "stdout",
     "output_type": "stream",
     "text": [
      "==================================\u001b[1m Ai Message \u001b[0m==================================\n",
      "Tool Calls:\n",
      "  multiply_numbers (GuevsyIur)\n",
      " Call ID: GuevsyIur\n",
      "  Args:\n",
      "    x: 123.456\n",
      "    y: 789.123\n",
      "=================================\u001b[1m Tool Message \u001b[0m=================================\n",
      "Name: multiply_numbers\n",
      "\n",
      "97421.96908800001\n",
      "==================================\u001b[1m Ai Message \u001b[0m==================================\n",
      "\n",
      "The product of 123.456 and 789.123 is approximately 97421.969088.\n"
     ]
    }
   ],
   "source": [
    "for event in app.stream(None, config, stream_mode=\"values\"):\n",
    "    event[\"messages\"][-1].pretty_print()"
   ]
  }
 ],
 "metadata": {
  "kernelspec": {
   "display_name": "Langchain",
   "language": "python",
   "name": "python3"
  },
  "language_info": {
   "name": "python"
  },
  "vincent": {
   "sessionId": "0e46c785a0763a699dc7c1e4_2025-07-18T15-44-00-845Z"
  }
 },
 "nbformat": 4,
 "nbformat_minor": 5
}
