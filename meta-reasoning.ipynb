{
 "cells": [
  {
   "cell_type": "code",
   "execution_count": null,
   "id": "0",
   "metadata": {
    "cellUniqueIdByVincent": "f16cb"
   },
   "outputs": [],
   "source": [
    "from typing import TypedDict\n",
    "\n",
    "from langchain.prompts import ChatPromptTemplate\n",
    "from langchain_openai import ChatOpenAI\n",
    "from langgraph.graph import END, StateGraph\n",
    "from pydantic import BaseModel, Field"
   ]
  },
  {
   "cell_type": "code",
   "execution_count": null,
   "id": "1",
   "metadata": {
    "cellUniqueIdByVincent": "92afd"
   },
   "outputs": [],
   "source": [
    "llm = ChatOpenAI(model=\"mistralai/devstral-small\")"
   ]
  },
  {
   "cell_type": "code",
   "execution_count": null,
   "id": "2",
   "metadata": {
    "cellUniqueIdByVincent": "45951"
   },
   "outputs": [],
   "source": [
    "class ReasoningState(TypedDict):\n",
    "    question: str\n",
    "    initial_answer: str\n",
    "    reasoning_steps: list[str]\n",
    "    reflection: str\n",
    "    final_answer: str\n",
    "    confidence: float\n",
    "    needs_revision: bool"
   ]
  },
  {
   "cell_type": "code",
   "execution_count": null,
   "id": "3",
   "metadata": {
    "cellUniqueIdByVincent": "bb64e"
   },
   "outputs": [],
   "source": [
    "class Reason(BaseModel):\n",
    "    answer: str = Field(description=\"The primary answer to the question\")\n",
    "    reasoning: list[str] = Field(description=\"Step-by-step reasoning process\")\n",
    "    confidence: float = Field(\n",
    "        description=\"Confidence level (0.0 to 1.0)\", ge=0.0, le=1.0\n",
    "    )\n",
    "\n",
    "\n",
    "class MetaReasoning(BaseModel):\n",
    "    reflection: str = Field(description=\"Critical analysis of the reasoning process\")\n",
    "    needs_revision: bool = Field(description=\"Whether the answer needs to be revised\")"
   ]
  },
  {
   "cell_type": "code",
   "execution_count": null,
   "id": "4",
   "metadata": {
    "cellUniqueIdByVincent": "e55c8"
   },
   "outputs": [],
   "source": [
    "def initial_reasoning(state: ReasoningState):\n",
    "    prompt = ChatPromptTemplate.from_template(\n",
    "        \"\"\"\n",
    "    Question: {question}\n",
    "    \n",
    "    Please provide:\n",
    "    1. Your initial answer\n",
    "    2. Step-by-step reasoning that led to this answer\n",
    "    3. Rate your confidence (0-1)\n",
    "    \"\"\"\n",
    "    )\n",
    "\n",
    "    structured_llm = llm.with_structured_output(Reason)\n",
    "    response = structured_llm.invoke(prompt.format(question=state[\"question\"]))\n",
    "\n",
    "    return {\n",
    "        **state,\n",
    "        \"initial_answer\": response.answer,\n",
    "        \"reasoning_steps\": response.reasoning,\n",
    "        \"confidence\": response.confidence,\n",
    "    }"
   ]
  },
  {
   "cell_type": "code",
   "execution_count": null,
   "id": "5",
   "metadata": {
    "cellUniqueIdByVincent": "c2714"
   },
   "outputs": [],
   "source": [
    "def meta_reflection(state: ReasoningState):\n",
    "    prompt = f\"\"\"\n",
    "    Question: {state['question']}\n",
    "    Initial Answer: {state['initial_answer']}\n",
    "    Reasoning Steps: {', '.join(state['reasoning_steps'])}\n",
    "    Confidence: {state['confidence']}\n",
    "    \n",
    "    As a meta-reasoning critic, analyze this reasoning process:\n",
    "    \n",
    "    1. Are there any logical flaws or gaps in the reasoning?\n",
    "    2. Are there alternative approaches that might be better?\n",
    "    3. Are there any assumptions that should be questioned?\n",
    "    4. Is the confidence level appropriate?\n",
    "    5. Should this answer be revised?\n",
    "    \"\"\"\n",
    "\n",
    "    structured_llm = llm.with_structured_output(MetaReasoning)\n",
    "    response = structured_llm.invoke(prompt)\n",
    "\n",
    "    return {\n",
    "        **state,\n",
    "        \"reflection\": response.reflection,\n",
    "        \"needs_revision\": response.needs_revision,\n",
    "    }"
   ]
  },
  {
   "cell_type": "code",
   "execution_count": null,
   "id": "6",
   "metadata": {
    "cellUniqueIdByVincent": "e0128"
   },
   "outputs": [],
   "source": [
    "class Revised(BaseModel):\n",
    "    final_answer: list[str] = Field(\n",
    "        description=\"The revised answer based on the question\"\n",
    "    )\n",
    "    confidence: float = Field(\n",
    "        description=\"Confidence level (0.0 - 1.0)\", ge=0.0, le=1.0\n",
    "    )"
   ]
  },
  {
   "cell_type": "code",
   "execution_count": null,
   "id": "7",
   "metadata": {
    "cellUniqueIdByVincent": "640f5"
   },
   "outputs": [],
   "source": [
    "def revised_reasoning(state: ReasoningState):\n",
    "    prompt = ChatPromptTemplate.from_template(\n",
    "        \"\"\"\n",
    "    Original Question: {question}\n",
    "    Initial Answer: {initial_answer}\n",
    "    Initial Reasoning: {reasoning}\n",
    "    Meta-Reflection: {reflection}\n",
    "\n",
    "    Based on the reflection, provide a revised answer that addresses the identified issues.\n",
    "    \"\"\"\n",
    "    )\n",
    "\n",
    "    structured_llm = llm.with_structured_output(Revised)\n",
    "    response = structured_llm.invoke(\n",
    "        prompt.format_messages(\n",
    "            question=state[\"question\"],\n",
    "            initial_answer=state[\"initial_answer\"],\n",
    "            reasoning=\", \".join(state[\"reasoning_steps\"]),\n",
    "            reflection=state[\"reflection\"],\n",
    "        )\n",
    "    )\n",
    "\n",
    "    return {\n",
    "        **state,\n",
    "        \"final_answer\": response.final_answer,\n",
    "        \"confidence\": response.confidence,\n",
    "    }"
   ]
  },
  {
   "cell_type": "code",
   "execution_count": null,
   "id": "8",
   "metadata": {
    "cellUniqueIdByVincent": "e28b0"
   },
   "outputs": [],
   "source": [
    "def finalize_answer(state: ReasoningState) -> ReasoningState:\n",
    "    \"\"\"Use initial answer as final if no revision needed\"\"\"\n",
    "    return {**state, \"final_answer\": state[\"initial_answer\"]}"
   ]
  },
  {
   "cell_type": "code",
   "execution_count": null,
   "id": "9",
   "metadata": {
    "cellUniqueIdByVincent": "6fede"
   },
   "outputs": [],
   "source": [
    "def should_revise(state: ReasoningState) -> str:\n",
    "    \"\"\"Determine if revision is needed based on reflection\"\"\"\n",
    "    if state[\"needs_revision\"]:\n",
    "        return \"revise\"\n",
    "    else:\n",
    "        return \"finalize\""
   ]
  },
  {
   "cell_type": "code",
   "execution_count": null,
   "id": "10",
   "metadata": {
    "cellUniqueIdByVincent": "d7337"
   },
   "outputs": [],
   "source": [
    "def create_meta_reasoning_graph():\n",
    "    workflow = StateGraph(ReasoningState)\n",
    "\n",
    "    # Add nodes\n",
    "    workflow.add_node(\"initial_reasoning\", initial_reasoning)\n",
    "    workflow.add_node(\"meta_reflection\", meta_reflection)\n",
    "    workflow.add_node(\"revised_reasoning\", revised_reasoning)\n",
    "    workflow.add_node(\"finalize_answer\", finalize_answer)\n",
    "\n",
    "    # Add edges\n",
    "    workflow.set_entry_point(\"initial_reasoning\")\n",
    "    workflow.add_edge(\"initial_reasoning\", \"meta_reflection\")\n",
    "    workflow.add_conditional_edges(\n",
    "        \"meta_reflection\",\n",
    "        should_revise,\n",
    "        {\"revise\": \"revised_reasoning\", \"finalize\": \"finalize_answer\"},\n",
    "    )\n",
    "    workflow.add_edge(\"revised_reasoning\", END)\n",
    "    workflow.add_edge(\"finalize_answer\", END)\n",
    "\n",
    "    return workflow.compile()"
   ]
  },
  {
   "cell_type": "code",
   "execution_count": null,
   "id": "11",
   "metadata": {
    "cellUniqueIdByVincent": "ea0c4"
   },
   "outputs": [],
   "source": [
    "graph = create_meta_reasoning_graph()"
   ]
  },
  {
   "cell_type": "code",
   "execution_count": null,
   "id": "12",
   "metadata": {
    "cellUniqueIdByVincent": "574f4"
   },
   "outputs": [
    {
     "data": {
      "image/png": "[encoded data removed]",
      "text/plain": [
       "<langgraph.graph.state.CompiledStateGraph object at 0x7f5bb45b1010>"
      ]
     },
     "execution_count": null,
     "metadata": {},
     "output_type": "execute_result"
    }
   ],
   "source": [
    "graph"
   ]
  },
  {
   "cell_type": "code",
   "execution_count": null,
   "id": "13",
   "metadata": {
    "cellUniqueIdByVincent": "fcbd9"
   },
   "outputs": [],
   "source": [
    "def run_meta_reasoning_example():\n",
    "    graph = create_meta_reasoning_graph()\n",
    "\n",
    "    # Test question\n",
    "    initial_state = ReasoningState(\n",
    "        question=\"A bat and a ball cost $1.10 in total. The bat costs $1.00 more than the ball. How much does the ball cost?\",\n",
    "        initial_answer=\"\",\n",
    "        reasoning_steps=[],\n",
    "        reflection=\"\",\n",
    "        final_answer=\"\",\n",
    "        confidence=0.0,\n",
    "        needs_revision=False,\n",
    "    )\n",
    "\n",
    "    # Run the graph\n",
    "    result = graph.invoke(initial_state)\n",
    "\n",
    "    print(\"=== Meta Reasoning Results ===\")\n",
    "    print(f\"Question: {result['question']}\")\n",
    "    print(f\"Initial Answer: {result['initial_answer']}\")\n",
    "    print(f\"Reasoning Steps: {result['reasoning_steps']}\")\n",
    "    print(f\"Reflection: {result['reflection']}\")\n",
    "    print(f\"Needs Revision: {result['needs_revision']}\")\n",
    "    print(f\"Final Answer: {result['final_answer']}\")\n",
    "    print(f\"Final Confidence: {result['confidence']}\")\n",
    "\n",
    "    return result"
   ]
  },
  {
   "cell_type": "code",
   "execution_count": null,
   "id": "14",
   "metadata": {
    "cellUniqueIdByVincent": "07326"
   },
   "outputs": [
    {
     "name": "stdout",
     "output_type": "stream",
     "text": [
      "=== Meta Reasoning Results ===\n",
      "Question: A bat and a ball cost $1.10 in total. The bat costs $1.00 more than the ball. How much does the ball cost?\n",
      "Initial Answer: The ball costs 0.05 cents.\n",
      "Reasoning Steps: ['We know that the bat costs $1.00 more than the ball. So, bat = ball + $1.00.', 'Also, bat + ball = $1.10.', 'If we substitute bat from the first equation to the second, we get: (ball + $1.00) + ball = $1.10.', 'This simplifies to: 2*ball = $0.10.', 'Dividing both sides by 2, we get: ball = $0.05.']\n",
      "Reflection: There's a fundamental flaw in the reasoning steps provided. The initial answer states that \"The ball costs 0.05 cents\", but the problem states that the bat and the ball cost $1.10 in total. The ball costs 0.05 dollars (or 5 cents), not 0.05 cents. This mistake can lead to confusion and misinterpretation.\n",
      "\n",
      "Let's analyze the problem step by step:\n",
      "1. We know that bat + ball = $1.10.\n",
      "2. We also know that bat = ball + $1.00.\n",
      "3. Replacing bat in the first equation, we get (ball + $1.00) + ball = $1.10.\n",
      "4. This simplifies to 2ball + $1.00 = $1.10.\n",
      "5. Subtracting $1.00 from both sides, we get 2ball = $0.10.\n",
      "6. Dividing both sides by 2, we get ball = $0.05.\n",
      "\n",
      "So, the ball costs $0.05 (or 5 cents), not 0.05 cents.\n",
      "\n",
      "The problem with the initial answer is that it mixes up the units of measurement. This mistake is not negligible, as it can lead to wrong interpretations of the problem and the solution. The confidence level of 1.0 is not appropriate in this case, as the initial answer contains a significant error.\n",
      "\n",
      "An alternative approach could be to first find the cost of the bat or the ball and then work out the cost of the other item. For example, if we know that the bat costs $1.00 more than the ball, we can write the equation bat = ball + $1.00. Then, we can substitute this equation into the total cost equation (bat + ball = $1.10) to solve for the cost of the ball.\n",
      "\n",
      "In conclusion, the initial answer should be revised to \"The ball costs $0.05 (or 5 cents)\" to correctly state the cost of the ball in the problem.\n",
      "Needs Revision: True\n",
      "Final Answer: ['The ball costs $0.05 (or 5 cents).', 'The incorrect initial answer was due to an error in interpreting the units of currency, where 0.05 was misinterpreted as 0.05 cents instead of $0.05.']\n",
      "Final Confidence: 0.95\n"
     ]
    }
   ],
   "source": [
    "result = run_meta_reasoning_example()"
   ]
  }
 ],
 "metadata": {
  "checkpoint": {
   "checkpointId": "notebookcheckpoint_100",
   "eventId": 100,
   "timestamp": 1752743414706
  },
  "kernelspec": {
   "display_name": "Langchain",
   "language": "python",
   "name": "python3"
  },
  "language_info": {
   "codemirror_mode": {
    "name": "ipython",
    "version": 3
   },
   "file_extension": ".py",
   "mimetype": "text/x-python",
   "name": "python",
   "nbconvert_exporter": "python",
   "pygments_lexer": "ipython3"
  },
  "vincent": {
   "sessionId": "e3278a2f945494f634f792ee_2025-07-17T08-02-43-863Z"
  }
 },
 "nbformat": 4,
 "nbformat_minor": 5
}
